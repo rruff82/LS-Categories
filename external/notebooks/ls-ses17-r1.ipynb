{
 "cells": [
  {
   "cell_type": "markdown",
   "id": "1edefbdb-79e4-4b94-a282-26b94a95ccf4",
   "metadata": {},
   "source": []
  },
  {
   "cell_type": "code",
   "execution_count": 1,
   "id": "a8dd8afa-e4e3-4d18-be97-cd52f5bd7691",
   "metadata": {},
   "outputs": [],
   "source": [
    "from functools import reduce\n",
    "import numpy as np\n",
    "import networkx as nx\n",
    "# Python translation of my JS implementation\n",
    "# https://github.com/rruff82/LS-Ses17-PegGame/"
   ]
  },
  {
   "cell_type": "code",
   "execution_count": 2,
   "id": "0081a835-9465-4cbf-b84c-679b5e692461",
   "metadata": {},
   "outputs": [
    {
     "name": "stdout",
     "output_type": "stream",
     "text": [
      "33 16\n"
     ]
    }
   ],
   "source": [
    "BOARD_SIZE = 7\n",
    "CORNER_SIZE = 2\n",
    "NUM_PEGS = BOARD_SIZE**2-4*CORNER_SIZE**2\n",
    "CENTER_PEG = int((NUM_PEGS-1)/2)\n",
    "print(NUM_PEGS,CENTER_PEG)"
   ]
  },
  {
   "cell_type": "code",
   "execution_count": 3,
   "id": "d4ed7432-5771-4f12-99d5-677a6210cd66",
   "metadata": {},
   "outputs": [],
   "source": [
    "INITIAL_STATE = [1 if x != CENTER_PEG else 0 for x in range(NUM_PEGS)]\n",
    "TERMINAL_STATE = [0 if x != CENTER_PEG else 1 for x in range(NUM_PEGS)]\n"
   ]
  },
  {
   "cell_type": "code",
   "execution_count": 4,
   "id": "1f6e18ed-3edb-4cee-a104-bb9d0cce92e4",
   "metadata": {},
   "outputs": [
    {
     "name": "stdout",
     "output_type": "stream",
     "text": [
      "[3, 3, 7, 7, 7, 3, 3]\n"
     ]
    }
   ],
   "source": [
    "SIZE_OF_ROW = [BOARD_SIZE-2*CORNER_SIZE if \\\n",
    "               (x < CORNER_SIZE or x >= BOARD_SIZE-CORNER_SIZE) \\\n",
    "               else BOARD_SIZE for x in range(BOARD_SIZE)]\n",
    "print(SIZE_OF_ROW)"
   ]
  },
  {
   "cell_type": "code",
   "execution_count": 5,
   "id": "a0d55132-5afc-4f1d-bfd4-0f70b43e33f7",
   "metadata": {},
   "outputs": [
    {
     "name": "stdout",
     "output_type": "stream",
     "text": [
      "[3, 6, 13, 20, 27, 30]\n"
     ]
    }
   ],
   "source": [
    "ROW_MARKERS = [\n",
    "    SIZE_OF_ROW[x] if x == 0 else sum([SIZE_OF_ROW[y] for y in range(x+1)]) \\\n",
    "    for x in range(BOARD_SIZE-1)\n",
    "]\n",
    "print(ROW_MARKERS)"
   ]
  },
  {
   "cell_type": "code",
   "execution_count": 6,
   "id": "102dbce2-73fc-49d6-b5de-0f886145c79d",
   "metadata": {},
   "outputs": [
    {
     "name": "stdout",
     "output_type": "stream",
     "text": [
      "[0, 0, 0, 1, 1, 1, 2, 2, 2, 2, 2, 2, 2, 3, 3, 3, 3, 3, 3, 3, 4, 4, 4, 4, 4, 4, 4, 5, 5, 5, 6, 6, 6]\n"
     ]
    }
   ],
   "source": [
    "PEG_TO_ROW = [\n",
    "    len(list(filter(lambda y: y<=x,ROW_MARKERS))) for x in range(NUM_PEGS)\n",
    "]\n",
    "print(PEG_TO_ROW)"
   ]
  },
  {
   "cell_type": "code",
   "execution_count": 7,
   "id": "5753d478-0ab1-4838-854d-4f090b93cb64",
   "metadata": {},
   "outputs": [
    {
     "name": "stdout",
     "output_type": "stream",
     "text": [
      "[2, 3, 4, 2, 3, 4, 0, 1, 2, 3, 4, 5, 6, 0, 1, 2, 3, 4, 5, 6, 0, 1, 2, 3, 4, 5, 6, 2, 3, 4, 2, 3, 4]\n"
     ]
    }
   ],
   "source": [
    "PEG_TO_COL = [\n",
    "    x+CORNER_SIZE if x < BOARD_SIZE-2*CORNER_SIZE else \\\n",
    "   int(x-ROW_MARKERS[PEG_TO_ROW[x]-1]+(BOARD_SIZE-SIZE_OF_ROW[PEG_TO_ROW[x]])/2) \\\n",
    "   for x in range(NUM_PEGS)\n",
    "]\n",
    "print(PEG_TO_COL)"
   ]
  },
  {
   "cell_type": "code",
   "execution_count": 8,
   "id": "991465d9-5035-4d83-a0fb-5abf9e1d63dc",
   "metadata": {},
   "outputs": [
    {
     "name": "stdout",
     "output_type": "stream",
     "text": [
      "[(2, 0), (3, 0), (4, 0), (2, 1), (3, 1), (4, 1), (0, 2), (1, 2), (2, 2), (3, 2), (4, 2), (5, 2), (6, 2), (0, 3), (1, 3), (2, 3), (3, 3), (4, 3), (5, 3), (6, 3), (0, 4), (1, 4), (2, 4), (3, 4), (4, 4), (5, 4), (6, 4), (2, 5), (3, 5), (4, 5), (2, 6), (3, 6), (4, 6)]\n",
      "(3, 3)\n"
     ]
    }
   ],
   "source": [
    "PEG_COORDINATES = [(PEG_TO_COL[x],PEG_TO_ROW[x]) for x in range(NUM_PEGS)]\n",
    "print(PEG_COORDINATES)\n",
    "print(PEG_COORDINATES[CENTER_PEG])\n"
   ]
  },
  {
   "cell_type": "code",
   "execution_count": 9,
   "id": "126d75de-0bcf-4920-b338-857bb7c69dab",
   "metadata": {},
   "outputs": [],
   "source": [
    "def valid_coordinates(p):\n",
    "    if (p[0] < 0 or p[0] >= BOARD_SIZE or p[1] < 0 or p[1] >= BOARD_SIZE):\n",
    "        return False\n",
    "    if ((p[0] < CORNER_SIZE or p[0] >= BOARD_SIZE - CORNER_SIZE) and \\\n",
    "        (p[1] < CORNER_SIZE or p[1] >= BOARD_SIZE - CORNER_SIZE)):\n",
    "        return False\n",
    "    return True\n"
   ]
  },
  {
   "cell_type": "code",
   "execution_count": 10,
   "id": "912d0b6a-4541-4324-bc66-924637434a2e",
   "metadata": {},
   "outputs": [],
   "source": [
    "def peg_list_by_coords(p):\n",
    "    if not valid_coordinates(p):\n",
    "        return []\n",
    "    if p[1] < CORNER_SIZE:\n",
    "       return [p[1]*(BOARD_SIZE-2*CORNER_SIZE)+p[0]-CORNER_SIZE]\n",
    "    if p[1] >= BOARD_SIZE-CORNER_SIZE:\n",
    "        return [NUM_PEGS - (BOARD_SIZE-p[1])*(BOARD_SIZE-2*CORNER_SIZE)-CORNER_SIZE+p[0]]\n",
    "    return [p[0]+ROW_MARKERS[p[1]-1]]\n",
    "        "
   ]
  },
  {
   "cell_type": "code",
   "execution_count": 11,
   "id": "ec098837-4b84-4c5c-8a86-64730ff3d477",
   "metadata": {},
   "outputs": [
    {
     "name": "stdout",
     "output_type": "stream",
     "text": [
      "[[], [], [0], [1], [2], [], [], [], [], [3], [4], [5], [], [], [6], [7], [8], [9], [10], [11], [12], [13], [14], [15], [16], [17], [18], [19], [20], [21], [22], [23], [24], [25], [26], [], [], [27], [28], [29], [], [], [], [], [30], [31], [32], [], []]\n"
     ]
    }
   ],
   "source": [
    "PEG_LIST_TABLE = [\n",
    "    peg_list_by_coords((j,i)) \\\n",
    "    for i in range(BOARD_SIZE) for j in range(BOARD_SIZE)\n",
    "]\n",
    "print(PEG_LIST_TABLE)\n"
   ]
  },
  {
   "cell_type": "code",
   "execution_count": 12,
   "id": "812c6ebf-b0d5-4541-84dc-6076e7afce3e",
   "metadata": {},
   "outputs": [
    {
     "name": "stdout",
     "output_type": "stream",
     "text": [
      "  XXX  \n",
      "  XXX  \n",
      "XXXXXXX\n",
      "XXXOXXX\n",
      "XXXXXXX\n",
      "  XXX  \n",
      "  XXX  \n",
      "\n"
     ]
    }
   ],
   "source": [
    "def render_game_state(s):\n",
    "    output = \"\"\n",
    "    for i in range(BOARD_SIZE):\n",
    "        for j in range(BOARD_SIZE):\n",
    "            pegs = PEG_LIST_TABLE[i*BOARD_SIZE+j]\n",
    "            if len(pegs):\n",
    "                if s[pegs[0]]:\n",
    "                    output += \"X\"\n",
    "                else:\n",
    "                    output += \"O\"\n",
    "            else:\n",
    "                output += \" \"\n",
    "        output += \"\\n\"\n",
    "    print(output)\n",
    "render_game_state(INITIAL_STATE)"
   ]
  },
  {
   "cell_type": "code",
   "execution_count": 13,
   "id": "1caf7c31-18a9-4f4e-83eb-7f0820823511",
   "metadata": {},
   "outputs": [],
   "source": [
    "def split_game_state(s):\n",
    "    return [\n",
    "        list(filter(lambda x: s[x],range(NUM_PEGS))),\n",
    "        list(filter(lambda x: not s[x],range(NUM_PEGS)))\n",
    "    ]"
   ]
  },
  {
   "cell_type": "code",
   "execution_count": 14,
   "id": "7f547ca6-9a5b-4be4-90da-c480eb384234",
   "metadata": {},
   "outputs": [],
   "source": [
    "def form_pairs(a,b):\n",
    "    a_len,b_len = len(a),len(b)\n",
    "    return list(map(\n",
    "        lambda i: [a[i%a_len],b[int((i-(i%a_len))/a_len)]],\n",
    "        range(a_len*b_len)\n",
    "    ))"
   ]
  },
  {
   "cell_type": "code",
   "execution_count": 15,
   "id": "b76e93d0-98fc-4f30-8e89-0c1e6de8beba",
   "metadata": {},
   "outputs": [],
   "source": [
    "def two_steps_away(jump_pair):\n",
    "    if jump_pair[0][0]==jump_pair[1][0]:\n",
    "        if jump_pair[0][1]==jump_pair[1][1]+2:\n",
    "            return True\n",
    "        if jump_pair[0][1]==jump_pair[1][1]-2:\n",
    "          return True\n",
    "    if jump_pair[0][1]==jump_pair[1][1]:\n",
    "        if jump_pair[0][0]==jump_pair[1][0]+2:\n",
    "          return True\n",
    "        if jump_pair[0][0]==jump_pair[1][0]-2:\n",
    "          return True\n",
    "    return False"
   ]
  },
  {
   "cell_type": "code",
   "execution_count": 16,
   "id": "ac57805a-4bd0-499f-b42e-75062a81f29f",
   "metadata": {},
   "outputs": [],
   "source": [
    "def jump_center(peg1,peg2):\n",
    "    p1 = PEG_COORDINATES[peg1]\n",
    "    p2 = PEG_COORDINATES[peg2]\n",
    "    p3 = (int((p1[0]+p2[0])/2),int((p1[1]+p2[1])/2))\n",
    "    return PEG_LIST_TABLE[p3[0] + p3[1]*BOARD_SIZE][0]\n",
    "    "
   ]
  },
  {
   "cell_type": "code",
   "execution_count": 17,
   "id": "c110ddd0-b01a-437e-a15b-e7351e14c4e6",
   "metadata": {},
   "outputs": [],
   "source": [
    "def valid_moves(state):\n",
    "    split_state = split_game_state(state)\n",
    "    possible_pairs = form_pairs(split_state[0],split_state[1])\n",
    "    valid_jumps = list(filter(\n",
    "        lambda x: two_steps_away([\n",
    "            PEG_COORDINATES[x[0]],\n",
    "            PEG_COORDINATES[x[1]]\n",
    "        ]),possible_pairs))\n",
    "    jump_triples = list(map(\n",
    "        lambda x: [x[0],x[1],jump_center(x[0],x[1])],\n",
    "        valid_jumps))\n",
    "    return list(filter(lambda x: state[x[2]],jump_triples))"
   ]
  },
  {
   "cell_type": "code",
   "execution_count": 18,
   "id": "c8f0d8ae-3dfb-4cb8-a8b5-3d76c58e1df9",
   "metadata": {},
   "outputs": [
    {
     "data": {
      "text/plain": [
       "[[4, 16, 9], [14, 16, 15], [18, 16, 17], [28, 16, 23]]"
      ]
     },
     "execution_count": 18,
     "metadata": {},
     "output_type": "execute_result"
    }
   ],
   "source": [
    "valid_moves(INITIAL_STATE)"
   ]
  },
  {
   "cell_type": "code",
   "execution_count": 19,
   "id": "19a65ee8-8855-4c6d-b08b-004b723fbe81",
   "metadata": {},
   "outputs": [
    {
     "data": {
      "text/plain": [
       "[]"
      ]
     },
     "execution_count": 19,
     "metadata": {},
     "output_type": "execute_result"
    }
   ],
   "source": [
    "valid_moves(TERMINAL_STATE)"
   ]
  },
  {
   "cell_type": "code",
   "execution_count": 20,
   "id": "3be62301-2809-48d0-a914-663bf1db55d2",
   "metadata": {},
   "outputs": [],
   "source": [
    "POWERS_OF_2 = [2**i for i in range(NUM_PEGS)]\n",
    "def state_to_integer(s):\n",
    "    return int(np.sum(np.dot(POWERS_OF_2,s)))\n",
    "    "
   ]
  },
  {
   "cell_type": "code",
   "execution_count": 21,
   "id": "3e106e01-ebad-4243-9e6f-9cb6b029a09c",
   "metadata": {},
   "outputs": [
    {
     "data": {
      "text/plain": [
       "8589869055"
      ]
     },
     "execution_count": 21,
     "metadata": {},
     "output_type": "execute_result"
    }
   ],
   "source": [
    "state_to_integer(INITIAL_STATE)"
   ]
  },
  {
   "cell_type": "code",
   "execution_count": 22,
   "id": "d1d989f2-a09d-4d81-8266-b49a42116583",
   "metadata": {},
   "outputs": [
    {
     "data": {
      "text/plain": [
       "65536"
      ]
     },
     "execution_count": 22,
     "metadata": {},
     "output_type": "execute_result"
    }
   ],
   "source": [
    "state_to_integer(TERMINAL_STATE)"
   ]
  },
  {
   "cell_type": "code",
   "execution_count": 23,
   "id": "02d42b1e-33dd-4488-bd3d-2a7ba35c6ba0",
   "metadata": {},
   "outputs": [
    {
     "name": "stdout",
     "output_type": "stream",
     "text": [
      "  XXX  \n",
      "  XXX  \n",
      "XXXXXXX\n",
      "XXXOXXX\n",
      "XXXXXXX\n",
      "  XXX  \n",
      "  XXX  \n",
      "\n",
      "  XXX  \n",
      "  XOX  \n",
      "XXXOXXX\n",
      "XXXXXXX\n",
      "XXXXXXX\n",
      "  XXX  \n",
      "  XXX  \n",
      "\n"
     ]
    }
   ],
   "source": [
    "def apply_move(state,jump_triple):\n",
    "    return [\n",
    "        state[i] if i not in set(jump_triple) else 1-state[i] \\\n",
    "        for i in range(NUM_PEGS)\n",
    "    ]\n",
    "render_game_state(INITIAL_STATE)    \n",
    "render_game_state(apply_move(INITIAL_STATE,[4, 16, 9]))"
   ]
  },
  {
   "cell_type": "code",
   "execution_count": 24,
   "id": "e1ecdee7-da5e-4da9-bf1e-dc3212ff137c",
   "metadata": {},
   "outputs": [
    {
     "name": "stdout",
     "output_type": "stream",
     "text": [
      "[[1, 1, 1, 1, 0, 1, 1, 1, 1, 0, 1, 1, 1, 1, 1, 1, 1, 1, 1, 1, 1, 1, 1, 1, 1, 1, 1, 1, 1, 1, 1, 1, 1], [1, 1, 1, 1, 1, 1, 1, 1, 1, 1, 1, 1, 1, 1, 0, 0, 1, 1, 1, 1, 1, 1, 1, 1, 1, 1, 1, 1, 1, 1, 1, 1, 1], [1, 1, 1, 1, 1, 1, 1, 1, 1, 1, 1, 1, 1, 1, 1, 1, 1, 0, 0, 1, 1, 1, 1, 1, 1, 1, 1, 1, 1, 1, 1, 1, 1], [1, 1, 1, 1, 1, 1, 1, 1, 1, 1, 1, 1, 1, 1, 1, 1, 1, 1, 1, 1, 1, 1, 1, 0, 1, 1, 1, 1, 0, 1, 1, 1, 1]]\n"
     ]
    }
   ],
   "source": [
    "def possible_follow_up_states(s):\n",
    "    poss_moves = valid_moves(s)\n",
    "    return [\n",
    "        apply_move(s,m) for m in poss_moves\n",
    "    ]\n",
    "print(possible_follow_up_states(INITIAL_STATE))"
   ]
  },
  {
   "cell_type": "code",
   "execution_count": 25,
   "id": "222511d9-1972-4a08-b638-f94067873f0b",
   "metadata": {},
   "outputs": [],
   "source": [
    "def state_from_integer(n):\n",
    "    return [\n",
    "        1 if n & (2**i) else 0 for i in range(NUM_PEGS)\n",
    "    ]"
   ]
  },
  {
   "cell_type": "code",
   "execution_count": 26,
   "id": "77715763-6724-4bcb-a60f-d1583130525f",
   "metadata": {},
   "outputs": [
    {
     "name": "stdout",
     "output_type": "stream",
     "text": [
      "  XXX  \n",
      "  XXX  \n",
      "XXXXXXX\n",
      "XXXOXXX\n",
      "XXXXXXX\n",
      "  XXX  \n",
      "  XXX  \n",
      "\n"
     ]
    }
   ],
   "source": [
    "render_game_state(state_from_integer(8589869055))"
   ]
  },
  {
   "cell_type": "code",
   "execution_count": 27,
   "id": "3960a465-92ec-4299-947e-8d12936f03a7",
   "metadata": {},
   "outputs": [],
   "source": [
    "# maybe I'm thinking about this all wrong\n",
    "# my \"NUM_PEGS\" isn't actaully the number of pegs,\n",
    "# it's the number of SLOTS. \n",
    "NUM_SLOTS = NUM_PEGS\n",
    "# what if I treat the pegs a little more literally\n",
    "# and actually move a peg from one position to another\n",
    "# removing exactly one peg from the board each time?\n",
    "ACTUAL_PEG_COUNT = NUM_SLOTS - 1"
   ]
  },
  {
   "cell_type": "code",
   "execution_count": 28,
   "id": "ac4f82d2-f147-4f87-9565-9090c9ea5a8d",
   "metadata": {},
   "outputs": [
    {
     "name": "stdout",
     "output_type": "stream",
     "text": [
      "[0, 1, 2, 3, 4, 5, 6, 7, 8, 9, 10, 11, 12, 13, 14, 15, 17, 18, 19, 20, 21, 22, 23, 24, 25, 26, 27, 28, 29, 30, 31, 32]\n"
     ]
    }
   ],
   "source": [
    "INITIAL_PEG_SLOTS = [i if i < CENTER_PEG else i+1 for i in range(ACTUAL_PEG_COUNT)]\n",
    "print(INITIAL_PEG_SLOTS)"
   ]
  },
  {
   "cell_type": "code",
   "execution_count": 29,
   "id": "7f5b33d0-8d02-43bd-a04d-1833c33f829f",
   "metadata": {},
   "outputs": [
    {
     "name": "stdout",
     "output_type": "stream",
     "text": [
      "[[0], [1], [2], [3], [4], [5], [6], [7], [8], [9], [10], [11], [12], [13], [14], [15], [17], [18], [19], [20], [21], [22], [23], [24], [25], [26], [27], [28], [29], [30], [31], [32]]\n"
     ]
    }
   ],
   "source": [
    "PEG_DATA = [\n",
    "    [s] for s in INITIAL_PEG_SLOTS\n",
    "]\n",
    "print(PEG_DATA)"
   ]
  },
  {
   "cell_type": "code",
   "execution_count": 30,
   "id": "84f327a0-671b-4a99-b3df-97ab75c7a372",
   "metadata": {},
   "outputs": [
    {
     "name": "stdout",
     "output_type": "stream",
     "text": [
      "{0: 0, 1: 1, 2: 2, 3: 3, 4: 4, 5: 5, 6: 6, 7: 7, 8: 8, 9: 9, 10: 10, 11: 11, 12: 12, 13: 13, 14: 14, 15: 15, 17: 16, 18: 17, 19: 18, 20: 19, 21: 20, 22: 21, 23: 22, 24: 23, 25: 24, 26: 25, 27: 26, 28: 27, 29: 28, 30: 29, 31: 30, 32: 31}\n"
     ]
    }
   ],
   "source": [
    "REVERSE_INITIAL_SLOT = {\n",
    "    s:i for i,s in enumerate(INITIAL_PEG_SLOTS)\n",
    "}\n",
    "print(REVERSE_INITIAL_SLOT)"
   ]
  },
  {
   "cell_type": "code",
   "execution_count": 31,
   "id": "6b4bff5f-0e76-4740-9056-011ae6b548a3",
   "metadata": {},
   "outputs": [
    {
     "name": "stdout",
     "output_type": "stream",
     "text": [
      "Turn: 1\n",
      "  XXX  \n",
      "  XXX  \n",
      "XXXXXXX\n",
      "XXXOXXX\n",
      "XXXXXXX\n",
      "  XXX  \n",
      "  XXX  \n",
      "\n"
     ]
    }
   ],
   "source": [
    "def render_new_state(ns):\n",
    "    lengths = list(map(len,ns))\n",
    "    max = np.max(lengths)\n",
    "    print(f\"Turn: {max}\")\n",
    "    active_pegs = list(filter(\n",
    "        lambda x: len(x)==max,\n",
    "        ns))\n",
    "    filled_slots = set([x[-1] for x in active_pegs])\n",
    "    slot_rep = [1 if i in filled_slots else 0 for i in range(NUM_SLOTS)]\n",
    "    render_game_state(slot_rep)\n",
    "        \n",
    "render_new_state(PEG_DATA)"
   ]
  },
  {
   "cell_type": "code",
   "execution_count": 32,
   "id": "7d98c75c-0b57-44b7-b9d4-a6853470efa6",
   "metadata": {},
   "outputs": [],
   "source": [
    "def convert_to_old_rep(ns):\n",
    "    lengths = list(map(len,ns))\n",
    "    max = np.max(lengths)\n",
    "    active_pegs = list(filter(\n",
    "        lambda x: len(x)==max,\n",
    "        ns))\n",
    "    filled_slots = set([x[-1] for x in active_pegs])\n",
    "    return [1 if i in filled_slots else 0 for i in range(NUM_SLOTS)]\n"
   ]
  },
  {
   "cell_type": "code",
   "execution_count": 33,
   "id": "d85706dd-dc84-412b-abfb-55e21b80a83a",
   "metadata": {},
   "outputs": [
    {
     "name": "stdout",
     "output_type": "stream",
     "text": [
      "Turn: 1\n",
      "  OOO  \n",
      "  OOO  \n",
      "OOOOOOO\n",
      "OOOXOOO\n",
      "OOOOOOO\n",
      "  OOO  \n",
      "  OOO  \n",
      "\n"
     ]
    }
   ],
   "source": [
    "NEW_TERMINAL_STATE = [[CENTER_PEG]]\n",
    "render_new_state(NEW_TERMINAL_STATE)"
   ]
  },
  {
   "cell_type": "code",
   "execution_count": 34,
   "id": "2fd6d833-b217-43a0-a5c7-08fe22d43d82",
   "metadata": {},
   "outputs": [
    {
     "data": {
      "text/plain": [
       "(3, 3)"
      ]
     },
     "execution_count": 34,
     "metadata": {},
     "output_type": "execute_result"
    }
   ],
   "source": [
    "# so, what's the big deal?\n",
    "# well, this peg needs to be \"one of\" the original 32\n",
    "PEG_COORDINATES[CENTER_PEG]"
   ]
  },
  {
   "cell_type": "code",
   "execution_count": 35,
   "id": "6c340d4e-d8e3-4f7e-a288-c335385324b2",
   "metadata": {},
   "outputs": [
    {
     "name": "stdout",
     "output_type": "stream",
     "text": [
      "[4, 14, 18, 28]\n"
     ]
    }
   ],
   "source": [
    "# since pegs can only jump 2 spaces in a cardinal direction,\n",
    "# only pegs originally placed in certain slots EVER access this location\n",
    "def access_to_slot(s,init_data=PEG_DATA):\n",
    "    a2 = PEG_COORDINATES[s][0]%2 \n",
    "    b2 = PEG_COORDINATES[s][1]%2 \n",
    "    \n",
    "    return list(filter(\n",
    "        lambda i: PEG_COORDINATES[i][0]%2 == a2 \\\n",
    "        and PEG_COORDINATES[i][1]%2 == b2,\n",
    "        [i[0] for i in init_data]))\n",
    "print(access_to_slot(16))"
   ]
  },
  {
   "cell_type": "code",
   "execution_count": 36,
   "id": "0c659bea-dde1-4432-b9ec-a5e9c6099185",
   "metadata": {},
   "outputs": [
    {
     "name": "stdout",
     "output_type": "stream",
     "text": [
      "  OOO  \n",
      "  OXO  \n",
      "OOOOOOO\n",
      "OXOOOXO\n",
      "OOOOOOO\n",
      "  OXO  \n",
      "  OOO  \n",
      "\n"
     ]
    }
   ],
   "source": [
    "render_game_state([1 if i in set(access_to_slot(CENTER_PEG)) else 0 for i in range(NUM_SLOTS)])"
   ]
  },
  {
   "cell_type": "code",
   "execution_count": 37,
   "id": "13b4f8c8-97b8-40e2-8e85-0cd8f6c4591a",
   "metadata": {},
   "outputs": [
    {
     "name": "stdout",
     "output_type": "stream",
     "text": [
      "[{4: 16}, {14: 16}, {18: 16}, {28: 16}]\n"
     ]
    }
   ],
   "source": [
    "# basically 4 positions up to rotation\n",
    "# let's choose 4 and work backwards\n",
    "BACKWARDS_SOLUTIONS = [{i:16} for i in access_to_slot(16)]\n",
    "print(BACKWARDS_SOLUTIONS)"
   ]
  },
  {
   "cell_type": "code",
   "execution_count": null,
   "id": "84b73eae-4599-416e-a777-09e7789ffd90",
   "metadata": {},
   "outputs": [],
   "source": []
  },
  {
   "cell_type": "code",
   "execution_count": 38,
   "id": "d1309525-c5a5-4ff8-9820-b646fb91bb01",
   "metadata": {},
   "outputs": [
    {
     "data": {
      "text/plain": [
       "[4, 14, 18, 28]"
      ]
     },
     "execution_count": 38,
     "metadata": {},
     "output_type": "execute_result"
    }
   ],
   "source": [
    "access_to_slot(4)"
   ]
  },
  {
   "cell_type": "code",
   "execution_count": 39,
   "id": "6a9833de-56ac-42a0-8676-d7daa45c8c4a",
   "metadata": {},
   "outputs": [
    {
     "name": "stdout",
     "output_type": "stream",
     "text": [
      "  OOO  \n",
      "  OXO  \n",
      "OOOOOOO\n",
      "OXOOOXO\n",
      "OOOOOOO\n",
      "  OXO  \n",
      "  OOO  \n",
      "\n"
     ]
    }
   ],
   "source": [
    "render_game_state([1 if i in set(access_to_slot(4)) else 0 for i in range(NUM_SLOTS)])"
   ]
  },
  {
   "cell_type": "code",
   "execution_count": 40,
   "id": "0f872e06-7b66-4021-afce-2f4ba9ad9bea",
   "metadata": {},
   "outputs": [],
   "source": [
    "# backtrack a step\n",
    "def undo_move(source,target,state_vec):\n",
    "    assert state_vec[target]\n",
    "    assert not state_vec[source]\n",
    "    c = jump_center(source,target)\n",
    "    assert not state_vec[c]\n",
    "    flipped = set([source,target,c])\n",
    "    return [\n",
    "        state_vec[i] if i not in flipped else 1-state_vec[i] for i in range(NUM_SLOTS)\n",
    "    ]\n",
    "\n",
    "    "
   ]
  },
  {
   "cell_type": "code",
   "execution_count": 41,
   "id": "a290d628-5247-4211-940c-106275c54fc4",
   "metadata": {},
   "outputs": [
    {
     "name": "stdout",
     "output_type": "stream",
     "text": [
      "  OOO  \n",
      "  OXO  \n",
      "OOOXOOO\n",
      "OOOOOOO\n",
      "OOOOOOO\n",
      "  OOO  \n",
      "  OOO  \n",
      "\n"
     ]
    }
   ],
   "source": [
    "prevstate = undo_move(4,16,TERMINAL_STATE)\n",
    "render_game_state(prevstate)"
   ]
  },
  {
   "cell_type": "code",
   "execution_count": 42,
   "id": "5f67b3df-c005-4fd7-8dd8-56ae9eb1fb93",
   "metadata": {},
   "outputs": [
    {
     "name": "stdout",
     "output_type": "stream",
     "text": [
      "9\n"
     ]
    }
   ],
   "source": [
    "new_slot = jump_center(16,4)\n",
    "print(new_slot)"
   ]
  },
  {
   "cell_type": "code",
   "execution_count": 43,
   "id": "9a21f55e-632c-43ed-a93b-e5d7f7a68bb7",
   "metadata": {},
   "outputs": [
    {
     "data": {
      "text/plain": [
       "[1, 7, 9, 11, 21, 23, 25, 31]"
      ]
     },
     "execution_count": 43,
     "metadata": {},
     "output_type": "execute_result"
    }
   ],
   "source": [
    "access_to_slot(new_slot)"
   ]
  },
  {
   "cell_type": "code",
   "execution_count": 44,
   "id": "8b8f1a87-10cc-4d1d-8fd4-e7bd6954b015",
   "metadata": {},
   "outputs": [
    {
     "data": {
      "text/plain": [
       "[3, 5, 13, 15, 17, 19, 27, 29]"
      ]
     },
     "execution_count": 44,
     "metadata": {},
     "output_type": "execute_result"
    }
   ],
   "source": [
    "access_to_slot(17)"
   ]
  },
  {
   "cell_type": "code",
   "execution_count": 45,
   "id": "ddcad04a-844a-44bc-b082-ec5fc24b3972",
   "metadata": {},
   "outputs": [
    {
     "data": {
      "text/plain": [
       "[[[4]], [[14]], [[17]], [[27]]]"
      ]
     },
     "execution_count": 45,
     "metadata": {},
     "output_type": "execute_result"
    }
   ],
   "source": [
    "POSSIBLE_TERMINAL_STATES = [\n",
    "    [[REVERSE_INITIAL_SLOT[x]]] for x in access_to_slot(CENTER_PEG)\n",
    "]\n",
    "POSSIBLE_TERMINAL_STATES"
   ]
  },
  {
   "cell_type": "code",
   "execution_count": 46,
   "id": "67cf7b34-eb3d-40db-930c-6bf41a5ec364",
   "metadata": {},
   "outputs": [
    {
     "name": "stdout",
     "output_type": "stream",
     "text": [
      "{0: [[0], [1], [2], [3], [4], [5], [6], [7], [8], [9], [10], [11], [12], [13], [14], [15], [17], [18], [19], [20], [21], [22], [23], [24], [25], [26], [27], [28], [29], [30], [31], [32]], -1: [[[4]], [[14]], [[17]], [[27]]]}\n"
     ]
    }
   ],
   "source": [
    "POSSIBLE_GAME_HISTORIES = {\n",
    "    0:PEG_DATA,\n",
    "    -1:POSSIBLE_TERMINAL_STATES\n",
    "}\n",
    "print(POSSIBLE_GAME_HISTORIES)"
   ]
  },
  {
   "cell_type": "code",
   "execution_count": 47,
   "id": "d2a46a72-b9bf-428e-8e08-9e94d77fe8fd",
   "metadata": {},
   "outputs": [
    {
     "name": "stdout",
     "output_type": "stream",
     "text": [
      "[[0], [1], [2], [3], [4], [5], [6], [7], [8], [9], [10], [11], [12], [13], [14], [15], [17], [18], [19], [20], [21], [22], [23], [24], [25], [26], [27], [28], [29], [30], [31], [32]] -> [1, 1, 1, 1, 1, 1, 1, 1, 1, 1, 1, 1, 1, 1, 1, 1, 0, 1, 1, 1, 1, 1, 1, 1, 1, 1, 1, 1, 1, 1, 1, 1, 1] found [[4, 16, 9], [14, 16, 15], [18, 16, 17], [28, 16, 23]]\n",
      "[[[0, 0], [1, 1], [2, 2], [3, 3], [4, 16], [5, 5], [6, 6], [7, 7], [8, 8], [9], [10, 10], [11, 11], [12, 12], [13, 13], [14, 14], [15, 15], [17, 17], [18, 18], [19, 19], [20, 20], [21, 21], [22, 22], [23, 23], [24, 24], [25, 25], [26, 26], [27, 27], [28, 28], [29, 29], [30, 30], [31, 31], [32, 32]], [[0, 0], [1, 1], [2, 2], [3, 3], [4, 4], [5, 5], [6, 6], [7, 7], [8, 8], [9, 9], [10, 10], [11, 11], [12, 12], [13, 13], [14, 16], [15], [17, 17], [18, 18], [19, 19], [20, 20], [21, 21], [22, 22], [23, 23], [24, 24], [25, 25], [26, 26], [27, 27], [28, 28], [29, 29], [30, 30], [31, 31], [32, 32]], [[0, 0], [1, 1], [2, 2], [3, 3], [4, 4], [5, 5], [6, 6], [7, 7], [8, 8], [9, 9], [10, 10], [11, 11], [12, 12], [13, 13], [14, 14], [15, 15], [17], [18, 16], [19, 19], [20, 20], [21, 21], [22, 22], [23, 23], [24, 24], [25, 25], [26, 26], [27, 27], [28, 28], [29, 29], [30, 30], [31, 31], [32, 32]], [[0, 0], [1, 1], [2, 2], [3, 3], [4, 4], [5, 5], [6, 6], [7, 7], [8, 8], [9, 9], [10, 10], [11, 11], [12, 12], [13, 13], [14, 14], [15, 15], [17, 17], [18, 18], [19, 19], [20, 20], [21, 21], [22, 22], [23], [24, 24], [25, 25], [26, 26], [27, 27], [28, 16], [29, 29], [30, 30], [31, 31], [32, 32]]]\n"
     ]
    }
   ],
   "source": [
    "def apply_jump_map(new_rep,jump):\n",
    "    return [\n",
    "        p+jump[p[-1]] if p[-1] in jump else p+[p[-1]]\n",
    "        for p in new_rep\n",
    "    ]\n",
    "    \n",
    "def new_possible_states(new_rep):\n",
    "    s = convert_to_old_rep(new_rep)\n",
    "    v = valid_moves(s)\n",
    "    print(f\"{new_rep} -> {s} found {v}\")\n",
    "    jump_maps = [\n",
    "        {j[0]:[j[1]],j[2]:[]}\n",
    "        for j in v\n",
    "    ]\n",
    "    return [apply_jump_map(new_rep,j) for j in jump_maps]\n",
    "    \n",
    "POSSIBLE_GAME_HISTORIES[1] = new_possible_states(PEG_DATA)\n",
    "print(POSSIBLE_GAME_HISTORIES[1])"
   ]
  },
  {
   "cell_type": "code",
   "execution_count": 48,
   "id": "a82b6857-9031-4921-9354-e209a0159dd8",
   "metadata": {},
   "outputs": [
    {
     "data": {
      "text/plain": [
       "[(9, 4)]"
      ]
     },
     "execution_count": 48,
     "metadata": {},
     "output_type": "execute_result"
    }
   ],
   "source": [
    "def make_removal_history(new_rep):\n",
    "    lengths = []\n",
    "    by_length = {}\n",
    "\n",
    "    moved_in_turn = {}\n",
    "    last_state = None\n",
    "    for i,h in enumerate(new_rep):\n",
    "        l = len(h)\n",
    "        lengths.append(l)\n",
    "        if l not in by_length:\n",
    "            by_length[l]=[i]\n",
    "        else:\n",
    "            by_length[l].append(i)\n",
    "        if l > 1:\n",
    "            ival = h[0]\n",
    "            for t in range(l-1):\n",
    "                if h[t+1] != h[t]:\n",
    "                    moved_in_turn[t] = i\n",
    "                    break\n",
    "\n",
    "    max = int(np.max(lengths))\n",
    "    removal_hist = []\n",
    "    if max > 1:\n",
    "        for t in range(max-1):\n",
    "            removed = by_length[t+1][0]\n",
    "            removal_hist.append(removed)\n",
    "        return [\n",
    "            (r,moved_in_turn[i])\n",
    "            for i,r in enumerate(removal_hist)\n",
    "            \n",
    "        ]            \n",
    "    return []\n",
    "    \n",
    "        \n",
    "\n",
    "make_removal_history(POSSIBLE_GAME_HISTORIES[1][0])"
   ]
  },
  {
   "cell_type": "code",
   "execution_count": 49,
   "id": "29e76730-dd1b-424f-9129-a3241a067e5c",
   "metadata": {},
   "outputs": [
    {
     "name": "stdout",
     "output_type": "stream",
     "text": [
      "Turn: 2\n",
      "  XXX  \n",
      "  XOX  \n",
      "XXXOXXX\n",
      "XXXXXXX\n",
      "XXXXXXX\n",
      "  XXX  \n",
      "  XXX  \n",
      "\n",
      "[(9, 4)]\n",
      "Turn: 2\n",
      "  XXX  \n",
      "  XXX  \n",
      "XXXXXXX\n",
      "XOOXXXX\n",
      "XXXXXXX\n",
      "  XXX  \n",
      "  XXX  \n",
      "\n",
      "[(15, 14)]\n",
      "Turn: 2\n",
      "  XXX  \n",
      "  XXX  \n",
      "XXXXXXX\n",
      "XXXXOOX\n",
      "XXXXXXX\n",
      "  XXX  \n",
      "  XXX  \n",
      "\n",
      "[(16, 17)]\n",
      "Turn: 2\n",
      "  XXX  \n",
      "  XXX  \n",
      "XXXXXXX\n",
      "XXXXXXX\n",
      "XXXOXXX\n",
      "  XOX  \n",
      "  XXX  \n",
      "\n",
      "[(22, 27)]\n"
     ]
    }
   ],
   "source": [
    "for o in POSSIBLE_GAME_HISTORIES[1]:\n",
    "    render_new_state(o)\n",
    "    print(make_removal_history(o))"
   ]
  },
  {
   "cell_type": "code",
   "execution_count": 50,
   "id": "0d893690-94d3-42c4-9c44-3e6e3a0da6f9",
   "metadata": {},
   "outputs": [
    {
     "name": "stdout",
     "output_type": "stream",
     "text": [
      "  020  \n",
      "  131  \n",
      "0202020\n",
      "1313131\n",
      "0202020\n",
      "  131  \n",
      "  020  \n",
      "\n",
      "{0: [0, 2, 6, 8, 10, 12, 20, 22, 24, 26, 30, 32], 1: [3, 5, 13, 15, 17, 19, 27, 29], 2: [1, 7, 9, 11, 21, 23, 25, 31], 3: [4, 14, 16, 18, 28]}\n"
     ]
    }
   ],
   "source": [
    "grouping_render = \"\"\n",
    "slot_groups = {i:[] for i in range(4)}\n",
    "for i in range(BOARD_SIZE):\n",
    "    i_2 = i%2\n",
    "    for j in range(BOARD_SIZE):\n",
    "        j_2 = j%2\n",
    "        pegs = PEG_LIST_TABLE[i*BOARD_SIZE+j]\n",
    "        if len(pegs):\n",
    "            color = j_2*2+i_2\n",
    "            grouping_render += str(color)\n",
    "            slot_groups[color].append(pegs[0])\n",
    "        else:\n",
    "            grouping_render += \" \"\n",
    "    grouping_render += \"\\n\"\n",
    "print(grouping_render)\n",
    "print(slot_groups)\n",
    "    "
   ]
  },
  {
   "cell_type": "code",
   "execution_count": 51,
   "id": "262827aa-a44d-4fdc-9030-608fa5d98df7",
   "metadata": {},
   "outputs": [
    {
     "name": "stdout",
     "output_type": "stream",
     "text": [
      "12\n",
      "8\n",
      "8\n",
      "5\n",
      "33\n"
     ]
    }
   ],
   "source": [
    "for i in range(4):\n",
    "    print(len(slot_groups[i]))\n",
    "print(sum([len(slot_groups[i]) for i in range(4)]))"
   ]
  },
  {
   "cell_type": "code",
   "execution_count": 52,
   "id": "b09d658d-fb8e-47d2-8323-95044187a145",
   "metadata": {},
   "outputs": [
    {
     "data": {
      "text/plain": [
       "31"
      ]
     },
     "execution_count": 52,
     "metadata": {},
     "output_type": "execute_result"
    }
   ],
   "source": [
    "REVERSE_INITIAL_SLOT[32]"
   ]
  },
  {
   "cell_type": "code",
   "execution_count": 53,
   "id": "a212c1e4-2e91-49f6-b4ec-b4b355b70931",
   "metadata": {},
   "outputs": [
    {
     "name": "stdout",
     "output_type": "stream",
     "text": [
      "{0: [0, 2, 6, 8, 10, 12, 19, 21, 23, 25, 29, 31], 1: [3, 5, 13, 15, 16, 18, 26, 28], 2: [1, 7, 9, 11, 20, 22, 24, 30], 3: [4, 14, 17, 27]}\n"
     ]
    }
   ],
   "source": [
    "peg_groups = {}\n",
    "for i in range(4):\n",
    "    cur_group = slot_groups[i]\n",
    "    if i == 3:\n",
    "        cur_group = list(filter(lambda x: x!=16,cur_group))\n",
    "    peg_groups[i] = list(map(lambda x: REVERSE_INITIAL_SLOT[x],cur_group))\n",
    "print(peg_groups)\n",
    "    \n",
    "        "
   ]
  },
  {
   "cell_type": "code",
   "execution_count": 54,
   "id": "f25cedaf-2f28-47ce-b590-7557b7e694d6",
   "metadata": {},
   "outputs": [
    {
     "name": "stdout",
     "output_type": "stream",
     "text": [
      "16\n"
     ]
    }
   ],
   "source": [
    "print(len(peg_groups[0])+len(peg_groups[3]))"
   ]
  },
  {
   "cell_type": "code",
   "execution_count": 55,
   "id": "b89168f9-44bd-4f41-b212-f3a4048d3257",
   "metadata": {},
   "outputs": [
    {
     "name": "stdout",
     "output_type": "stream",
     "text": [
      "16\n"
     ]
    }
   ],
   "source": [
    "print(len(peg_groups[1])+len(peg_groups[2]))"
   ]
  },
  {
   "cell_type": "code",
   "execution_count": 56,
   "id": "9e70322a-4a32-457c-a4d6-cfc59ee67904",
   "metadata": {},
   "outputs": [
    {
     "name": "stdout",
     "output_type": "stream",
     "text": [
      "[(0, 3), (0, 5), (0, 13), (0, 15), (0, 16), (0, 18), (0, 26), (0, 28), (0, 1), (0, 7), (0, 9), (0, 11), (0, 20), (0, 22), (0, 24), (0, 30), (2, 3), (2, 5), (2, 13), (2, 15), (2, 16), (2, 18), (2, 26), (2, 28), (2, 1), (2, 7), (2, 9), (2, 11), (2, 20), (2, 22), (2, 24), (2, 30), (6, 3), (6, 5), (6, 13), (6, 15), (6, 16), (6, 18), (6, 26), (6, 28), (6, 1), (6, 7), (6, 9), (6, 11), (6, 20), (6, 22), (6, 24), (6, 30), (8, 3), (8, 5), (8, 13), (8, 15), (8, 16), (8, 18), (8, 26), (8, 28), (8, 1), (8, 7), (8, 9), (8, 11), (8, 20), (8, 22), (8, 24), (8, 30), (10, 3), (10, 5), (10, 13), (10, 15), (10, 16), (10, 18), (10, 26), (10, 28), (10, 1), (10, 7), (10, 9), (10, 11), (10, 20), (10, 22), (10, 24), (10, 30), (12, 3), (12, 5), (12, 13), (12, 15), (12, 16), (12, 18), (12, 26), (12, 28), (12, 1), (12, 7), (12, 9), (12, 11), (12, 20), (12, 22), (12, 24), (12, 30), (19, 3), (19, 5), (19, 13), (19, 15), (19, 16), (19, 18), (19, 26), (19, 28), (19, 1), (19, 7), (19, 9), (19, 11), (19, 20), (19, 22), (19, 24), (19, 30), (21, 3), (21, 5), (21, 13), (21, 15), (21, 16), (21, 18), (21, 26), (21, 28), (21, 1), (21, 7), (21, 9), (21, 11), (21, 20), (21, 22), (21, 24), (21, 30), (23, 3), (23, 5), (23, 13), (23, 15), (23, 16), (23, 18), (23, 26), (23, 28), (23, 1), (23, 7), (23, 9), (23, 11), (23, 20), (23, 22), (23, 24), (23, 30), (25, 3), (25, 5), (25, 13), (25, 15), (25, 16), (25, 18), (25, 26), (25, 28), (25, 1), (25, 7), (25, 9), (25, 11), (25, 20), (25, 22), (25, 24), (25, 30), (29, 3), (29, 5), (29, 13), (29, 15), (29, 16), (29, 18), (29, 26), (29, 28), (29, 1), (29, 7), (29, 9), (29, 11), (29, 20), (29, 22), (29, 24), (29, 30), (31, 3), (31, 5), (31, 13), (31, 15), (31, 16), (31, 18), (31, 26), (31, 28), (31, 1), (31, 7), (31, 9), (31, 11), (31, 20), (31, 22), (31, 24), (31, 30), (3, 0), (3, 2), (3, 6), (3, 8), (3, 10), (3, 12), (3, 19), (3, 21), (3, 23), (3, 25), (3, 29), (3, 31), (3, 4), (3, 14), (3, 17), (3, 27), (5, 0), (5, 2), (5, 6), (5, 8), (5, 10), (5, 12), (5, 19), (5, 21), (5, 23), (5, 25), (5, 29), (5, 31), (5, 4), (5, 14), (5, 17), (5, 27), (13, 0), (13, 2), (13, 6), (13, 8), (13, 10), (13, 12), (13, 19), (13, 21), (13, 23), (13, 25), (13, 29), (13, 31), (13, 4), (13, 14), (13, 17), (13, 27), (15, 0), (15, 2), (15, 6), (15, 8), (15, 10), (15, 12), (15, 19), (15, 21), (15, 23), (15, 25), (15, 29), (15, 31), (15, 4), (15, 14), (15, 17), (15, 27), (16, 0), (16, 2), (16, 6), (16, 8), (16, 10), (16, 12), (16, 19), (16, 21), (16, 23), (16, 25), (16, 29), (16, 31), (16, 4), (16, 14), (16, 17), (16, 27), (18, 0), (18, 2), (18, 6), (18, 8), (18, 10), (18, 12), (18, 19), (18, 21), (18, 23), (18, 25), (18, 29), (18, 31), (18, 4), (18, 14), (18, 17), (18, 27), (26, 0), (26, 2), (26, 6), (26, 8), (26, 10), (26, 12), (26, 19), (26, 21), (26, 23), (26, 25), (26, 29), (26, 31), (26, 4), (26, 14), (26, 17), (26, 27), (28, 0), (28, 2), (28, 6), (28, 8), (28, 10), (28, 12), (28, 19), (28, 21), (28, 23), (28, 25), (28, 29), (28, 31), (28, 4), (28, 14), (28, 17), (28, 27), (1, 0), (1, 2), (1, 6), (1, 8), (1, 10), (1, 12), (1, 19), (1, 21), (1, 23), (1, 25), (1, 29), (1, 31), (1, 4), (1, 14), (1, 17), (1, 27), (7, 0), (7, 2), (7, 6), (7, 8), (7, 10), (7, 12), (7, 19), (7, 21), (7, 23), (7, 25), (7, 29), (7, 31), (7, 4), (7, 14), (7, 17), (7, 27), (9, 0), (9, 2), (9, 6), (9, 8), (9, 10), (9, 12), (9, 19), (9, 21), (9, 23), (9, 25), (9, 29), (9, 31), (9, 4), (9, 14), (9, 17), (9, 27), (11, 0), (11, 2), (11, 6), (11, 8), (11, 10), (11, 12), (11, 19), (11, 21), (11, 23), (11, 25), (11, 29), (11, 31), (11, 4), (11, 14), (11, 17), (11, 27), (20, 0), (20, 2), (20, 6), (20, 8), (20, 10), (20, 12), (20, 19), (20, 21), (20, 23), (20, 25), (20, 29), (20, 31), (20, 4), (20, 14), (20, 17), (20, 27), (22, 0), (22, 2), (22, 6), (22, 8), (22, 10), (22, 12), (22, 19), (22, 21), (22, 23), (22, 25), (22, 29), (22, 31), (22, 4), (22, 14), (22, 17), (22, 27), (24, 0), (24, 2), (24, 6), (24, 8), (24, 10), (24, 12), (24, 19), (24, 21), (24, 23), (24, 25), (24, 29), (24, 31), (24, 4), (24, 14), (24, 17), (24, 27), (30, 0), (30, 2), (30, 6), (30, 8), (30, 10), (30, 12), (30, 19), (30, 21), (30, 23), (30, 25), (30, 29), (30, 31), (30, 4), (30, 14), (30, 17), (30, 27), (4, 3), (4, 5), (4, 13), (4, 15), (4, 16), (4, 18), (4, 26), (4, 28), (4, 1), (4, 7), (4, 9), (4, 11), (4, 20), (4, 22), (4, 24), (4, 30), (14, 3), (14, 5), (14, 13), (14, 15), (14, 16), (14, 18), (14, 26), (14, 28), (14, 1), (14, 7), (14, 9), (14, 11), (14, 20), (14, 22), (14, 24), (14, 30), (17, 3), (17, 5), (17, 13), (17, 15), (17, 16), (17, 18), (17, 26), (17, 28), (17, 1), (17, 7), (17, 9), (17, 11), (17, 20), (17, 22), (17, 24), (17, 30), (27, 3), (27, 5), (27, 13), (27, 15), (27, 16), (27, 18), (27, 26), (27, 28), (27, 1), (27, 7), (27, 9), (27, 11), (27, 20), (27, 22), (27, 24), (27, 30)]\n"
     ]
    }
   ],
   "source": [
    "ADJACENT_GROUPS = {\n",
    "    0:[1,2],\n",
    "    1:[0,3],\n",
    "    2:[0,3],\n",
    "    3:[1,2]\n",
    "}\n",
    "POSSIBLE_REMOVAL_PAIRS = []\n",
    "for i in range(4):\n",
    "    cur_group = peg_groups[i]\n",
    "    combined_adjs = peg_groups[ADJACENT_GROUPS[i][0]]+peg_groups[ADJACENT_GROUPS[i][1]]\n",
    "    for j in cur_group:\n",
    "        for k in combined_adjs:\n",
    "            POSSIBLE_REMOVAL_PAIRS.append((j,k))\n",
    "print(POSSIBLE_REMOVAL_PAIRS)"
   ]
  },
  {
   "cell_type": "code",
   "execution_count": 57,
   "id": "eeca64a6-0123-4e12-99bd-ca798179a307",
   "metadata": {},
   "outputs": [],
   "source": [
    "def group_by_slot(s):\n",
    "    for i in range(4):\n",
    "        if s in set(slot_groups[i]):\n",
    "            return i\n",
    "    assert False\n",
    "    \n",
    "def group_by_peg(p):\n",
    "    for i in range(4):\n",
    "        if p in set(peg_groups[i]):\n",
    "            return i\n",
    "    assert False\n",
    "    "
   ]
  },
  {
   "cell_type": "code",
   "execution_count": 58,
   "id": "a74c5280-a377-4d99-a9cd-f7eddd87fcd3",
   "metadata": {},
   "outputs": [
    {
     "name": "stdout",
     "output_type": "stream",
     "text": [
      "[(4, 3), (4, 5), (4, 13), (4, 15), (4, 16), (4, 18), (4, 26), (4, 28), (4, 1), (4, 7), (4, 9), (4, 11), (4, 20), (4, 22), (4, 24), (4, 30)]\n",
      "[(9, 0), (9, 2), (9, 6), (9, 8), (9, 10), (9, 12), (9, 19), (9, 21), (9, 23), (9, 25), (9, 29), (9, 31), (9, 4), (9, 14), (9, 17), (9, 27)]\n",
      "[(3, 4), (5, 4), (13, 4), (15, 4), (16, 4), (18, 4), (26, 4), (28, 4), (1, 4), (7, 4), (9, 4), (11, 4), (20, 4), (22, 4), (24, 4), (30, 4)]\n",
      "[(0, 9), (2, 9), (6, 9), (8, 9), (10, 9), (12, 9), (19, 9), (21, 9), (23, 9), (25, 9), (29, 9), (31, 9), (4, 9), (14, 9), (17, 9), (27, 9)]\n",
      "[(3, 17), (5, 17), (13, 17), (15, 17), (16, 17), (18, 17), (26, 17), (28, 17), (1, 17), (7, 17), (9, 17), (11, 17), (20, 17), (22, 17), (24, 17), (30, 17)]\n"
     ]
    }
   ],
   "source": [
    "def filter_by_left_value(rp,v):\n",
    "    return list(filter(lambda x: x[0]==v,rp))\n",
    "print(filter_by_left_value(POSSIBLE_REMOVAL_PAIRS,4))\n",
    "print(filter_by_left_value(POSSIBLE_REMOVAL_PAIRS,9))\n",
    "def filter_by_right_value(rp,v):\n",
    "    return list(filter(lambda x: x[1]==v,rp))\n",
    "print(filter_by_right_value(POSSIBLE_REMOVAL_PAIRS,4))\n",
    "print(filter_by_right_value(POSSIBLE_REMOVAL_PAIRS,9))\n",
    "print(filter_by_right_value(POSSIBLE_REMOVAL_PAIRS,17))"
   ]
  },
  {
   "cell_type": "code",
   "execution_count": 59,
   "id": "9eaa5baf-5d1f-4e28-804a-6a7a5adbc76e",
   "metadata": {},
   "outputs": [
    {
     "name": "stdout",
     "output_type": "stream",
     "text": [
      "[(0, 3), (0, 5), (0, 13), (0, 15), (0, 16), (0, 18), (0, 26), (0, 28), (0, 1), (0, 7), (0, 9), (0, 11), (0, 20), (0, 22), (0, 24), (0, 30), (2, 3), (2, 5), (2, 13), (2, 15), (2, 16), (2, 18), (2, 26), (2, 28), (2, 1), (2, 7), (2, 9), (2, 11), (2, 20), (2, 22), (2, 24), (2, 30), (6, 3), (6, 5), (6, 13), (6, 15), (6, 16), (6, 18), (6, 26), (6, 28), (6, 1), (6, 7), (6, 9), (6, 11), (6, 20), (6, 22), (6, 24), (6, 30), (8, 3), (8, 5), (8, 13), (8, 15), (8, 16), (8, 18), (8, 26), (8, 28), (8, 1), (8, 7), (8, 9), (8, 11), (8, 20), (8, 22), (8, 24), (8, 30), (10, 3), (10, 5), (10, 13), (10, 15), (10, 16), (10, 18), (10, 26), (10, 28), (10, 1), (10, 7), (10, 9), (10, 11), (10, 20), (10, 22), (10, 24), (10, 30), (12, 3), (12, 5), (12, 13), (12, 15), (12, 16), (12, 18), (12, 26), (12, 28), (12, 1), (12, 7), (12, 9), (12, 11), (12, 20), (12, 22), (12, 24), (12, 30), (19, 3), (19, 5), (19, 13), (19, 15), (19, 16), (19, 18), (19, 26), (19, 28), (19, 1), (19, 7), (19, 9), (19, 11), (19, 20), (19, 22), (19, 24), (19, 30), (21, 3), (21, 5), (21, 13), (21, 15), (21, 16), (21, 18), (21, 26), (21, 28), (21, 1), (21, 7), (21, 9), (21, 11), (21, 20), (21, 22), (21, 24), (21, 30), (23, 3), (23, 5), (23, 13), (23, 15), (23, 16), (23, 18), (23, 26), (23, 28), (23, 1), (23, 7), (23, 9), (23, 11), (23, 20), (23, 22), (23, 24), (23, 30), (25, 3), (25, 5), (25, 13), (25, 15), (25, 16), (25, 18), (25, 26), (25, 28), (25, 1), (25, 7), (25, 9), (25, 11), (25, 20), (25, 22), (25, 24), (25, 30), (29, 3), (29, 5), (29, 13), (29, 15), (29, 16), (29, 18), (29, 26), (29, 28), (29, 1), (29, 7), (29, 9), (29, 11), (29, 20), (29, 22), (29, 24), (29, 30), (31, 3), (31, 5), (31, 13), (31, 15), (31, 16), (31, 18), (31, 26), (31, 28), (31, 1), (31, 7), (31, 9), (31, 11), (31, 20), (31, 22), (31, 24), (31, 30), (3, 0), (3, 2), (3, 6), (3, 8), (3, 10), (3, 12), (3, 19), (3, 21), (3, 23), (3, 25), (3, 29), (3, 31), (3, 4), (3, 14), (3, 17), (3, 27), (5, 0), (5, 2), (5, 6), (5, 8), (5, 10), (5, 12), (5, 19), (5, 21), (5, 23), (5, 25), (5, 29), (5, 31), (5, 4), (5, 14), (5, 17), (5, 27), (13, 0), (13, 2), (13, 6), (13, 8), (13, 10), (13, 12), (13, 19), (13, 21), (13, 23), (13, 25), (13, 29), (13, 31), (13, 4), (13, 14), (13, 17), (13, 27), (15, 0), (15, 2), (15, 6), (15, 8), (15, 10), (15, 12), (15, 19), (15, 21), (15, 23), (15, 25), (15, 29), (15, 31), (15, 4), (15, 14), (15, 17), (15, 27), (16, 0), (16, 2), (16, 6), (16, 8), (16, 10), (16, 12), (16, 19), (16, 21), (16, 23), (16, 25), (16, 29), (16, 31), (16, 4), (16, 14), (16, 17), (16, 27), (18, 0), (18, 2), (18, 6), (18, 8), (18, 10), (18, 12), (18, 19), (18, 21), (18, 23), (18, 25), (18, 29), (18, 31), (18, 4), (18, 14), (18, 17), (18, 27), (26, 0), (26, 2), (26, 6), (26, 8), (26, 10), (26, 12), (26, 19), (26, 21), (26, 23), (26, 25), (26, 29), (26, 31), (26, 4), (26, 14), (26, 17), (26, 27), (28, 0), (28, 2), (28, 6), (28, 8), (28, 10), (28, 12), (28, 19), (28, 21), (28, 23), (28, 25), (28, 29), (28, 31), (28, 4), (28, 14), (28, 17), (28, 27), (1, 0), (1, 2), (1, 6), (1, 8), (1, 10), (1, 12), (1, 19), (1, 21), (1, 23), (1, 25), (1, 29), (1, 31), (1, 4), (1, 14), (1, 17), (1, 27), (7, 0), (7, 2), (7, 6), (7, 8), (7, 10), (7, 12), (7, 19), (7, 21), (7, 23), (7, 25), (7, 29), (7, 31), (7, 4), (7, 14), (7, 17), (7, 27), (9, 0), (9, 2), (9, 6), (9, 8), (9, 10), (9, 12), (9, 19), (9, 21), (9, 23), (9, 25), (9, 29), (9, 31), (9, 4), (9, 14), (9, 17), (9, 27), (11, 0), (11, 2), (11, 6), (11, 8), (11, 10), (11, 12), (11, 19), (11, 21), (11, 23), (11, 25), (11, 29), (11, 31), (11, 4), (11, 14), (11, 17), (11, 27), (20, 0), (20, 2), (20, 6), (20, 8), (20, 10), (20, 12), (20, 19), (20, 21), (20, 23), (20, 25), (20, 29), (20, 31), (20, 4), (20, 14), (20, 17), (20, 27), (22, 0), (22, 2), (22, 6), (22, 8), (22, 10), (22, 12), (22, 19), (22, 21), (22, 23), (22, 25), (22, 29), (22, 31), (22, 4), (22, 14), (22, 17), (22, 27), (24, 0), (24, 2), (24, 6), (24, 8), (24, 10), (24, 12), (24, 19), (24, 21), (24, 23), (24, 25), (24, 29), (24, 31), (24, 4), (24, 14), (24, 17), (24, 27), (30, 0), (30, 2), (30, 6), (30, 8), (30, 10), (30, 12), (30, 19), (30, 21), (30, 23), (30, 25), (30, 29), (30, 31), (30, 4), (30, 14), (30, 17), (30, 27), (14, 3), (14, 5), (14, 13), (14, 15), (14, 16), (14, 18), (14, 26), (14, 28), (14, 1), (14, 7), (14, 9), (14, 11), (14, 20), (14, 22), (14, 24), (14, 30), (17, 3), (17, 5), (17, 13), (17, 15), (17, 16), (17, 18), (17, 26), (17, 28), (17, 1), (17, 7), (17, 9), (17, 11), (17, 20), (17, 22), (17, 24), (17, 30), (27, 3), (27, 5), (27, 13), (27, 15), (27, 16), (27, 18), (27, 26), (27, 28), (27, 1), (27, 7), (27, 9), (27, 11), (27, 20), (27, 22), (27, 24), (27, 30)]\n",
      "[(0, 3), (0, 5), (0, 13), (0, 15), (0, 16), (0, 18), (0, 26), (0, 28), (0, 1), (0, 7), (0, 9), (0, 11), (0, 20), (0, 22), (0, 24), (0, 30), (2, 3), (2, 5), (2, 13), (2, 15), (2, 16), (2, 18), (2, 26), (2, 28), (2, 1), (2, 7), (2, 9), (2, 11), (2, 20), (2, 22), (2, 24), (2, 30), (6, 3), (6, 5), (6, 13), (6, 15), (6, 16), (6, 18), (6, 26), (6, 28), (6, 1), (6, 7), (6, 9), (6, 11), (6, 20), (6, 22), (6, 24), (6, 30), (8, 3), (8, 5), (8, 13), (8, 15), (8, 16), (8, 18), (8, 26), (8, 28), (8, 1), (8, 7), (8, 9), (8, 11), (8, 20), (8, 22), (8, 24), (8, 30), (10, 3), (10, 5), (10, 13), (10, 15), (10, 16), (10, 18), (10, 26), (10, 28), (10, 1), (10, 7), (10, 9), (10, 11), (10, 20), (10, 22), (10, 24), (10, 30), (12, 3), (12, 5), (12, 13), (12, 15), (12, 16), (12, 18), (12, 26), (12, 28), (12, 1), (12, 7), (12, 9), (12, 11), (12, 20), (12, 22), (12, 24), (12, 30), (19, 3), (19, 5), (19, 13), (19, 15), (19, 16), (19, 18), (19, 26), (19, 28), (19, 1), (19, 7), (19, 9), (19, 11), (19, 20), (19, 22), (19, 24), (19, 30), (21, 3), (21, 5), (21, 13), (21, 15), (21, 16), (21, 18), (21, 26), (21, 28), (21, 1), (21, 7), (21, 9), (21, 11), (21, 20), (21, 22), (21, 24), (21, 30), (23, 3), (23, 5), (23, 13), (23, 15), (23, 16), (23, 18), (23, 26), (23, 28), (23, 1), (23, 7), (23, 9), (23, 11), (23, 20), (23, 22), (23, 24), (23, 30), (25, 3), (25, 5), (25, 13), (25, 15), (25, 16), (25, 18), (25, 26), (25, 28), (25, 1), (25, 7), (25, 9), (25, 11), (25, 20), (25, 22), (25, 24), (25, 30), (29, 3), (29, 5), (29, 13), (29, 15), (29, 16), (29, 18), (29, 26), (29, 28), (29, 1), (29, 7), (29, 9), (29, 11), (29, 20), (29, 22), (29, 24), (29, 30), (31, 3), (31, 5), (31, 13), (31, 15), (31, 16), (31, 18), (31, 26), (31, 28), (31, 1), (31, 7), (31, 9), (31, 11), (31, 20), (31, 22), (31, 24), (31, 30), (3, 0), (3, 2), (3, 6), (3, 8), (3, 10), (3, 12), (3, 19), (3, 21), (3, 23), (3, 25), (3, 29), (3, 31), (3, 14), (3, 17), (3, 27), (5, 0), (5, 2), (5, 6), (5, 8), (5, 10), (5, 12), (5, 19), (5, 21), (5, 23), (5, 25), (5, 29), (5, 31), (5, 14), (5, 17), (5, 27), (13, 0), (13, 2), (13, 6), (13, 8), (13, 10), (13, 12), (13, 19), (13, 21), (13, 23), (13, 25), (13, 29), (13, 31), (13, 14), (13, 17), (13, 27), (15, 0), (15, 2), (15, 6), (15, 8), (15, 10), (15, 12), (15, 19), (15, 21), (15, 23), (15, 25), (15, 29), (15, 31), (15, 14), (15, 17), (15, 27), (16, 0), (16, 2), (16, 6), (16, 8), (16, 10), (16, 12), (16, 19), (16, 21), (16, 23), (16, 25), (16, 29), (16, 31), (16, 14), (16, 17), (16, 27), (18, 0), (18, 2), (18, 6), (18, 8), (18, 10), (18, 12), (18, 19), (18, 21), (18, 23), (18, 25), (18, 29), (18, 31), (18, 14), (18, 17), (18, 27), (26, 0), (26, 2), (26, 6), (26, 8), (26, 10), (26, 12), (26, 19), (26, 21), (26, 23), (26, 25), (26, 29), (26, 31), (26, 14), (26, 17), (26, 27), (28, 0), (28, 2), (28, 6), (28, 8), (28, 10), (28, 12), (28, 19), (28, 21), (28, 23), (28, 25), (28, 29), (28, 31), (28, 14), (28, 17), (28, 27), (1, 0), (1, 2), (1, 6), (1, 8), (1, 10), (1, 12), (1, 19), (1, 21), (1, 23), (1, 25), (1, 29), (1, 31), (1, 14), (1, 17), (1, 27), (7, 0), (7, 2), (7, 6), (7, 8), (7, 10), (7, 12), (7, 19), (7, 21), (7, 23), (7, 25), (7, 29), (7, 31), (7, 14), (7, 17), (7, 27), (9, 0), (9, 2), (9, 6), (9, 8), (9, 10), (9, 12), (9, 19), (9, 21), (9, 23), (9, 25), (9, 29), (9, 31), (9, 14), (9, 17), (9, 27), (11, 0), (11, 2), (11, 6), (11, 8), (11, 10), (11, 12), (11, 19), (11, 21), (11, 23), (11, 25), (11, 29), (11, 31), (11, 14), (11, 17), (11, 27), (20, 0), (20, 2), (20, 6), (20, 8), (20, 10), (20, 12), (20, 19), (20, 21), (20, 23), (20, 25), (20, 29), (20, 31), (20, 14), (20, 17), (20, 27), (22, 0), (22, 2), (22, 6), (22, 8), (22, 10), (22, 12), (22, 19), (22, 21), (22, 23), (22, 25), (22, 29), (22, 31), (22, 14), (22, 17), (22, 27), (24, 0), (24, 2), (24, 6), (24, 8), (24, 10), (24, 12), (24, 19), (24, 21), (24, 23), (24, 25), (24, 29), (24, 31), (24, 14), (24, 17), (24, 27), (30, 0), (30, 2), (30, 6), (30, 8), (30, 10), (30, 12), (30, 19), (30, 21), (30, 23), (30, 25), (30, 29), (30, 31), (30, 14), (30, 17), (30, 27), (4, 3), (4, 5), (4, 13), (4, 15), (4, 16), (4, 18), (4, 26), (4, 28), (4, 1), (4, 7), (4, 9), (4, 11), (4, 20), (4, 22), (4, 24), (4, 30), (14, 3), (14, 5), (14, 13), (14, 15), (14, 16), (14, 18), (14, 26), (14, 28), (14, 1), (14, 7), (14, 9), (14, 11), (14, 20), (14, 22), (14, 24), (14, 30), (17, 3), (17, 5), (17, 13), (17, 15), (17, 16), (17, 18), (17, 26), (17, 28), (17, 1), (17, 7), (17, 9), (17, 11), (17, 20), (17, 22), (17, 24), (17, 30), (27, 3), (27, 5), (27, 13), (27, 15), (27, 16), (27, 18), (27, 26), (27, 28), (27, 1), (27, 7), (27, 9), (27, 11), (27, 20), (27, 22), (27, 24), (27, 30)]\n"
     ]
    }
   ],
   "source": [
    "def filter_ne_left_value(rp,v):\n",
    "    return list(filter(lambda x: x[0]!=v,rp))\n",
    "print(filter_ne_left_value(POSSIBLE_REMOVAL_PAIRS,4))\n",
    "def filter_ne_right_value(rp,v):\n",
    "    return list(filter(lambda x: x[1]!=v,rp))\n",
    "print(filter_ne_right_value(POSSIBLE_REMOVAL_PAIRS,4))\n"
   ]
  },
  {
   "cell_type": "code",
   "execution_count": 60,
   "id": "9783aeb9-c472-448d-99f4-c8d83a33f51e",
   "metadata": {},
   "outputs": [
    {
     "data": {
      "text/plain": [
       "512"
      ]
     },
     "execution_count": 60,
     "metadata": {},
     "output_type": "execute_result"
    }
   ],
   "source": [
    "len(POSSIBLE_REMOVAL_PAIRS)"
   ]
  },
  {
   "cell_type": "code",
   "execution_count": 61,
   "id": "7ca05bc3-8300-4160-bbb5-fd53b1452f91",
   "metadata": {},
   "outputs": [
    {
     "name": "stdout",
     "output_type": "stream",
     "text": [
      "[[(9, 4)], [(15, 14)], [(16, 17)], [(22, 27)]]\n"
     ]
    }
   ],
   "source": [
    "rm_hist_start = list(map(make_removal_history,POSSIBLE_GAME_HISTORIES[1]))\n",
    "print(rm_hist_start)"
   ]
  },
  {
   "cell_type": "code",
   "execution_count": 62,
   "id": "50161b85-d1e1-40af-848d-087a5a9afd76",
   "metadata": {},
   "outputs": [
    {
     "name": "stdout",
     "output_type": "stream",
     "text": [
      "[[(3, 4), (5, 4), (13, 4), (15, 4), (16, 4), (18, 4), (26, 4), (28, 4), (1, 4), (7, 4), (9, 4), (11, 4), (20, 4), (22, 4), (24, 4), (30, 4)], [(3, 14), (5, 14), (13, 14), (15, 14), (16, 14), (18, 14), (26, 14), (28, 14), (1, 14), (7, 14), (9, 14), (11, 14), (20, 14), (22, 14), (24, 14), (30, 14)], [(3, 17), (5, 17), (13, 17), (15, 17), (16, 17), (18, 17), (26, 17), (28, 17), (1, 17), (7, 17), (9, 17), (11, 17), (20, 17), (22, 17), (24, 17), (30, 17)], [(3, 27), (5, 27), (13, 27), (15, 27), (16, 27), (18, 27), (26, 27), (28, 27), (1, 27), (7, 27), (9, 27), (11, 27), (20, 27), (22, 27), (24, 27), (30, 27)]]\n"
     ]
    }
   ],
   "source": [
    "rm_hist_end = [filter_by_right_value(POSSIBLE_REMOVAL_PAIRS,ts[0][0]) for ts in POSSIBLE_GAME_HISTORIES[-1]]\n",
    "print(rm_hist_end)"
   ]
  },
  {
   "cell_type": "code",
   "execution_count": 63,
   "id": "0e1fd8a3-a932-42ab-a51a-9dddf1866785",
   "metadata": {},
   "outputs": [
    {
     "name": "stdout",
     "output_type": "stream",
     "text": [
      "[([(9, 4)], [(3, 4)]), ([(9, 4)], [(5, 4)]), ([(9, 4)], [(13, 4)]), ([(9, 4)], [(15, 4)]), ([(9, 4)], [(16, 4)]), ([(9, 4)], [(18, 4)]), ([(9, 4)], [(26, 4)]), ([(9, 4)], [(28, 4)]), ([(9, 4)], [(1, 4)]), ([(9, 4)], [(7, 4)]), ([(9, 4)], [(9, 4)]), ([(9, 4)], [(11, 4)]), ([(9, 4)], [(20, 4)]), ([(9, 4)], [(22, 4)]), ([(9, 4)], [(24, 4)]), ([(9, 4)], [(30, 4)]), ([(9, 4)], [(3, 14)]), ([(9, 4)], [(5, 14)]), ([(9, 4)], [(13, 14)]), ([(9, 4)], [(15, 14)]), ([(9, 4)], [(16, 14)]), ([(9, 4)], [(18, 14)]), ([(9, 4)], [(26, 14)]), ([(9, 4)], [(28, 14)]), ([(9, 4)], [(1, 14)]), ([(9, 4)], [(7, 14)]), ([(9, 4)], [(9, 14)]), ([(9, 4)], [(11, 14)]), ([(9, 4)], [(20, 14)]), ([(9, 4)], [(22, 14)]), ([(9, 4)], [(24, 14)]), ([(9, 4)], [(30, 14)]), ([(9, 4)], [(3, 17)]), ([(9, 4)], [(5, 17)]), ([(9, 4)], [(13, 17)]), ([(9, 4)], [(15, 17)]), ([(9, 4)], [(16, 17)]), ([(9, 4)], [(18, 17)]), ([(9, 4)], [(26, 17)]), ([(9, 4)], [(28, 17)]), ([(9, 4)], [(1, 17)]), ([(9, 4)], [(7, 17)]), ([(9, 4)], [(9, 17)]), ([(9, 4)], [(11, 17)]), ([(9, 4)], [(20, 17)]), ([(9, 4)], [(22, 17)]), ([(9, 4)], [(24, 17)]), ([(9, 4)], [(30, 17)]), ([(9, 4)], [(3, 27)]), ([(9, 4)], [(5, 27)]), ([(9, 4)], [(13, 27)]), ([(9, 4)], [(15, 27)]), ([(9, 4)], [(16, 27)]), ([(9, 4)], [(18, 27)]), ([(9, 4)], [(26, 27)]), ([(9, 4)], [(28, 27)]), ([(9, 4)], [(1, 27)]), ([(9, 4)], [(7, 27)]), ([(9, 4)], [(9, 27)]), ([(9, 4)], [(11, 27)]), ([(9, 4)], [(20, 27)]), ([(9, 4)], [(22, 27)]), ([(9, 4)], [(24, 27)]), ([(9, 4)], [(30, 27)]), ([(15, 14)], [(3, 4)]), ([(15, 14)], [(5, 4)]), ([(15, 14)], [(13, 4)]), ([(15, 14)], [(15, 4)]), ([(15, 14)], [(16, 4)]), ([(15, 14)], [(18, 4)]), ([(15, 14)], [(26, 4)]), ([(15, 14)], [(28, 4)]), ([(15, 14)], [(1, 4)]), ([(15, 14)], [(7, 4)]), ([(15, 14)], [(9, 4)]), ([(15, 14)], [(11, 4)]), ([(15, 14)], [(20, 4)]), ([(15, 14)], [(22, 4)]), ([(15, 14)], [(24, 4)]), ([(15, 14)], [(30, 4)]), ([(15, 14)], [(3, 14)]), ([(15, 14)], [(5, 14)]), ([(15, 14)], [(13, 14)]), ([(15, 14)], [(15, 14)]), ([(15, 14)], [(16, 14)]), ([(15, 14)], [(18, 14)]), ([(15, 14)], [(26, 14)]), ([(15, 14)], [(28, 14)]), ([(15, 14)], [(1, 14)]), ([(15, 14)], [(7, 14)]), ([(15, 14)], [(9, 14)]), ([(15, 14)], [(11, 14)]), ([(15, 14)], [(20, 14)]), ([(15, 14)], [(22, 14)]), ([(15, 14)], [(24, 14)]), ([(15, 14)], [(30, 14)]), ([(15, 14)], [(3, 17)]), ([(15, 14)], [(5, 17)]), ([(15, 14)], [(13, 17)]), ([(15, 14)], [(15, 17)]), ([(15, 14)], [(16, 17)]), ([(15, 14)], [(18, 17)]), ([(15, 14)], [(26, 17)]), ([(15, 14)], [(28, 17)]), ([(15, 14)], [(1, 17)]), ([(15, 14)], [(7, 17)]), ([(15, 14)], [(9, 17)]), ([(15, 14)], [(11, 17)]), ([(15, 14)], [(20, 17)]), ([(15, 14)], [(22, 17)]), ([(15, 14)], [(24, 17)]), ([(15, 14)], [(30, 17)]), ([(15, 14)], [(3, 27)]), ([(15, 14)], [(5, 27)]), ([(15, 14)], [(13, 27)]), ([(15, 14)], [(15, 27)]), ([(15, 14)], [(16, 27)]), ([(15, 14)], [(18, 27)]), ([(15, 14)], [(26, 27)]), ([(15, 14)], [(28, 27)]), ([(15, 14)], [(1, 27)]), ([(15, 14)], [(7, 27)]), ([(15, 14)], [(9, 27)]), ([(15, 14)], [(11, 27)]), ([(15, 14)], [(20, 27)]), ([(15, 14)], [(22, 27)]), ([(15, 14)], [(24, 27)]), ([(15, 14)], [(30, 27)]), ([(16, 17)], [(3, 4)]), ([(16, 17)], [(5, 4)]), ([(16, 17)], [(13, 4)]), ([(16, 17)], [(15, 4)]), ([(16, 17)], [(16, 4)]), ([(16, 17)], [(18, 4)]), ([(16, 17)], [(26, 4)]), ([(16, 17)], [(28, 4)]), ([(16, 17)], [(1, 4)]), ([(16, 17)], [(7, 4)]), ([(16, 17)], [(9, 4)]), ([(16, 17)], [(11, 4)]), ([(16, 17)], [(20, 4)]), ([(16, 17)], [(22, 4)]), ([(16, 17)], [(24, 4)]), ([(16, 17)], [(30, 4)]), ([(16, 17)], [(3, 14)]), ([(16, 17)], [(5, 14)]), ([(16, 17)], [(13, 14)]), ([(16, 17)], [(15, 14)]), ([(16, 17)], [(16, 14)]), ([(16, 17)], [(18, 14)]), ([(16, 17)], [(26, 14)]), ([(16, 17)], [(28, 14)]), ([(16, 17)], [(1, 14)]), ([(16, 17)], [(7, 14)]), ([(16, 17)], [(9, 14)]), ([(16, 17)], [(11, 14)]), ([(16, 17)], [(20, 14)]), ([(16, 17)], [(22, 14)]), ([(16, 17)], [(24, 14)]), ([(16, 17)], [(30, 14)]), ([(16, 17)], [(3, 17)]), ([(16, 17)], [(5, 17)]), ([(16, 17)], [(13, 17)]), ([(16, 17)], [(15, 17)]), ([(16, 17)], [(16, 17)]), ([(16, 17)], [(18, 17)]), ([(16, 17)], [(26, 17)]), ([(16, 17)], [(28, 17)]), ([(16, 17)], [(1, 17)]), ([(16, 17)], [(7, 17)]), ([(16, 17)], [(9, 17)]), ([(16, 17)], [(11, 17)]), ([(16, 17)], [(20, 17)]), ([(16, 17)], [(22, 17)]), ([(16, 17)], [(24, 17)]), ([(16, 17)], [(30, 17)]), ([(16, 17)], [(3, 27)]), ([(16, 17)], [(5, 27)]), ([(16, 17)], [(13, 27)]), ([(16, 17)], [(15, 27)]), ([(16, 17)], [(16, 27)]), ([(16, 17)], [(18, 27)]), ([(16, 17)], [(26, 27)]), ([(16, 17)], [(28, 27)]), ([(16, 17)], [(1, 27)]), ([(16, 17)], [(7, 27)]), ([(16, 17)], [(9, 27)]), ([(16, 17)], [(11, 27)]), ([(16, 17)], [(20, 27)]), ([(16, 17)], [(22, 27)]), ([(16, 17)], [(24, 27)]), ([(16, 17)], [(30, 27)]), ([(22, 27)], [(3, 4)]), ([(22, 27)], [(5, 4)]), ([(22, 27)], [(13, 4)]), ([(22, 27)], [(15, 4)]), ([(22, 27)], [(16, 4)]), ([(22, 27)], [(18, 4)]), ([(22, 27)], [(26, 4)]), ([(22, 27)], [(28, 4)]), ([(22, 27)], [(1, 4)]), ([(22, 27)], [(7, 4)]), ([(22, 27)], [(9, 4)]), ([(22, 27)], [(11, 4)]), ([(22, 27)], [(20, 4)]), ([(22, 27)], [(22, 4)]), ([(22, 27)], [(24, 4)]), ([(22, 27)], [(30, 4)]), ([(22, 27)], [(3, 14)]), ([(22, 27)], [(5, 14)]), ([(22, 27)], [(13, 14)]), ([(22, 27)], [(15, 14)]), ([(22, 27)], [(16, 14)]), ([(22, 27)], [(18, 14)]), ([(22, 27)], [(26, 14)]), ([(22, 27)], [(28, 14)]), ([(22, 27)], [(1, 14)]), ([(22, 27)], [(7, 14)]), ([(22, 27)], [(9, 14)]), ([(22, 27)], [(11, 14)]), ([(22, 27)], [(20, 14)]), ([(22, 27)], [(22, 14)]), ([(22, 27)], [(24, 14)]), ([(22, 27)], [(30, 14)]), ([(22, 27)], [(3, 17)]), ([(22, 27)], [(5, 17)]), ([(22, 27)], [(13, 17)]), ([(22, 27)], [(15, 17)]), ([(22, 27)], [(16, 17)]), ([(22, 27)], [(18, 17)]), ([(22, 27)], [(26, 17)]), ([(22, 27)], [(28, 17)]), ([(22, 27)], [(1, 17)]), ([(22, 27)], [(7, 17)]), ([(22, 27)], [(9, 17)]), ([(22, 27)], [(11, 17)]), ([(22, 27)], [(20, 17)]), ([(22, 27)], [(22, 17)]), ([(22, 27)], [(24, 17)]), ([(22, 27)], [(30, 17)]), ([(22, 27)], [(3, 27)]), ([(22, 27)], [(5, 27)]), ([(22, 27)], [(13, 27)]), ([(22, 27)], [(15, 27)]), ([(22, 27)], [(16, 27)]), ([(22, 27)], [(18, 27)]), ([(22, 27)], [(26, 27)]), ([(22, 27)], [(28, 27)]), ([(22, 27)], [(1, 27)]), ([(22, 27)], [(7, 27)]), ([(22, 27)], [(9, 27)]), ([(22, 27)], [(11, 27)]), ([(22, 27)], [(20, 27)]), ([(22, 27)], [(22, 27)]), ([(22, 27)], [(24, 27)]), ([(22, 27)], [(30, 27)])]\n"
     ]
    }
   ],
   "source": [
    "intro_outro_pairs = []\n",
    "for s in rm_hist_start:\n",
    "    for t in rm_hist_end:\n",
    "        for p in t:\n",
    "            intro_outro_pairs.append((s,[p]))\n",
    "print(intro_outro_pairs)"
   ]
  },
  {
   "cell_type": "code",
   "execution_count": 64,
   "id": "f5f3db25-a7f1-47d9-b21d-9470ade3a276",
   "metadata": {},
   "outputs": [
    {
     "data": {
      "text/plain": [
       "256"
      ]
     },
     "execution_count": 64,
     "metadata": {},
     "output_type": "execute_result"
    }
   ],
   "source": [
    "len(intro_outro_pairs)"
   ]
  },
  {
   "cell_type": "code",
   "execution_count": 65,
   "id": "1fccff8b-e7f3-4256-8ed3-cf81616bd8fb",
   "metadata": {},
   "outputs": [
    {
     "data": {
      "text/plain": [
       "([(9, 4)], [(3, 4)])"
      ]
     },
     "execution_count": 65,
     "metadata": {},
     "output_type": "execute_result"
    }
   ],
   "source": [
    "intro_outro_pairs[0]"
   ]
  },
  {
   "cell_type": "code",
   "execution_count": 66,
   "id": "194c7a6f-d06e-4107-a12c-73ee664ea0ef",
   "metadata": {},
   "outputs": [],
   "source": [
    "def forward_state_regen(removal_sequence):\n",
    "    peg_state = [[x] if x < CENTER_PEG else [x+1] for x in range(32)]\n",
    "    removed_pegs = set([])\n",
    "    open_slots = set({CENTER_PEG})\n",
    "    num_moves = len(removal_sequence)\n",
    "    print(f\"init:{peg_state}\\nrem seq:{removal_sequence}\\nL:{num_moves}\")\n",
    "\n",
    "    for r in removal_sequence:\n",
    "        board_state = convert_to_old_rep(peg_state)\n",
    "        v_moves = valid_moves(board_state)\n",
    "        # note that we're matching up different domains here (pegs/slots)\n",
    "        matching_moves = list(filter(\n",
    "            lambda m: m[2]==peg_state[r[0]][-1] and m[0]==peg_state[r[1]][-1],\n",
    "            v_moves))\n",
    "        assert len(matching_moves)==1\n",
    "        move = matching_moves[0]\n",
    "        assert move[1] in open_slots\n",
    "        # the peg that does the jumping moves to the open slot\n",
    "        orig_slot =peg_state[r[1]][-1]\n",
    "        peg_state[r[1]].append(move[1])\n",
    "        open_slots.add(orig_slot)\n",
    "        open_slots.remove(move[1])\n",
    "        removed_pegs.add(r[0])\n",
    "        # all pegs except jump pair stay put for another turn\n",
    "        for i,e in enumerate(peg_state):\n",
    "            if i != r[0] and i != r[1]:\n",
    "                peg_state[i].append(e[-1])\n",
    "        print(f\"new peg state {peg_state}\")\n",
    "    return peg_state,open_slots,removed_pegs\n"
   ]
  },
  {
   "cell_type": "code",
   "execution_count": 67,
   "id": "7fe3ba48-e3bf-4703-8e11-b26cdda00d72",
   "metadata": {},
   "outputs": [
    {
     "name": "stdout",
     "output_type": "stream",
     "text": [
      "init:[[0], [1], [2], [3], [4], [5], [6], [7], [8], [9], [10], [11], [12], [13], [14], [15], [17], [18], [19], [20], [21], [22], [23], [24], [25], [26], [27], [28], [29], [30], [31], [32]]\n",
      "rem seq:[(9, 4)]\n",
      "L:1\n",
      "new peg state [[0, 0], [1, 1], [2, 2], [3, 3], [4, 16], [5, 5], [6, 6], [7, 7], [8, 8], [9], [10, 10], [11, 11], [12, 12], [13, 13], [14, 14], [15, 15], [17, 17], [18, 18], [19, 19], [20, 20], [21, 21], [22, 22], [23, 23], [24, 24], [25, 25], [26, 26], [27, 27], [28, 28], [29, 29], [30, 30], [31, 31], [32, 32]]\n"
     ]
    },
    {
     "data": {
      "text/plain": [
       "([[0, 0],\n",
       "  [1, 1],\n",
       "  [2, 2],\n",
       "  [3, 3],\n",
       "  [4, 16],\n",
       "  [5, 5],\n",
       "  [6, 6],\n",
       "  [7, 7],\n",
       "  [8, 8],\n",
       "  [9],\n",
       "  [10, 10],\n",
       "  [11, 11],\n",
       "  [12, 12],\n",
       "  [13, 13],\n",
       "  [14, 14],\n",
       "  [15, 15],\n",
       "  [17, 17],\n",
       "  [18, 18],\n",
       "  [19, 19],\n",
       "  [20, 20],\n",
       "  [21, 21],\n",
       "  [22, 22],\n",
       "  [23, 23],\n",
       "  [24, 24],\n",
       "  [25, 25],\n",
       "  [26, 26],\n",
       "  [27, 27],\n",
       "  [28, 28],\n",
       "  [29, 29],\n",
       "  [30, 30],\n",
       "  [31, 31],\n",
       "  [32, 32]],\n",
       " {4},\n",
       " {9})"
      ]
     },
     "execution_count": 67,
     "metadata": {},
     "output_type": "execute_result"
    }
   ],
   "source": [
    "forward_state_regen(intro_outro_pairs[0][0])"
   ]
  },
  {
   "cell_type": "code",
   "execution_count": 68,
   "id": "5be14d7a-873d-4645-9618-d6d070df4388",
   "metadata": {},
   "outputs": [
    {
     "data": {
      "text/plain": [
       "[9, 23, 15, 17]"
      ]
     },
     "execution_count": 68,
     "metadata": {},
     "output_type": "execute_result"
    }
   ],
   "source": [
    "def adjacent_slots(s):\n",
    "    coords = PEG_COORDINATES[s]\n",
    "    above = (coords[0],coords[1]-1)\n",
    "    below = (coords[0],coords[1]+1)\n",
    "    right = (coords[0]+1,coords[1])\n",
    "    left = (coords[0]-1,coords[1])\n",
    "    output = []\n",
    "    for p in [above,below,left,right]:\n",
    "        output.extend(peg_list_by_coords(p))\n",
    "    return output\n",
    "adjacent_slots(16)\n",
    "    "
   ]
  },
  {
   "cell_type": "code",
   "execution_count": 69,
   "id": "dff7c0dd-b441-47c5-a117-97156ee60562",
   "metadata": {},
   "outputs": [
    {
     "data": {
      "text/plain": [
       "{9, 10, 15, 16, 17, 18, 23, 24}"
      ]
     },
     "execution_count": 69,
     "metadata": {},
     "output_type": "execute_result"
    }
   ],
   "source": [
    "def empty_adjacent_slots(filled_slot_set):\n",
    "    adj_list = list(map(adjacent_slots,filled_slot_set))\n",
    "    return set(list(reduce(lambda x,y: x+y,adj_list)))\n",
    "\n",
    "empty_adjacent_slots(set([16,17]))"
   ]
  },
  {
   "cell_type": "code",
   "execution_count": 70,
   "id": "528de56b-93ab-46ec-a5fa-3f542ff8235a",
   "metadata": {},
   "outputs": [
    {
     "data": {
      "text/plain": [
       "{16: 3}"
      ]
     },
     "execution_count": 70,
     "metadata": {},
     "output_type": "execute_result"
    }
   ],
   "source": [
    "def slots_to_possible_peg_groups(slot_list):\n",
    "    peg_list_by_slot = {}\n",
    "    for s in slot_list:\n",
    "        g = group_by_slot(s)\n",
    "        peg_list_by_slot[s] = g\n",
    "    return peg_list_by_slot\n",
    "slots_to_possible_peg_groups([16])    "
   ]
  },
  {
   "cell_type": "code",
   "execution_count": 71,
   "id": "be804b5d-2abc-404a-a014-437d326278d1",
   "metadata": {},
   "outputs": [
    {
     "data": {
      "text/plain": [
       "14"
      ]
     },
     "execution_count": 71,
     "metadata": {},
     "output_type": "execute_result"
    }
   ],
   "source": [
    "def jump_origin(destination,center):\n",
    "    p1 = PEG_COORDINATES[destination]\n",
    "    p2 = PEG_COORDINATES[center]\n",
    "    p3 = ((p2[0]*2-p1[0]),(p2[1]*2-p1[1]))\n",
    "    return PEG_LIST_TABLE[p3[0] + p3[1]*BOARD_SIZE][0]\n",
    "jump_origin(16,15)"
   ]
  },
  {
   "cell_type": "code",
   "execution_count": 72,
   "id": "911b79b6-53fd-4a19-ab01-f2d460002d7c",
   "metadata": {},
   "outputs": [
    {
     "name": "stdout",
     "output_type": "stream",
     "text": [
      "[(3, 4)]\n",
      "  OOO  \n",
      "  OOO  \n",
      "OOOOOOO\n",
      "OOOXOOO\n",
      "OOOOOOO\n",
      "  OOO  \n",
      "  OOO  \n",
      "\n",
      "[[], [], [], [], [16], [], [], [], [], [], [], [], [], [], [], [], [], [], [], [], [], [], [], [], [], [], [], [], [], [], [], []]\n",
      "{9, 15, 17, 23}\n",
      "{9: 2, 15: 1, 17: 1, 23: 2}\n",
      "1\n",
      "[15, 17]\n",
      "Attempting to fill slot 15 with peg 3\n",
      "Attempting to fill slot 17 with peg 3\n",
      "Found 2 previous states\n"
     ]
    },
    {
     "data": {
      "text/plain": [
       "[[[],\n",
       "  [],\n",
       "  [],\n",
       "  [15],\n",
       "  [14, 16],\n",
       "  [],\n",
       "  [],\n",
       "  [],\n",
       "  [],\n",
       "  [],\n",
       "  [],\n",
       "  [],\n",
       "  [],\n",
       "  [],\n",
       "  [],\n",
       "  [],\n",
       "  [],\n",
       "  [],\n",
       "  [],\n",
       "  [],\n",
       "  [],\n",
       "  [],\n",
       "  [],\n",
       "  [],\n",
       "  [],\n",
       "  [],\n",
       "  [],\n",
       "  [],\n",
       "  [],\n",
       "  [],\n",
       "  [],\n",
       "  []],\n",
       " [[],\n",
       "  [],\n",
       "  [],\n",
       "  [17],\n",
       "  [18, 16],\n",
       "  [],\n",
       "  [],\n",
       "  [],\n",
       "  [],\n",
       "  [],\n",
       "  [],\n",
       "  [],\n",
       "  [],\n",
       "  [],\n",
       "  [],\n",
       "  [],\n",
       "  [],\n",
       "  [],\n",
       "  [],\n",
       "  [],\n",
       "  [],\n",
       "  [],\n",
       "  [],\n",
       "  [],\n",
       "  [],\n",
       "  [],\n",
       "  [],\n",
       "  [],\n",
       "  [],\n",
       "  [],\n",
       "  [],\n",
       "  []]]"
      ]
     },
     "execution_count": 72,
     "metadata": {},
     "output_type": "execute_result"
    }
   ],
   "source": [
    "def backwards_state_regen(removal_sequence):\n",
    "    num_moves = len(removal_sequence)\n",
    "    assert num_moves > 0\n",
    "    print(removal_sequence)\n",
    "    active_pegs = set([removal_sequence[0][1]])\n",
    "    filled_slots = set([CENTER_PEG])\n",
    "    slot_rep = [1 if i == CENTER_PEG else 0 for i in range(NUM_SLOTS)]\n",
    "    render_game_state(slot_rep)\n",
    "    peg_rep = [[] if i != removal_sequence[0][1] else [CENTER_PEG] for i in range(ACTUAL_PEG_COUNT)]\n",
    "    print(peg_rep)\n",
    "    empty_slots = empty_adjacent_slots(filled_slots)\n",
    "    print(empty_slots)\n",
    "    slots_to_groups = slots_to_possible_peg_groups(empty_slots)\n",
    "    print(slots_to_groups)\n",
    "    origin_group = group_by_peg(removal_sequence[0][0])\n",
    "    print(origin_group)\n",
    "    empty_slots_from_group = []\n",
    "    for k,v in zip(slots_to_groups.keys(),slots_to_groups.values()):\n",
    "        if v == origin_group:\n",
    "            empty_slots_from_group.append(k)\n",
    "    print(empty_slots_from_group)\n",
    "\n",
    "    possible_previous_states = []\n",
    "    for s in empty_slots_from_group:\n",
    "        print(f\"Attempting to fill slot {s} with peg {removal_sequence[0][0]}\")\n",
    "        jo = jump_origin(CENTER_PEG,s)\n",
    "        \n",
    "        d_state = [\n",
    "            [] if x not in set(removal_sequence[0]) else \\\n",
    "            [s] if x == removal_sequence[0][0] else [jo] \\\n",
    "            for x in range(ACTUAL_PEG_COUNT)\n",
    "        ]\n",
    "        new_state = [i+j for i,j in zip(d_state,peg_rep)]\n",
    "        possible_previous_states.append(new_state)\n",
    "    print(f\"Found {len(possible_previous_states)} previous states\")\n",
    "    return possible_previous_states\n",
    "\n",
    "\n",
    "backwards_state_regen(intro_outro_pairs[0][1])"
   ]
  },
  {
   "cell_type": "code",
   "execution_count": 75,
   "id": "1ab5bf21-65b3-43cf-89d2-0877852c9fd2",
   "metadata": {},
   "outputs": [
    {
     "data": {
      "text/plain": [
       "8841761993739701954543616000000"
      ]
     },
     "execution_count": 75,
     "metadata": {},
     "output_type": "execute_result"
    }
   ],
   "source": [
    "reduce(lambda x,y: x*y,map(lambda i: i+1,range(29)))"
   ]
  }
 ],
 "metadata": {
  "kernelspec": {
   "display_name": "Python 3 (ipykernel)",
   "language": "python",
   "name": "python3"
  },
  "language_info": {
   "codemirror_mode": {
    "name": "ipython",
    "version": 3
   },
   "file_extension": ".py",
   "mimetype": "text/x-python",
   "name": "python",
   "nbconvert_exporter": "python",
   "pygments_lexer": "ipython3",
   "version": "3.12.1"
  }
 },
 "nbformat": 4,
 "nbformat_minor": 5
}

{
 "cells": [
  {
   "cell_type": "code",
   "execution_count": 1,
   "id": "34ee827c-a326-436a-beec-b502b6798d8b",
   "metadata": {},
   "outputs": [],
   "source": [
    "import numpy as np\n",
    "import networkx as nx\n",
    "import matplotlib.pyplot as plt\n",
    "\n",
    "# This is my \"before\" half of L&S Session 15 Exercise 7\n"
   ]
  },
  {
   "cell_type": "code",
   "execution_count": 2,
   "id": "cca580d9-1a58-441d-8c22-89e5e4da8bdc",
   "metadata": {},
   "outputs": [],
   "source": [
    "x_nodes = [\"X\"+str(i) for i in range(9)]\n",
    "x_edges = [\n",
    "    (x_nodes[0],x_nodes[4]),\n",
    "    (x_nodes[1],x_nodes[5]),\n",
    "    (x_nodes[2],x_nodes[6]),\n",
    "    (x_nodes[3],x_nodes[8]),\n",
    "    (x_nodes[4],x_nodes[5]),\n",
    "    (x_nodes[5],x_nodes[6]),\n",
    "    (x_nodes[6],x_nodes[7]),\n",
    "    (x_nodes[7],x_nodes[5]),\n",
    "    (x_nodes[8],x_nodes[3])\n",
    "]\n",
    "XG = nx.DiGraph()\n",
    "XG.add_nodes_from(x_nodes)\n",
    "XG.add_edges_from(x_edges)\n"
   ]
  },
  {
   "cell_type": "code",
   "execution_count": 3,
   "id": "d12202a3-dce8-4cc7-b582-8156e08e39ad",
   "metadata": {},
   "outputs": [],
   "source": [
    "y_nodes = [\"Y\"+y for y in [\"p\", \"q\", \"r\", \"s\", \"t\", \"v\", \"u\", \"m\", \"l\", \"w\", \"x\", \"y\", \"z\"]]\n",
    "\n",
    "y_edges = [\n",
    "    (y_nodes[0],y_nodes[2]),\n",
    "    (y_nodes[1],y_nodes[2]),\n",
    "    (y_nodes[2],y_nodes[4]),\n",
    "    (y_nodes[3],y_nodes[4]),\n",
    "    (y_nodes[4],y_nodes[5]),\n",
    "    (y_nodes[5],y_nodes[6]),\n",
    "    (y_nodes[6],y_nodes[3]),\n",
    "    (y_nodes[7],y_nodes[8]),\n",
    "    (y_nodes[8],y_nodes[7]),\n",
    "    (y_nodes[9],y_nodes[10]),\n",
    "    (y_nodes[10],y_nodes[11]),\n",
    "    (y_nodes[11],y_nodes[9]),\n",
    "    (y_nodes[12],y_nodes[11])\n",
    "]\n",
    "YG = nx.DiGraph()\n",
    "YG.add_nodes_from(y_nodes)\n",
    "YG.add_edges_from(y_edges)"
   ]
  },
  {
   "cell_type": "code",
   "execution_count": 4,
   "id": "2d02c824-d4be-445b-98c2-b6c885455a0c",
   "metadata": {},
   "outputs": [
    {
     "data": {
      "image/png": "[encoded data removed]",
      "text/plain": [
       "<Figure size 432x288 with 2 Axes>"
      ]
     },
     "metadata": {},
     "output_type": "display_data"
    }
   ],
   "source": [
    "subax1 = plt.subplot(121)\n",
    "nx.draw(XG, with_labels=True, font_weight='bold')\n",
    "subax2 = plt.subplot(122)\n",
    "nx.draw_shell(YG, with_labels=True, font_weight='bold')"
   ]
  },
  {
   "cell_type": "code",
   "execution_count": 5,
   "id": "a77970b3-85b3-4413-bbcb-0e93a0edeeb5",
   "metadata": {},
   "outputs": [],
   "source": [
    "def make_one_hot(idx,size):\n",
    "  return np.array([1 if idx == x else 0 for x in range(size)])"
   ]
  },
  {
   "cell_type": "code",
   "execution_count": 6,
   "id": "23c1c5c2-3298-48ba-8f13-69203602fc59",
   "metadata": {},
   "outputs": [],
   "source": [
    "def follow_endomap(G,n):\n",
    "  return list(G.successors(n))[0]"
   ]
  },
  {
   "cell_type": "code",
   "execution_count": 7,
   "id": "72f1f67a-f70d-4e79-a578-fc6434648af4",
   "metadata": {},
   "outputs": [],
   "source": [
    "def make_presentation(G):\n",
    "  G_nodes = list(G.nodes())\n",
    "  ones_G = np.full((len(G_nodes),),1)\n",
    "  GA =  nx.adjacency_matrix(G)\n",
    "  G_arrows_in =  np.matmul(ones_G,GA.toarray())\n",
    "  G_arrows_by_node = sorted(zip(range(len(G_nodes)),G_arrows_in), key=lambda x: x[1])\n",
    "  G_presentation = {}\n",
    "  G_relations = {}\n",
    "  for k,v in G_arrows_by_node:\n",
    "    print(f\"Checking node {k} with {v} arrows in\")\n",
    "    if v == 0:\n",
    "      print(f\"Adding root generator {G_nodes[k]}\")\n",
    "      G_presentation[G_nodes[k]] = (G_nodes[k],v)\n",
    "      next_node = follow_endomap(G,G_nodes[k])\n",
    "      steps = 1\n",
    "      while not next_node in G_presentation:\n",
    "        print(f\"Adding follow up node {next_node}: {steps} from {G_nodes[k]}\")\n",
    "        G_presentation[next_node] = (G_nodes[k],steps)\n",
    "        next_node = follow_endomap(G,next_node)\n",
    "        steps += 1\n",
    "      print(f\"next node {next_node} already has presentation\")\n",
    "      G_relations[G_nodes[k]] = ((G_nodes[k],steps),G_presentation[next_node])\n",
    "    elif v == 1:\n",
    "      print(f\"Only 1 way into node {k}\")\n",
    "      if G_nodes[k] in G_presentation:\n",
    "        print(\"already has a presentation\")\n",
    "      else:\n",
    "        print(\"Found potential loop\")\n",
    "        G_presentation[G_nodes[k]] = (G_nodes[k],0)\n",
    "        next_node = follow_endomap(G,G_nodes[k])\n",
    "        steps = 1\n",
    "        while not next_node in G_presentation:\n",
    "          print(f\"Adding follow up node {next_node}: {steps} from {G_nodes[k]}\")\n",
    "          G_presentation[next_node] = (G_nodes[k],steps)\n",
    "          next_node = follow_endomap(G,next_node)\n",
    "          steps += 1\n",
    "        print(f\"next node {next_node} already has presentation\")\n",
    "        G_relations[G_nodes[k]] = ((G_nodes[k],steps),G_presentation[next_node])\n",
    "    else:\n",
    "      print(f\"More than 1 way in\")\n",
    "\n",
    "  return {\n",
    "      \"generators\":list(G_relations.keys()),\n",
    "      \"relations\":list(G_relations.values())\n",
    "  }\n",
    "    "
   ]
  },
  {
   "cell_type": "code",
   "execution_count": 8,
   "id": "a223ee6d-2dd2-4683-b7ce-c5d4d01a1120",
   "metadata": {},
   "outputs": [
    {
     "name": "stdout",
     "output_type": "stream",
     "text": [
      "Checking node 0 with 0 arrows in\n",
      "Adding root generator X0\n",
      "Adding follow up node X4: 1 from X0\n",
      "Adding follow up node X5: 2 from X0\n",
      "Adding follow up node X6: 3 from X0\n",
      "Adding follow up node X7: 4 from X0\n",
      "next node X5 already has presentation\n",
      "Checking node 1 with 0 arrows in\n",
      "Adding root generator X1\n",
      "next node X5 already has presentation\n",
      "Checking node 2 with 0 arrows in\n",
      "Adding root generator X2\n",
      "next node X6 already has presentation\n",
      "Checking node 3 with 1 arrows in\n",
      "Only 1 way into node 3\n",
      "Found potential loop\n",
      "Adding follow up node X8: 1 from X3\n",
      "next node X3 already has presentation\n",
      "Checking node 4 with 1 arrows in\n",
      "Only 1 way into node 4\n",
      "already has a presentation\n",
      "Checking node 7 with 1 arrows in\n",
      "Only 1 way into node 7\n",
      "already has a presentation\n",
      "Checking node 8 with 1 arrows in\n",
      "Only 1 way into node 8\n",
      "already has a presentation\n",
      "Checking node 6 with 2 arrows in\n",
      "More than 1 way in\n",
      "Checking node 5 with 3 arrows in\n",
      "More than 1 way in\n",
      "{'generators': ['X0', 'X1', 'X2', 'X3'], 'relations': [(('X0', 5), ('X0', 2)), (('X1', 1), ('X0', 2)), (('X2', 1), ('X0', 3)), (('X3', 2), ('X3', 0))]}\n"
     ]
    },
    {
     "name": "stderr",
     "output_type": "stream",
     "text": [
      "/tmp/ipykernel_69979/1978947672.py:4: FutureWarning: adjacency_matrix will return a scipy.sparse array instead of a matrix in Networkx 3.0.\n",
      "  GA =  nx.adjacency_matrix(G)\n"
     ]
    }
   ],
   "source": [
    "endomap_alpha = make_presentation(XG)\n",
    "print(endomap_alpha)"
   ]
  },
  {
   "cell_type": "code",
   "execution_count": 9,
   "id": "dc070373-ac57-4f5f-8ac1-b024845e5ca6",
   "metadata": {},
   "outputs": [
    {
     "name": "stdout",
     "output_type": "stream",
     "text": [
      "Checking node 0 with 0 arrows in\n",
      "Adding root generator Yp\n",
      "Adding follow up node Yr: 1 from Yp\n",
      "Adding follow up node Yt: 2 from Yp\n",
      "Adding follow up node Yv: 3 from Yp\n",
      "Adding follow up node Yu: 4 from Yp\n",
      "Adding follow up node Ys: 5 from Yp\n",
      "next node Yt already has presentation\n",
      "Checking node 1 with 0 arrows in\n",
      "Adding root generator Yq\n",
      "next node Yr already has presentation\n",
      "Checking node 12 with 0 arrows in\n",
      "Adding root generator Yz\n",
      "Adding follow up node Yy: 1 from Yz\n",
      "Adding follow up node Yw: 2 from Yz\n",
      "Adding follow up node Yx: 3 from Yz\n",
      "next node Yy already has presentation\n",
      "Checking node 3 with 1 arrows in\n",
      "Only 1 way into node 3\n",
      "already has a presentation\n",
      "Checking node 5 with 1 arrows in\n",
      "Only 1 way into node 5\n",
      "already has a presentation\n",
      "Checking node 6 with 1 arrows in\n",
      "Only 1 way into node 6\n",
      "already has a presentation\n",
      "Checking node 7 with 1 arrows in\n",
      "Only 1 way into node 7\n",
      "Found potential loop\n",
      "Adding follow up node Yl: 1 from Ym\n",
      "next node Ym already has presentation\n",
      "Checking node 8 with 1 arrows in\n",
      "Only 1 way into node 8\n",
      "already has a presentation\n",
      "Checking node 9 with 1 arrows in\n",
      "Only 1 way into node 9\n",
      "already has a presentation\n",
      "Checking node 10 with 1 arrows in\n",
      "Only 1 way into node 10\n",
      "already has a presentation\n",
      "Checking node 2 with 2 arrows in\n",
      "More than 1 way in\n",
      "Checking node 4 with 2 arrows in\n",
      "More than 1 way in\n",
      "Checking node 11 with 2 arrows in\n",
      "More than 1 way in\n",
      "{'generators': ['Yp', 'Yq', 'Yz', 'Ym'], 'relations': [(('Yp', 6), ('Yp', 2)), (('Yq', 1), ('Yp', 1)), (('Yz', 4), ('Yz', 1)), (('Ym', 2), ('Ym', 0))]}\n"
     ]
    },
    {
     "name": "stderr",
     "output_type": "stream",
     "text": [
      "/tmp/ipykernel_69979/1978947672.py:4: FutureWarning: adjacency_matrix will return a scipy.sparse array instead of a matrix in Networkx 3.0.\n",
      "  GA =  nx.adjacency_matrix(G)\n"
     ]
    }
   ],
   "source": [
    "endomap_beta = make_presentation(YG)\n",
    "print(endomap_beta)"
   ]
  },
  {
   "cell_type": "code",
   "execution_count": 10,
   "id": "e6762393-16c4-4da2-ba24-9b57bd922aec",
   "metadata": {},
   "outputs": [
    {
     "name": "stdout",
     "output_type": "stream",
     "text": [
      "['X8', 'X7', 'X6', 'X5', 'X4', 'X3', 'X2', 'X1', 'X0']\n",
      "Checking node 6 with 0 arrows in\n",
      "Adding root generator X2\n",
      "Adding follow up node X6: 1 from X2\n",
      "Adding follow up node X7: 2 from X2\n",
      "Adding follow up node X5: 3 from X2\n",
      "next node X6 already has presentation\n",
      "Checking node 7 with 0 arrows in\n",
      "Adding root generator X1\n",
      "next node X5 already has presentation\n",
      "Checking node 8 with 0 arrows in\n",
      "Adding root generator X0\n",
      "Adding follow up node X4: 1 from X0\n",
      "next node X5 already has presentation\n",
      "Checking node 0 with 1 arrows in\n",
      "Only 1 way into node 0\n",
      "Found potential loop\n",
      "Adding follow up node X3: 1 from X8\n",
      "next node X8 already has presentation\n",
      "Checking node 1 with 1 arrows in\n",
      "Only 1 way into node 1\n",
      "already has a presentation\n",
      "Checking node 4 with 1 arrows in\n",
      "Only 1 way into node 4\n",
      "already has a presentation\n",
      "Checking node 5 with 1 arrows in\n",
      "Only 1 way into node 5\n",
      "already has a presentation\n",
      "Checking node 2 with 2 arrows in\n",
      "More than 1 way in\n",
      "Checking node 3 with 3 arrows in\n",
      "More than 1 way in\n",
      "{'generators': ['X2', 'X1', 'X0', 'X8'], 'relations': [(('X2', 4), ('X2', 1)), (('X1', 1), ('X2', 3)), (('X0', 2), ('X2', 3)), (('X8', 2), ('X8', 0))]}\n"
     ]
    },
    {
     "name": "stderr",
     "output_type": "stream",
     "text": [
      "/tmp/ipykernel_69979/1978947672.py:4: FutureWarning: adjacency_matrix will return a scipy.sparse array instead of a matrix in Networkx 3.0.\n",
      "  GA =  nx.adjacency_matrix(G)\n"
     ]
    }
   ],
   "source": [
    "XG2 = nx.DiGraph()\n",
    "x2_nodes = [x_nodes[-1-i] for i in range(len(x_nodes))]\n",
    "print(x2_nodes)\n",
    "XG2.add_nodes_from(x2_nodes)\n",
    "XG2.add_edges_from(x_edges)\n",
    "endomap_alpha_prime = make_presentation(XG2)\n",
    "print(endomap_alpha_prime)"
   ]
  },
  {
   "cell_type": "code",
   "execution_count": 11,
   "id": "6f9d7158-79fa-462e-ae91-6a7c2d135df7",
   "metadata": {},
   "outputs": [],
   "source": [
    "def print_map_info(endomap):\n",
    "  for idx,v in enumerate(endomap[\"relations\"]):\n",
    "    print(f\"Relation {idx} {v}\")\n",
    "    if v[0][0] == v[1][0]:\n",
    "      cl = abs(v[0][1] - v[1][1])\n",
    "      mins = min(v[0][1],v[1][1])\n",
    "      print(f\"{v[0][0]} leads to cycle of length {cl} after {mins} steps\")\n",
    "    else:\n",
    "      if v[0][1] > v[1][1]:\n",
    "          stdf = v[0][1] - v[1][1]\n",
    "          print(f\"{v[1][0]} leads to {v[0][0]} after {stdf} steps\")\n",
    "      else:\n",
    "          stdf = v[1][1] - v[0][1]\n",
    "          print(f\"{v[0][0]} leads to {v[1][0]} after {stdf} steps\")"
   ]
  },
  {
   "cell_type": "code",
   "execution_count": 12,
   "id": "5dd48394-7d0b-4e5d-b92f-e8c175110d6e",
   "metadata": {},
   "outputs": [
    {
     "name": "stdout",
     "output_type": "stream",
     "text": [
      "Relation 0 (('X0', 5), ('X0', 2))\n",
      "X0 leads to cycle of length 3 after 2 steps\n",
      "Relation 1 (('X1', 1), ('X0', 2))\n",
      "X1 leads to X0 after 1 steps\n",
      "Relation 2 (('X2', 1), ('X0', 3))\n",
      "X2 leads to X0 after 2 steps\n",
      "Relation 3 (('X3', 2), ('X3', 0))\n",
      "X3 leads to cycle of length 2 after 0 steps\n",
      "~~~~~~~~~~~~~~~~~~~\n",
      "Relation 0 (('Yp', 6), ('Yp', 2))\n",
      "Yp leads to cycle of length 4 after 2 steps\n",
      "Relation 1 (('Yq', 1), ('Yp', 1))\n",
      "Yq leads to Yp after 0 steps\n",
      "Relation 2 (('Yz', 4), ('Yz', 1))\n",
      "Yz leads to cycle of length 3 after 1 steps\n",
      "Relation 3 (('Ym', 2), ('Ym', 0))\n",
      "Ym leads to cycle of length 2 after 0 steps\n"
     ]
    }
   ],
   "source": [
    "print_map_info(endomap_alpha)\n",
    "print(\"~~~~~~~~~~~~~~~~~~~\")\n",
    "print_map_info(endomap_beta)"
   ]
  },
  {
   "cell_type": "code",
   "execution_count": 13,
   "id": "4e640c75-7a24-4eaf-a524-91c3e150802a",
   "metadata": {},
   "outputs": [],
   "source": [
    "def get_cycles(endomap):\n",
    "  cycles_by_length = {}\n",
    "  cycles_by_generator = {}\n",
    "  for k,v in enumerate(endomap[\"relations\"]):\n",
    "    if v[0][0] == v[1][0]:\n",
    "      cl = abs(v[0][1] - v[1][1])\n",
    "      mins = min(v[0][1],v[1][1])\n",
    "      print(f\"{v[0][0]} leads to cycle of length {cl} after {mins} steps\")\n",
    "      if not cl in cycles_by_length:\n",
    "        cycles_by_length[cl] = {\n",
    "            \"primary_generators\":[k],\n",
    "            \"secondary_generators\":[]\n",
    "        }\n",
    "      else:\n",
    "        cycles_by_length[cl]['primary_generators'].append(k)\n",
    "      cycles_by_generator[v[0][0]] = cl\n",
    "    else:\n",
    "      cl = cycles_by_generator[v[1][0]]\n",
    "      cycles_by_length[cl]['secondary_generators'].append(k)\n",
    "      cycles_by_generator[v[0][0]] = cl\n",
    "  return {\n",
    "      \"cycles_by_length\":cycles_by_length, \n",
    "      \"cycles_by_generator\":cycles_by_generator\n",
    "  }"
   ]
  },
  {
   "cell_type": "code",
   "execution_count": 14,
   "id": "0ef57466-b3c1-40cf-beb2-fc16504cfacb",
   "metadata": {},
   "outputs": [
    {
     "name": "stdout",
     "output_type": "stream",
     "text": [
      "X0 leads to cycle of length 3 after 2 steps\n",
      "X3 leads to cycle of length 2 after 0 steps\n",
      "{'cycles_by_length': {3: {'primary_generators': [0], 'secondary_generators': [1, 2]}, 2: {'primary_generators': [3], 'secondary_generators': []}}, 'cycles_by_generator': {'X0': 3, 'X1': 3, 'X2': 3, 'X3': 2}}\n",
      "~~~~~~~~~~~~~~~~~~~~~~\n",
      "Yp leads to cycle of length 4 after 2 steps\n",
      "Yz leads to cycle of length 3 after 1 steps\n",
      "Ym leads to cycle of length 2 after 0 steps\n",
      "{'cycles_by_length': {4: {'primary_generators': [0], 'secondary_generators': [1]}, 3: {'primary_generators': [2], 'secondary_generators': []}, 2: {'primary_generators': [3], 'secondary_generators': []}}, 'cycles_by_generator': {'Yp': 4, 'Yq': 4, 'Yz': 3, 'Ym': 2}}\n"
     ]
    }
   ],
   "source": [
    "alpha_cycles = get_cycles(endomap_alpha)\n",
    "print(alpha_cycles)\n",
    "print(\"~~~~~~~~~~~~~~~~~~~~~~\")\n",
    "beta_cycles = get_cycles(endomap_beta)\n",
    "print(beta_cycles)"
   ]
  },
  {
   "cell_type": "code",
   "execution_count": 15,
   "id": "ac9edd89-f346-4d1a-87c5-75aac32e13a7",
   "metadata": {},
   "outputs": [],
   "source": [
    "def iterate_endomap(endomap, start, steps):\n",
    "  out_val = start\n",
    "  for i in range(steps):\n",
    "    out_val = follow_endomap(endomap,out_val)\n",
    "  return out_val"
   ]
  },
  {
   "cell_type": "code",
   "execution_count": 16,
   "id": "a340f69c-24ea-482a-a9df-10107978a237",
   "metadata": {},
   "outputs": [
    {
     "name": "stdout",
     "output_type": "stream",
     "text": [
      "X6\n"
     ]
    }
   ],
   "source": [
    "print(iterate_endomap(XG,\"X1\",2))"
   ]
  },
  {
   "cell_type": "code",
   "execution_count": 17,
   "id": "4e50a412-8f92-4bc0-896a-c9ff0b8ed213",
   "metadata": {},
   "outputs": [
    {
     "name": "stdout",
     "output_type": "stream",
     "text": [
      "[{'a': 'x'}, {'a': 'y'}, {'a': 'z'}]\n"
     ]
    }
   ],
   "source": [
    "def make_assignments(gen,poss_vals):\n",
    "  output = []\n",
    "  for v in poss_vals:\n",
    "    output.append({gen:v})\n",
    "  return output\n",
    "\n",
    "print(make_assignments(\"a\",[\"x\",\"y\",\"z\"]))"
   ]
  },
  {
   "cell_type": "code",
   "execution_count": 18,
   "id": "3755a428-6ef0-410a-9535-b5f08445566c",
   "metadata": {},
   "outputs": [
    {
     "data": {
      "text/plain": [
       "[{'b': 'l', 'a': 'x'},\n",
       " {'b': 'l', 'a': 'y'},\n",
       " {'b': 'l', 'a': 'z'},\n",
       " {'b': 'm', 'a': 'x'},\n",
       " {'b': 'm', 'a': 'y'},\n",
       " {'b': 'm', 'a': 'z'}]"
      ]
     },
     "execution_count": 18,
     "metadata": {},
     "output_type": "execute_result"
    }
   ],
   "source": [
    "def join_assignments(ass1,ass2):\n",
    "  if len(ass2)<len(ass1):\n",
    "    return join_assignments(ass2,ass1)\n",
    "  if len(ass1) == 0:\n",
    "    return ass2\n",
    "\n",
    "  output = []\n",
    "  for a1 in ass1:\n",
    "    for a2 in ass2:\n",
    "      new_a1 = a1.copy()\n",
    "      for k,v in zip(a2.keys(),a2.values()):\n",
    "        new_a1[k] = v\n",
    "      output.append(new_a1)\n",
    "  return output\n",
    "join_assignments(make_assignments(\"a\",[\"x\",\"y\",\"z\"]),make_assignments(\"b\",[\"l\",\"m\"]))"
   ]
  },
  {
   "cell_type": "code",
   "execution_count": 19,
   "id": "3d746144-088f-4049-b018-58fbea3dc7ad",
   "metadata": {},
   "outputs": [],
   "source": [
    "def find_predecessors(endomap,target,steps=1):\n",
    "  preds = list(endomap.predecessors(target))\n",
    "  if steps > 1 and len(preds) > 0:\n",
    "    r_preds = []\n",
    "    for t in preds:\n",
    "      r_preds.extend(find_predecessors(endomap,t,steps-1))\n",
    "    return r_preds\n",
    "  else:\n",
    "    return preds\n"
   ]
  },
  {
   "cell_type": "code",
   "execution_count": 20,
   "id": "795b1cad-5888-433d-b46d-d058a7eb4cee",
   "metadata": {},
   "outputs": [
    {
     "data": {
      "text/plain": [
       "['Yx', 'Yz']"
      ]
     },
     "execution_count": 20,
     "metadata": {},
     "output_type": "execute_result"
    }
   ],
   "source": [
    "find_predecessors(YG,\"Yw\",2)"
   ]
  },
  {
   "cell_type": "code",
   "execution_count": 21,
   "id": "f41efe03-2b88-4327-8af9-362b945b9811",
   "metadata": {},
   "outputs": [
    {
     "name": "stdout",
     "output_type": "stream",
     "text": [
      "~~~~~~~~~~~~~~~~~~~~~~~~~~~~~~~\n",
      "Attempting to match relation on: X0\n",
      "Cycle Length: 3\n",
      "Possible Generators: [0, 1, 2]\n",
      "Attempting to satisfy: (('X0', 5), ('X0', 2))\n",
      "In X: X5 = X5\n",
      "Testing generator: 0\n",
      "Trying to match up a loop\n",
      "Potential matches for X0: []\n",
      "New assignments: []\n",
      "Joined assignments: []\n",
      "Testing generator: 1\n",
      "Trying to match up a loop\n",
      "Potential matches for X0: []\n",
      "New assignments: []\n",
      "Joined assignments: []\n",
      "Testing generator: 2\n",
      "Trying to match up a loop\n",
      "Potential match at Yz! 0 from 2\n",
      "Potential match at Yy! 1 from 2\n",
      "Potential match at Yw! 2 from 2\n",
      "Potential match at Yx! 3 from 2\n",
      "Potential matches for X0: ['Yz', 'Yy', 'Yw', 'Yx']\n",
      "New assignments: [{'X0': 'Yz'}, {'X0': 'Yy'}, {'X0': 'Yw'}, {'X0': 'Yx'}]\n",
      "Joined assignments: [{'X0': 'Yz'}, {'X0': 'Yy'}, {'X0': 'Yw'}, {'X0': 'Yx'}]\n",
      "~~~~~~~~~~~~~~~~~~~~~~~~~~~~~~~\n",
      "Attempting to match relation on: X1\n",
      "Cycle Length: 3\n",
      "Possible Generators: [0, 1, 2]\n",
      "Attempting to satisfy: (('X1', 1), ('X0', 2))\n",
      "In X: X5 = X5\n",
      "Testing generator: 0\n",
      "Trying to match up a chain\n",
      "Existing Assignments: [{'X0': 'Yz'}, {'X0': 'Yy'}, {'X0': 'Yw'}, {'X0': 'Yx'}]\n",
      "* Checking {'X0': 'Yz'}\n",
      "\t Found assignment from X0 to Yz\n",
      "\tIn X: 1 steps from X1 is X5\n",
      "\tIn X: 2 steps from X0 is X5\n",
      "\tIn Y: 2 steps from Yz is Yw\n",
      "\tThis means X1 needs to map to Yw after 1 steps\n",
      "\tPossible Predecessors: ['Yy']\n",
      "\tAdding new assignment: {'X0': 'Yz', 'X1': 'Yy'}\n",
      "* Checking {'X0': 'Yy'}\n",
      "\t Found assignment from X0 to Yy\n",
      "\tIn X: 1 steps from X1 is X5\n",
      "\tIn X: 2 steps from X0 is X5\n",
      "\tIn Y: 2 steps from Yy is Yx\n",
      "\tThis means X1 needs to map to Yx after 1 steps\n",
      "\tPossible Predecessors: ['Yw']\n",
      "\tAdding new assignment: {'X0': 'Yy', 'X1': 'Yw'}\n",
      "* Checking {'X0': 'Yw'}\n",
      "\t Found assignment from X0 to Yw\n",
      "\tIn X: 1 steps from X1 is X5\n",
      "\tIn X: 2 steps from X0 is X5\n",
      "\tIn Y: 2 steps from Yw is Yy\n",
      "\tThis means X1 needs to map to Yy after 1 steps\n",
      "\tPossible Predecessors: ['Yx', 'Yz']\n",
      "\tAdding new assignment: {'X0': 'Yw', 'X1': 'Yx'}\n",
      "\tAdding new assignment: {'X0': 'Yw', 'X1': 'Yz'}\n",
      "* Checking {'X0': 'Yx'}\n",
      "\t Found assignment from X0 to Yx\n",
      "\tIn X: 1 steps from X1 is X5\n",
      "\tIn X: 2 steps from X0 is X5\n",
      "\tIn Y: 2 steps from Yx is Yw\n",
      "\tThis means X1 needs to map to Yw after 1 steps\n",
      "\tPossible Predecessors: ['Yy']\n",
      "\tAdding new assignment: {'X0': 'Yx', 'X1': 'Yy'}\n",
      "Done checking old assignments\n",
      "New assignments(5): [{'X0': 'Yz', 'X1': 'Yy'}, {'X0': 'Yy', 'X1': 'Yw'}, {'X0': 'Yw', 'X1': 'Yx'}, {'X0': 'Yw', 'X1': 'Yz'}, {'X0': 'Yx', 'X1': 'Yy'}]\n",
      "Testing generator: 1\n",
      "Trying to match up a chain\n",
      "Existing Assignments: [{'X0': 'Yz', 'X1': 'Yy'}, {'X0': 'Yy', 'X1': 'Yw'}, {'X0': 'Yw', 'X1': 'Yx'}, {'X0': 'Yw', 'X1': 'Yz'}, {'X0': 'Yx', 'X1': 'Yy'}]\n",
      "* Checking {'X0': 'Yz', 'X1': 'Yy'}\n",
      "\t Found assignment from X0 to Yz\n",
      "\tIn X: 1 steps from X1 is X5\n",
      "\tIn X: 2 steps from X0 is X5\n",
      "\tIn Y: 2 steps from Yz is Yw\n",
      "\tThis means X1 needs to map to Yw after 1 steps\n",
      "\tPossible Predecessors: ['Yy']\n",
      "\tAdding new assignment: {'X0': 'Yz', 'X1': 'Yy'}\n",
      "* Checking {'X0': 'Yy', 'X1': 'Yw'}\n",
      "\t Found assignment from X0 to Yy\n",
      "\tIn X: 1 steps from X1 is X5\n",
      "\tIn X: 2 steps from X0 is X5\n",
      "\tIn Y: 2 steps from Yy is Yx\n",
      "\tThis means X1 needs to map to Yx after 1 steps\n",
      "\tPossible Predecessors: ['Yw']\n",
      "\tAdding new assignment: {'X0': 'Yy', 'X1': 'Yw'}\n",
      "* Checking {'X0': 'Yw', 'X1': 'Yx'}\n",
      "\t Found assignment from X0 to Yw\n",
      "\tIn X: 1 steps from X1 is X5\n",
      "\tIn X: 2 steps from X0 is X5\n",
      "\tIn Y: 2 steps from Yw is Yy\n",
      "\tThis means X1 needs to map to Yy after 1 steps\n",
      "\tPossible Predecessors: ['Yx', 'Yz']\n",
      "\tAdding new assignment: {'X0': 'Yw', 'X1': 'Yx'}\n",
      "\tAdding new assignment: {'X0': 'Yw', 'X1': 'Yz'}\n",
      "* Checking {'X0': 'Yw', 'X1': 'Yz'}\n",
      "\t Found assignment from X0 to Yw\n",
      "\tIn X: 1 steps from X1 is X5\n",
      "\tIn X: 2 steps from X0 is X5\n",
      "\tIn Y: 2 steps from Yw is Yy\n",
      "\tThis means X1 needs to map to Yy after 1 steps\n",
      "\tPossible Predecessors: ['Yx', 'Yz']\n",
      "\tAdding new assignment: {'X0': 'Yw', 'X1': 'Yx'}\n",
      "\tAdding new assignment: {'X0': 'Yw', 'X1': 'Yz'}\n",
      "* Checking {'X0': 'Yx', 'X1': 'Yy'}\n",
      "\t Found assignment from X0 to Yx\n",
      "\tIn X: 1 steps from X1 is X5\n",
      "\tIn X: 2 steps from X0 is X5\n",
      "\tIn Y: 2 steps from Yx is Yw\n",
      "\tThis means X1 needs to map to Yw after 1 steps\n",
      "\tPossible Predecessors: ['Yy']\n",
      "\tAdding new assignment: {'X0': 'Yx', 'X1': 'Yy'}\n",
      "Done checking old assignments\n",
      "New assignments(7): [{'X0': 'Yz', 'X1': 'Yy'}, {'X0': 'Yy', 'X1': 'Yw'}, {'X0': 'Yw', 'X1': 'Yx'}, {'X0': 'Yw', 'X1': 'Yz'}, {'X0': 'Yw', 'X1': 'Yx'}, {'X0': 'Yw', 'X1': 'Yz'}, {'X0': 'Yx', 'X1': 'Yy'}]\n",
      "Testing generator: 2\n",
      "Trying to match up a chain\n",
      "Existing Assignments: [{'X0': 'Yz', 'X1': 'Yy'}, {'X0': 'Yy', 'X1': 'Yw'}, {'X0': 'Yw', 'X1': 'Yx'}, {'X0': 'Yw', 'X1': 'Yz'}, {'X0': 'Yw', 'X1': 'Yx'}, {'X0': 'Yw', 'X1': 'Yz'}, {'X0': 'Yx', 'X1': 'Yy'}]\n",
      "* Checking {'X0': 'Yz', 'X1': 'Yy'}\n",
      "\t Found assignment from X0 to Yz\n",
      "\tIn X: 1 steps from X1 is X5\n",
      "\tIn X: 2 steps from X0 is X5\n",
      "\tIn Y: 2 steps from Yz is Yw\n",
      "\tThis means X1 needs to map to Yw after 1 steps\n",
      "\tPossible Predecessors: ['Yy']\n",
      "\tAdding new assignment: {'X0': 'Yz', 'X1': 'Yy'}\n",
      "* Checking {'X0': 'Yy', 'X1': 'Yw'}\n",
      "\t Found assignment from X0 to Yy\n",
      "\tIn X: 1 steps from X1 is X5\n",
      "\tIn X: 2 steps from X0 is X5\n",
      "\tIn Y: 2 steps from Yy is Yx\n",
      "\tThis means X1 needs to map to Yx after 1 steps\n",
      "\tPossible Predecessors: ['Yw']\n",
      "\tAdding new assignment: {'X0': 'Yy', 'X1': 'Yw'}\n",
      "* Checking {'X0': 'Yw', 'X1': 'Yx'}\n",
      "\t Found assignment from X0 to Yw\n",
      "\tIn X: 1 steps from X1 is X5\n",
      "\tIn X: 2 steps from X0 is X5\n",
      "\tIn Y: 2 steps from Yw is Yy\n",
      "\tThis means X1 needs to map to Yy after 1 steps\n",
      "\tPossible Predecessors: ['Yx', 'Yz']\n",
      "\tAdding new assignment: {'X0': 'Yw', 'X1': 'Yx'}\n",
      "\tAdding new assignment: {'X0': 'Yw', 'X1': 'Yz'}\n",
      "* Checking {'X0': 'Yw', 'X1': 'Yz'}\n",
      "\t Found assignment from X0 to Yw\n",
      "\tIn X: 1 steps from X1 is X5\n",
      "\tIn X: 2 steps from X0 is X5\n",
      "\tIn Y: 2 steps from Yw is Yy\n",
      "\tThis means X1 needs to map to Yy after 1 steps\n",
      "\tPossible Predecessors: ['Yx', 'Yz']\n",
      "\tAdding new assignment: {'X0': 'Yw', 'X1': 'Yx'}\n",
      "\tAdding new assignment: {'X0': 'Yw', 'X1': 'Yz'}\n",
      "* Checking {'X0': 'Yw', 'X1': 'Yx'}\n",
      "\t Found assignment from X0 to Yw\n",
      "\tIn X: 1 steps from X1 is X5\n",
      "\tIn X: 2 steps from X0 is X5\n",
      "\tIn Y: 2 steps from Yw is Yy\n",
      "\tThis means X1 needs to map to Yy after 1 steps\n",
      "\tPossible Predecessors: ['Yx', 'Yz']\n",
      "\tAdding new assignment: {'X0': 'Yw', 'X1': 'Yx'}\n",
      "\tAdding new assignment: {'X0': 'Yw', 'X1': 'Yz'}\n",
      "* Checking {'X0': 'Yw', 'X1': 'Yz'}\n",
      "\t Found assignment from X0 to Yw\n",
      "\tIn X: 1 steps from X1 is X5\n",
      "\tIn X: 2 steps from X0 is X5\n",
      "\tIn Y: 2 steps from Yw is Yy\n",
      "\tThis means X1 needs to map to Yy after 1 steps\n",
      "\tPossible Predecessors: ['Yx', 'Yz']\n",
      "\tAdding new assignment: {'X0': 'Yw', 'X1': 'Yx'}\n",
      "\tAdding new assignment: {'X0': 'Yw', 'X1': 'Yz'}\n",
      "* Checking {'X0': 'Yx', 'X1': 'Yy'}\n",
      "\t Found assignment from X0 to Yx\n",
      "\tIn X: 1 steps from X1 is X5\n",
      "\tIn X: 2 steps from X0 is X5\n",
      "\tIn Y: 2 steps from Yx is Yw\n",
      "\tThis means X1 needs to map to Yw after 1 steps\n",
      "\tPossible Predecessors: ['Yy']\n",
      "\tAdding new assignment: {'X0': 'Yx', 'X1': 'Yy'}\n",
      "Done checking old assignments\n",
      "New assignments(11): [{'X0': 'Yz', 'X1': 'Yy'}, {'X0': 'Yy', 'X1': 'Yw'}, {'X0': 'Yw', 'X1': 'Yx'}, {'X0': 'Yw', 'X1': 'Yz'}, {'X0': 'Yw', 'X1': 'Yx'}, {'X0': 'Yw', 'X1': 'Yz'}, {'X0': 'Yw', 'X1': 'Yx'}, {'X0': 'Yw', 'X1': 'Yz'}, {'X0': 'Yw', 'X1': 'Yx'}, {'X0': 'Yw', 'X1': 'Yz'}, {'X0': 'Yx', 'X1': 'Yy'}]\n",
      "~~~~~~~~~~~~~~~~~~~~~~~~~~~~~~~\n",
      "Attempting to match relation on: X2\n",
      "Cycle Length: 3\n",
      "Possible Generators: [0, 1, 2]\n",
      "Attempting to satisfy: (('X2', 1), ('X0', 3))\n",
      "In X: X6 = X6\n",
      "Testing generator: 0\n",
      "Trying to match up a chain\n",
      "Existing Assignments: [{'X0': 'Yz', 'X1': 'Yy'}, {'X0': 'Yy', 'X1': 'Yw'}, {'X0': 'Yw', 'X1': 'Yx'}, {'X0': 'Yw', 'X1': 'Yz'}, {'X0': 'Yw', 'X1': 'Yx'}, {'X0': 'Yw', 'X1': 'Yz'}, {'X0': 'Yw', 'X1': 'Yx'}, {'X0': 'Yw', 'X1': 'Yz'}, {'X0': 'Yw', 'X1': 'Yx'}, {'X0': 'Yw', 'X1': 'Yz'}, {'X0': 'Yx', 'X1': 'Yy'}]\n",
      "* Checking {'X0': 'Yz', 'X1': 'Yy'}\n",
      "\t Found assignment from X0 to Yz\n",
      "\tIn X: 1 steps from X2 is X6\n",
      "\tIn X: 3 steps from X0 is X6\n",
      "\tIn Y: 3 steps from Yz is Yx\n",
      "\tThis means X2 needs to map to Yx after 1 steps\n",
      "\tPossible Predecessors: ['Yw']\n",
      "\tAdding new assignment: {'X0': 'Yz', 'X1': 'Yy', 'X2': 'Yw'}\n",
      "* Checking {'X0': 'Yy', 'X1': 'Yw'}\n",
      "\t Found assignment from X0 to Yy\n",
      "\tIn X: 1 steps from X2 is X6\n",
      "\tIn X: 3 steps from X0 is X6\n",
      "\tIn Y: 3 steps from Yy is Yy\n",
      "\tThis means X2 needs to map to Yy after 1 steps\n",
      "\tPossible Predecessors: ['Yx', 'Yz']\n",
      "\tAdding new assignment: {'X0': 'Yy', 'X1': 'Yw', 'X2': 'Yx'}\n",
      "\tAdding new assignment: {'X0': 'Yy', 'X1': 'Yw', 'X2': 'Yz'}\n",
      "* Checking {'X0': 'Yw', 'X1': 'Yx'}\n",
      "\t Found assignment from X0 to Yw\n",
      "\tIn X: 1 steps from X2 is X6\n",
      "\tIn X: 3 steps from X0 is X6\n",
      "\tIn Y: 3 steps from Yw is Yw\n",
      "\tThis means X2 needs to map to Yw after 1 steps\n",
      "\tPossible Predecessors: ['Yy']\n",
      "\tAdding new assignment: {'X0': 'Yw', 'X1': 'Yx', 'X2': 'Yy'}\n",
      "* Checking {'X0': 'Yw', 'X1': 'Yz'}\n",
      "\t Found assignment from X0 to Yw\n",
      "\tIn X: 1 steps from X2 is X6\n",
      "\tIn X: 3 steps from X0 is X6\n",
      "\tIn Y: 3 steps from Yw is Yw\n",
      "\tThis means X2 needs to map to Yw after 1 steps\n",
      "\tPossible Predecessors: ['Yy']\n",
      "\tAdding new assignment: {'X0': 'Yw', 'X1': 'Yz', 'X2': 'Yy'}\n",
      "* Checking {'X0': 'Yw', 'X1': 'Yx'}\n",
      "\t Found assignment from X0 to Yw\n",
      "\tIn X: 1 steps from X2 is X6\n",
      "\tIn X: 3 steps from X0 is X6\n",
      "\tIn Y: 3 steps from Yw is Yw\n",
      "\tThis means X2 needs to map to Yw after 1 steps\n",
      "\tPossible Predecessors: ['Yy']\n",
      "\tAdding new assignment: {'X0': 'Yw', 'X1': 'Yx', 'X2': 'Yy'}\n",
      "* Checking {'X0': 'Yw', 'X1': 'Yz'}\n",
      "\t Found assignment from X0 to Yw\n",
      "\tIn X: 1 steps from X2 is X6\n",
      "\tIn X: 3 steps from X0 is X6\n",
      "\tIn Y: 3 steps from Yw is Yw\n",
      "\tThis means X2 needs to map to Yw after 1 steps\n",
      "\tPossible Predecessors: ['Yy']\n",
      "\tAdding new assignment: {'X0': 'Yw', 'X1': 'Yz', 'X2': 'Yy'}\n",
      "* Checking {'X0': 'Yw', 'X1': 'Yx'}\n",
      "\t Found assignment from X0 to Yw\n",
      "\tIn X: 1 steps from X2 is X6\n",
      "\tIn X: 3 steps from X0 is X6\n",
      "\tIn Y: 3 steps from Yw is Yw\n",
      "\tThis means X2 needs to map to Yw after 1 steps\n",
      "\tPossible Predecessors: ['Yy']\n",
      "\tAdding new assignment: {'X0': 'Yw', 'X1': 'Yx', 'X2': 'Yy'}\n",
      "* Checking {'X0': 'Yw', 'X1': 'Yz'}\n",
      "\t Found assignment from X0 to Yw\n",
      "\tIn X: 1 steps from X2 is X6\n",
      "\tIn X: 3 steps from X0 is X6\n",
      "\tIn Y: 3 steps from Yw is Yw\n",
      "\tThis means X2 needs to map to Yw after 1 steps\n",
      "\tPossible Predecessors: ['Yy']\n",
      "\tAdding new assignment: {'X0': 'Yw', 'X1': 'Yz', 'X2': 'Yy'}\n",
      "* Checking {'X0': 'Yw', 'X1': 'Yx'}\n",
      "\t Found assignment from X0 to Yw\n",
      "\tIn X: 1 steps from X2 is X6\n",
      "\tIn X: 3 steps from X0 is X6\n",
      "\tIn Y: 3 steps from Yw is Yw\n",
      "\tThis means X2 needs to map to Yw after 1 steps\n",
      "\tPossible Predecessors: ['Yy']\n",
      "\tAdding new assignment: {'X0': 'Yw', 'X1': 'Yx', 'X2': 'Yy'}\n",
      "* Checking {'X0': 'Yw', 'X1': 'Yz'}\n",
      "\t Found assignment from X0 to Yw\n",
      "\tIn X: 1 steps from X2 is X6\n",
      "\tIn X: 3 steps from X0 is X6\n",
      "\tIn Y: 3 steps from Yw is Yw\n",
      "\tThis means X2 needs to map to Yw after 1 steps\n",
      "\tPossible Predecessors: ['Yy']\n",
      "\tAdding new assignment: {'X0': 'Yw', 'X1': 'Yz', 'X2': 'Yy'}\n",
      "* Checking {'X0': 'Yx', 'X1': 'Yy'}\n",
      "\t Found assignment from X0 to Yx\n",
      "\tIn X: 1 steps from X2 is X6\n",
      "\tIn X: 3 steps from X0 is X6\n",
      "\tIn Y: 3 steps from Yx is Yx\n",
      "\tThis means X2 needs to map to Yx after 1 steps\n",
      "\tPossible Predecessors: ['Yw']\n",
      "\tAdding new assignment: {'X0': 'Yx', 'X1': 'Yy', 'X2': 'Yw'}\n",
      "Done checking old assignments\n",
      "New assignments(12): [{'X0': 'Yz', 'X1': 'Yy', 'X2': 'Yw'}, {'X0': 'Yy', 'X1': 'Yw', 'X2': 'Yx'}, {'X0': 'Yy', 'X1': 'Yw', 'X2': 'Yz'}, {'X0': 'Yw', 'X1': 'Yx', 'X2': 'Yy'}, {'X0': 'Yw', 'X1': 'Yz', 'X2': 'Yy'}, {'X0': 'Yw', 'X1': 'Yx', 'X2': 'Yy'}, {'X0': 'Yw', 'X1': 'Yz', 'X2': 'Yy'}, {'X0': 'Yw', 'X1': 'Yx', 'X2': 'Yy'}, {'X0': 'Yw', 'X1': 'Yz', 'X2': 'Yy'}, {'X0': 'Yw', 'X1': 'Yx', 'X2': 'Yy'}, {'X0': 'Yw', 'X1': 'Yz', 'X2': 'Yy'}, {'X0': 'Yx', 'X1': 'Yy', 'X2': 'Yw'}]\n",
      "Testing generator: 1\n",
      "Trying to match up a chain\n",
      "Existing Assignments: [{'X0': 'Yz', 'X1': 'Yy', 'X2': 'Yw'}, {'X0': 'Yy', 'X1': 'Yw', 'X2': 'Yx'}, {'X0': 'Yy', 'X1': 'Yw', 'X2': 'Yz'}, {'X0': 'Yw', 'X1': 'Yx', 'X2': 'Yy'}, {'X0': 'Yw', 'X1': 'Yz', 'X2': 'Yy'}, {'X0': 'Yw', 'X1': 'Yx', 'X2': 'Yy'}, {'X0': 'Yw', 'X1': 'Yz', 'X2': 'Yy'}, {'X0': 'Yw', 'X1': 'Yx', 'X2': 'Yy'}, {'X0': 'Yw', 'X1': 'Yz', 'X2': 'Yy'}, {'X0': 'Yw', 'X1': 'Yx', 'X2': 'Yy'}, {'X0': 'Yw', 'X1': 'Yz', 'X2': 'Yy'}, {'X0': 'Yx', 'X1': 'Yy', 'X2': 'Yw'}]\n",
      "* Checking {'X0': 'Yz', 'X1': 'Yy', 'X2': 'Yw'}\n",
      "\t Found assignment from X0 to Yz\n",
      "\tIn X: 1 steps from X2 is X6\n",
      "\tIn X: 3 steps from X0 is X6\n",
      "\tIn Y: 3 steps from Yz is Yx\n",
      "\tThis means X2 needs to map to Yx after 1 steps\n",
      "\tPossible Predecessors: ['Yw']\n",
      "\tAdding new assignment: {'X0': 'Yz', 'X1': 'Yy', 'X2': 'Yw'}\n",
      "* Checking {'X0': 'Yy', 'X1': 'Yw', 'X2': 'Yx'}\n",
      "\t Found assignment from X0 to Yy\n",
      "\tIn X: 1 steps from X2 is X6\n",
      "\tIn X: 3 steps from X0 is X6\n",
      "\tIn Y: 3 steps from Yy is Yy\n",
      "\tThis means X2 needs to map to Yy after 1 steps\n",
      "\tPossible Predecessors: ['Yx', 'Yz']\n",
      "\tAdding new assignment: {'X0': 'Yy', 'X1': 'Yw', 'X2': 'Yx'}\n",
      "\tAdding new assignment: {'X0': 'Yy', 'X1': 'Yw', 'X2': 'Yz'}\n",
      "* Checking {'X0': 'Yy', 'X1': 'Yw', 'X2': 'Yz'}\n",
      "\t Found assignment from X0 to Yy\n",
      "\tIn X: 1 steps from X2 is X6\n",
      "\tIn X: 3 steps from X0 is X6\n",
      "\tIn Y: 3 steps from Yy is Yy\n",
      "\tThis means X2 needs to map to Yy after 1 steps\n",
      "\tPossible Predecessors: ['Yx', 'Yz']\n",
      "\tAdding new assignment: {'X0': 'Yy', 'X1': 'Yw', 'X2': 'Yx'}\n",
      "\tAdding new assignment: {'X0': 'Yy', 'X1': 'Yw', 'X2': 'Yz'}\n",
      "* Checking {'X0': 'Yw', 'X1': 'Yx', 'X2': 'Yy'}\n",
      "\t Found assignment from X0 to Yw\n",
      "\tIn X: 1 steps from X2 is X6\n",
      "\tIn X: 3 steps from X0 is X6\n",
      "\tIn Y: 3 steps from Yw is Yw\n",
      "\tThis means X2 needs to map to Yw after 1 steps\n",
      "\tPossible Predecessors: ['Yy']\n",
      "\tAdding new assignment: {'X0': 'Yw', 'X1': 'Yx', 'X2': 'Yy'}\n",
      "* Checking {'X0': 'Yw', 'X1': 'Yz', 'X2': 'Yy'}\n",
      "\t Found assignment from X0 to Yw\n",
      "\tIn X: 1 steps from X2 is X6\n",
      "\tIn X: 3 steps from X0 is X6\n",
      "\tIn Y: 3 steps from Yw is Yw\n",
      "\tThis means X2 needs to map to Yw after 1 steps\n",
      "\tPossible Predecessors: ['Yy']\n",
      "\tAdding new assignment: {'X0': 'Yw', 'X1': 'Yz', 'X2': 'Yy'}\n",
      "* Checking {'X0': 'Yw', 'X1': 'Yx', 'X2': 'Yy'}\n",
      "\t Found assignment from X0 to Yw\n",
      "\tIn X: 1 steps from X2 is X6\n",
      "\tIn X: 3 steps from X0 is X6\n",
      "\tIn Y: 3 steps from Yw is Yw\n",
      "\tThis means X2 needs to map to Yw after 1 steps\n",
      "\tPossible Predecessors: ['Yy']\n",
      "\tAdding new assignment: {'X0': 'Yw', 'X1': 'Yx', 'X2': 'Yy'}\n",
      "* Checking {'X0': 'Yw', 'X1': 'Yz', 'X2': 'Yy'}\n",
      "\t Found assignment from X0 to Yw\n",
      "\tIn X: 1 steps from X2 is X6\n",
      "\tIn X: 3 steps from X0 is X6\n",
      "\tIn Y: 3 steps from Yw is Yw\n",
      "\tThis means X2 needs to map to Yw after 1 steps\n",
      "\tPossible Predecessors: ['Yy']\n",
      "\tAdding new assignment: {'X0': 'Yw', 'X1': 'Yz', 'X2': 'Yy'}\n",
      "* Checking {'X0': 'Yw', 'X1': 'Yx', 'X2': 'Yy'}\n",
      "\t Found assignment from X0 to Yw\n",
      "\tIn X: 1 steps from X2 is X6\n",
      "\tIn X: 3 steps from X0 is X6\n",
      "\tIn Y: 3 steps from Yw is Yw\n",
      "\tThis means X2 needs to map to Yw after 1 steps\n",
      "\tPossible Predecessors: ['Yy']\n",
      "\tAdding new assignment: {'X0': 'Yw', 'X1': 'Yx', 'X2': 'Yy'}\n",
      "* Checking {'X0': 'Yw', 'X1': 'Yz', 'X2': 'Yy'}\n",
      "\t Found assignment from X0 to Yw\n",
      "\tIn X: 1 steps from X2 is X6\n",
      "\tIn X: 3 steps from X0 is X6\n",
      "\tIn Y: 3 steps from Yw is Yw\n",
      "\tThis means X2 needs to map to Yw after 1 steps\n",
      "\tPossible Predecessors: ['Yy']\n",
      "\tAdding new assignment: {'X0': 'Yw', 'X1': 'Yz', 'X2': 'Yy'}\n",
      "* Checking {'X0': 'Yw', 'X1': 'Yx', 'X2': 'Yy'}\n",
      "\t Found assignment from X0 to Yw\n",
      "\tIn X: 1 steps from X2 is X6\n",
      "\tIn X: 3 steps from X0 is X6\n",
      "\tIn Y: 3 steps from Yw is Yw\n",
      "\tThis means X2 needs to map to Yw after 1 steps\n",
      "\tPossible Predecessors: ['Yy']\n",
      "\tAdding new assignment: {'X0': 'Yw', 'X1': 'Yx', 'X2': 'Yy'}\n",
      "* Checking {'X0': 'Yw', 'X1': 'Yz', 'X2': 'Yy'}\n",
      "\t Found assignment from X0 to Yw\n",
      "\tIn X: 1 steps from X2 is X6\n",
      "\tIn X: 3 steps from X0 is X6\n",
      "\tIn Y: 3 steps from Yw is Yw\n",
      "\tThis means X2 needs to map to Yw after 1 steps\n",
      "\tPossible Predecessors: ['Yy']\n",
      "\tAdding new assignment: {'X0': 'Yw', 'X1': 'Yz', 'X2': 'Yy'}\n",
      "* Checking {'X0': 'Yx', 'X1': 'Yy', 'X2': 'Yw'}\n",
      "\t Found assignment from X0 to Yx\n",
      "\tIn X: 1 steps from X2 is X6\n",
      "\tIn X: 3 steps from X0 is X6\n",
      "\tIn Y: 3 steps from Yx is Yx\n",
      "\tThis means X2 needs to map to Yx after 1 steps\n",
      "\tPossible Predecessors: ['Yw']\n",
      "\tAdding new assignment: {'X0': 'Yx', 'X1': 'Yy', 'X2': 'Yw'}\n",
      "Done checking old assignments\n",
      "New assignments(14): [{'X0': 'Yz', 'X1': 'Yy', 'X2': 'Yw'}, {'X0': 'Yy', 'X1': 'Yw', 'X2': 'Yx'}, {'X0': 'Yy', 'X1': 'Yw', 'X2': 'Yz'}, {'X0': 'Yy', 'X1': 'Yw', 'X2': 'Yx'}, {'X0': 'Yy', 'X1': 'Yw', 'X2': 'Yz'}, {'X0': 'Yw', 'X1': 'Yx', 'X2': 'Yy'}, {'X0': 'Yw', 'X1': 'Yz', 'X2': 'Yy'}, {'X0': 'Yw', 'X1': 'Yx', 'X2': 'Yy'}, {'X0': 'Yw', 'X1': 'Yz', 'X2': 'Yy'}, {'X0': 'Yw', 'X1': 'Yx', 'X2': 'Yy'}, {'X0': 'Yw', 'X1': 'Yz', 'X2': 'Yy'}, {'X0': 'Yw', 'X1': 'Yx', 'X2': 'Yy'}, {'X0': 'Yw', 'X1': 'Yz', 'X2': 'Yy'}, {'X0': 'Yx', 'X1': 'Yy', 'X2': 'Yw'}]\n",
      "Testing generator: 2\n",
      "Trying to match up a chain\n",
      "Existing Assignments: [{'X0': 'Yz', 'X1': 'Yy', 'X2': 'Yw'}, {'X0': 'Yy', 'X1': 'Yw', 'X2': 'Yx'}, {'X0': 'Yy', 'X1': 'Yw', 'X2': 'Yz'}, {'X0': 'Yy', 'X1': 'Yw', 'X2': 'Yx'}, {'X0': 'Yy', 'X1': 'Yw', 'X2': 'Yz'}, {'X0': 'Yw', 'X1': 'Yx', 'X2': 'Yy'}, {'X0': 'Yw', 'X1': 'Yz', 'X2': 'Yy'}, {'X0': 'Yw', 'X1': 'Yx', 'X2': 'Yy'}, {'X0': 'Yw', 'X1': 'Yz', 'X2': 'Yy'}, {'X0': 'Yw', 'X1': 'Yx', 'X2': 'Yy'}, {'X0': 'Yw', 'X1': 'Yz', 'X2': 'Yy'}, {'X0': 'Yw', 'X1': 'Yx', 'X2': 'Yy'}, {'X0': 'Yw', 'X1': 'Yz', 'X2': 'Yy'}, {'X0': 'Yx', 'X1': 'Yy', 'X2': 'Yw'}]\n",
      "* Checking {'X0': 'Yz', 'X1': 'Yy', 'X2': 'Yw'}\n",
      "\t Found assignment from X0 to Yz\n",
      "\tIn X: 1 steps from X2 is X6\n",
      "\tIn X: 3 steps from X0 is X6\n",
      "\tIn Y: 3 steps from Yz is Yx\n",
      "\tThis means X2 needs to map to Yx after 1 steps\n",
      "\tPossible Predecessors: ['Yw']\n",
      "\tAdding new assignment: {'X0': 'Yz', 'X1': 'Yy', 'X2': 'Yw'}\n",
      "* Checking {'X0': 'Yy', 'X1': 'Yw', 'X2': 'Yx'}\n",
      "\t Found assignment from X0 to Yy\n",
      "\tIn X: 1 steps from X2 is X6\n",
      "\tIn X: 3 steps from X0 is X6\n",
      "\tIn Y: 3 steps from Yy is Yy\n",
      "\tThis means X2 needs to map to Yy after 1 steps\n",
      "\tPossible Predecessors: ['Yx', 'Yz']\n",
      "\tAdding new assignment: {'X0': 'Yy', 'X1': 'Yw', 'X2': 'Yx'}\n",
      "\tAdding new assignment: {'X0': 'Yy', 'X1': 'Yw', 'X2': 'Yz'}\n",
      "* Checking {'X0': 'Yy', 'X1': 'Yw', 'X2': 'Yz'}\n",
      "\t Found assignment from X0 to Yy\n",
      "\tIn X: 1 steps from X2 is X6\n",
      "\tIn X: 3 steps from X0 is X6\n",
      "\tIn Y: 3 steps from Yy is Yy\n",
      "\tThis means X2 needs to map to Yy after 1 steps\n",
      "\tPossible Predecessors: ['Yx', 'Yz']\n",
      "\tAdding new assignment: {'X0': 'Yy', 'X1': 'Yw', 'X2': 'Yx'}\n",
      "\tAdding new assignment: {'X0': 'Yy', 'X1': 'Yw', 'X2': 'Yz'}\n",
      "* Checking {'X0': 'Yy', 'X1': 'Yw', 'X2': 'Yx'}\n",
      "\t Found assignment from X0 to Yy\n",
      "\tIn X: 1 steps from X2 is X6\n",
      "\tIn X: 3 steps from X0 is X6\n",
      "\tIn Y: 3 steps from Yy is Yy\n",
      "\tThis means X2 needs to map to Yy after 1 steps\n",
      "\tPossible Predecessors: ['Yx', 'Yz']\n",
      "\tAdding new assignment: {'X0': 'Yy', 'X1': 'Yw', 'X2': 'Yx'}\n",
      "\tAdding new assignment: {'X0': 'Yy', 'X1': 'Yw', 'X2': 'Yz'}\n",
      "* Checking {'X0': 'Yy', 'X1': 'Yw', 'X2': 'Yz'}\n",
      "\t Found assignment from X0 to Yy\n",
      "\tIn X: 1 steps from X2 is X6\n",
      "\tIn X: 3 steps from X0 is X6\n",
      "\tIn Y: 3 steps from Yy is Yy\n",
      "\tThis means X2 needs to map to Yy after 1 steps\n",
      "\tPossible Predecessors: ['Yx', 'Yz']\n",
      "\tAdding new assignment: {'X0': 'Yy', 'X1': 'Yw', 'X2': 'Yx'}\n",
      "\tAdding new assignment: {'X0': 'Yy', 'X1': 'Yw', 'X2': 'Yz'}\n",
      "* Checking {'X0': 'Yw', 'X1': 'Yx', 'X2': 'Yy'}\n",
      "\t Found assignment from X0 to Yw\n",
      "\tIn X: 1 steps from X2 is X6\n",
      "\tIn X: 3 steps from X0 is X6\n",
      "\tIn Y: 3 steps from Yw is Yw\n",
      "\tThis means X2 needs to map to Yw after 1 steps\n",
      "\tPossible Predecessors: ['Yy']\n",
      "\tAdding new assignment: {'X0': 'Yw', 'X1': 'Yx', 'X2': 'Yy'}\n",
      "* Checking {'X0': 'Yw', 'X1': 'Yz', 'X2': 'Yy'}\n",
      "\t Found assignment from X0 to Yw\n",
      "\tIn X: 1 steps from X2 is X6\n",
      "\tIn X: 3 steps from X0 is X6\n",
      "\tIn Y: 3 steps from Yw is Yw\n",
      "\tThis means X2 needs to map to Yw after 1 steps\n",
      "\tPossible Predecessors: ['Yy']\n",
      "\tAdding new assignment: {'X0': 'Yw', 'X1': 'Yz', 'X2': 'Yy'}\n",
      "* Checking {'X0': 'Yw', 'X1': 'Yx', 'X2': 'Yy'}\n",
      "\t Found assignment from X0 to Yw\n",
      "\tIn X: 1 steps from X2 is X6\n",
      "\tIn X: 3 steps from X0 is X6\n",
      "\tIn Y: 3 steps from Yw is Yw\n",
      "\tThis means X2 needs to map to Yw after 1 steps\n",
      "\tPossible Predecessors: ['Yy']\n",
      "\tAdding new assignment: {'X0': 'Yw', 'X1': 'Yx', 'X2': 'Yy'}\n",
      "* Checking {'X0': 'Yw', 'X1': 'Yz', 'X2': 'Yy'}\n",
      "\t Found assignment from X0 to Yw\n",
      "\tIn X: 1 steps from X2 is X6\n",
      "\tIn X: 3 steps from X0 is X6\n",
      "\tIn Y: 3 steps from Yw is Yw\n",
      "\tThis means X2 needs to map to Yw after 1 steps\n",
      "\tPossible Predecessors: ['Yy']\n",
      "\tAdding new assignment: {'X0': 'Yw', 'X1': 'Yz', 'X2': 'Yy'}\n",
      "* Checking {'X0': 'Yw', 'X1': 'Yx', 'X2': 'Yy'}\n",
      "\t Found assignment from X0 to Yw\n",
      "\tIn X: 1 steps from X2 is X6\n",
      "\tIn X: 3 steps from X0 is X6\n",
      "\tIn Y: 3 steps from Yw is Yw\n",
      "\tThis means X2 needs to map to Yw after 1 steps\n",
      "\tPossible Predecessors: ['Yy']\n",
      "\tAdding new assignment: {'X0': 'Yw', 'X1': 'Yx', 'X2': 'Yy'}\n",
      "* Checking {'X0': 'Yw', 'X1': 'Yz', 'X2': 'Yy'}\n",
      "\t Found assignment from X0 to Yw\n",
      "\tIn X: 1 steps from X2 is X6\n",
      "\tIn X: 3 steps from X0 is X6\n",
      "\tIn Y: 3 steps from Yw is Yw\n",
      "\tThis means X2 needs to map to Yw after 1 steps\n",
      "\tPossible Predecessors: ['Yy']\n",
      "\tAdding new assignment: {'X0': 'Yw', 'X1': 'Yz', 'X2': 'Yy'}\n",
      "* Checking {'X0': 'Yw', 'X1': 'Yx', 'X2': 'Yy'}\n",
      "\t Found assignment from X0 to Yw\n",
      "\tIn X: 1 steps from X2 is X6\n",
      "\tIn X: 3 steps from X0 is X6\n",
      "\tIn Y: 3 steps from Yw is Yw\n",
      "\tThis means X2 needs to map to Yw after 1 steps\n",
      "\tPossible Predecessors: ['Yy']\n",
      "\tAdding new assignment: {'X0': 'Yw', 'X1': 'Yx', 'X2': 'Yy'}\n",
      "* Checking {'X0': 'Yw', 'X1': 'Yz', 'X2': 'Yy'}\n",
      "\t Found assignment from X0 to Yw\n",
      "\tIn X: 1 steps from X2 is X6\n",
      "\tIn X: 3 steps from X0 is X6\n",
      "\tIn Y: 3 steps from Yw is Yw\n",
      "\tThis means X2 needs to map to Yw after 1 steps\n",
      "\tPossible Predecessors: ['Yy']\n",
      "\tAdding new assignment: {'X0': 'Yw', 'X1': 'Yz', 'X2': 'Yy'}\n",
      "* Checking {'X0': 'Yx', 'X1': 'Yy', 'X2': 'Yw'}\n",
      "\t Found assignment from X0 to Yx\n",
      "\tIn X: 1 steps from X2 is X6\n",
      "\tIn X: 3 steps from X0 is X6\n",
      "\tIn Y: 3 steps from Yx is Yx\n",
      "\tThis means X2 needs to map to Yx after 1 steps\n",
      "\tPossible Predecessors: ['Yw']\n",
      "\tAdding new assignment: {'X0': 'Yx', 'X1': 'Yy', 'X2': 'Yw'}\n",
      "Done checking old assignments\n",
      "New assignments(18): [{'X0': 'Yz', 'X1': 'Yy', 'X2': 'Yw'}, {'X0': 'Yy', 'X1': 'Yw', 'X2': 'Yx'}, {'X0': 'Yy', 'X1': 'Yw', 'X2': 'Yz'}, {'X0': 'Yy', 'X1': 'Yw', 'X2': 'Yx'}, {'X0': 'Yy', 'X1': 'Yw', 'X2': 'Yz'}, {'X0': 'Yy', 'X1': 'Yw', 'X2': 'Yx'}, {'X0': 'Yy', 'X1': 'Yw', 'X2': 'Yz'}, {'X0': 'Yy', 'X1': 'Yw', 'X2': 'Yx'}, {'X0': 'Yy', 'X1': 'Yw', 'X2': 'Yz'}, {'X0': 'Yw', 'X1': 'Yx', 'X2': 'Yy'}, {'X0': 'Yw', 'X1': 'Yz', 'X2': 'Yy'}, {'X0': 'Yw', 'X1': 'Yx', 'X2': 'Yy'}, {'X0': 'Yw', 'X1': 'Yz', 'X2': 'Yy'}, {'X0': 'Yw', 'X1': 'Yx', 'X2': 'Yy'}, {'X0': 'Yw', 'X1': 'Yz', 'X2': 'Yy'}, {'X0': 'Yw', 'X1': 'Yx', 'X2': 'Yy'}, {'X0': 'Yw', 'X1': 'Yz', 'X2': 'Yy'}, {'X0': 'Yx', 'X1': 'Yy', 'X2': 'Yw'}]\n",
      "~~~~~~~~~~~~~~~~~~~~~~~~~~~~~~~\n",
      "Attempting to match relation on: X3\n",
      "Cycle Length: 2\n",
      "Possible Generators: [3]\n",
      "Attempting to satisfy: (('X3', 2), ('X3', 0))\n",
      "In X: X3 = X3\n",
      "Testing generator: 3\n",
      "Trying to match up a loop\n",
      "Potential match at Ym! 0 from 3\n",
      "Potential match at Yl! 1 from 3\n",
      "Potential matches for X3: ['Ym', 'Yl']\n",
      "New assignments: [{'X3': 'Ym'}, {'X3': 'Yl'}]\n",
      "Joined assignments: [{'X3': 'Ym', 'X0': 'Yz', 'X1': 'Yy', 'X2': 'Yw'}, {'X3': 'Ym', 'X0': 'Yy', 'X1': 'Yw', 'X2': 'Yx'}, {'X3': 'Ym', 'X0': 'Yy', 'X1': 'Yw', 'X2': 'Yz'}, {'X3': 'Ym', 'X0': 'Yy', 'X1': 'Yw', 'X2': 'Yx'}, {'X3': 'Ym', 'X0': 'Yy', 'X1': 'Yw', 'X2': 'Yz'}, {'X3': 'Ym', 'X0': 'Yy', 'X1': 'Yw', 'X2': 'Yx'}, {'X3': 'Ym', 'X0': 'Yy', 'X1': 'Yw', 'X2': 'Yz'}, {'X3': 'Ym', 'X0': 'Yy', 'X1': 'Yw', 'X2': 'Yx'}, {'X3': 'Ym', 'X0': 'Yy', 'X1': 'Yw', 'X2': 'Yz'}, {'X3': 'Ym', 'X0': 'Yw', 'X1': 'Yx', 'X2': 'Yy'}, {'X3': 'Ym', 'X0': 'Yw', 'X1': 'Yz', 'X2': 'Yy'}, {'X3': 'Ym', 'X0': 'Yw', 'X1': 'Yx', 'X2': 'Yy'}, {'X3': 'Ym', 'X0': 'Yw', 'X1': 'Yz', 'X2': 'Yy'}, {'X3': 'Ym', 'X0': 'Yw', 'X1': 'Yx', 'X2': 'Yy'}, {'X3': 'Ym', 'X0': 'Yw', 'X1': 'Yz', 'X2': 'Yy'}, {'X3': 'Ym', 'X0': 'Yw', 'X1': 'Yx', 'X2': 'Yy'}, {'X3': 'Ym', 'X0': 'Yw', 'X1': 'Yz', 'X2': 'Yy'}, {'X3': 'Ym', 'X0': 'Yx', 'X1': 'Yy', 'X2': 'Yw'}, {'X3': 'Yl', 'X0': 'Yz', 'X1': 'Yy', 'X2': 'Yw'}, {'X3': 'Yl', 'X0': 'Yy', 'X1': 'Yw', 'X2': 'Yx'}, {'X3': 'Yl', 'X0': 'Yy', 'X1': 'Yw', 'X2': 'Yz'}, {'X3': 'Yl', 'X0': 'Yy', 'X1': 'Yw', 'X2': 'Yx'}, {'X3': 'Yl', 'X0': 'Yy', 'X1': 'Yw', 'X2': 'Yz'}, {'X3': 'Yl', 'X0': 'Yy', 'X1': 'Yw', 'X2': 'Yx'}, {'X3': 'Yl', 'X0': 'Yy', 'X1': 'Yw', 'X2': 'Yz'}, {'X3': 'Yl', 'X0': 'Yy', 'X1': 'Yw', 'X2': 'Yx'}, {'X3': 'Yl', 'X0': 'Yy', 'X1': 'Yw', 'X2': 'Yz'}, {'X3': 'Yl', 'X0': 'Yw', 'X1': 'Yx', 'X2': 'Yy'}, {'X3': 'Yl', 'X0': 'Yw', 'X1': 'Yz', 'X2': 'Yy'}, {'X3': 'Yl', 'X0': 'Yw', 'X1': 'Yx', 'X2': 'Yy'}, {'X3': 'Yl', 'X0': 'Yw', 'X1': 'Yz', 'X2': 'Yy'}, {'X3': 'Yl', 'X0': 'Yw', 'X1': 'Yx', 'X2': 'Yy'}, {'X3': 'Yl', 'X0': 'Yw', 'X1': 'Yz', 'X2': 'Yy'}, {'X3': 'Yl', 'X0': 'Yw', 'X1': 'Yx', 'X2': 'Yy'}, {'X3': 'Yl', 'X0': 'Yw', 'X1': 'Yz', 'X2': 'Yy'}, {'X3': 'Yl', 'X0': 'Yx', 'X1': 'Yy', 'X2': 'Yw'}]\n",
      "Pre-dupe removal: 36\n",
      "~~~~~~~~~~~~~~~~~~~~~~~~~~~~~~~\n",
      "Final assignment count: 12\n",
      "{\"{'X3': 'Yl', 'X0': 'Yw', 'X1': 'Yz', 'X2': 'Yy'}\", \"{'X3': 'Ym', 'X0': 'Yy', 'X1': 'Yw', 'X2': 'Yx'}\", \"{'X3': 'Ym', 'X0': 'Yw', 'X1': 'Yz', 'X2': 'Yy'}\", \"{'X3': 'Yl', 'X0': 'Yx', 'X1': 'Yy', 'X2': 'Yw'}\", \"{'X3': 'Yl', 'X0': 'Yy', 'X1': 'Yw', 'X2': 'Yz'}\", \"{'X3': 'Yl', 'X0': 'Yw', 'X1': 'Yx', 'X2': 'Yy'}\", \"{'X3': 'Ym', 'X0': 'Yy', 'X1': 'Yw', 'X2': 'Yz'}\", \"{'X3': 'Ym', 'X0': 'Yw', 'X1': 'Yx', 'X2': 'Yy'}\", \"{'X3': 'Ym', 'X0': 'Yz', 'X1': 'Yy', 'X2': 'Yw'}\", \"{'X3': 'Yl', 'X0': 'Yz', 'X1': 'Yy', 'X2': 'Yw'}\", \"{'X3': 'Yl', 'X0': 'Yy', 'X1': 'Yw', 'X2': 'Yx'}\", \"{'X3': 'Ym', 'X0': 'Yx', 'X1': 'Yy', 'X2': 'Yw'}\"}\n"
     ]
    }
   ],
   "source": [
    "assignments = []\n",
    "\n",
    "for idx,rel in enumerate(endomap_alpha['relations']):\n",
    "  print(\"~~~~~~~~~~~~~~~~~~~~~~~~~~~~~~~\")\n",
    "  x_gen = rel[0][0]\n",
    "  print(f'Attempting to match relation on: {x_gen}')\n",
    "  cl = alpha_cycles['cycles_by_generator'][x_gen]\n",
    "  print(f'Cycle Length: {cl}')\n",
    "  y_cycles = alpha_cycles['cycles_by_length'][cl]\n",
    "  poss_y_gen = y_cycles['primary_generators']+y_cycles['secondary_generators']\n",
    "  print(f\"Possible Generators: {poss_y_gen}\")\n",
    "\n",
    "    \n",
    "  print(f\"Attempting to satisfy: {rel}\")\n",
    "  rel_lhs = iterate_endomap(XG,rel[0][0],rel[0][1])\n",
    "  rel_rhs = iterate_endomap(XG,rel[1][0],rel[1][1])\n",
    "  print(f\"In X: {rel_lhs} = {rel_rhs}\")\n",
    "    \n",
    "  for gen in poss_y_gen:\n",
    "    print(f\"Testing generator: {gen}\")\n",
    "    if rel[0][0]==rel[1][0]:\n",
    "      print(\"Trying to match up a loop\")\n",
    "      seen_in_Y = set([])\n",
    "      eligible_subs = {}\n",
    "      cur_y = endomap_beta['generators'][gen]\n",
    "      y_steps = 0\n",
    "      found_pairs = []\n",
    "      while not cur_y in seen_in_Y:\n",
    "        lhs = iterate_endomap(YG,cur_y,rel[0][1])\n",
    "        rhs = iterate_endomap(YG,cur_y,rel[1][1])\n",
    "        if lhs == rhs:\n",
    "          print(f\"Potential match at {cur_y}! {y_steps} from {gen}\")\n",
    "          found_pairs.append(cur_y)\n",
    "        seen_in_Y.add(cur_y)\n",
    "        y_steps += 1\n",
    "        cur_y = iterate_endomap(YG,cur_y,1)\n",
    "\n",
    "      print(f\"Potential matches for {x_gen}: {found_pairs}\")\n",
    "      new_assignments = make_assignments(x_gen,found_pairs)\n",
    "      print(f\"New assignments: {new_assignments}\")\n",
    "      assignments = join_assignments(assignments,new_assignments)\n",
    "      print(f\"Joined assignments: {assignments}\")\n",
    "    else:\n",
    "      print(\"Trying to match up a chain\")\n",
    "      new_assignments = []\n",
    "      print(f\"Existing Assignments: {assignments}\")\n",
    "      for ass in assignments:\n",
    "        print(f\"* Checking {ass}\")\n",
    "        if rel[1][0] in ass.keys():\n",
    "          print(f\"\\t Found assignment from {rel[1][0]} to {ass[rel[1][0]]}\")\n",
    "          y_target = ass[rel[1][0]]\n",
    "\n",
    "          x_lhs = iterate_endomap(XG,rel[0][0],rel[0][1])\n",
    "          print(f\"\\tIn X: {rel[0][1]} steps from {rel[0][0]} is {x_lhs}\")\n",
    "          x_rhs = iterate_endomap(XG,rel[1][0],rel[1][1])\n",
    "          print(f\"\\tIn X: {rel[1][1]} steps from {rel[1][0]} is {x_rhs}\")\n",
    "\n",
    "\n",
    "          y_rhs = iterate_endomap(YG,y_target,rel[1][1])\n",
    "          print(f\"\\tIn Y: {rel[1][1]} steps from {y_target} is {y_rhs}\")\n",
    "\n",
    "          print(f\"\\tThis means {rel[0][0]} needs to map to {y_rhs} after {rel[0][1]} steps\")\n",
    "          poss_vals = find_predecessors(YG,y_rhs,rel[0][1])\n",
    "          print(f\"\\tPossible Predecessors: {poss_vals}\")\n",
    "\n",
    "          for v in poss_vals:\n",
    "            new_ass = ass.copy()\n",
    "            new_ass[rel[0][0]] = v\n",
    "            print(f\"\\tAdding new assignment: {new_ass}\")\n",
    "            new_assignments.append(new_ass)\n",
    "      print(\"Done checking old assignments\")\n",
    "      print(f\"New assignments({len(new_assignments)}): {new_assignments}\")\n",
    "\n",
    "      assignments = new_assignments\n",
    "\n",
    "print(f\"Pre-dupe removal: {len(assignments)}\")\n",
    "    \n",
    "remove_dupes = set([str(x) for x in assignments])    \n",
    "print(\"~~~~~~~~~~~~~~~~~~~~~~~~~~~~~~~\")\n",
    "print(f\"Final assignment count: {len(remove_dupes)}\")\n",
    "print(remove_dupes)"
   ]
  },
  {
   "cell_type": "code",
   "execution_count": 22,
   "id": "8511e31c-d8bb-4905-9417-a441274e89ea",
   "metadata": {},
   "outputs": [],
   "source": [
    "#ok, we're supposed to have 14... where's the missing one?\n",
    "#let's try smaller systems\n",
    "sm_x_nodes = [\"a\", \"b\", \"c\", \"α a\", \"α^2 a\", \"α^3 a\", \"α^4 a\"]\n",
    "sm_x_edges = [\n",
    "    (sm_x_nodes[0],sm_x_nodes[3]),\n",
    "    (sm_x_nodes[1],sm_x_nodes[4]),\n",
    "    (sm_x_nodes[2],sm_x_nodes[5]),\n",
    "    (sm_x_nodes[3],sm_x_nodes[4]),\n",
    "    (sm_x_nodes[4],sm_x_nodes[5]),\n",
    "    (sm_x_nodes[5],sm_x_nodes[6]),\n",
    "    (sm_x_nodes[6],sm_x_nodes[4])\n",
    "    \n",
    "]\n",
    "sm_XG = nx.DiGraph()\n",
    "sm_XG.add_nodes_from(sm_x_nodes)\n",
    "sm_XG.add_edges_from(sm_x_edges)\n"
   ]
  },
  {
   "cell_type": "code",
   "execution_count": 23,
   "id": "625fad79-8b78-4262-b033-c4bf808d0e72",
   "metadata": {},
   "outputs": [
    {
     "data": {
      "image/png": "[encoded data removed]",
      "text/plain": [
       "<Figure size 432x288 with 1 Axes>"
      ]
     },
     "metadata": {},
     "output_type": "display_data"
    }
   ],
   "source": [
    "nx.draw(sm_XG, with_labels=True, font_weight='bold')\n"
   ]
  },
  {
   "cell_type": "code",
   "execution_count": 24,
   "id": "29e4678a-c823-49c9-bf3b-48ecd34a5729",
   "metadata": {},
   "outputs": [],
   "source": [
    "#let's try smaller systems\n",
    "sm_y_nodes = [\"w\",\"x\",\"y\",\"z\"]\n",
    "sm_y_edges = [\n",
    "    (sm_y_nodes[0],sm_y_nodes[1]),\n",
    "    (sm_y_nodes[1],sm_y_nodes[2]),\n",
    "    (sm_y_nodes[2],sm_y_nodes[0]),\n",
    "    (sm_y_nodes[3],sm_y_nodes[2])\n",
    "]\n",
    "sm_YG = nx.DiGraph()\n",
    "sm_YG.add_nodes_from(sm_y_nodes)\n",
    "sm_YG.add_edges_from(sm_y_edges)\n"
   ]
  },
  {
   "cell_type": "code",
   "execution_count": 25,
   "id": "70a41408-7aa8-4bdd-b48a-68f0288e6bde",
   "metadata": {},
   "outputs": [
    {
     "data": {
      "image/png": "[encoded data removed]",
      "text/plain": [
       "<Figure size 432x288 with 1 Axes>"
      ]
     },
     "metadata": {},
     "output_type": "display_data"
    }
   ],
   "source": [
    "nx.draw(sm_YG, with_labels=True, font_weight='bold')\n"
   ]
  },
  {
   "cell_type": "code",
   "execution_count": 26,
   "id": "0a51f754-8b41-46b7-a61d-cf0afd143be1",
   "metadata": {},
   "outputs": [
    {
     "name": "stdout",
     "output_type": "stream",
     "text": [
      "Checking node 0 with 0 arrows in\n",
      "Adding root generator a\n",
      "Adding follow up node α a: 1 from a\n",
      "Adding follow up node α^2 a: 2 from a\n",
      "Adding follow up node α^3 a: 3 from a\n",
      "Adding follow up node α^4 a: 4 from a\n",
      "next node α^2 a already has presentation\n",
      "Checking node 1 with 0 arrows in\n",
      "Adding root generator b\n",
      "next node α^2 a already has presentation\n",
      "Checking node 2 with 0 arrows in\n",
      "Adding root generator c\n",
      "next node α^3 a already has presentation\n",
      "Checking node 3 with 1 arrows in\n",
      "Only 1 way into node 3\n",
      "already has a presentation\n",
      "Checking node 6 with 1 arrows in\n",
      "Only 1 way into node 6\n",
      "already has a presentation\n",
      "Checking node 5 with 2 arrows in\n",
      "More than 1 way in\n",
      "Checking node 4 with 3 arrows in\n",
      "More than 1 way in\n",
      "Checking node 3 with 0 arrows in\n",
      "Adding root generator z\n",
      "Adding follow up node y: 1 from z\n",
      "Adding follow up node w: 2 from z\n",
      "Adding follow up node x: 3 from z\n",
      "next node y already has presentation\n",
      "Checking node 0 with 1 arrows in\n",
      "Only 1 way into node 0\n",
      "already has a presentation\n",
      "Checking node 1 with 1 arrows in\n",
      "Only 1 way into node 1\n",
      "already has a presentation\n",
      "Checking node 2 with 2 arrows in\n",
      "More than 1 way in\n"
     ]
    },
    {
     "name": "stderr",
     "output_type": "stream",
     "text": [
      "/tmp/ipykernel_69979/1978947672.py:4: FutureWarning: adjacency_matrix will return a scipy.sparse array instead of a matrix in Networkx 3.0.\n",
      "  GA =  nx.adjacency_matrix(G)\n"
     ]
    }
   ],
   "source": [
    "sm_X_alpha = make_presentation(sm_XG)\n",
    "sm_Y_beta = make_presentation(sm_YG)"
   ]
  },
  {
   "cell_type": "code",
   "execution_count": 27,
   "id": "a94525b8-a698-445e-ad6b-9a634a2cf0ae",
   "metadata": {},
   "outputs": [
    {
     "name": "stdout",
     "output_type": "stream",
     "text": [
      "{'generators': ['a', 'b', 'c'], 'relations': [(('a', 5), ('a', 2)), (('b', 1), ('a', 2)), (('c', 1), ('a', 3))]}\n",
      "~~~~~~~~~~~~~~~~~~~\n",
      "{'generators': ['z'], 'relations': [(('z', 4), ('z', 1))]}\n"
     ]
    }
   ],
   "source": [
    "\n",
    "print(sm_X_alpha)\n",
    "print(\"~~~~~~~~~~~~~~~~~~~\")\n",
    "print(sm_Y_beta)"
   ]
  },
  {
   "cell_type": "code",
   "execution_count": 28,
   "id": "cf3576d9-9a8d-4d0f-b8d0-4ae33bd59eac",
   "metadata": {},
   "outputs": [
    {
     "data": {
      "text/plain": [
       "16384"
      ]
     },
     "execution_count": 28,
     "metadata": {},
     "output_type": "execute_result"
    }
   ],
   "source": [
    "4**7"
   ]
  },
  {
   "cell_type": "code",
   "execution_count": 29,
   "id": "4c64e569-f195-4e56-b30c-3af1481abe9f",
   "metadata": {},
   "outputs": [],
   "source": [
    "# okay, stepping back -- lets check ALL MAPS\n",
    "def make_all_maps(xs,ys):\n",
    "    x_size = len(xs)\n",
    "    y_size = len(ys)\n",
    "    total = y_size**x_size\n",
    "    all_assignments = []\n",
    "    for x in xs:\n",
    "        new_maps = []\n",
    "        for y in ys:\n",
    "            new_maps.append({x:y})\n",
    "        all_assignments = join_assignments(all_assignments,new_maps) \n",
    "    return all_assignments"
   ]
  },
  {
   "cell_type": "code",
   "execution_count": 30,
   "id": "4b4f36c9-e0ee-4c0c-aee4-e1269839f1c1",
   "metadata": {},
   "outputs": [],
   "source": [
    "sm_maps = make_all_maps(sm_x_nodes,sm_y_nodes)"
   ]
  },
  {
   "cell_type": "code",
   "execution_count": 31,
   "id": "287ba7b4-60fc-418c-90c7-5fde117affd6",
   "metadata": {},
   "outputs": [
    {
     "name": "stdout",
     "output_type": "stream",
     "text": [
      "16384\n"
     ]
    },
    {
     "data": {
      "text/plain": [
       "[{'α^4 a': 'z',\n",
       "  'α^3 a': 'z',\n",
       "  'α^2 a': 'z',\n",
       "  'α a': 'z',\n",
       "  'c': 'z',\n",
       "  'a': 'z',\n",
       "  'b': 'w'},\n",
       " {'α^4 a': 'z',\n",
       "  'α^3 a': 'z',\n",
       "  'α^2 a': 'z',\n",
       "  'α a': 'z',\n",
       "  'c': 'z',\n",
       "  'a': 'z',\n",
       "  'b': 'x'},\n",
       " {'α^4 a': 'z',\n",
       "  'α^3 a': 'z',\n",
       "  'α^2 a': 'z',\n",
       "  'α a': 'z',\n",
       "  'c': 'z',\n",
       "  'a': 'z',\n",
       "  'b': 'y'},\n",
       " {'α^4 a': 'z',\n",
       "  'α^3 a': 'z',\n",
       "  'α^2 a': 'z',\n",
       "  'α a': 'z',\n",
       "  'c': 'z',\n",
       "  'a': 'z',\n",
       "  'b': 'z'}]"
      ]
     },
     "execution_count": 31,
     "metadata": {},
     "output_type": "execute_result"
    }
   ],
   "source": [
    "print(len(sm_maps))\n",
    "sm_maps[-4:]\n"
   ]
  },
  {
   "cell_type": "code",
   "execution_count": 32,
   "id": "47de2d13-33c2-43ff-9ac6-dc5954e49169",
   "metadata": {},
   "outputs": [
    {
     "data": {
      "text/plain": [
       "{'α^4 a': 'w',\n",
       " 'α^3 a': 'w',\n",
       " 'α^2 a': 'w',\n",
       " 'α a': 'w',\n",
       " 'c': 'w',\n",
       " 'a': 'w',\n",
       " 'b': 'w'}"
      ]
     },
     "execution_count": 32,
     "metadata": {},
     "output_type": "execute_result"
    }
   ],
   "source": [
    "sm_maps[0]"
   ]
  },
  {
   "cell_type": "code",
   "execution_count": 33,
   "id": "4a60da1b-b6f8-4ff7-8070-8a67b79258f4",
   "metadata": {},
   "outputs": [],
   "source": [
    "def preserves_structure(f,x_graph,y_graph):\n",
    "    for k,v in zip(f.keys(),f.values()):\n",
    "        #print(f\"f({k}) = {v}\")\n",
    "        alpha_x = follow_endomap(x_graph,k)\n",
    "        f_alpha_x = f[alpha_x]\n",
    "        #print(f\"alpha({k}) = {alpha_x}\")\n",
    "        #print(f\"f({alpha_x}) = {f_alpha_x}\")\n",
    "        beta_y = follow_endomap(y_graph,v)\n",
    "        #print(f\"beta({v}) = {beta_y}\")\n",
    "        if beta_y != f_alpha_x:\n",
    "              #print(\"fails to preserve structure\")\n",
    "              return False\n",
    "    return True"
   ]
  },
  {
   "cell_type": "code",
   "execution_count": 34,
   "id": "6429b7db-5eea-4a93-9821-a53f309a0b0a",
   "metadata": {},
   "outputs": [
    {
     "data": {
      "text/plain": [
       "False"
      ]
     },
     "execution_count": 34,
     "metadata": {},
     "output_type": "execute_result"
    }
   ],
   "source": [
    "preserves_structure(sm_maps[0],sm_XG, sm_YG)"
   ]
  },
  {
   "cell_type": "code",
   "execution_count": 35,
   "id": "532091dd-380a-4339-b086-d4f84ac195f2",
   "metadata": {},
   "outputs": [],
   "source": [
    "sm_evaluations = list(filter(lambda x: preserves_structure(x,sm_XG,sm_YG),sm_maps))\n"
   ]
  },
  {
   "cell_type": "code",
   "execution_count": 36,
   "id": "dc731d2a-a730-4784-9b98-585ea2649083",
   "metadata": {},
   "outputs": [
    {
     "name": "stdout",
     "output_type": "stream",
     "text": [
      "6\n",
      "[{'α^4 a': 'w', 'α^3 a': 'y', 'α^2 a': 'x', 'α a': 'w', 'c': 'x', 'a': 'y', 'b': 'w'}, {'α^4 a': 'w', 'α^3 a': 'y', 'α^2 a': 'x', 'α a': 'w', 'c': 'z', 'a': 'y', 'b': 'w'}, {'α^4 a': 'x', 'α^3 a': 'w', 'α^2 a': 'y', 'α a': 'x', 'c': 'y', 'a': 'w', 'b': 'x'}, {'α^4 a': 'x', 'α^3 a': 'w', 'α^2 a': 'y', 'α a': 'x', 'c': 'y', 'a': 'w', 'b': 'z'}, {'α^4 a': 'y', 'α^3 a': 'x', 'α^2 a': 'w', 'α a': 'y', 'c': 'w', 'a': 'x', 'b': 'y'}, {'α^4 a': 'y', 'α^3 a': 'x', 'α^2 a': 'w', 'α a': 'y', 'c': 'w', 'a': 'z', 'b': 'y'}]\n"
     ]
    }
   ],
   "source": [
    "print(len(sm_evaluations))\n",
    "print(sm_evaluations)"
   ]
  },
  {
   "cell_type": "code",
   "execution_count": 37,
   "id": "b1f0973f-f25f-4df3-9283-e4b6fad3374d",
   "metadata": {},
   "outputs": [
    {
     "name": "stdout",
     "output_type": "stream",
     "text": [
      "(X1) edge (X4)\n",
      "(X2) edge (X5)\n",
      "(X3) edge (X6)\n",
      "(X4) edge (X5)\n",
      "(X5) edge (X6)\n",
      "(X6) edge (X7)\n",
      "(X7) edge (X5)\n",
      "(X8) edge (X1)\n"
     ]
    },
    {
     "data": {
      "image/png": "[encoded data removed]",
      "text/plain": [
       "<Figure size 432x288 with 1 Axes>"
      ]
     },
     "metadata": {},
     "output_type": "display_data"
    }
   ],
   "source": [
    "# IDEA: extend tail of 'a'\n",
    "\n",
    "\n",
    "sm_z_nodes = [\"X\"+str(i+1) for i in range(8)]\n",
    "sm_z_edges = [\n",
    "    (sm_z_nodes[0],sm_z_nodes[3]),\n",
    "    (sm_z_nodes[1],sm_z_nodes[4]),\n",
    "    (sm_z_nodes[2],sm_z_nodes[5]),\n",
    "    (sm_z_nodes[3],sm_z_nodes[4]),\n",
    "    (sm_z_nodes[4],sm_z_nodes[5]),\n",
    "    (sm_z_nodes[5],sm_z_nodes[6]),\n",
    "    (sm_z_nodes[6],sm_z_nodes[4]),\n",
    "    (sm_z_nodes[7],sm_z_nodes[0])\n",
    "    \n",
    "]\n",
    "sm_ZG = nx.DiGraph()\n",
    "sm_ZG.add_nodes_from(sm_z_nodes)\n",
    "sm_ZG.add_edges_from(sm_z_edges)\n",
    "\n",
    "# make my latex easier\n",
    "print(\"\\n\".join([\"(\"+e[0]+\") edge (\"+e[1]+\")\" for e in sm_z_edges]))\n",
    "\n",
    "nx.draw(sm_ZG, with_labels=True, font_weight='bold')"
   ]
  },
  {
   "cell_type": "code",
   "execution_count": 38,
   "id": "caff54bb-2507-44ef-949a-48fee8a754bc",
   "metadata": {},
   "outputs": [],
   "source": [
    "my_missing_maps = make_all_maps(sm_z_nodes,sm_y_nodes)"
   ]
  },
  {
   "cell_type": "code",
   "execution_count": 39,
   "id": "2cd9797a-cdbb-46f5-8e47-91ac8113ccd5",
   "metadata": {},
   "outputs": [],
   "source": [
    "missing_map_evaluations = list(filter(lambda x: preserves_structure(x,sm_ZG,sm_YG),my_missing_maps))"
   ]
  },
  {
   "cell_type": "code",
   "execution_count": 40,
   "id": "a92de802-5516-4680-a9e4-e4726ab546b3",
   "metadata": {},
   "outputs": [
    {
     "name": "stdout",
     "output_type": "stream",
     "text": [
      "7\n",
      "[{'X8': 'w', 'X7': 'y', 'X6': 'x', 'X5': 'w', 'X4': 'y', 'X3': 'w', 'X1': 'x', 'X2': 'y'}, {'X8': 'x', 'X7': 'w', 'X6': 'y', 'X5': 'x', 'X4': 'w', 'X3': 'x', 'X1': 'y', 'X2': 'w'}, {'X8': 'x', 'X7': 'w', 'X6': 'y', 'X5': 'x', 'X4': 'w', 'X3': 'z', 'X1': 'y', 'X2': 'w'}, {'X8': 'y', 'X7': 'x', 'X6': 'w', 'X5': 'y', 'X4': 'x', 'X3': 'y', 'X1': 'w', 'X2': 'x'}, {'X8': 'y', 'X7': 'x', 'X6': 'w', 'X5': 'y', 'X4': 'x', 'X3': 'y', 'X1': 'w', 'X2': 'z'}, {'X8': 'z', 'X7': 'w', 'X6': 'y', 'X5': 'x', 'X4': 'w', 'X3': 'x', 'X1': 'y', 'X2': 'w'}, {'X8': 'z', 'X7': 'w', 'X6': 'y', 'X5': 'x', 'X4': 'w', 'X3': 'z', 'X1': 'y', 'X2': 'w'}]\n"
     ]
    }
   ],
   "source": [
    "print(len(missing_map_evaluations))\n",
    "print(missing_map_evaluations)"
   ]
  }
 ],
 "metadata": {
  "kernelspec": {
   "display_name": "Python 3 (ipykernel)",
   "language": "python",
   "name": "python3"
  },
  "language_info": {
   "codemirror_mode": {
    "name": "ipython",
    "version": 3
   },
   "file_extension": ".py",
   "mimetype": "text/x-python",
   "name": "python",
   "nbconvert_exporter": "python",
   "pygments_lexer": "ipython3",
   "version": "3.10.12"
  }
 },
 "nbformat": 4,
 "nbformat_minor": 5
}

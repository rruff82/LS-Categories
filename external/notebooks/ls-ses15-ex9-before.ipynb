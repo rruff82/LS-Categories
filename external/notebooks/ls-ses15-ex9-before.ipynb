{
 "cells": [
  {
   "cell_type": "code",
   "execution_count": 1,
   "id": "309405a9-157e-4992-aed0-e84ab411803c",
   "metadata": {},
   "outputs": [
    {
     "name": "stdout",
     "output_type": "stream",
     "text": [
      "{'generators': ['a', 'b', 'c', 'd'], 'relations': [(('a', 5), ('a', 2)), (('a', 2), ('b', 1)), (('a', 3), ('c', 1)), (('d', 2), ('d', 0))]}\n",
      "{'generators': ['p', 'q', 'z', 'm'], 'relations': [(('p', 1), ('q', 1)), (('p', 2), ('p', 6)), (('z', 4), ('z', 1)), (('m', 2), ('m', 0))]}\n"
     ]
    }
   ],
   "source": [
    "# define presentations of X and Y\n",
    "endomap_alpha = {\n",
    "    'generators':['a','b','c','d'],\n",
    "    'relations':[\n",
    "        (('a',5),('a',2)),\n",
    "        (('a',2),('b',1)),\n",
    "        (('a',3),('c',1)),\n",
    "        (('d',2),('d',0))        \n",
    "    ]\n",
    "}\n",
    "\n",
    "endomap_beta = {\n",
    "    'generators':['p','q','z','m'],\n",
    "    'relations':[\n",
    "        (('p',1),('q',1)),\n",
    "        (('p',2),('p',6)),\n",
    "        (('z',4),('z',1)),\n",
    "        (('m',2),('m',0))        \n",
    "    ]\n",
    "}\n",
    "\n",
    "\n",
    "print(endomap_alpha)\n",
    "print(endomap_beta)"
   ]
  },
  {
   "cell_type": "code",
   "execution_count": 2,
   "id": "e5175186-54cd-4c0b-9dc8-29277d97b2ac",
   "metadata": {},
   "outputs": [
    {
     "data": {
      "text/plain": [
       "[(0, 0),\n",
       " (0, 1),\n",
       " (1, 0),\n",
       " (0, 2),\n",
       " (1, 1),\n",
       " (2, 0),\n",
       " (0, 3),\n",
       " (1, 2),\n",
       " (2, 1),\n",
       " (3, 0)]"
      ]
     },
     "execution_count": 2,
     "metadata": {},
     "output_type": "execute_result"
    }
   ],
   "source": [
    "# I'm thinking that I can enumerate \"generator\"x\"applications\" pairs\n",
    "# like I would map from NN to QQ\n",
    "def zig_zag(n):\n",
    "    last = (0,0)\n",
    "    idx = 0\n",
    "    while idx < n:\n",
    "        yield last\n",
    "        idx += 1\n",
    "        if last[1] == 0:\n",
    "            last = (0,last[0]+1)\n",
    "        else:\n",
    "            last = (last[0]+1,last[1]-1)\n",
    "    \n",
    "list(zig_zag(10))"
   ]
  },
  {
   "cell_type": "code",
   "execution_count": 3,
   "id": "9c895465-4c9a-4698-8f1f-a226cf2760cd",
   "metadata": {},
   "outputs": [],
   "source": [
    "# helper function needed to undo my zig zag enumeration\n",
    "def triangular(n):\n",
    "    return int((n+1)*n/2)"
   ]
  },
  {
   "cell_type": "code",
   "execution_count": 4,
   "id": "42ee9c60-7783-470c-ad95-f6cdff555a5f",
   "metadata": {},
   "outputs": [
    {
     "data": {
      "text/plain": [
       "[0, 1, 3, 6, 10, 15, 21, 28, 36, 45]"
      ]
     },
     "execution_count": 4,
     "metadata": {},
     "output_type": "execute_result"
    }
   ],
   "source": [
    "list(map(triangular,range(10)))"
   ]
  },
  {
   "cell_type": "code",
   "execution_count": 5,
   "id": "58e328d1-49b0-467e-bb99-870fec792668",
   "metadata": {},
   "outputs": [],
   "source": [
    "# reverse the zig zag enumeration\n",
    "def reverse_zig_zag(p):\n",
    "    my_sum = p[0]+p[1]\n",
    "    my_triangle = triangular(my_sum)\n",
    "    return my_triangle+p[0]"
   ]
  },
  {
   "cell_type": "code",
   "execution_count": 6,
   "id": "80906855-0cf7-4778-8cbc-9e4bc44c959b",
   "metadata": {},
   "outputs": [
    {
     "data": {
      "text/plain": [
       "[0, 1, 2, 3, 4, 5, 6, 7, 8, 9]"
      ]
     },
     "execution_count": 6,
     "metadata": {},
     "output_type": "execute_result"
    }
   ],
   "source": [
    "# test to make sure my inverse is working\n",
    "list(map(reverse_zig_zag,list(zig_zag(10))))"
   ]
  },
  {
   "cell_type": "code",
   "execution_count": 7,
   "id": "3fdedd1f-e9b2-4921-8c1c-ea3e46153b91",
   "metadata": {},
   "outputs": [
    {
     "name": "stdout",
     "output_type": "stream",
     "text": [
      "{'generator_count': 4, 'generators': ['a', 'b', 'c', 'd'], 'substitutions': {15: 3, 4: 3, 8: 6, 18: 9}, 'relation_pairs': {15: ('a', 5), 3: ('a', 2), 4: ('b', 1), 6: ('a', 3), 8: ('c', 1), 18: ('d', 2), 9: ('d', 0)}, 'max_depth': 5, 'max_steps': 18}\n",
      "{'generator_count': 4, 'generators': ['p', 'q', 'z', 'm'], 'substitutions': {4: 1, 21: 3, 23: 8, 18: 9}, 'relation_pairs': {1: ('p', 1), 4: ('q', 1), 3: ('p', 2), 21: ('p', 6), 23: ('z', 4), 8: ('z', 1), 18: ('m', 2), 9: ('m', 0)}, 'max_depth': 6, 'max_steps': 23}\n"
     ]
    }
   ],
   "source": [
    "# now that we can enumerate pairs\n",
    "# use that to standardize our relations\n",
    "# want to always map from big numbers to small ones\n",
    "def standardize_presentation(endomap):\n",
    "    generator_map = {}\n",
    "    reverse_generator_map = {}\n",
    "    for idx,gen in enumerate(endomap['generators']):\n",
    "        generator_map[idx] = gen\n",
    "        reverse_generator_map[gen] = idx\n",
    "    max_steps = 0\n",
    "    relation_map = {}\n",
    "    relation_pairs = {}\n",
    "    max_depth = 0\n",
    "    for rel in endomap['relations']:\n",
    "        #print(f\"Relation: {rel}\")\n",
    "        left_gen = reverse_generator_map[rel[0][0]]\n",
    "        right_gen = reverse_generator_map[rel[1][0]]\n",
    "        left_idx = reverse_zig_zag((left_gen,rel[0][1]))\n",
    "        right_idx = reverse_zig_zag((right_gen,rel[1][1]))\n",
    "        \n",
    "        #print(f\"L:{left_idx}, R:{right_idx}\")\n",
    "        my_min = min(left_idx,right_idx)\n",
    "        my_max = max(left_idx,right_idx)\n",
    "        if my_max > max_steps:\n",
    "            max_steps = my_max\n",
    "        relation_map[my_max] = my_min\n",
    "        relation_pairs[left_idx] = rel[0]\n",
    "        relation_pairs[right_idx] = rel[1]\n",
    "        max_depth = max(max(rel[0][1],rel[1][1]),max_depth)\n",
    "        \n",
    "    return {\n",
    "        \"generator_count\":len(endomap['generators']),\n",
    "        \"generators\":endomap['generators'],\n",
    "        \"substitutions\":relation_map,\n",
    "        \"relation_pairs\":relation_pairs,\n",
    "        \"max_depth\":max_depth,\n",
    "        \"max_steps\":max_steps\n",
    "    }\n",
    "        \n",
    "\n",
    "print(standardize_presentation(endomap_alpha))\n",
    "print(standardize_presentation(endomap_beta))\n",
    "\n",
    "\n",
    "    "
   ]
  },
  {
   "cell_type": "code",
   "execution_count": 8,
   "id": "24634d32-a5f2-4d64-ac85-80a69ff52c7d",
   "metadata": {},
   "outputs": [
    {
     "data": {
      "text/plain": [
       "5"
      ]
     },
     "execution_count": 8,
     "metadata": {},
     "output_type": "execute_result"
    }
   ],
   "source": [
    "def max_relation_steps(endomap):\n",
    "    output = 0\n",
    "    for r in endomap['relations']:\n",
    "        output = max(output,max(r[0][1],r[1][1]))\n",
    "    return output\n",
    "\n",
    "max_relation_steps(endomap_alpha)"
   ]
  },
  {
   "cell_type": "code",
   "execution_count": 9,
   "id": "39195ace-0b06-4379-a504-c3298fb4e852",
   "metadata": {},
   "outputs": [
    {
     "data": {
      "text/plain": [
       "{'map_by_name': {'a': 'sa',\n",
       "  'sa': 'ssa',\n",
       "  'ssa': 'sssa',\n",
       "  'sssa': 'ssssa',\n",
       "  'ssssa': 'ssa',\n",
       "  'b': 'ssa',\n",
       "  'c': 'sssa',\n",
       "  'd': 'sd',\n",
       "  'sd': 'd'},\n",
       " 'map_by_zz_index': {0: 1, 1: 3, 3: 6, 6: 10, 10: 3, 2: 3, 5: 6, 9: 13, 13: 9},\n",
       " 'index_by_label': {'a': 0,\n",
       "  'sa': 1,\n",
       "  'ssa': 3,\n",
       "  'sssa': 6,\n",
       "  'ssssa': 10,\n",
       "  'b': 2,\n",
       "  'c': 5,\n",
       "  'd': 9,\n",
       "  'sd': 13},\n",
       " 'label_by_index': {0: 'a',\n",
       "  1: 'sa',\n",
       "  3: 'ssa',\n",
       "  6: 'sssa',\n",
       "  10: 'ssssa',\n",
       "  2: 'b',\n",
       "  5: 'c',\n",
       "  9: 'd',\n",
       "  13: 'sd'},\n",
       " 'size': 9}"
      ]
     },
     "execution_count": 9,
     "metadata": {},
     "output_type": "execute_result"
    }
   ],
   "source": [
    "def standard_iterator(g,n):\n",
    "    return \"s\"*n+g\n",
    "\n",
    "def reconstruct_endomap(endomap):\n",
    "    index_by_label = {}\n",
    "    labels_by_index = {}\n",
    "    my_map = {}\n",
    "    #print(f\"Attempting to enumerate points of {endomap}\")\n",
    "    my_pres = standardize_presentation(endomap)\n",
    "    #print(f\"Standardized presentation: {my_pres}\")\n",
    "    num_gens = len(endomap['generators'])\n",
    "    max_steps = max_relation_steps(endomap)\n",
    "    max_enum = reverse_zig_zag((num_gens,max_steps))\n",
    "    #print(f\"In order to get {max_steps} out of each generator, we need {max_enum} of zig zag\")\n",
    "    \n",
    "    # make a map of known substitutions\n",
    "    sub_map = {}\n",
    "    for k,v in zip(my_pres['substitutions'].keys(),my_pres['substitutions'].values()):\n",
    "        key_pair = my_pres['relation_pairs'][k]\n",
    "        value_pair = my_pres['relation_pairs'][v]\n",
    "        key_name = standard_iterator(key_pair[0],key_pair[1])\n",
    "        value_name = standard_iterator(value_pair[0],value_pair[1])\n",
    "        sub_map[key_name] = value_name\n",
    "        \n",
    "    #print(f\"Sub Map: {sub_map}\")\n",
    "    for g_n in range(num_gens):\n",
    "        #print(f\"GENERATOR: {g_n}={endomap['generators'][g_n]}\")\n",
    "        a_n = 0\n",
    "        my_pair = (g_n,a_n)\n",
    "        my_zz_idx = reverse_zig_zag(my_pair)\n",
    "        my_name = standard_iterator(endomap['generators'][g_n],a_n)\n",
    "        #print(f\"{my_pair} >> {my_zz_idx} = {my_name}\")\n",
    "        index_by_label[my_name] = my_zz_idx\n",
    "        labels_by_index[my_zz_idx] = my_name\n",
    "        \n",
    "        while my_name not in my_map:\n",
    "            a_n += 1\n",
    "            #print(f\"\\tSTEP {a_n}\") \n",
    "            my_pair = (g_n,a_n)\n",
    "            my_zz_idx = reverse_zig_zag(my_pair)\n",
    "            new_name = standard_iterator(endomap['generators'][g_n],a_n)\n",
    "            #print(f\"{my_pair} >> {my_zz_idx} = {new_name}\")\n",
    "            if new_name in sub_map:\n",
    "                #print(f\"\\tFound sub for {new_name}!\")\n",
    "                new_name = sub_map[new_name]\n",
    "                if new_name in index_by_label:\n",
    "                    my_zz_idx = index_by_label[new_name]\n",
    "            my_map[my_name] = new_name\n",
    "            my_name = new_name\n",
    "            index_by_label[my_name] = my_zz_idx\n",
    "            labels_by_index[my_zz_idx] = my_name\n",
    "            \n",
    "    my_map_by_index = {index_by_label[k]:index_by_label[v] for k,v in zip(my_map.keys(),my_map.values())}        \n",
    "    return {\n",
    "        \"map_by_name\":my_map,\n",
    "        \"map_by_zz_index\":my_map_by_index,\n",
    "        \"index_by_label\":index_by_label,\n",
    "        \"label_by_index\":labels_by_index,\n",
    "        \"size\":len(my_map)\n",
    "    }\n",
    "    \n",
    "reconstruct_endomap(endomap_alpha) \n",
    "    "
   ]
  },
  {
   "cell_type": "code",
   "execution_count": 10,
   "id": "431ea077-cea4-4830-9283-d60915b87415",
   "metadata": {},
   "outputs": [
    {
     "data": {
      "text/plain": [
       "{'map_by_name': {'p': 'sp',\n",
       "  'sp': 'ssp',\n",
       "  'ssp': 'sssp',\n",
       "  'sssp': 'ssssp',\n",
       "  'ssssp': 'sssssp',\n",
       "  'sssssp': 'ssp',\n",
       "  'q': 'sp',\n",
       "  'z': 'sz',\n",
       "  'sz': 'ssz',\n",
       "  'ssz': 'sssz',\n",
       "  'sssz': 'sz',\n",
       "  'm': 'sm',\n",
       "  'sm': 'm'},\n",
       " 'map_by_zz_index': {0: 1,\n",
       "  1: 3,\n",
       "  3: 6,\n",
       "  6: 10,\n",
       "  10: 15,\n",
       "  15: 3,\n",
       "  2: 1,\n",
       "  5: 8,\n",
       "  8: 12,\n",
       "  12: 17,\n",
       "  17: 8,\n",
       "  9: 13,\n",
       "  13: 9},\n",
       " 'index_by_label': {'p': 0,\n",
       "  'sp': 1,\n",
       "  'ssp': 3,\n",
       "  'sssp': 6,\n",
       "  'ssssp': 10,\n",
       "  'sssssp': 15,\n",
       "  'q': 2,\n",
       "  'z': 5,\n",
       "  'sz': 8,\n",
       "  'ssz': 12,\n",
       "  'sssz': 17,\n",
       "  'm': 9,\n",
       "  'sm': 13},\n",
       " 'label_by_index': {0: 'p',\n",
       "  1: 'sp',\n",
       "  3: 'ssp',\n",
       "  6: 'sssp',\n",
       "  10: 'ssssp',\n",
       "  15: 'sssssp',\n",
       "  2: 'q',\n",
       "  5: 'z',\n",
       "  8: 'sz',\n",
       "  12: 'ssz',\n",
       "  17: 'sssz',\n",
       "  9: 'm',\n",
       "  13: 'sm'},\n",
       " 'size': 13}"
      ]
     },
     "execution_count": 10,
     "metadata": {},
     "output_type": "execute_result"
    }
   ],
   "source": [
    "reconstruct_endomap(endomap_beta)"
   ]
  },
  {
   "cell_type": "code",
   "execution_count": 11,
   "id": "664387bf-ba9b-4b69-a4a8-8ffcd58f1b06",
   "metadata": {},
   "outputs": [
    {
     "data": {
      "text/plain": [
       "[{'generators': ['a', 'b', 'c'],\n",
       "  'relations': [(('a', 5), ('a', 2)),\n",
       "   (('a', 2), ('b', 1)),\n",
       "   (('a', 3), ('c', 1))]},\n",
       " {'generators': ['d'], 'relations': [(('d', 2), ('d', 0))]}]"
      ]
     },
     "execution_count": 11,
     "metadata": {},
     "output_type": "execute_result"
    }
   ],
   "source": [
    "# okay! now we can reconstruct the endomap from a presentation!\n",
    "# now lets try decomposing each endomap into standardized \"clusters\"\n",
    "def decompose_endomap(endomap):\n",
    "    #print(f\"Attempting to decompose {endomap}\")\n",
    "    my_pres = standardize_presentation(endomap)\n",
    "    #print(f\"Standardized presentation: {my_pres}\")\n",
    "    num_gens = len(endomap['generators'])\n",
    "    max_steps = max_relation_steps(endomap)\n",
    "    \n",
    "    # go through our \"substitutions\" and collect cluster info\n",
    "    clusters_by_generator = {}\n",
    "    generators_by_cluster = {}\n",
    "    for k in sorted(my_pres['substitutions'].keys()):\n",
    "        v = my_pres['substitutions'][k]\n",
    "        k_pair = my_pres['relation_pairs'][k]\n",
    "        v_pair = my_pres['relation_pairs'][v]\n",
    "        #print(f\"{k_pair} {v_pair}\")\n",
    "        if k_pair[0] in clusters_by_generator:\n",
    "            #print(\"left element already has a cluster\")\n",
    "            cluster_index = clusters_by_generator[k_pair[0]]\n",
    "            if v_pair[0] not in generators_by_cluster[cluster_index]:\n",
    "                generators_by_cluster[cluster_index].add(v_pair[0])\n",
    "        elif v_pair[0] in clusters_by_generator:\n",
    "            #print(\"right element already has a cluster\")\n",
    "            cluster_index = clusters_by_generator[v_pair[0]]\n",
    "            if k_pair[0] not in generators_by_cluster[cluster_index]:\n",
    "                generators_by_cluster[cluster_index].add(k_pair[0])\n",
    "        else:\n",
    "            cluster_index = len(generators_by_cluster)\n",
    "            generators_by_cluster[cluster_index] = set([k_pair[0],v_pair[0]])\n",
    "            clusters_by_generator[k_pair[0]] = cluster_index\n",
    "            if v_pair[0] != k_pair[0]:\n",
    "                clusters_by_generator[v_pair[0]] = cluster_index\n",
    "    \n",
    "    # having both of these maps, sort our relations into appropriate clusters\n",
    "    clusters = []\n",
    "    for value_set in generators_by_cluster.values():\n",
    "        new_cluster = {\n",
    "            'generators':list(value_set),\n",
    "            'relations':list(filter(lambda x: x[0][0] in value_set,endomap['relations']))\n",
    "        }\n",
    "        clusters.append(new_cluster)\n",
    "    return clusters\n",
    "\n",
    "X_clusters = decompose_endomap(endomap_alpha)\n",
    "X_clusters"
   ]
  },
  {
   "cell_type": "code",
   "execution_count": 12,
   "id": "5d9abe2c-3696-4d3e-842e-deb214678016",
   "metadata": {},
   "outputs": [
    {
     "data": {
      "text/plain": [
       "[{'generators': ['p', 'q'],\n",
       "  'relations': [(('p', 1), ('q', 1)), (('p', 2), ('p', 6))]},\n",
       " {'generators': ['m'], 'relations': [(('m', 2), ('m', 0))]},\n",
       " {'generators': ['z'], 'relations': [(('z', 4), ('z', 1))]}]"
      ]
     },
     "execution_count": 12,
     "metadata": {},
     "output_type": "execute_result"
    }
   ],
   "source": [
    "Y_clusters = decompose_endomap(endomap_beta)\n",
    "Y_clusters"
   ]
  },
  {
   "cell_type": "code",
   "execution_count": 13,
   "id": "e843d978-59fe-400d-b736-ec4ec61c13ba",
   "metadata": {},
   "outputs": [],
   "source": [
    "def get_loop_size(cluster):\n",
    "    for rel in cluster['relations']:\n",
    "        if rel[0][0] == rel[1][0]:\n",
    "            return max(rel[0][1],rel[1][1])-min(rel[0][1],rel[1][1])\n",
    "    return None"
   ]
  },
  {
   "cell_type": "code",
   "execution_count": 14,
   "id": "8b62f9f5-aa91-441e-b54c-e0d59ea7be92",
   "metadata": {},
   "outputs": [
    {
     "data": {
      "text/plain": [
       "[3, 2]"
      ]
     },
     "execution_count": 14,
     "metadata": {},
     "output_type": "execute_result"
    }
   ],
   "source": [
    "list(map(get_loop_size,X_clusters))"
   ]
  },
  {
   "cell_type": "code",
   "execution_count": 15,
   "id": "a43244ab-4f4f-42f3-b6aa-4598a216852d",
   "metadata": {},
   "outputs": [
    {
     "data": {
      "text/plain": [
       "[4, 2, 3]"
      ]
     },
     "execution_count": 15,
     "metadata": {},
     "output_type": "execute_result"
    }
   ],
   "source": [
    "list(map(get_loop_size,Y_clusters))"
   ]
  },
  {
   "cell_type": "code",
   "execution_count": 16,
   "id": "c84510ec-a162-41cd-83e3-0d3d816ec46c",
   "metadata": {},
   "outputs": [
    {
     "data": {
      "text/plain": [
       "[({'generators': ['a', 'b', 'c'],\n",
       "   'relations': [(('a', 5), ('a', 2)),\n",
       "    (('a', 2), ('b', 1)),\n",
       "    (('a', 3), ('c', 1))]},\n",
       "  {'generators': ['z'], 'relations': [(('z', 4), ('z', 1))]},\n",
       "  3),\n",
       " ({'generators': ['d'], 'relations': [(('d', 2), ('d', 0))]},\n",
       "  {'generators': ['m'], 'relations': [(('m', 2), ('m', 0))]},\n",
       "  2)]"
      ]
     },
     "execution_count": 16,
     "metadata": {},
     "output_type": "execute_result"
    }
   ],
   "source": [
    "def find_all_cluster_pairs(endo_A,endo_B):\n",
    "    # only clusters with the same cycle length could possibly match up\n",
    "    clusters_A = decompose_endomap(endo_A)\n",
    "    clusters_B = decompose_endomap(endo_B)\n",
    "    pairs = []\n",
    "    for cA in clusters_A:\n",
    "        loopA = get_loop_size(cA)\n",
    "        for cB in clusters_B:\n",
    "            loopB = get_loop_size(cB)\n",
    "            if loopA == loopB:\n",
    "                #print(f\"Potential for maps between {cA} and {cB}\")\n",
    "                pairs.append((cA,cB,loopA))\n",
    "    return pairs\n",
    "pairings = find_all_cluster_pairs(endomap_alpha,endomap_beta)\n",
    "pairings"
   ]
  },
  {
   "cell_type": "code",
   "execution_count": 17,
   "id": "56c3c1b5-6379-4d38-b5ec-778c01cd8657",
   "metadata": {},
   "outputs": [
    {
     "data": {
      "text/plain": [
       "{'generator_count': 3,\n",
       " 'generators': ['a', 'b', 'c'],\n",
       " 'substitutions': {15: 3, 4: 3, 8: 6},\n",
       " 'relation_pairs': {15: ('a', 5),\n",
       "  3: ('a', 2),\n",
       "  4: ('b', 1),\n",
       "  6: ('a', 3),\n",
       "  8: ('c', 1)},\n",
       " 'max_depth': 5,\n",
       " 'max_steps': 15}"
      ]
     },
     "execution_count": 17,
     "metadata": {},
     "output_type": "execute_result"
    }
   ],
   "source": [
    "lP = standardize_presentation(pairings[0][0])\n",
    "lP"
   ]
  },
  {
   "cell_type": "code",
   "execution_count": 18,
   "id": "32b6b2f0-e786-4c5c-8d2f-0836d948f3ce",
   "metadata": {},
   "outputs": [
    {
     "data": {
      "text/plain": [
       "{'generator_count': 1,\n",
       " 'generators': ['z'],\n",
       " 'substitutions': {10: 1},\n",
       " 'relation_pairs': {10: ('z', 4), 1: ('z', 1)},\n",
       " 'max_depth': 4,\n",
       " 'max_steps': 10}"
      ]
     },
     "execution_count": 18,
     "metadata": {},
     "output_type": "execute_result"
    }
   ],
   "source": [
    "rP = standardize_presentation(pairings[0][1])\n",
    "rP"
   ]
  },
  {
   "cell_type": "code",
   "execution_count": 19,
   "id": "8fbae67b-f3e0-4416-a05c-e8ddc5c0a510",
   "metadata": {},
   "outputs": [
    {
     "data": {
      "text/plain": [
       "{'generators': ['d'], 'relations': [(('d', 2), ('d', 0))]}"
      ]
     },
     "execution_count": 19,
     "metadata": {},
     "output_type": "execute_result"
    }
   ],
   "source": [
    "X_clusters[1]"
   ]
  },
  {
   "cell_type": "code",
   "execution_count": 20,
   "id": "5e465df1-8ecd-42e4-be4c-c1e28a91813a",
   "metadata": {},
   "outputs": [
    {
     "data": {
      "text/plain": [
       "{'map_by_name': {'d': 'sd', 'sd': 'd'},\n",
       " 'map_by_zz_index': {0: 1, 1: 0},\n",
       " 'index_by_label': {'d': 0, 'sd': 1},\n",
       " 'label_by_index': {0: 'd', 1: 'sd'},\n",
       " 'size': 2}"
      ]
     },
     "execution_count": 20,
     "metadata": {},
     "output_type": "execute_result"
    }
   ],
   "source": [
    "XC = reconstruct_endomap(X_clusters[1])\n",
    "XC"
   ]
  },
  {
   "cell_type": "code",
   "execution_count": 21,
   "id": "4bcd19fe-a226-441d-93a7-675bbbd057a1",
   "metadata": {},
   "outputs": [
    {
     "data": {
      "text/plain": [
       "{'map_by_name': {'m': 'sm', 'sm': 'm'},\n",
       " 'map_by_zz_index': {0: 1, 1: 0},\n",
       " 'index_by_label': {'m': 0, 'sm': 1},\n",
       " 'label_by_index': {0: 'm', 1: 'sm'},\n",
       " 'size': 2}"
      ]
     },
     "execution_count": 21,
     "metadata": {},
     "output_type": "execute_result"
    }
   ],
   "source": [
    "YC = reconstruct_endomap(Y_clusters[1])\n",
    "YC"
   ]
  },
  {
   "cell_type": "code",
   "execution_count": 22,
   "id": "d4247137-c0ae-4707-8ed6-daa7e90635d6",
   "metadata": {},
   "outputs": [
    {
     "name": "stdout",
     "output_type": "stream",
     "text": [
      "[{'a': 'x'}, {'a': 'y'}, {'a': 'z'}]\n"
     ]
    }
   ],
   "source": [
    "def make_assignments(gen,poss_vals):\n",
    "  for v in poss_vals:\n",
    "    yield {gen:v}\n",
    "\n",
    "print(list(make_assignments(\"a\",[\"x\",\"y\",\"z\"])))"
   ]
  },
  {
   "cell_type": "code",
   "execution_count": 23,
   "id": "f5f9d305-08b2-4f16-b349-8c3432fb46f0",
   "metadata": {},
   "outputs": [],
   "source": [
    "def make_map_by_assignment_vector(setA,setB,assignments):\n",
    "    return {setA[i]:setB[assignments[i]] for i in range(len(setA))}"
   ]
  },
  {
   "cell_type": "code",
   "execution_count": 24,
   "id": "fe5663e4-e983-416e-9107-422669d6338a",
   "metadata": {},
   "outputs": [
    {
     "data": {
      "text/plain": [
       "{'a': 'x', 'b': 'y', 'c': 'x'}"
      ]
     },
     "execution_count": 24,
     "metadata": {},
     "output_type": "execute_result"
    }
   ],
   "source": [
    "make_map_by_assignment_vector(['a','b','c'],['x','y'],[0,1,0])"
   ]
  },
  {
   "cell_type": "code",
   "execution_count": 25,
   "id": "f345af4a-a3ef-4aa0-a1a3-a96d6b42760a",
   "metadata": {},
   "outputs": [],
   "source": [
    "def preserves_structure(f,x_map,y_map):\n",
    "    for k,v in zip(f.keys(),f.values()):\n",
    "        #print(f\"f({k}) = {v}\")\n",
    "        alpha_x = x_map[k]\n",
    "        f_alpha_x = f[alpha_x]\n",
    "        #print(f\"alpha({k}) = {alpha_x}\")\n",
    "        #print(f\"f({alpha_x}) = {f_alpha_x}\")\n",
    "        beta_y = y_map[v]\n",
    "        #print(f\"beta({v}) = {beta_y}\")\n",
    "        if beta_y != f_alpha_x:\n",
    "              #print(\"fails to preserve structure\")\n",
    "              return False\n",
    "    return True"
   ]
  },
  {
   "cell_type": "code",
   "execution_count": 26,
   "id": "2f14653f-c5fa-42cc-b08a-7ee2ea316dfb",
   "metadata": {},
   "outputs": [
    {
     "name": "stdout",
     "output_type": "stream",
     "text": [
      "Cluster A: {'generators': ['d'], 'relations': [(('d', 2), ('d', 0))]}\n",
      "Cluster B: {'generators': ['m'], 'relations': [(('m', 2), ('m', 0))]}\n",
      "Endo A {'map_by_name': {'d': 'sd', 'sd': 'd'}, 'map_by_zz_index': {0: 1, 1: 0}, 'index_by_label': {'d': 0, 'sd': 1}, 'label_by_index': {0: 'd', 1: 'sd'}, 'size': 2}\n",
      "Endo B {'map_by_name': {'m': 'sm', 'sm': 'm'}, 'map_by_zz_index': {0: 1, 1: 0}, 'index_by_label': {'m': 0, 'sm': 1}, 'label_by_index': {0: 'm', 1: 'sm'}, 'size': 2}\n",
      "Looking through 4 maps\n",
      "Progress: 0/4\n",
      "Found Structure Preserving Map! {'d': 'sm', 'sd': 'm'}\n",
      "Found Structure Preserving Map! {'d': 'm', 'sd': 'sm'}\n"
     ]
    },
    {
     "data": {
      "text/plain": [
       "[{'d': 'sm', 'sd': 'm'}, {'d': 'm', 'sd': 'sm'}]"
      ]
     },
     "execution_count": 26,
     "metadata": {},
     "output_type": "execute_result"
    }
   ],
   "source": [
    "def make_all_maps(cA,cB):\n",
    "    print(f\"Cluster A: {cA}\\nCluster B: {cB}\")\n",
    "    endo_A = reconstruct_endomap(cA)\n",
    "    endo_B = reconstruct_endomap(cB)\n",
    "    print(f\"Endo A {endo_A}\\nEndo B {endo_B}\")\n",
    "    \n",
    "    total_maps = endo_B['size']**endo_A['size']\n",
    "    print(f\"Looking through {total_maps} maps\")\n",
    "    assignments = []\n",
    "    idx = 0\n",
    "    \n",
    "    points_in_A = list(endo_A['map_by_name'].keys())\n",
    "    size_A = len(points_in_A)\n",
    "    points_in_B = list(endo_B['map_by_name'].keys())\n",
    "    size_B = len(points_in_B)\n",
    "    last_assignment = [0]*size_A\n",
    "    \n",
    "    while idx < total_maps:   \n",
    "        if idx % 1000 == 0:\n",
    "            print(f\"Progress: {idx}/{total_maps}\")\n",
    "        new_map = make_map_by_assignment_vector(points_in_A,points_in_B,last_assignment)\n",
    "\n",
    "        if preserves_structure(new_map,endo_A['map_by_name'],endo_B['map_by_name']):\n",
    "            print(f\"Found Structure Preserving Map! {new_map}\")\n",
    "            yield new_map\n",
    "\n",
    "        idx += 1\n",
    "        last_assignment[0] += 1\n",
    "        for j in range(size_A-1):\n",
    "            if last_assignment[j]>=size_B:\n",
    "                last_assignment[j] = 0\n",
    "                last_assignment[j+1] += 1\n",
    "                \n",
    "    \n",
    "binary_maps = list(make_all_maps(X_clusters[1],Y_clusters[1]))\n",
    "binary_maps"
   ]
  },
  {
   "cell_type": "code",
   "execution_count": 27,
   "id": "b1f9546a-032e-4274-9ec0-1c91318dfb19",
   "metadata": {},
   "outputs": [
    {
     "name": "stdout",
     "output_type": "stream",
     "text": [
      "Cluster A: {'generators': ['a', 'b', 'c'], 'relations': [(('a', 5), ('a', 2)), (('a', 2), ('b', 1)), (('a', 3), ('c', 1))]}\n",
      "Cluster B: {'generators': ['z'], 'relations': [(('z', 4), ('z', 1))]}\n",
      "Endo A {'map_by_name': {'a': 'sa', 'sa': 'ssa', 'ssa': 'sssa', 'sssa': 'ssssa', 'ssssa': 'ssa', 'b': 'ssa', 'c': 'sssa'}, 'map_by_zz_index': {0: 1, 1: 3, 3: 6, 6: 10, 10: 3, 2: 3, 5: 6}, 'index_by_label': {'a': 0, 'sa': 1, 'ssa': 3, 'sssa': 6, 'ssssa': 10, 'b': 2, 'c': 5}, 'label_by_index': {0: 'a', 1: 'sa', 3: 'ssa', 6: 'sssa', 10: 'ssssa', 2: 'b', 5: 'c'}, 'size': 7}\n",
      "Endo B {'map_by_name': {'z': 'sz', 'sz': 'ssz', 'ssz': 'sssz', 'sssz': 'sz'}, 'map_by_zz_index': {0: 1, 1: 3, 3: 6, 6: 1}, 'index_by_label': {'z': 0, 'sz': 1, 'ssz': 3, 'sssz': 6}, 'label_by_index': {0: 'z', 1: 'sz', 3: 'ssz', 6: 'sssz'}, 'size': 4}\n",
      "Looking through 16384 maps\n",
      "Progress: 0/16384\n",
      "Progress: 1000/16384\n",
      "Progress: 2000/16384\n",
      "Found Structure Preserving Map! {'a': 'sz', 'sa': 'ssz', 'ssa': 'sssz', 'sssa': 'sz', 'ssssa': 'ssz', 'b': 'ssz', 'c': 'z'}\n",
      "Progress: 3000/16384\n",
      "Progress: 4000/16384\n",
      "Progress: 5000/16384\n",
      "Found Structure Preserving Map! {'a': 'ssz', 'sa': 'sssz', 'ssa': 'sz', 'sssa': 'ssz', 'ssssa': 'sssz', 'b': 'z', 'c': 'sz'}\n",
      "Progress: 6000/16384\n",
      "Progress: 7000/16384\n",
      "Progress: 8000/16384\n",
      "Found Structure Preserving Map! {'a': 'ssz', 'sa': 'sssz', 'ssa': 'sz', 'sssa': 'ssz', 'ssssa': 'sssz', 'b': 'sssz', 'c': 'sz'}\n",
      "Progress: 9000/16384\n",
      "Found Structure Preserving Map! {'a': 'z', 'sa': 'sz', 'ssa': 'ssz', 'sssa': 'sssz', 'ssssa': 'sz', 'b': 'sz', 'c': 'ssz'}\n",
      "Found Structure Preserving Map! {'a': 'sssz', 'sa': 'sz', 'ssa': 'ssz', 'sssa': 'sssz', 'ssssa': 'sz', 'b': 'sz', 'c': 'ssz'}\n",
      "Progress: 10000/16384\n",
      "Progress: 11000/16384\n",
      "Progress: 12000/16384\n",
      "Progress: 13000/16384\n",
      "Progress: 14000/16384\n",
      "Found Structure Preserving Map! {'a': 'sz', 'sa': 'ssz', 'ssa': 'sssz', 'sssa': 'sz', 'ssssa': 'ssz', 'b': 'ssz', 'c': 'sssz'}\n",
      "Progress: 15000/16384\n",
      "Progress: 16000/16384\n"
     ]
    },
    {
     "data": {
      "text/plain": [
       "[{'a': 'sz',\n",
       "  'sa': 'ssz',\n",
       "  'ssa': 'sssz',\n",
       "  'sssa': 'sz',\n",
       "  'ssssa': 'ssz',\n",
       "  'b': 'ssz',\n",
       "  'c': 'z'},\n",
       " {'a': 'ssz',\n",
       "  'sa': 'sssz',\n",
       "  'ssa': 'sz',\n",
       "  'sssa': 'ssz',\n",
       "  'ssssa': 'sssz',\n",
       "  'b': 'z',\n",
       "  'c': 'sz'},\n",
       " {'a': 'ssz',\n",
       "  'sa': 'sssz',\n",
       "  'ssa': 'sz',\n",
       "  'sssa': 'ssz',\n",
       "  'ssssa': 'sssz',\n",
       "  'b': 'sssz',\n",
       "  'c': 'sz'},\n",
       " {'a': 'z',\n",
       "  'sa': 'sz',\n",
       "  'ssa': 'ssz',\n",
       "  'sssa': 'sssz',\n",
       "  'ssssa': 'sz',\n",
       "  'b': 'sz',\n",
       "  'c': 'ssz'},\n",
       " {'a': 'sssz',\n",
       "  'sa': 'sz',\n",
       "  'ssa': 'ssz',\n",
       "  'sssa': 'sssz',\n",
       "  'ssssa': 'sz',\n",
       "  'b': 'sz',\n",
       "  'c': 'ssz'},\n",
       " {'a': 'sz',\n",
       "  'sa': 'ssz',\n",
       "  'ssa': 'sssz',\n",
       "  'sssa': 'sz',\n",
       "  'ssssa': 'ssz',\n",
       "  'b': 'ssz',\n",
       "  'c': 'sssz'}]"
      ]
     },
     "execution_count": 27,
     "metadata": {},
     "output_type": "execute_result"
    }
   ],
   "source": [
    "list(make_all_maps(X_clusters[0],Y_clusters[2]))"
   ]
  }
 ],
 "metadata": {
  "kernelspec": {
   "display_name": "Python 3 (ipykernel)",
   "language": "python",
   "name": "python3"
  },
  "language_info": {
   "codemirror_mode": {
    "name": "ipython",
    "version": 3
   },
   "file_extension": ".py",
   "mimetype": "text/x-python",
   "name": "python",
   "nbconvert_exporter": "python",
   "pygments_lexer": "ipython3",
   "version": "3.10.12"
  }
 },
 "nbformat": 4,
 "nbformat_minor": 5
}

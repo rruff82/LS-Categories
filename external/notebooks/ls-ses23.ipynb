{
 "cells": [
  {
   "cell_type": "code",
   "execution_count": 1,
   "id": "83d509ac-72aa-4e43-a56e-91ad04a0d7a4",
   "metadata": {},
   "outputs": [],
   "source": [
    "import numpy as np\n",
    "import networkx as nx\n",
    "import matplotlib.pyplot as plt\n",
    "from session15 import get_session15_endomaps, make_presentation"
   ]
  },
  {
   "cell_type": "code",
   "execution_count": 2,
   "id": "09c739b2-afee-411f-b389-b24a70ed51aa",
   "metadata": {},
   "outputs": [],
   "source": [
    "XG,YG = get_session15_endomaps()\n"
   ]
  },
  {
   "cell_type": "code",
   "execution_count": 3,
   "id": "c00e0b77-4b9f-4267-8783-ccfb40ea9062",
   "metadata": {},
   "outputs": [],
   "source": [
    "XM = nx.adjacency_matrix(XG)\n"
   ]
  },
  {
   "cell_type": "code",
   "execution_count": 4,
   "id": "ede3b555-f3b3-4322-8c93-39be503883c4",
   "metadata": {},
   "outputs": [
    {
     "data": {
      "text/plain": [
       "False"
      ]
     },
     "execution_count": 4,
     "metadata": {},
     "output_type": "execute_result"
    }
   ],
   "source": [
    "np.all([True,True,True,False])"
   ]
  },
  {
   "cell_type": "code",
   "execution_count": 5,
   "id": "ccb6e479-ff38-4b55-aca1-73b61fa95664",
   "metadata": {},
   "outputs": [
    {
     "data": {
      "text/plain": [
       "([array([1, 1, 1, 1, 1, 1, 1, 1, 1]),\n",
       "  array([0, 0, 0, 1, 1, 3, 2, 1, 1], dtype=int32),\n",
       "  array([0, 0, 0, 1, 0, 2, 3, 2, 1], dtype=int32),\n",
       "  array([0, 0, 0, 1, 0, 2, 2, 3, 1], dtype=int32),\n",
       "  array([0, 0, 0, 1, 0, 3, 2, 2, 1], dtype=int32),\n",
       "  array([0, 0, 0, 1, 0, 2, 3, 2, 1], dtype=int32)],\n",
       " 3)"
      ]
     },
     "execution_count": 5,
     "metadata": {},
     "output_type": "execute_result"
    }
   ],
   "source": [
    "def find_cycle_from_matrix(M,v=None):\n",
    "    my_vec = v if v is not None else np.full((M.shape[0],),1)\n",
    "    powers_of_M = [my_vec]\n",
    "    i = 0\n",
    "    next_power = M\n",
    "    while np.all(list(map(lambda x: np.any(my_vec @ next_power != x),powers_of_M))):\n",
    "        i += 1\n",
    "        powers_of_M.append(my_vec @ next_power)\n",
    "        next_power = next_power @ M\n",
    "    incident_at = list(map(lambda x: np.any(my_vec @ next_power != x),powers_of_M)).index(False)\n",
    "    num_steps = len(powers_of_M)\n",
    "    powers_of_M.append(my_vec @ next_power)\n",
    "    return powers_of_M, num_steps-incident_at\n",
    "        \n",
    "find_cycle_from_matrix(XM)"
   ]
  },
  {
   "cell_type": "code",
   "execution_count": 6,
   "id": "3a06f20c-bd16-4cb7-9d83-489c7aa76614",
   "metadata": {},
   "outputs": [
    {
     "data": {
      "text/plain": [
       "([array([1, 1, 1, 1, 1, 1, 1, 1, 1, 1, 1, 1, 1]),\n",
       "  array([0, 0, 2, 1, 2, 1, 1, 1, 1, 1, 1, 2, 0], dtype=int32),\n",
       "  array([0, 0, 0, 1, 3, 2, 1, 1, 1, 2, 1, 1, 0], dtype=int32),\n",
       "  array([0, 0, 0, 1, 1, 3, 2, 1, 1, 1, 2, 1, 0], dtype=int32),\n",
       "  array([0, 0, 0, 2, 1, 1, 3, 1, 1, 1, 1, 2, 0], dtype=int32),\n",
       "  array([0, 0, 0, 3, 2, 1, 1, 1, 1, 2, 1, 1, 0], dtype=int32),\n",
       "  array([0, 0, 0, 1, 3, 2, 1, 1, 1, 1, 2, 1, 0], dtype=int32),\n",
       "  array([0, 0, 0, 1, 1, 3, 2, 1, 1, 1, 1, 2, 0], dtype=int32),\n",
       "  array([0, 0, 0, 2, 1, 1, 3, 1, 1, 2, 1, 1, 0], dtype=int32),\n",
       "  array([0, 0, 0, 3, 2, 1, 1, 1, 1, 1, 2, 1, 0], dtype=int32),\n",
       "  array([0, 0, 0, 1, 3, 2, 1, 1, 1, 1, 1, 2, 0], dtype=int32),\n",
       "  array([0, 0, 0, 1, 1, 3, 2, 1, 1, 2, 1, 1, 0], dtype=int32),\n",
       "  array([0, 0, 0, 2, 1, 1, 3, 1, 1, 1, 2, 1, 0], dtype=int32),\n",
       "  array([0, 0, 0, 3, 2, 1, 1, 1, 1, 1, 1, 2, 0], dtype=int32),\n",
       "  array([0, 0, 0, 1, 3, 2, 1, 1, 1, 2, 1, 1, 0], dtype=int32)],\n",
       " 12)"
      ]
     },
     "execution_count": 6,
     "metadata": {},
     "output_type": "execute_result"
    }
   ],
   "source": [
    "YM = nx.adjacency_matrix(YG)\n",
    "find_cycle_from_matrix(YM)"
   ]
  },
  {
   "cell_type": "code",
   "execution_count": 7,
   "id": "4af3f0fc-2746-4585-a57c-ea399e47b99e",
   "metadata": {},
   "outputs": [],
   "source": [
    "PRIME_NUMBERS = [2]"
   ]
  },
  {
   "cell_type": "code",
   "execution_count": 8,
   "id": "19dd668e-d7de-4293-907c-5058c012df1a",
   "metadata": {},
   "outputs": [
    {
     "data": {
      "text/plain": [
       "[True]"
      ]
     },
     "execution_count": 8,
     "metadata": {},
     "output_type": "execute_result"
    }
   ],
   "source": [
    "list(map(lambda x: 3 % x != 0,PRIME_NUMBERS))"
   ]
  },
  {
   "cell_type": "code",
   "execution_count": 9,
   "id": "33bb69d7-af8d-42b7-922c-ae3693b49a32",
   "metadata": {},
   "outputs": [],
   "source": [
    "PRIME_NUMBERS = [2]\n",
    "\n",
    "def prime_number_by_index(n):\n",
    "    global PRIME_NUMBERS\n",
    "    while n >= len(PRIME_NUMBERS):\n",
    "        # sieve next prime\n",
    "        p_n = PRIME_NUMBERS[-1]+1\n",
    "        while not np.all(list(map(lambda x: p_n % x != 0,PRIME_NUMBERS))):\n",
    "            p_n += 1\n",
    "        PRIME_NUMBERS.append(p_n)\n",
    "    return PRIME_NUMBERS[n]\n",
    "    \n",
    "        "
   ]
  },
  {
   "cell_type": "code",
   "execution_count": 10,
   "id": "97861e13-ef14-41b2-8ce1-f9c4a7fb0f09",
   "metadata": {},
   "outputs": [
    {
     "data": {
      "text/plain": [
       "[2, 3, 5, 7, 11, 13, 17, 19, 23, 29, 31, 37, 41, 43, 47]"
      ]
     },
     "execution_count": 10,
     "metadata": {},
     "output_type": "execute_result"
    }
   ],
   "source": [
    "list(map(prime_number_by_index,range(15)))"
   ]
  },
  {
   "cell_type": "code",
   "execution_count": 11,
   "id": "b573c3e6-0563-4b9f-b514-49d4febde452",
   "metadata": {},
   "outputs": [
    {
     "data": {
      "text/plain": [
       "45"
      ]
     },
     "execution_count": 11,
     "metadata": {},
     "output_type": "execute_result"
    }
   ],
   "source": [
    "from functools import reduce\n",
    "def power_of_primes_map(v):\n",
    "    size = len(v)\n",
    "    prime_vec = map(prime_number_by_index,range(size))\n",
    "    powers = [p**v[i] for i,p in enumerate(prime_vec)]\n",
    "    return reduce(lambda x, y: x*y, powers) if len(powers) else 0\n",
    "\n",
    "power_of_primes_map([0, 2, 1])"
   ]
  },
  {
   "cell_type": "code",
   "execution_count": 12,
   "id": "a343db95-7a5e-427b-807d-5a254c979b5c",
   "metadata": {},
   "outputs": [
    {
     "data": {
      "text/plain": [
       "1"
      ]
     },
     "execution_count": 12,
     "metadata": {},
     "output_type": "execute_result"
    }
   ],
   "source": [
    "power_of_primes_map([0,0,0,0,0])"
   ]
  },
  {
   "cell_type": "code",
   "execution_count": 13,
   "id": "16f3e3aa-2970-4841-b936-d35215e72786",
   "metadata": {},
   "outputs": [
    {
     "data": {
      "text/plain": [
       "0"
      ]
     },
     "execution_count": 13,
     "metadata": {},
     "output_type": "execute_result"
    }
   ],
   "source": [
    "power_of_primes_map([])"
   ]
  },
  {
   "cell_type": "code",
   "execution_count": 14,
   "id": "87d39199-2f15-466f-8d77-cb790813beea",
   "metadata": {},
   "outputs": [
    {
     "data": {
      "text/plain": [
       "3"
      ]
     },
     "execution_count": 14,
     "metadata": {},
     "output_type": "execute_result"
    }
   ],
   "source": [
    "def modular_division(n,p):\n",
    "    i = 1\n",
    "    power = p\n",
    "    modulo = n%power\n",
    "    while power < n and modulo == 0:\n",
    "        i += 1\n",
    "        power *= p\n",
    "        modulo = n%power\n",
    "    return i if modulo == 0 else i-1\n",
    "\n",
    "modular_division(40,2)"
   ]
  },
  {
   "cell_type": "code",
   "execution_count": 15,
   "id": "5d4cf162-e747-4c7d-99be-a6e7c541eb1e",
   "metadata": {},
   "outputs": [
    {
     "data": {
      "text/plain": [
       "[3, 0, 0, 1]"
      ]
     },
     "execution_count": 15,
     "metadata": {},
     "output_type": "execute_result"
    }
   ],
   "source": [
    "def prime_factorization(n):\n",
    "    i = 0\n",
    "    prime_powers = []\n",
    "    next_prime = prime_number_by_index(i)\n",
    "    while n >= next_prime:\n",
    "        #print(f\"Checking {n} for divisibility by {next_prime}\")\n",
    "        div_res = modular_division(n,next_prime)\n",
    "        prime_powers.append(div_res)\n",
    "        if div_res > 0:\n",
    "            n = int(n/(next_prime**div_res))\n",
    "        i += 1\n",
    "        next_prime = prime_number_by_index(i)\n",
    "    return prime_powers\n",
    "\n",
    "prime_factorization(56)"
   ]
  },
  {
   "cell_type": "code",
   "execution_count": 16,
   "id": "84bfbec9-075a-44af-a5a2-0c73db97b62e",
   "metadata": {},
   "outputs": [
    {
     "data": {
      "text/plain": [
       "[[], [], [1], [0, 1], [2], [0, 0, 1], [1, 1], [0, 0, 0, 1], [3], [0, 2]]"
      ]
     },
     "execution_count": 16,
     "metadata": {},
     "output_type": "execute_result"
    }
   ],
   "source": [
    "list(map(prime_factorization,range(10)))"
   ]
  },
  {
   "cell_type": "code",
   "execution_count": 17,
   "id": "694fe980-570c-4bf8-970f-9e6da8a1518f",
   "metadata": {},
   "outputs": [
    {
     "data": {
      "text/plain": [
       "[0, 0, 1, 2, 1, 3, 2, 4, 1, 2]"
      ]
     },
     "execution_count": 17,
     "metadata": {},
     "output_type": "execute_result"
    }
   ],
   "source": [
    "list(map(len,map(prime_factorization,range(10))))"
   ]
  },
  {
   "cell_type": "code",
   "execution_count": 18,
   "id": "a3ca9c16-c4cf-4fda-8f89-18ca38d11aa8",
   "metadata": {},
   "outputs": [
    {
     "name": "stdout",
     "output_type": "stream",
     "text": [
      "[array([1, 1, 1, 1, 1, 1, 1, 1, 1]), array([0, 0, 0, 1, 1, 3, 2, 1, 1], dtype=int32), array([0, 0, 0, 1, 0, 2, 3, 2, 1], dtype=int32), array([0, 0, 0, 1, 0, 2, 2, 3, 1], dtype=int32), array([0, 0, 0, 1, 0, 3, 2, 2, 1], dtype=int32), array([0, 0, 0, 1, 0, 2, 3, 2, 1], dtype=int32)]\n",
      "3\n"
     ]
    }
   ],
   "source": [
    "X_cycle,X_cycle_length = find_cycle_from_matrix(XM)\n",
    "print(X_cycle)\n",
    "print(X_cycle_length)\n"
   ]
  },
  {
   "cell_type": "code",
   "execution_count": 19,
   "id": "a9746d82-3370-4661-a0ef-24f6090c5c94",
   "metadata": {},
   "outputs": [
    {
     "name": "stdout",
     "output_type": "stream",
     "text": [
      "[array([1, 1, 1, 1, 1, 1, 1, 1, 1, 1, 1, 1, 1]), array([0, 0, 2, 1, 2, 1, 1, 1, 1, 1, 1, 2, 0], dtype=int32), array([0, 0, 0, 1, 3, 2, 1, 1, 1, 2, 1, 1, 0], dtype=int32), array([0, 0, 0, 1, 1, 3, 2, 1, 1, 1, 2, 1, 0], dtype=int32), array([0, 0, 0, 2, 1, 1, 3, 1, 1, 1, 1, 2, 0], dtype=int32), array([0, 0, 0, 3, 2, 1, 1, 1, 1, 2, 1, 1, 0], dtype=int32), array([0, 0, 0, 1, 3, 2, 1, 1, 1, 1, 2, 1, 0], dtype=int32), array([0, 0, 0, 1, 1, 3, 2, 1, 1, 1, 1, 2, 0], dtype=int32), array([0, 0, 0, 2, 1, 1, 3, 1, 1, 2, 1, 1, 0], dtype=int32), array([0, 0, 0, 3, 2, 1, 1, 1, 1, 1, 2, 1, 0], dtype=int32), array([0, 0, 0, 1, 3, 2, 1, 1, 1, 1, 1, 2, 0], dtype=int32), array([0, 0, 0, 1, 1, 3, 2, 1, 1, 2, 1, 1, 0], dtype=int32), array([0, 0, 0, 2, 1, 1, 3, 1, 1, 1, 2, 1, 0], dtype=int32), array([0, 0, 0, 3, 2, 1, 1, 1, 1, 1, 1, 2, 0], dtype=int32), array([0, 0, 0, 1, 3, 2, 1, 1, 1, 2, 1, 1, 0], dtype=int32)]\n",
      "12\n"
     ]
    }
   ],
   "source": [
    "Y_cycle,Y_cycle_length = find_cycle_from_matrix(YM)\n",
    "print(Y_cycle)\n",
    "print(Y_cycle_length)"
   ]
  },
  {
   "cell_type": "code",
   "execution_count": 20,
   "id": "60946a20-8753-4a92-ab14-341080dceeeb",
   "metadata": {},
   "outputs": [
    {
     "data": {
      "text/plain": [
       "[0, 0, 0, 1, 0]"
      ]
     },
     "execution_count": 20,
     "metadata": {},
     "output_type": "execute_result"
    }
   ],
   "source": [
    "def make_one_hot(size,idx):\n",
    "    assert idx < size\n",
    "    return [1 if i == idx else 0 for i in range(size)]\n",
    "make_one_hot(5,3)\n"
   ]
  },
  {
   "cell_type": "code",
   "execution_count": 21,
   "id": "bb2c9e34-eebc-4d62-b7b1-f459ae837378",
   "metadata": {},
   "outputs": [],
   "source": [
    "def find_all_cycles_from_matrix(M):\n",
    "    size = M.shape[0]\n",
    "    cycles_by_length = {}\n",
    "    for i in range(size):\n",
    "        one_hot = make_one_hot(size,i)\n",
    "        print(one_hot)\n",
    "        cycle,cycle_length = find_cycle_from_matrix(M,one_hot)\n",
    "        print(f\"found cycle of length {cycle_length}:\\n\\t{cycle}\")\n",
    "        old_cycle_list = cycles_by_length[cycle_length] if cycle_length in cycles_by_length else []\n",
    "        cycles_by_length[cycle_length] = old_cycle_list+[(i,cycle)]\n",
    "    return cycles_by_length"
   ]
  },
  {
   "cell_type": "code",
   "execution_count": 22,
   "id": "464d34cf-0b9d-4819-a7b9-811328fbdf20",
   "metadata": {},
   "outputs": [
    {
     "name": "stdout",
     "output_type": "stream",
     "text": [
      "[1, 0, 0, 0, 0, 0, 0, 0, 0]\n",
      "found cycle of length 3:\n",
      "\t[[1, 0, 0, 0, 0, 0, 0, 0, 0], array([0, 0, 0, 0, 1, 0, 0, 0, 0], dtype=int32), array([0, 0, 0, 0, 0, 1, 0, 0, 0], dtype=int32), array([0, 0, 0, 0, 0, 0, 1, 0, 0], dtype=int32), array([0, 0, 0, 0, 0, 0, 0, 1, 0], dtype=int32), array([0, 0, 0, 0, 0, 1, 0, 0, 0], dtype=int32)]\n",
      "[0, 1, 0, 0, 0, 0, 0, 0, 0]\n",
      "found cycle of length 3:\n",
      "\t[[0, 1, 0, 0, 0, 0, 0, 0, 0], array([0, 0, 0, 0, 0, 1, 0, 0, 0], dtype=int32), array([0, 0, 0, 0, 0, 0, 1, 0, 0], dtype=int32), array([0, 0, 0, 0, 0, 0, 0, 1, 0], dtype=int32), array([0, 0, 0, 0, 0, 1, 0, 0, 0], dtype=int32)]\n",
      "[0, 0, 1, 0, 0, 0, 0, 0, 0]\n",
      "found cycle of length 3:\n",
      "\t[[0, 0, 1, 0, 0, 0, 0, 0, 0], array([0, 0, 0, 0, 0, 0, 1, 0, 0], dtype=int32), array([0, 0, 0, 0, 0, 0, 0, 1, 0], dtype=int32), array([0, 0, 0, 0, 0, 1, 0, 0, 0], dtype=int32), array([0, 0, 0, 0, 0, 0, 1, 0, 0], dtype=int32)]\n",
      "[0, 0, 0, 1, 0, 0, 0, 0, 0]\n",
      "found cycle of length 2:\n",
      "\t[[0, 0, 0, 1, 0, 0, 0, 0, 0], array([0, 0, 0, 0, 0, 0, 0, 0, 1], dtype=int32), array([0, 0, 0, 1, 0, 0, 0, 0, 0], dtype=int32)]\n",
      "[0, 0, 0, 0, 1, 0, 0, 0, 0]\n",
      "found cycle of length 3:\n",
      "\t[[0, 0, 0, 0, 1, 0, 0, 0, 0], array([0, 0, 0, 0, 0, 1, 0, 0, 0], dtype=int32), array([0, 0, 0, 0, 0, 0, 1, 0, 0], dtype=int32), array([0, 0, 0, 0, 0, 0, 0, 1, 0], dtype=int32), array([0, 0, 0, 0, 0, 1, 0, 0, 0], dtype=int32)]\n",
      "[0, 0, 0, 0, 0, 1, 0, 0, 0]\n",
      "found cycle of length 3:\n",
      "\t[[0, 0, 0, 0, 0, 1, 0, 0, 0], array([0, 0, 0, 0, 0, 0, 1, 0, 0], dtype=int32), array([0, 0, 0, 0, 0, 0, 0, 1, 0], dtype=int32), array([0, 0, 0, 0, 0, 1, 0, 0, 0], dtype=int32)]\n",
      "[0, 0, 0, 0, 0, 0, 1, 0, 0]\n",
      "found cycle of length 3:\n",
      "\t[[0, 0, 0, 0, 0, 0, 1, 0, 0], array([0, 0, 0, 0, 0, 0, 0, 1, 0], dtype=int32), array([0, 0, 0, 0, 0, 1, 0, 0, 0], dtype=int32), array([0, 0, 0, 0, 0, 0, 1, 0, 0], dtype=int32)]\n",
      "[0, 0, 0, 0, 0, 0, 0, 1, 0]\n",
      "found cycle of length 3:\n",
      "\t[[0, 0, 0, 0, 0, 0, 0, 1, 0], array([0, 0, 0, 0, 0, 1, 0, 0, 0], dtype=int32), array([0, 0, 0, 0, 0, 0, 1, 0, 0], dtype=int32), array([0, 0, 0, 0, 0, 0, 0, 1, 0], dtype=int32)]\n",
      "[0, 0, 0, 0, 0, 0, 0, 0, 1]\n",
      "found cycle of length 2:\n",
      "\t[[0, 0, 0, 0, 0, 0, 0, 0, 1], array([0, 0, 0, 1, 0, 0, 0, 0, 0], dtype=int32), array([0, 0, 0, 0, 0, 0, 0, 0, 1], dtype=int32)]\n",
      "{3: [(0, [[1, 0, 0, 0, 0, 0, 0, 0, 0], array([0, 0, 0, 0, 1, 0, 0, 0, 0], dtype=int32), array([0, 0, 0, 0, 0, 1, 0, 0, 0], dtype=int32), array([0, 0, 0, 0, 0, 0, 1, 0, 0], dtype=int32), array([0, 0, 0, 0, 0, 0, 0, 1, 0], dtype=int32), array([0, 0, 0, 0, 0, 1, 0, 0, 0], dtype=int32)]), (1, [[0, 1, 0, 0, 0, 0, 0, 0, 0], array([0, 0, 0, 0, 0, 1, 0, 0, 0], dtype=int32), array([0, 0, 0, 0, 0, 0, 1, 0, 0], dtype=int32), array([0, 0, 0, 0, 0, 0, 0, 1, 0], dtype=int32), array([0, 0, 0, 0, 0, 1, 0, 0, 0], dtype=int32)]), (2, [[0, 0, 1, 0, 0, 0, 0, 0, 0], array([0, 0, 0, 0, 0, 0, 1, 0, 0], dtype=int32), array([0, 0, 0, 0, 0, 0, 0, 1, 0], dtype=int32), array([0, 0, 0, 0, 0, 1, 0, 0, 0], dtype=int32), array([0, 0, 0, 0, 0, 0, 1, 0, 0], dtype=int32)]), (4, [[0, 0, 0, 0, 1, 0, 0, 0, 0], array([0, 0, 0, 0, 0, 1, 0, 0, 0], dtype=int32), array([0, 0, 0, 0, 0, 0, 1, 0, 0], dtype=int32), array([0, 0, 0, 0, 0, 0, 0, 1, 0], dtype=int32), array([0, 0, 0, 0, 0, 1, 0, 0, 0], dtype=int32)]), (5, [[0, 0, 0, 0, 0, 1, 0, 0, 0], array([0, 0, 0, 0, 0, 0, 1, 0, 0], dtype=int32), array([0, 0, 0, 0, 0, 0, 0, 1, 0], dtype=int32), array([0, 0, 0, 0, 0, 1, 0, 0, 0], dtype=int32)]), (6, [[0, 0, 0, 0, 0, 0, 1, 0, 0], array([0, 0, 0, 0, 0, 0, 0, 1, 0], dtype=int32), array([0, 0, 0, 0, 0, 1, 0, 0, 0], dtype=int32), array([0, 0, 0, 0, 0, 0, 1, 0, 0], dtype=int32)]), (7, [[0, 0, 0, 0, 0, 0, 0, 1, 0], array([0, 0, 0, 0, 0, 1, 0, 0, 0], dtype=int32), array([0, 0, 0, 0, 0, 0, 1, 0, 0], dtype=int32), array([0, 0, 0, 0, 0, 0, 0, 1, 0], dtype=int32)])], 2: [(3, [[0, 0, 0, 1, 0, 0, 0, 0, 0], array([0, 0, 0, 0, 0, 0, 0, 0, 1], dtype=int32), array([0, 0, 0, 1, 0, 0, 0, 0, 0], dtype=int32)]), (8, [[0, 0, 0, 0, 0, 0, 0, 0, 1], array([0, 0, 0, 1, 0, 0, 0, 0, 0], dtype=int32), array([0, 0, 0, 0, 0, 0, 0, 0, 1], dtype=int32)])]}\n"
     ]
    }
   ],
   "source": [
    "X_cycles = find_all_cycles_from_matrix(XM)\n",
    "print(X_cycles)"
   ]
  },
  {
   "cell_type": "code",
   "execution_count": 23,
   "id": "4ceb8b2a-48e0-475e-b6e2-dac528051298",
   "metadata": {},
   "outputs": [
    {
     "name": "stdout",
     "output_type": "stream",
     "text": [
      "[1, 0, 0, 0, 0, 0, 0, 0, 0, 0, 0, 0, 0]\n",
      "found cycle of length 4:\n",
      "\t[[1, 0, 0, 0, 0, 0, 0, 0, 0, 0, 0, 0, 0], array([0, 0, 1, 0, 0, 0, 0, 0, 0, 0, 0, 0, 0], dtype=int32), array([0, 0, 0, 0, 1, 0, 0, 0, 0, 0, 0, 0, 0], dtype=int32), array([0, 0, 0, 0, 0, 1, 0, 0, 0, 0, 0, 0, 0], dtype=int32), array([0, 0, 0, 0, 0, 0, 1, 0, 0, 0, 0, 0, 0], dtype=int32), array([0, 0, 0, 1, 0, 0, 0, 0, 0, 0, 0, 0, 0], dtype=int32), array([0, 0, 0, 0, 1, 0, 0, 0, 0, 0, 0, 0, 0], dtype=int32)]\n",
      "[0, 1, 0, 0, 0, 0, 0, 0, 0, 0, 0, 0, 0]\n",
      "found cycle of length 4:\n",
      "\t[[0, 1, 0, 0, 0, 0, 0, 0, 0, 0, 0, 0, 0], array([0, 0, 1, 0, 0, 0, 0, 0, 0, 0, 0, 0, 0], dtype=int32), array([0, 0, 0, 0, 1, 0, 0, 0, 0, 0, 0, 0, 0], dtype=int32), array([0, 0, 0, 0, 0, 1, 0, 0, 0, 0, 0, 0, 0], dtype=int32), array([0, 0, 0, 0, 0, 0, 1, 0, 0, 0, 0, 0, 0], dtype=int32), array([0, 0, 0, 1, 0, 0, 0, 0, 0, 0, 0, 0, 0], dtype=int32), array([0, 0, 0, 0, 1, 0, 0, 0, 0, 0, 0, 0, 0], dtype=int32)]\n",
      "[0, 0, 1, 0, 0, 0, 0, 0, 0, 0, 0, 0, 0]\n",
      "found cycle of length 4:\n",
      "\t[[0, 0, 1, 0, 0, 0, 0, 0, 0, 0, 0, 0, 0], array([0, 0, 0, 0, 1, 0, 0, 0, 0, 0, 0, 0, 0], dtype=int32), array([0, 0, 0, 0, 0, 1, 0, 0, 0, 0, 0, 0, 0], dtype=int32), array([0, 0, 0, 0, 0, 0, 1, 0, 0, 0, 0, 0, 0], dtype=int32), array([0, 0, 0, 1, 0, 0, 0, 0, 0, 0, 0, 0, 0], dtype=int32), array([0, 0, 0, 0, 1, 0, 0, 0, 0, 0, 0, 0, 0], dtype=int32)]\n",
      "[0, 0, 0, 1, 0, 0, 0, 0, 0, 0, 0, 0, 0]\n",
      "found cycle of length 4:\n",
      "\t[[0, 0, 0, 1, 0, 0, 0, 0, 0, 0, 0, 0, 0], array([0, 0, 0, 0, 1, 0, 0, 0, 0, 0, 0, 0, 0], dtype=int32), array([0, 0, 0, 0, 0, 1, 0, 0, 0, 0, 0, 0, 0], dtype=int32), array([0, 0, 0, 0, 0, 0, 1, 0, 0, 0, 0, 0, 0], dtype=int32), array([0, 0, 0, 1, 0, 0, 0, 0, 0, 0, 0, 0, 0], dtype=int32)]\n",
      "[0, 0, 0, 0, 1, 0, 0, 0, 0, 0, 0, 0, 0]\n",
      "found cycle of length 4:\n",
      "\t[[0, 0, 0, 0, 1, 0, 0, 0, 0, 0, 0, 0, 0], array([0, 0, 0, 0, 0, 1, 0, 0, 0, 0, 0, 0, 0], dtype=int32), array([0, 0, 0, 0, 0, 0, 1, 0, 0, 0, 0, 0, 0], dtype=int32), array([0, 0, 0, 1, 0, 0, 0, 0, 0, 0, 0, 0, 0], dtype=int32), array([0, 0, 0, 0, 1, 0, 0, 0, 0, 0, 0, 0, 0], dtype=int32)]\n",
      "[0, 0, 0, 0, 0, 1, 0, 0, 0, 0, 0, 0, 0]\n",
      "found cycle of length 4:\n",
      "\t[[0, 0, 0, 0, 0, 1, 0, 0, 0, 0, 0, 0, 0], array([0, 0, 0, 0, 0, 0, 1, 0, 0, 0, 0, 0, 0], dtype=int32), array([0, 0, 0, 1, 0, 0, 0, 0, 0, 0, 0, 0, 0], dtype=int32), array([0, 0, 0, 0, 1, 0, 0, 0, 0, 0, 0, 0, 0], dtype=int32), array([0, 0, 0, 0, 0, 1, 0, 0, 0, 0, 0, 0, 0], dtype=int32)]\n",
      "[0, 0, 0, 0, 0, 0, 1, 0, 0, 0, 0, 0, 0]\n",
      "found cycle of length 4:\n",
      "\t[[0, 0, 0, 0, 0, 0, 1, 0, 0, 0, 0, 0, 0], array([0, 0, 0, 1, 0, 0, 0, 0, 0, 0, 0, 0, 0], dtype=int32), array([0, 0, 0, 0, 1, 0, 0, 0, 0, 0, 0, 0, 0], dtype=int32), array([0, 0, 0, 0, 0, 1, 0, 0, 0, 0, 0, 0, 0], dtype=int32), array([0, 0, 0, 0, 0, 0, 1, 0, 0, 0, 0, 0, 0], dtype=int32)]\n",
      "[0, 0, 0, 0, 0, 0, 0, 1, 0, 0, 0, 0, 0]\n",
      "found cycle of length 2:\n",
      "\t[[0, 0, 0, 0, 0, 0, 0, 1, 0, 0, 0, 0, 0], array([0, 0, 0, 0, 0, 0, 0, 0, 1, 0, 0, 0, 0], dtype=int32), array([0, 0, 0, 0, 0, 0, 0, 1, 0, 0, 0, 0, 0], dtype=int32)]\n",
      "[0, 0, 0, 0, 0, 0, 0, 0, 1, 0, 0, 0, 0]\n",
      "found cycle of length 2:\n",
      "\t[[0, 0, 0, 0, 0, 0, 0, 0, 1, 0, 0, 0, 0], array([0, 0, 0, 0, 0, 0, 0, 1, 0, 0, 0, 0, 0], dtype=int32), array([0, 0, 0, 0, 0, 0, 0, 0, 1, 0, 0, 0, 0], dtype=int32)]\n",
      "[0, 0, 0, 0, 0, 0, 0, 0, 0, 1, 0, 0, 0]\n",
      "found cycle of length 3:\n",
      "\t[[0, 0, 0, 0, 0, 0, 0, 0, 0, 1, 0, 0, 0], array([0, 0, 0, 0, 0, 0, 0, 0, 0, 0, 1, 0, 0], dtype=int32), array([0, 0, 0, 0, 0, 0, 0, 0, 0, 0, 0, 1, 0], dtype=int32), array([0, 0, 0, 0, 0, 0, 0, 0, 0, 1, 0, 0, 0], dtype=int32)]\n",
      "[0, 0, 0, 0, 0, 0, 0, 0, 0, 0, 1, 0, 0]\n",
      "found cycle of length 3:\n",
      "\t[[0, 0, 0, 0, 0, 0, 0, 0, 0, 0, 1, 0, 0], array([0, 0, 0, 0, 0, 0, 0, 0, 0, 0, 0, 1, 0], dtype=int32), array([0, 0, 0, 0, 0, 0, 0, 0, 0, 1, 0, 0, 0], dtype=int32), array([0, 0, 0, 0, 0, 0, 0, 0, 0, 0, 1, 0, 0], dtype=int32)]\n",
      "[0, 0, 0, 0, 0, 0, 0, 0, 0, 0, 0, 1, 0]\n",
      "found cycle of length 3:\n",
      "\t[[0, 0, 0, 0, 0, 0, 0, 0, 0, 0, 0, 1, 0], array([0, 0, 0, 0, 0, 0, 0, 0, 0, 1, 0, 0, 0], dtype=int32), array([0, 0, 0, 0, 0, 0, 0, 0, 0, 0, 1, 0, 0], dtype=int32), array([0, 0, 0, 0, 0, 0, 0, 0, 0, 0, 0, 1, 0], dtype=int32)]\n",
      "[0, 0, 0, 0, 0, 0, 0, 0, 0, 0, 0, 0, 1]\n",
      "found cycle of length 3:\n",
      "\t[[0, 0, 0, 0, 0, 0, 0, 0, 0, 0, 0, 0, 1], array([0, 0, 0, 0, 0, 0, 0, 0, 0, 0, 0, 1, 0], dtype=int32), array([0, 0, 0, 0, 0, 0, 0, 0, 0, 1, 0, 0, 0], dtype=int32), array([0, 0, 0, 0, 0, 0, 0, 0, 0, 0, 1, 0, 0], dtype=int32), array([0, 0, 0, 0, 0, 0, 0, 0, 0, 0, 0, 1, 0], dtype=int32)]\n",
      "{4: [(0, [[1, 0, 0, 0, 0, 0, 0, 0, 0, 0, 0, 0, 0], array([0, 0, 1, 0, 0, 0, 0, 0, 0, 0, 0, 0, 0], dtype=int32), array([0, 0, 0, 0, 1, 0, 0, 0, 0, 0, 0, 0, 0], dtype=int32), array([0, 0, 0, 0, 0, 1, 0, 0, 0, 0, 0, 0, 0], dtype=int32), array([0, 0, 0, 0, 0, 0, 1, 0, 0, 0, 0, 0, 0], dtype=int32), array([0, 0, 0, 1, 0, 0, 0, 0, 0, 0, 0, 0, 0], dtype=int32), array([0, 0, 0, 0, 1, 0, 0, 0, 0, 0, 0, 0, 0], dtype=int32)]), (1, [[0, 1, 0, 0, 0, 0, 0, 0, 0, 0, 0, 0, 0], array([0, 0, 1, 0, 0, 0, 0, 0, 0, 0, 0, 0, 0], dtype=int32), array([0, 0, 0, 0, 1, 0, 0, 0, 0, 0, 0, 0, 0], dtype=int32), array([0, 0, 0, 0, 0, 1, 0, 0, 0, 0, 0, 0, 0], dtype=int32), array([0, 0, 0, 0, 0, 0, 1, 0, 0, 0, 0, 0, 0], dtype=int32), array([0, 0, 0, 1, 0, 0, 0, 0, 0, 0, 0, 0, 0], dtype=int32), array([0, 0, 0, 0, 1, 0, 0, 0, 0, 0, 0, 0, 0], dtype=int32)]), (2, [[0, 0, 1, 0, 0, 0, 0, 0, 0, 0, 0, 0, 0], array([0, 0, 0, 0, 1, 0, 0, 0, 0, 0, 0, 0, 0], dtype=int32), array([0, 0, 0, 0, 0, 1, 0, 0, 0, 0, 0, 0, 0], dtype=int32), array([0, 0, 0, 0, 0, 0, 1, 0, 0, 0, 0, 0, 0], dtype=int32), array([0, 0, 0, 1, 0, 0, 0, 0, 0, 0, 0, 0, 0], dtype=int32), array([0, 0, 0, 0, 1, 0, 0, 0, 0, 0, 0, 0, 0], dtype=int32)]), (3, [[0, 0, 0, 1, 0, 0, 0, 0, 0, 0, 0, 0, 0], array([0, 0, 0, 0, 1, 0, 0, 0, 0, 0, 0, 0, 0], dtype=int32), array([0, 0, 0, 0, 0, 1, 0, 0, 0, 0, 0, 0, 0], dtype=int32), array([0, 0, 0, 0, 0, 0, 1, 0, 0, 0, 0, 0, 0], dtype=int32), array([0, 0, 0, 1, 0, 0, 0, 0, 0, 0, 0, 0, 0], dtype=int32)]), (4, [[0, 0, 0, 0, 1, 0, 0, 0, 0, 0, 0, 0, 0], array([0, 0, 0, 0, 0, 1, 0, 0, 0, 0, 0, 0, 0], dtype=int32), array([0, 0, 0, 0, 0, 0, 1, 0, 0, 0, 0, 0, 0], dtype=int32), array([0, 0, 0, 1, 0, 0, 0, 0, 0, 0, 0, 0, 0], dtype=int32), array([0, 0, 0, 0, 1, 0, 0, 0, 0, 0, 0, 0, 0], dtype=int32)]), (5, [[0, 0, 0, 0, 0, 1, 0, 0, 0, 0, 0, 0, 0], array([0, 0, 0, 0, 0, 0, 1, 0, 0, 0, 0, 0, 0], dtype=int32), array([0, 0, 0, 1, 0, 0, 0, 0, 0, 0, 0, 0, 0], dtype=int32), array([0, 0, 0, 0, 1, 0, 0, 0, 0, 0, 0, 0, 0], dtype=int32), array([0, 0, 0, 0, 0, 1, 0, 0, 0, 0, 0, 0, 0], dtype=int32)]), (6, [[0, 0, 0, 0, 0, 0, 1, 0, 0, 0, 0, 0, 0], array([0, 0, 0, 1, 0, 0, 0, 0, 0, 0, 0, 0, 0], dtype=int32), array([0, 0, 0, 0, 1, 0, 0, 0, 0, 0, 0, 0, 0], dtype=int32), array([0, 0, 0, 0, 0, 1, 0, 0, 0, 0, 0, 0, 0], dtype=int32), array([0, 0, 0, 0, 0, 0, 1, 0, 0, 0, 0, 0, 0], dtype=int32)])], 2: [(7, [[0, 0, 0, 0, 0, 0, 0, 1, 0, 0, 0, 0, 0], array([0, 0, 0, 0, 0, 0, 0, 0, 1, 0, 0, 0, 0], dtype=int32), array([0, 0, 0, 0, 0, 0, 0, 1, 0, 0, 0, 0, 0], dtype=int32)]), (8, [[0, 0, 0, 0, 0, 0, 0, 0, 1, 0, 0, 0, 0], array([0, 0, 0, 0, 0, 0, 0, 1, 0, 0, 0, 0, 0], dtype=int32), array([0, 0, 0, 0, 0, 0, 0, 0, 1, 0, 0, 0, 0], dtype=int32)])], 3: [(9, [[0, 0, 0, 0, 0, 0, 0, 0, 0, 1, 0, 0, 0], array([0, 0, 0, 0, 0, 0, 0, 0, 0, 0, 1, 0, 0], dtype=int32), array([0, 0, 0, 0, 0, 0, 0, 0, 0, 0, 0, 1, 0], dtype=int32), array([0, 0, 0, 0, 0, 0, 0, 0, 0, 1, 0, 0, 0], dtype=int32)]), (10, [[0, 0, 0, 0, 0, 0, 0, 0, 0, 0, 1, 0, 0], array([0, 0, 0, 0, 0, 0, 0, 0, 0, 0, 0, 1, 0], dtype=int32), array([0, 0, 0, 0, 0, 0, 0, 0, 0, 1, 0, 0, 0], dtype=int32), array([0, 0, 0, 0, 0, 0, 0, 0, 0, 0, 1, 0, 0], dtype=int32)]), (11, [[0, 0, 0, 0, 0, 0, 0, 0, 0, 0, 0, 1, 0], array([0, 0, 0, 0, 0, 0, 0, 0, 0, 1, 0, 0, 0], dtype=int32), array([0, 0, 0, 0, 0, 0, 0, 0, 0, 0, 1, 0, 0], dtype=int32), array([0, 0, 0, 0, 0, 0, 0, 0, 0, 0, 0, 1, 0], dtype=int32)]), (12, [[0, 0, 0, 0, 0, 0, 0, 0, 0, 0, 0, 0, 1], array([0, 0, 0, 0, 0, 0, 0, 0, 0, 0, 0, 1, 0], dtype=int32), array([0, 0, 0, 0, 0, 0, 0, 0, 0, 1, 0, 0, 0], dtype=int32), array([0, 0, 0, 0, 0, 0, 0, 0, 0, 0, 1, 0, 0], dtype=int32), array([0, 0, 0, 0, 0, 0, 0, 0, 0, 0, 0, 1, 0], dtype=int32)])]}\n"
     ]
    }
   ],
   "source": [
    "Y_cycles = find_all_cycles_from_matrix(YM)\n",
    "print(Y_cycles)"
   ]
  },
  {
   "cell_type": "code",
   "execution_count": 24,
   "id": "6541f249-7867-4440-a9f9-91c88d781a69",
   "metadata": {},
   "outputs": [
    {
     "name": "stdout",
     "output_type": "stream",
     "text": [
      "{'generators': ['X0', 'X1', 'X2', 'X3'], 'relations': [(('X0', 5), ('X0', 2)), (('X1', 1), ('X0', 2)), (('X2', 1), ('X0', 3)), (('X3', 2), ('X3', 0))]}\n",
      "{'generators': ['Yp', 'Yq', 'Yz', 'Ym'], 'relations': [(('Yp', 6), ('Yp', 2)), (('Yq', 1), ('Yp', 1)), (('Yz', 4), ('Yz', 1)), (('Ym', 2), ('Ym', 0))]}\n"
     ]
    }
   ],
   "source": [
    "X_pres = make_presentation(XG)\n",
    "print(X_pres)\n",
    "Y_pres = make_presentation(YG)\n",
    "print(Y_pres)\n"
   ]
  },
  {
   "cell_type": "code",
   "execution_count": 25,
   "id": "3d1bcd2a-d68d-4e8e-bfee-e2d6f5f69ecb",
   "metadata": {},
   "outputs": [
    {
     "name": "stdout",
     "output_type": "stream",
     "text": [
      "{'generators': [0, 1, 2, 3], 'relations': [((0, 5), (0, 2)), ((1, 1), (0, 2)), ((2, 1), (0, 3)), ((3, 2), (3, 0))], 'retraction': {'X0': 0, 'X1': 1, 'X2': 2, 'X3': 3}}\n"
     ]
    }
   ],
   "source": [
    "def map_N_to_Generators(pres):\n",
    "    names = {g:i for i,g in enumerate(pres['generators'])}\n",
    "    return {\n",
    "        'generators':list(map(lambda x: names[x],pres['generators'])),\n",
    "        'relations':list(map(lambda x: ((names[x[0][0]],x[0][1]),(names[x[1][0]],x[1][1])),pres['relations'])),\n",
    "        'retraction':names\n",
    "    }\n",
    "X_pres_N = map_N_to_Generators(X_pres)\n",
    "print(X_pres_N)"
   ]
  },
  {
   "cell_type": "code",
   "execution_count": 26,
   "id": "0d8ab4a2-120d-4333-b170-0648593a0d99",
   "metadata": {},
   "outputs": [
    {
     "name": "stdout",
     "output_type": "stream",
     "text": [
      "{'generators': [0, 1, 2, 3], 'relations': [((0, 6), (0, 2)), ((1, 1), (0, 1)), ((2, 4), (2, 1)), ((3, 2), (3, 0))], 'retraction': {'Yp': 0, 'Yq': 1, 'Yz': 2, 'Ym': 3}}\n"
     ]
    }
   ],
   "source": [
    "Y_pres_N = map_N_to_Generators(Y_pres)\n",
    "print(Y_pres_N)"
   ]
  },
  {
   "cell_type": "code",
   "execution_count": 27,
   "id": "6587a485-af7d-419e-9027-fc6d1c451371",
   "metadata": {},
   "outputs": [
    {
     "data": {
      "text/plain": [
       "[[((0, 5), (0, 2)), ((1, 1), (0, 2)), ((2, 1), (0, 3))],\n",
       " [((1, 1), (0, 2))],\n",
       " [((2, 1), (0, 3))],\n",
       " [((3, 2), (3, 0))]]"
      ]
     },
     "execution_count": 27,
     "metadata": {},
     "output_type": "execute_result"
    }
   ],
   "source": [
    "# for each generator, I want to know what relations it's referenced in\n",
    "def relations_by_generator(relations,gen):\n",
    "    return list(filter(lambda x: x[0][0] == gen or x[1][0] == gen,relations))\n",
    "[relations_by_generator(X_pres_N[\"relations\"],i) for i in X_pres_N[\"generators\"]]\n"
   ]
  },
  {
   "cell_type": "code",
   "execution_count": 28,
   "id": "f4fa3537-64a8-475a-b0de-cb6318b63168",
   "metadata": {},
   "outputs": [
    {
     "data": {
      "text/plain": [
       "[[((0, 6), (0, 2)), ((1, 1), (0, 1))],\n",
       " [((1, 1), (0, 1))],\n",
       " [((2, 4), (2, 1))],\n",
       " [((3, 2), (3, 0))]]"
      ]
     },
     "execution_count": 28,
     "metadata": {},
     "output_type": "execute_result"
    }
   ],
   "source": [
    "[relations_by_generator(Y_pres_N[\"relations\"],i) for i in Y_pres_N[\"generators\"]]"
   ]
  },
  {
   "cell_type": "code",
   "execution_count": 29,
   "id": "6b281dc4-86aa-48a9-9f47-1dc7aff0dbc6",
   "metadata": {},
   "outputs": [
    {
     "data": {
      "text/plain": [
       "{3: [(0,\n",
       "   [[1, 0, 0, 0, 0, 0, 0, 0, 0],\n",
       "    array([0, 0, 0, 0, 1, 0, 0, 0, 0], dtype=int32),\n",
       "    array([0, 0, 0, 0, 0, 1, 0, 0, 0], dtype=int32),\n",
       "    array([0, 0, 0, 0, 0, 0, 1, 0, 0], dtype=int32),\n",
       "    array([0, 0, 0, 0, 0, 0, 0, 1, 0], dtype=int32),\n",
       "    array([0, 0, 0, 0, 0, 1, 0, 0, 0], dtype=int32)]),\n",
       "  (1,\n",
       "   [[0, 1, 0, 0, 0, 0, 0, 0, 0],\n",
       "    array([0, 0, 0, 0, 0, 1, 0, 0, 0], dtype=int32),\n",
       "    array([0, 0, 0, 0, 0, 0, 1, 0, 0], dtype=int32),\n",
       "    array([0, 0, 0, 0, 0, 0, 0, 1, 0], dtype=int32),\n",
       "    array([0, 0, 0, 0, 0, 1, 0, 0, 0], dtype=int32)]),\n",
       "  (2,\n",
       "   [[0, 0, 1, 0, 0, 0, 0, 0, 0],\n",
       "    array([0, 0, 0, 0, 0, 0, 1, 0, 0], dtype=int32),\n",
       "    array([0, 0, 0, 0, 0, 0, 0, 1, 0], dtype=int32),\n",
       "    array([0, 0, 0, 0, 0, 1, 0, 0, 0], dtype=int32),\n",
       "    array([0, 0, 0, 0, 0, 0, 1, 0, 0], dtype=int32)]),\n",
       "  (4,\n",
       "   [[0, 0, 0, 0, 1, 0, 0, 0, 0],\n",
       "    array([0, 0, 0, 0, 0, 1, 0, 0, 0], dtype=int32),\n",
       "    array([0, 0, 0, 0, 0, 0, 1, 0, 0], dtype=int32),\n",
       "    array([0, 0, 0, 0, 0, 0, 0, 1, 0], dtype=int32),\n",
       "    array([0, 0, 0, 0, 0, 1, 0, 0, 0], dtype=int32)]),\n",
       "  (5,\n",
       "   [[0, 0, 0, 0, 0, 1, 0, 0, 0],\n",
       "    array([0, 0, 0, 0, 0, 0, 1, 0, 0], dtype=int32),\n",
       "    array([0, 0, 0, 0, 0, 0, 0, 1, 0], dtype=int32),\n",
       "    array([0, 0, 0, 0, 0, 1, 0, 0, 0], dtype=int32)]),\n",
       "  (6,\n",
       "   [[0, 0, 0, 0, 0, 0, 1, 0, 0],\n",
       "    array([0, 0, 0, 0, 0, 0, 0, 1, 0], dtype=int32),\n",
       "    array([0, 0, 0, 0, 0, 1, 0, 0, 0], dtype=int32),\n",
       "    array([0, 0, 0, 0, 0, 0, 1, 0, 0], dtype=int32)]),\n",
       "  (7,\n",
       "   [[0, 0, 0, 0, 0, 0, 0, 1, 0],\n",
       "    array([0, 0, 0, 0, 0, 1, 0, 0, 0], dtype=int32),\n",
       "    array([0, 0, 0, 0, 0, 0, 1, 0, 0], dtype=int32),\n",
       "    array([0, 0, 0, 0, 0, 0, 0, 1, 0], dtype=int32)])],\n",
       " 2: [(3,\n",
       "   [[0, 0, 0, 1, 0, 0, 0, 0, 0],\n",
       "    array([0, 0, 0, 0, 0, 0, 0, 0, 1], dtype=int32),\n",
       "    array([0, 0, 0, 1, 0, 0, 0, 0, 0], dtype=int32)]),\n",
       "  (8,\n",
       "   [[0, 0, 0, 0, 0, 0, 0, 0, 1],\n",
       "    array([0, 0, 0, 1, 0, 0, 0, 0, 0], dtype=int32),\n",
       "    array([0, 0, 0, 0, 0, 0, 0, 0, 1], dtype=int32)])]}"
      ]
     },
     "execution_count": 29,
     "metadata": {},
     "output_type": "execute_result"
    }
   ],
   "source": [
    "X_cycles"
   ]
  },
  {
   "cell_type": "code",
   "execution_count": 30,
   "id": "c5da8cc7-6b64-44f7-8a59-06ffefd69013",
   "metadata": {},
   "outputs": [
    {
     "data": {
      "text/plain": [
       "[(0, (0, 0)),\n",
       " (1, (1, 0)),\n",
       " (2, (0, 1)),\n",
       " (3, (2, 0)),\n",
       " (4, (0, 2)),\n",
       " (5, (1, 1)),\n",
       " (6, (0, 3)),\n",
       " (7, (3, 0)),\n",
       " (9, (1, 2)),\n",
       " (11, (2, 1))]"
      ]
     },
     "execution_count": 30,
     "metadata": {},
     "output_type": "execute_result"
    }
   ],
   "source": [
    "from session15 import zig_zag, reverse_zig_zag\n",
    "\n",
    "# lets test out a new bijection N <--> N x N\n",
    "# based on the property that each n>=1, n = 2^i*(2*j+1)\n",
    "# for a unique pair i,j since each n has a unique\n",
    "# prime factorization \n",
    "\n",
    "def N_x_N_to_N(p):\n",
    "    return 2**(p[0])*(2*p[1]+1)-1\n",
    "# check how this matches up with previous version   \n",
    "sorted(list(map(lambda x: (N_x_N_to_N(x),x),zig_zag(10))))"
   ]
  },
  {
   "cell_type": "code",
   "execution_count": 31,
   "id": "b523e2fb-4aea-43d8-93c1-b69c17da6814",
   "metadata": {},
   "outputs": [
    {
     "data": {
      "text/plain": [
       "[((0, 0), 0),\n",
       " ((1, 0), 1),\n",
       " ((0, 1), 2),\n",
       " ((2, 0), 3),\n",
       " ((0, 2), 4),\n",
       " ((1, 1), 5),\n",
       " ((0, 3), 6),\n",
       " ((3, 0), 7),\n",
       " ((0, 4), 8),\n",
       " ((1, 2), 9)]"
      ]
     },
     "execution_count": 31,
     "metadata": {},
     "output_type": "execute_result"
    }
   ],
   "source": [
    "# now lets write the inverse\n",
    "def N_to_N_x_N(n):\n",
    "    m = n+1\n",
    "    i = m % 2\n",
    "    log_2 = 0\n",
    "    while i == 0 and m > 0:\n",
    "        m = int(m/2)\n",
    "        log_2 += 1\n",
    "        i = m % 2\n",
    "    return (log_2,int((m-i)/2))\n",
    "list(zip(map(N_to_N_x_N,range(10)),range(10)))"
   ]
  },
  {
   "cell_type": "code",
   "execution_count": 32,
   "id": "519f106e-7705-481e-b0d6-3e65d40fa8fb",
   "metadata": {},
   "outputs": [
    {
     "data": {
      "text/plain": [
       "[0, 1, 2, 3, 4, 5, 6, 7, 8, 9]"
      ]
     },
     "execution_count": 32,
     "metadata": {},
     "output_type": "execute_result"
    }
   ],
   "source": [
    "# now lets compare them to check\n",
    "list(map(N_x_N_to_N,list(map(N_to_N_x_N,range(10)))))"
   ]
  },
  {
   "cell_type": "code",
   "execution_count": 33,
   "id": "2f03becf-20e1-4624-92bd-ff07384e5473",
   "metadata": {},
   "outputs": [],
   "source": [
    "def uplift_relation(r):\n",
    "    r_0 = N_x_N_to_N(r[0])\n",
    "    print(f\"{r[0]} -> {r_0}\")\n",
    "    r_1 = N_x_N_to_N(r[1])\n",
    "    print(f\"{r[1]} -> {r_1}\")\n",
    "    r_2 = N_x_N_to_N((r_0,r_1))\n",
    "    print(f\"\\t -> {r_2}\")\n",
    "    return r_2"
   ]
  },
  {
   "cell_type": "code",
   "execution_count": 34,
   "id": "0561c31e-98ac-4e1d-bbee-268d7ec1c31d",
   "metadata": {},
   "outputs": [
    {
     "name": "stdout",
     "output_type": "stream",
     "text": [
      "(0, 5) -> 10\n",
      "(0, 2) -> 4\n",
      "\t -> 9215\n"
     ]
    },
    {
     "data": {
      "text/plain": [
       "9215"
      ]
     },
     "execution_count": 34,
     "metadata": {},
     "output_type": "execute_result"
    }
   ],
   "source": [
    "uplift_relation(X_pres_N['relations'][0])"
   ]
  },
  {
   "cell_type": "code",
   "execution_count": 35,
   "id": "93f9680f-dc2d-4849-af16-7fe5f49057b6",
   "metadata": {},
   "outputs": [
    {
     "name": "stdout",
     "output_type": "stream",
     "text": [
      "(0, 5) -> 10\n",
      "(0, 2) -> 4\n",
      "\t -> 9215\n",
      "(1, 1) -> 5\n",
      "(0, 2) -> 4\n",
      "\t -> 287\n",
      "(2, 1) -> 11\n",
      "(0, 3) -> 6\n",
      "\t -> 26623\n",
      "(3, 2) -> 39\n",
      "(3, 0) -> 7\n",
      "\t -> 8246337208319\n"
     ]
    }
   ],
   "source": [
    "X_rel_N = [uplift_relation(r) for r in X_pres_N['relations']]"
   ]
  },
  {
   "cell_type": "code",
   "execution_count": 36,
   "id": "2c4dbfaa-0237-4c6c-a2c1-5978a18c3e80",
   "metadata": {},
   "outputs": [
    {
     "name": "stdout",
     "output_type": "stream",
     "text": [
      "(0, 6) -> 12\n",
      "(0, 2) -> 4\n",
      "\t -> 36863\n",
      "(1, 1) -> 5\n",
      "(0, 1) -> 2\n",
      "\t -> 159\n",
      "(2, 4) -> 35\n",
      "(2, 1) -> 11\n",
      "\t -> 790273982463\n",
      "(3, 2) -> 39\n",
      "(3, 0) -> 7\n",
      "\t -> 8246337208319\n"
     ]
    }
   ],
   "source": [
    "Y_rel_N = [uplift_relation(r) for r in Y_pres_N['relations']]"
   ]
  },
  {
   "cell_type": "code",
   "execution_count": 37,
   "id": "eec24a35-12f3-4f03-b04e-b7764dbbcde1",
   "metadata": {},
   "outputs": [
    {
     "name": "stdout",
     "output_type": "stream",
     "text": [
      "[8246337208319]\n"
     ]
    }
   ],
   "source": [
    "incidence = list(set(X_rel_N).intersection(set(Y_rel_N)))\n",
    "print(incidence)"
   ]
  },
  {
   "cell_type": "code",
   "execution_count": 38,
   "id": "2ff2dfdb-23fa-434c-9572-69a0e606d95c",
   "metadata": {},
   "outputs": [
    {
     "name": "stdout",
     "output_type": "stream",
     "text": [
      "(39, 7)\n"
     ]
    }
   ],
   "source": [
    "p1 = N_to_N_x_N(incidence[0])\n",
    "print(p1)"
   ]
  },
  {
   "cell_type": "code",
   "execution_count": 39,
   "id": "2e61910d-3a3a-443f-b7ff-9d195262b9d2",
   "metadata": {},
   "outputs": [
    {
     "name": "stdout",
     "output_type": "stream",
     "text": [
      "((3, 2), (3, 0))\n"
     ]
    }
   ],
   "source": [
    "p2 = (N_to_N_x_N(p1[0]),N_to_N_x_N(p1[1]))\n",
    "print(p2)"
   ]
  },
  {
   "cell_type": "code",
   "execution_count": 40,
   "id": "a5be4d51-7d06-4011-9699-56da67285e18",
   "metadata": {},
   "outputs": [],
   "source": [
    "# lets try removing that intersection and repeating the process\n",
    "X_rel_N.remove(incidence[0])"
   ]
  },
  {
   "cell_type": "code",
   "execution_count": 41,
   "id": "c9271222-e0d1-4927-b993-7b0ca97e6246",
   "metadata": {},
   "outputs": [],
   "source": [
    "Y_rel_N.remove(incidence[0])"
   ]
  },
  {
   "cell_type": "code",
   "execution_count": 42,
   "id": "241bc0de-13ac-4580-ad46-a3140287795d",
   "metadata": {},
   "outputs": [
    {
     "name": "stdout",
     "output_type": "stream",
     "text": [
      "[9215, 287, 26623]\n",
      "[36863, 159, 790273982463]\n"
     ]
    }
   ],
   "source": [
    "print(X_rel_N)\n",
    "print(Y_rel_N)"
   ]
  },
  {
   "cell_type": "code",
   "execution_count": 43,
   "id": "32f5d8f3-840c-40d9-91c3-3abb82bb1a8f",
   "metadata": {},
   "outputs": [
    {
     "name": "stdout",
     "output_type": "stream",
     "text": [
      "[18430, 1149, 212987]\n"
     ]
    }
   ],
   "source": [
    "X_rel_N2 = [N_x_N_to_N((i,X_rel_N[i]))for i in range(3)]\n",
    "print(X_rel_N2)"
   ]
  },
  {
   "cell_type": "code",
   "execution_count": 44,
   "id": "1f125c92-55e2-4033-8c81-b236126e33ef",
   "metadata": {},
   "outputs": [
    {
     "data": {
      "text/plain": [
       "{<function __main__.<lambda>(x)>}"
      ]
     },
     "execution_count": 44,
     "metadata": {},
     "output_type": "execute_result"
    }
   ],
   "source": [
    "set([lambda x:x])"
   ]
  },
  {
   "cell_type": "code",
   "execution_count": 45,
   "id": "efcfda0f-d078-4b6c-ae25-48e61de032fa",
   "metadata": {},
   "outputs": [
    {
     "data": {
      "text/plain": [
       "{0: 1}"
      ]
     },
     "execution_count": 45,
     "metadata": {},
     "output_type": "execute_result"
    }
   ],
   "source": [
    "\n",
    "def compose_maps(A,B):\n",
    "    return {k:B[v] for k,v in zip(A.keys(),A.values())}\n",
    "\n",
    "compose_maps({0:0},{0:1})"
   ]
  },
  {
   "cell_type": "code",
   "execution_count": 46,
   "id": "02a41370-feb6-4f32-b94c-af37b04ba783",
   "metadata": {},
   "outputs": [
    {
     "data": {
      "text/plain": [
       "False"
      ]
     },
     "execution_count": 46,
     "metadata": {},
     "output_type": "execute_result"
    }
   ],
   "source": [
    "all([True,False])"
   ]
  },
  {
   "cell_type": "code",
   "execution_count": 49,
   "id": "3ffdf8cc-05b3-4ee9-857a-e21d28b3ae32",
   "metadata": {},
   "outputs": [
    {
     "name": "stdout",
     "output_type": "stream",
     "text": [
      "Error: unhashable type: 'list'\n"
     ]
    }
   ],
   "source": [
    "try:\n",
    "    set([[],[0],[0,1]])\n",
    "    print(\"shouldn't hit this\")\n",
    "except TypeError as e:\n",
    "    print(f\"Error: {e}\")"
   ]
  },
  {
   "cell_type": "code",
   "execution_count": 50,
   "id": "d9cb19c7-2157-4acd-b025-43c0c95f4c1b",
   "metadata": {},
   "outputs": [],
   "source": [
    "def force_set(L):\n",
    "    try:\n",
    "        return set(L)\n",
    "    except TypeError:\n",
    "        return set(list(map(str,L)))\n",
    "        "
   ]
  },
  {
   "cell_type": "code",
   "execution_count": 51,
   "id": "89500902-2ddb-4389-a615-ef8fd0de1c03",
   "metadata": {},
   "outputs": [
    {
     "data": {
      "text/plain": [
       "{'[0, 1]', '[0]', '[]'}"
      ]
     },
     "execution_count": 51,
     "metadata": {},
     "output_type": "execute_result"
    }
   ],
   "source": [
    "force_set([[],[0],[0,1]])"
   ]
  },
  {
   "cell_type": "code",
   "execution_count": 52,
   "id": "1881596d-9608-4dda-8cc3-d287c66e9423",
   "metadata": {},
   "outputs": [
    {
     "name": "stdout",
     "output_type": "stream",
     "text": [
      "1 from |[0]|=1  to |[0]|=1\n",
      "2 from |[0]|=1  to |[0, 1]|=2\n",
      "1 from |[0, 1]|=2  to |[0]|=1\n",
      "4 from |[0, 1]|=2  to |[0, 1]|=2\n"
     ]
    }
   ],
   "source": [
    "import categories"
   ]
  },
  {
   "cell_type": "code",
   "execution_count": null,
   "id": "7a0ee971-ca74-43a2-96a8-20ef3a6cc4cb",
   "metadata": {},
   "outputs": [],
   "source": []
  }
 ],
 "metadata": {
  "kernelspec": {
   "display_name": "Python 3 (ipykernel)",
   "language": "python",
   "name": "python3"
  },
  "language_info": {
   "codemirror_mode": {
    "name": "ipython",
    "version": 3
   },
   "file_extension": ".py",
   "mimetype": "text/x-python",
   "name": "python",
   "nbconvert_exporter": "python",
   "pygments_lexer": "ipython3",
   "version": "3.12.1"
  }
 },
 "nbformat": 4,
 "nbformat_minor": 5
}

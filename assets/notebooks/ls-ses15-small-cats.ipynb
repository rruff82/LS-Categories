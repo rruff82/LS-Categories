{
 "cells": [
  {
   "cell_type": "code",
   "execution_count": 1,
   "id": "c96a186b-4878-43c9-8e43-f24c66df376f",
   "metadata": {},
   "outputs": [],
   "source": [
    "# !pip install numpy networkx matplotlib scipy\n",
    "import numpy as np\n",
    "import networkx as nx\n",
    "import matplotlib.pyplot as plt\n",
    "import scipy\n",
    "\n",
    "from session15 import make_all_maps, make_presentation, decompose_endomap, \\\n",
    "    get_loop_size, find_all_cluster_pairs, standardize_presentation, iterate_endomap, \\\n",
    "    make_assignments, join_assignments, follow_endomap, preserves_structure"
   ]
  },
  {
   "cell_type": "code",
   "execution_count": 2,
   "id": "c2d5ec6d-15cb-4d8d-8fd4-679666c54c06",
   "metadata": {},
   "outputs": [
    {
     "name": "stdout",
     "output_type": "stream",
     "text": [
      "1 from |[0]|=1  to |[0]|=1\n",
      "2 from |[0]|=1  to |[0, 1]|=2\n",
      "1 from |[0, 1]|=2  to |[0]|=1\n",
      "4 from |[0, 1]|=2  to |[0, 1]|=2\n",
      "Total maps: 8\n"
     ]
    }
   ],
   "source": [
    "\n",
    "# in Session 5, the authors discuss a \"minimal category\" with 2 objects and 8 maps\n",
    "class BinaryCategory:\n",
    "    objects = [[0],[0,1]]\n",
    "    map_count = 0\n",
    "    maps = []\n",
    "    # for every possible combination of domain and codomain\n",
    "    for i,o_0 in enumerate(objects):\n",
    "        domain_size = len(o_0)\n",
    "        for j,o_1 in enumerate(objects):\n",
    "            # add every possible map with that domain and codomain\n",
    "            codomain_size = len(o_1)\n",
    "            # maps exist as long as \n",
    "            total_maps = codomain_size**domain_size\n",
    "            print(f\"{total_maps} from |{o_0}|={domain_size}  to |{o_1}|={codomain_size}\")\n",
    "\n",
    "            maps_found = make_all_maps(set(o_0),set(o_1))\n",
    "            assert len(maps_found) == total_maps\n",
    "            for m in maps_found:\n",
    "                maps.append({\n",
    "                    \"domain\":o_0,\n",
    "                    \"codomain\":o_1,\n",
    "                    \"map\":m\n",
    "                })\n",
    "            map_count += total_maps\n",
    "   \n",
    "    print(f\"Total maps: {map_count}\")\n",
    "    \n"
   ]
  },
  {
   "cell_type": "code",
   "execution_count": 3,
   "id": "165e1ddc-ddf2-453b-81ed-4200963a0371",
   "metadata": {},
   "outputs": [],
   "source": [
    "cat2 = BinaryCategory()"
   ]
  },
  {
   "cell_type": "code",
   "execution_count": 4,
   "id": "41402dab-3980-4408-b82c-a2387b207b3c",
   "metadata": {},
   "outputs": [
    {
     "data": {
      "text/plain": [
       "[{'domain': [0], 'codomain': [0], 'map': {0: 0}},\n",
       " {'domain': [0], 'codomain': [0, 1], 'map': {0: 0}},\n",
       " {'domain': [0], 'codomain': [0, 1], 'map': {0: 1}},\n",
       " {'domain': [0, 1], 'codomain': [0], 'map': {0: 0, 1: 0}},\n",
       " {'domain': [0, 1], 'codomain': [0, 1], 'map': {0: 0, 1: 0}},\n",
       " {'domain': [0, 1], 'codomain': [0, 1], 'map': {0: 0, 1: 1}},\n",
       " {'domain': [0, 1], 'codomain': [0, 1], 'map': {0: 1, 1: 0}},\n",
       " {'domain': [0, 1], 'codomain': [0, 1], 'map': {0: 1, 1: 1}}]"
      ]
     },
     "execution_count": 4,
     "metadata": {},
     "output_type": "execute_result"
    }
   ],
   "source": [
    "cat2.maps"
   ]
  },
  {
   "cell_type": "code",
   "execution_count": 5,
   "id": "cca12c07-e9cf-474c-9bd4-f5f6f9942aa6",
   "metadata": {},
   "outputs": [
    {
     "name": "stdout",
     "output_type": "stream",
     "text": [
      "1 from |[0]|=1  to |[0]|=1\n",
      "2 from |[0]|=1  to |[0, 1]|=2\n",
      "3 from |[0]|=1  to |[0, 1, 2]|=3\n",
      "1 from |[0, 1]|=2  to |[0]|=1\n",
      "4 from |[0, 1]|=2  to |[0, 1]|=2\n",
      "9 from |[0, 1]|=2  to |[0, 1, 2]|=3\n",
      "1 from |[0, 1, 2]|=3  to |[0]|=1\n",
      "8 from |[0, 1, 2]|=3  to |[0, 1]|=2\n",
      "27 from |[0, 1, 2]|=3  to |[0, 1, 2]|=3\n",
      "Total maps: 56\n"
     ]
    }
   ],
   "source": [
    "# I find it interesting that the dict {0:0} shows up twice with\n",
    "# differing domains and codomains\n",
    "# effectively we have 3 distinct \"points\" here:\n",
    "#  the 0 from [0], \n",
    "#  the 0 from [0,1],\n",
    "#  the 1 from [0,1]\n",
    "\n",
    "# they add that adding a 3rd object gives 56 maps\n",
    "class TrinaryCategory:\n",
    "    objects = [[0],[0,1],[0,1,2]]\n",
    "    map_count = 0\n",
    "    maps = []\n",
    "    # for every possible combination of domain and codomain\n",
    "    for i,o_0 in enumerate(objects):\n",
    "        domain_size = len(o_0)\n",
    "        for j,o_1 in enumerate(objects):\n",
    "            # add every possible map with that domain and codomain\n",
    "            codomain_size = len(o_1)\n",
    "            # maps exist as long as \n",
    "            total_maps = codomain_size**domain_size\n",
    "            print(f\"{total_maps} from |{o_0}|={domain_size}  to |{o_1}|={codomain_size}\")\n",
    "            \n",
    "            maps_found = make_all_maps(set(o_0),set(o_1))\n",
    "            assert len(maps_found) == total_maps\n",
    "            for m in maps_found:\n",
    "                maps.append({\n",
    "                    \"domain\":o_0,\n",
    "                    \"codomain\":o_1,\n",
    "                    \"map\":m\n",
    "                })\n",
    "                \n",
    "            map_count += total_maps\n",
    "\n",
    "    \n",
    "    print(f\"Total maps: {map_count}\")\n",
    "    "
   ]
  },
  {
   "cell_type": "code",
   "execution_count": 6,
   "id": "96ce5135-93bc-43ef-bbea-200c6b70272d",
   "metadata": {},
   "outputs": [
    {
     "data": {
      "text/plain": [
       "[{'domain': [0], 'codomain': [0], 'map': {0: 0}},\n",
       " {'domain': [0], 'codomain': [0, 1], 'map': {0: 0}},\n",
       " {'domain': [0], 'codomain': [0, 1], 'map': {0: 1}},\n",
       " {'domain': [0], 'codomain': [0, 1, 2], 'map': {0: 0}},\n",
       " {'domain': [0], 'codomain': [0, 1, 2], 'map': {0: 1}},\n",
       " {'domain': [0], 'codomain': [0, 1, 2], 'map': {0: 2}},\n",
       " {'domain': [0, 1], 'codomain': [0], 'map': {0: 0, 1: 0}},\n",
       " {'domain': [0, 1], 'codomain': [0, 1], 'map': {0: 0, 1: 0}},\n",
       " {'domain': [0, 1], 'codomain': [0, 1], 'map': {0: 0, 1: 1}},\n",
       " {'domain': [0, 1], 'codomain': [0, 1], 'map': {0: 1, 1: 0}},\n",
       " {'domain': [0, 1], 'codomain': [0, 1], 'map': {0: 1, 1: 1}},\n",
       " {'domain': [0, 1], 'codomain': [0, 1, 2], 'map': {0: 0, 1: 0}},\n",
       " {'domain': [0, 1], 'codomain': [0, 1, 2], 'map': {0: 0, 1: 1}},\n",
       " {'domain': [0, 1], 'codomain': [0, 1, 2], 'map': {0: 0, 1: 2}},\n",
       " {'domain': [0, 1], 'codomain': [0, 1, 2], 'map': {0: 1, 1: 0}},\n",
       " {'domain': [0, 1], 'codomain': [0, 1, 2], 'map': {0: 1, 1: 1}},\n",
       " {'domain': [0, 1], 'codomain': [0, 1, 2], 'map': {0: 1, 1: 2}},\n",
       " {'domain': [0, 1], 'codomain': [0, 1, 2], 'map': {0: 2, 1: 0}},\n",
       " {'domain': [0, 1], 'codomain': [0, 1, 2], 'map': {0: 2, 1: 1}},\n",
       " {'domain': [0, 1], 'codomain': [0, 1, 2], 'map': {0: 2, 1: 2}},\n",
       " {'domain': [0, 1, 2], 'codomain': [0], 'map': {0: 0, 1: 0, 2: 0}},\n",
       " {'domain': [0, 1, 2], 'codomain': [0, 1], 'map': {2: 0, 0: 0, 1: 0}},\n",
       " {'domain': [0, 1, 2], 'codomain': [0, 1], 'map': {2: 0, 0: 0, 1: 1}},\n",
       " {'domain': [0, 1, 2], 'codomain': [0, 1], 'map': {2: 0, 0: 1, 1: 0}},\n",
       " {'domain': [0, 1, 2], 'codomain': [0, 1], 'map': {2: 0, 0: 1, 1: 1}},\n",
       " {'domain': [0, 1, 2], 'codomain': [0, 1], 'map': {2: 1, 0: 0, 1: 0}},\n",
       " {'domain': [0, 1, 2], 'codomain': [0, 1], 'map': {2: 1, 0: 0, 1: 1}},\n",
       " {'domain': [0, 1, 2], 'codomain': [0, 1], 'map': {2: 1, 0: 1, 1: 0}},\n",
       " {'domain': [0, 1, 2], 'codomain': [0, 1], 'map': {2: 1, 0: 1, 1: 1}},\n",
       " {'domain': [0, 1, 2], 'codomain': [0, 1, 2], 'map': {2: 0, 0: 0, 1: 0}},\n",
       " {'domain': [0, 1, 2], 'codomain': [0, 1, 2], 'map': {2: 0, 0: 0, 1: 1}},\n",
       " {'domain': [0, 1, 2], 'codomain': [0, 1, 2], 'map': {2: 0, 0: 0, 1: 2}},\n",
       " {'domain': [0, 1, 2], 'codomain': [0, 1, 2], 'map': {2: 0, 0: 1, 1: 0}},\n",
       " {'domain': [0, 1, 2], 'codomain': [0, 1, 2], 'map': {2: 0, 0: 1, 1: 1}},\n",
       " {'domain': [0, 1, 2], 'codomain': [0, 1, 2], 'map': {2: 0, 0: 1, 1: 2}},\n",
       " {'domain': [0, 1, 2], 'codomain': [0, 1, 2], 'map': {2: 0, 0: 2, 1: 0}},\n",
       " {'domain': [0, 1, 2], 'codomain': [0, 1, 2], 'map': {2: 0, 0: 2, 1: 1}},\n",
       " {'domain': [0, 1, 2], 'codomain': [0, 1, 2], 'map': {2: 0, 0: 2, 1: 2}},\n",
       " {'domain': [0, 1, 2], 'codomain': [0, 1, 2], 'map': {2: 1, 0: 0, 1: 0}},\n",
       " {'domain': [0, 1, 2], 'codomain': [0, 1, 2], 'map': {2: 1, 0: 0, 1: 1}},\n",
       " {'domain': [0, 1, 2], 'codomain': [0, 1, 2], 'map': {2: 1, 0: 0, 1: 2}},\n",
       " {'domain': [0, 1, 2], 'codomain': [0, 1, 2], 'map': {2: 1, 0: 1, 1: 0}},\n",
       " {'domain': [0, 1, 2], 'codomain': [0, 1, 2], 'map': {2: 1, 0: 1, 1: 1}},\n",
       " {'domain': [0, 1, 2], 'codomain': [0, 1, 2], 'map': {2: 1, 0: 1, 1: 2}},\n",
       " {'domain': [0, 1, 2], 'codomain': [0, 1, 2], 'map': {2: 1, 0: 2, 1: 0}},\n",
       " {'domain': [0, 1, 2], 'codomain': [0, 1, 2], 'map': {2: 1, 0: 2, 1: 1}},\n",
       " {'domain': [0, 1, 2], 'codomain': [0, 1, 2], 'map': {2: 1, 0: 2, 1: 2}},\n",
       " {'domain': [0, 1, 2], 'codomain': [0, 1, 2], 'map': {2: 2, 0: 0, 1: 0}},\n",
       " {'domain': [0, 1, 2], 'codomain': [0, 1, 2], 'map': {2: 2, 0: 0, 1: 1}},\n",
       " {'domain': [0, 1, 2], 'codomain': [0, 1, 2], 'map': {2: 2, 0: 0, 1: 2}},\n",
       " {'domain': [0, 1, 2], 'codomain': [0, 1, 2], 'map': {2: 2, 0: 1, 1: 0}},\n",
       " {'domain': [0, 1, 2], 'codomain': [0, 1, 2], 'map': {2: 2, 0: 1, 1: 1}},\n",
       " {'domain': [0, 1, 2], 'codomain': [0, 1, 2], 'map': {2: 2, 0: 1, 1: 2}},\n",
       " {'domain': [0, 1, 2], 'codomain': [0, 1, 2], 'map': {2: 2, 0: 2, 1: 0}},\n",
       " {'domain': [0, 1, 2], 'codomain': [0, 1, 2], 'map': {2: 2, 0: 2, 1: 1}},\n",
       " {'domain': [0, 1, 2], 'codomain': [0, 1, 2], 'map': {2: 2, 0: 2, 1: 2}}]"
      ]
     },
     "execution_count": 6,
     "metadata": {},
     "output_type": "execute_result"
    }
   ],
   "source": [
    "cat3 = TrinaryCategory()\n",
    "cat3.maps"
   ]
  },
  {
   "cell_type": "code",
   "execution_count": 7,
   "id": "d1969a44-5882-4c37-864c-b345c88b3fc4",
   "metadata": {},
   "outputs": [
    {
     "name": "stdout",
     "output_type": "stream",
     "text": [
      "1 from |[0]|=1  to |[0]|=1\n",
      "2 from |[0]|=1  to |[0, 1]|=2\n",
      "3 from |[0]|=1  to |[0, 1, 2]|=3\n",
      "4 from |[0]|=1  to |[0, 1, 2, 3]|=4\n",
      "1 from |[0, 1]|=2  to |[0]|=1\n",
      "4 from |[0, 1]|=2  to |[0, 1]|=2\n",
      "9 from |[0, 1]|=2  to |[0, 1, 2]|=3\n",
      "16 from |[0, 1]|=2  to |[0, 1, 2, 3]|=4\n",
      "1 from |[0, 1, 2]|=3  to |[0]|=1\n",
      "8 from |[0, 1, 2]|=3  to |[0, 1]|=2\n",
      "27 from |[0, 1, 2]|=3  to |[0, 1, 2]|=3\n",
      "64 from |[0, 1, 2]|=3  to |[0, 1, 2, 3]|=4\n",
      "1 from |[0, 1, 2, 3]|=4  to |[0]|=1\n",
      "16 from |[0, 1, 2, 3]|=4  to |[0, 1]|=2\n",
      "81 from |[0, 1, 2, 3]|=4  to |[0, 1, 2]|=3\n",
      "256 from |[0, 1, 2, 3]|=4  to |[0, 1, 2, 3]|=4\n",
      "Total maps: 494\n"
     ]
    }
   ],
   "source": [
    "# note that now we have a total of 6 maps from [0]:\n",
    "# the point 0 in [0]\n",
    "# the point 0 in [0,1]\n",
    "# the point 1 in [0,1]\n",
    "# the point 0 in [0,1,2]\n",
    "# the point 1 in [0,1,2]\n",
    "# the point 2 in [0,1,2]\n",
    "\n",
    "# our number of maps goes from 8 to 56\n",
    "# our number of points goes from 3 to 6\n",
    "\n",
    "# what happens if we try 4 objects?\n",
    "class QuaternaryCategory:\n",
    "    objects = [[0],[0,1],[0,1,2],[0,1,2,3]]\n",
    "    map_count = 0\n",
    "    maps = []\n",
    "    # for every possible combination of domain and codomain\n",
    "    for i,o_0 in enumerate(objects):\n",
    "        domain_size = len(o_0)\n",
    "        for j,o_1 in enumerate(objects):\n",
    "            # add every possible map with that domain and codomain\n",
    "            codomain_size = len(o_1)\n",
    "            # maps exist as long as \n",
    "            total_maps = codomain_size**domain_size\n",
    "            print(f\"{total_maps} from |{o_0}|={domain_size}  to |{o_1}|={codomain_size}\")\n",
    "            \n",
    "            maps_found = make_all_maps(set(o_0),set(o_1))\n",
    "            assert len(maps_found) == total_maps\n",
    "            for m in maps_found:\n",
    "                maps.append({\n",
    "                    \"domain\":o_0,\n",
    "                    \"codomain\":o_1,\n",
    "                    \"map\":m\n",
    "                })\n",
    "                \n",
    "            map_count += total_maps\n",
    "\n",
    "    \n",
    "    print(f\"Total maps: {map_count}\")\n"
   ]
  },
  {
   "cell_type": "code",
   "execution_count": 8,
   "id": "3ac46b28-498f-4268-a1e0-c05530a283c5",
   "metadata": {},
   "outputs": [
    {
     "name": "stdout",
     "output_type": "stream",
     "text": [
      "10\n"
     ]
    },
    {
     "data": {
      "text/plain": [
       "[{'domain': [0], 'codomain': [0], 'map': {0: 0}},\n",
       " {'domain': [0], 'codomain': [0, 1], 'map': {0: 0}},\n",
       " {'domain': [0], 'codomain': [0, 1], 'map': {0: 1}},\n",
       " {'domain': [0], 'codomain': [0, 1, 2], 'map': {0: 0}},\n",
       " {'domain': [0], 'codomain': [0, 1, 2], 'map': {0: 1}},\n",
       " {'domain': [0], 'codomain': [0, 1, 2], 'map': {0: 2}},\n",
       " {'domain': [0], 'codomain': [0, 1, 2, 3], 'map': {0: 0}},\n",
       " {'domain': [0], 'codomain': [0, 1, 2, 3], 'map': {0: 1}},\n",
       " {'domain': [0], 'codomain': [0, 1, 2, 3], 'map': {0: 2}},\n",
       " {'domain': [0], 'codomain': [0, 1, 2, 3], 'map': {0: 3}}]"
      ]
     },
     "execution_count": 8,
     "metadata": {},
     "output_type": "execute_result"
    }
   ],
   "source": [
    "# of these, the ones with domain [0] are:\n",
    "cat4 = QuaternaryCategory()\n",
    "points_of_cat4 = list(filter(lambda x: len(x['domain'])==1,cat4.maps))\n",
    "print(len(points_of_cat4))\n",
    "points_of_cat4"
   ]
  },
  {
   "cell_type": "code",
   "execution_count": 9,
   "id": "1edfa30a-73ce-4960-aa31-8997cac482bc",
   "metadata": {},
   "outputs": [
    {
     "data": {
      "text/plain": [
       "[0, 1, 3, 6, 10, 15]"
      ]
     },
     "execution_count": 9,
     "metadata": {},
     "output_type": "execute_result"
    }
   ],
   "source": [
    "# note that our number of \"points\" follow the sequence of \"triangular numbers\"\n",
    "# https://oeis.org/A000217\n",
    "from session15 import triangular\n",
    "[triangular(x) for x in range(6)]"
   ]
  },
  {
   "cell_type": "code",
   "execution_count": 10,
   "id": "a0bdd6a5-e931-4f89-b1d1-59e1a9d4a0cf",
   "metadata": {},
   "outputs": [
    {
     "data": {
      "text/plain": [
       "[0, 1, 8, 56, 494, 5699]"
      ]
     },
     "execution_count": 10,
     "metadata": {},
     "output_type": "execute_result"
    }
   ],
   "source": [
    "# our number of \"maps\" follows a different pattern\n",
    "# so far we have 8, 56, 494\n",
    "# this is OEIS sequence A086787\n",
    "# https://oeis.org/A086787\n",
    "\n",
    "def map_count_sequence(n):\n",
    "    return sum([\n",
    "       sum([(i+1)**(j+1) for j in range(n)]) for i in range(n)\n",
    "    ])\n",
    "\n",
    "list(map(map_count_sequence,range(6)))\n"
   ]
  },
  {
   "cell_type": "code",
   "execution_count": 11,
   "id": "3f5fba20-ede7-458a-9f1d-10b2079331db",
   "metadata": {},
   "outputs": [
    {
     "name": "stdout",
     "output_type": "stream",
     "text": [
      "3\n"
     ]
    },
    {
     "data": {
      "text/plain": [
       "[{'domain': [0], 'codomain': [0], 'map': {0: 0}},\n",
       " {'domain': [0], 'codomain': [0, 1], 'map': {0: 0}},\n",
       " {'domain': [0], 'codomain': [0, 1], 'map': {0: 1}}]"
      ]
     },
     "execution_count": 11,
     "metadata": {},
     "output_type": "execute_result"
    }
   ],
   "source": [
    "# Let's break down the \"philosophical role of N\"\n",
    "# start by collecting the points of our minimal category\n",
    "points_of_cat2 = list(filter(lambda x: len(x['domain'])==1,cat2.maps))\n",
    "print(len(points_of_cat2))\n",
    "points_of_cat2"
   ]
  },
  {
   "cell_type": "code",
   "execution_count": 12,
   "id": "39b4a480-6e48-40a6-8b2b-a64a8b04f7cd",
   "metadata": {},
   "outputs": [
    {
     "name": "stdout",
     "output_type": "stream",
     "text": [
      "5\n"
     ]
    },
    {
     "data": {
      "text/plain": [
       "[{'domain': [0, 1], 'codomain': [0], 'map': {0: 0, 1: 0}},\n",
       " {'domain': [0, 1], 'codomain': [0, 1], 'map': {0: 0, 1: 0}},\n",
       " {'domain': [0, 1], 'codomain': [0, 1], 'map': {0: 0, 1: 1}},\n",
       " {'domain': [0, 1], 'codomain': [0, 1], 'map': {0: 1, 1: 0}},\n",
       " {'domain': [0, 1], 'codomain': [0, 1], 'map': {0: 1, 1: 1}}]"
      ]
     },
     "execution_count": 12,
     "metadata": {},
     "output_type": "execute_result"
    }
   ],
   "source": [
    "# maps from 2 -> X represent pairs of points\n",
    "pairs_of_points_of_cat2 = list(filter(lambda x: len(x['domain'])==2,cat2.maps))\n",
    "print(len(pairs_of_points_of_cat2))\n",
    "pairs_of_points_of_cat2"
   ]
  },
  {
   "cell_type": "code",
   "execution_count": 13,
   "id": "d82ec25f-fed6-4188-a9c3-9832147ce9ba",
   "metadata": {},
   "outputs": [
    {
     "name": "stdout",
     "output_type": "stream",
     "text": [
      "6\n"
     ]
    },
    {
     "data": {
      "text/plain": [
       "[({'domain': [0], 'codomain': [0], 'map': {0: 0}},\n",
       "  {'domain': [0], 'codomain': [0], 'map': {0: 0}}),\n",
       " ({'domain': [0], 'codomain': [0], 'map': {0: 0}},\n",
       "  {'domain': [0], 'codomain': [0, 1], 'map': {0: 0}}),\n",
       " ({'domain': [0], 'codomain': [0], 'map': {0: 0}},\n",
       "  {'domain': [0], 'codomain': [0, 1], 'map': {0: 1}}),\n",
       " ({'domain': [0], 'codomain': [0, 1], 'map': {0: 0}},\n",
       "  {'domain': [0], 'codomain': [0, 1], 'map': {0: 0}}),\n",
       " ({'domain': [0], 'codomain': [0, 1], 'map': {0: 0}},\n",
       "  {'domain': [0], 'codomain': [0, 1], 'map': {0: 1}}),\n",
       " ({'domain': [0], 'codomain': [0, 1], 'map': {0: 1}},\n",
       "  {'domain': [0], 'codomain': [0, 1], 'map': {0: 1}})]"
      ]
     },
     "execution_count": 13,
     "metadata": {},
     "output_type": "execute_result"
    }
   ],
   "source": [
    "# only 5? interesting... I expected with 3 points we should have 3 nPr 2 possible pairs\n",
    "# let's make a more complete list\n",
    "def cartesian_product_of_lists(a,b):\n",
    "    return [(a[i],b[j+i]) for i in range(len(a)) for j in range(len(b)-i)]\n",
    "all_possible_point_pairs =  cartesian_product_of_lists(points_of_cat2,points_of_cat2)\n",
    "print(len(all_possible_point_pairs))\n",
    "all_possible_point_pairs"
   ]
  },
  {
   "cell_type": "code",
   "execution_count": 14,
   "id": "3436fbd8-3b33-426b-90c2-fd2889bc22f4",
   "metadata": {},
   "outputs": [
    {
     "name": "stdout",
     "output_type": "stream",
     "text": [
      "6\n"
     ]
    },
    {
     "data": {
      "text/plain": [
       "[{'domain': [0], 'codomain': [0, 1], 'map': {0: 0}},\n",
       " {'domain': [0], 'codomain': [0, 1], 'map': {0: 1}},\n",
       " {'domain': [0, 1], 'codomain': [0, 1], 'map': {0: 0, 1: 0}},\n",
       " {'domain': [0, 1], 'codomain': [0, 1], 'map': {0: 0, 1: 1}},\n",
       " {'domain': [0, 1], 'codomain': [0, 1], 'map': {0: 1, 1: 0}},\n",
       " {'domain': [0, 1], 'codomain': [0, 1], 'map': {0: 1, 1: 1}}]"
      ]
     },
     "execution_count": 14,
     "metadata": {},
     "output_type": "execute_result"
    }
   ],
   "source": [
    "\n",
    "# now let's look for maps X -> 2\n",
    "properties_of_points_of_cat2 = list(filter(lambda x: len(x['codomain'])==2,cat2.maps))\n",
    "print(len(properties_of_points_of_cat2))\n",
    "properties_of_points_of_cat2"
   ]
  },
  {
   "cell_type": "code",
   "execution_count": 15,
   "id": "eeb8df7c-0913-4c00-b859-b3725003808e",
   "metadata": {},
   "outputs": [
    {
     "name": "stdout",
     "output_type": "stream",
     "text": [
      "4\n"
     ]
    },
    {
     "data": {
      "text/plain": [
       "[{'domain': [0, 1], 'codomain': [0, 1], 'map': {0: 0, 1: 0}},\n",
       " {'domain': [0, 1], 'codomain': [0, 1], 'map': {0: 0, 1: 1}},\n",
       " {'domain': [0, 1], 'codomain': [0, 1], 'map': {0: 1, 1: 0}},\n",
       " {'domain': [0, 1], 'codomain': [0, 1], 'map': {0: 1, 1: 1}}]"
      ]
     },
     "execution_count": 15,
     "metadata": {},
     "output_type": "execute_result"
    }
   ],
   "source": [
    "# now lets look for endomaps 2 --> 2\n",
    "endomaps_on_2 = list(filter(\n",
    "    lambda x: len(x['domain'])==2 and len(x['codomain'])==2,cat2.maps\n",
    "))\n",
    "print(len(endomaps_on_2))\n",
    "endomaps_on_2"
   ]
  },
  {
   "cell_type": "code",
   "execution_count": 16,
   "id": "3a388621-0d6f-4722-ae5a-598632addadf",
   "metadata": {},
   "outputs": [
    {
     "data": {
      "text/plain": [
       "[True, True, False, True]"
      ]
     },
     "execution_count": 16,
     "metadata": {},
     "output_type": "execute_result"
    }
   ],
   "source": [
    "# which of our endomaps on 2 have a fixed point?\n",
    "\n",
    "def has_fixed_point(endo):\n",
    "    for k in endo['domain']:\n",
    "        if endo['map'][k] == k:\n",
    "            return True\n",
    "    return False\n",
    "\n",
    "have_a_fixed_point = []\n",
    "for x in endomaps_on_2:\n",
    "    have_a_fixed_point.append(has_fixed_point(x))\n",
    "\n",
    "have_a_fixed_point\n"
   ]
  },
  {
   "cell_type": "code",
   "execution_count": 17,
   "id": "72840ef0-1be5-459e-8c3e-54e1012f9ab6",
   "metadata": {},
   "outputs": [
    {
     "data": {
      "text/plain": [
       "[(0, 0, 0),\n",
       " (0, 1, 1),\n",
       " (0, 2, 2),\n",
       " (1, 3, 0),\n",
       " (1, 4, 1),\n",
       " (1, 5, 1),\n",
       " (1, 6, 2),\n",
       " (1, 7, 2),\n",
       " (2, 3, 0),\n",
       " (2, 4, 1),\n",
       " (2, 5, 2),\n",
       " (2, 6, 1),\n",
       " (2, 7, 2),\n",
       " (3, 0, 3),\n",
       " (3, 1, 4),\n",
       " (3, 2, 7),\n",
       " (4, 3, 3),\n",
       " (4, 4, 4),\n",
       " (4, 5, 4),\n",
       " (4, 6, 7),\n",
       " (4, 7, 7),\n",
       " (5, 3, 3),\n",
       " (5, 4, 4),\n",
       " (5, 5, 5),\n",
       " (5, 6, 6),\n",
       " (5, 7, 7),\n",
       " (6, 3, 3),\n",
       " (6, 4, 4),\n",
       " (6, 5, 6),\n",
       " (6, 6, 5),\n",
       " (6, 7, 7),\n",
       " (7, 3, 3),\n",
       " (7, 4, 4),\n",
       " (7, 5, 7),\n",
       " (7, 6, 4),\n",
       " (7, 7, 7)]"
      ]
     },
     "execution_count": 17,
     "metadata": {},
     "output_type": "execute_result"
    }
   ],
   "source": [
    "# okay, some of our maps can be expressed as compositions\n",
    "# let's try to find out how\n",
    "def are_same_map(a,b):\n",
    "    if a['domain'] != b['domain']:\n",
    "        return False\n",
    "    if a['codomain'] != b['codomain']:\n",
    "        return False\n",
    "    for k,v in zip(a['map'].keys(),a['map'].values()):\n",
    "        if b['map'][k] != v:\n",
    "            return False\n",
    "    return True\n",
    "\n",
    "def compose_maps(a,b):\n",
    "    assert a['codomain'] == b['domain'], \"domain/codomain mismatch\"\n",
    "    return {\n",
    "        'domain':a['domain'],\n",
    "        'codomain':b['codomain'],\n",
    "        'map':{\n",
    "            k:b['map'][v] for k,v in zip(a['map'].keys(),a['map'].values())\n",
    "        }\n",
    "    }\n",
    "\n",
    "def search_for_compositions(miniCat):\n",
    "    compositions = []\n",
    "    for i,m1 in enumerate(miniCat.maps):\n",
    "        for j,m2 in enumerate(miniCat.maps):\n",
    "            # look for valid compositions\n",
    "            if m1['codomain'] != m2['domain']:\n",
    "                continue\n",
    "            composition = compose_maps(m1,m2)\n",
    "            # check the composition against other maps\n",
    "            comp_found = -1\n",
    "            for k,m3 in enumerate(miniCat.maps):\n",
    "                if are_same_map(composition,m3):\n",
    "                    comp_found = k\n",
    "                    break\n",
    "            compositions.append((i,j,k))\n",
    "    return compositions\n",
    "     \n",
    "comps2 = search_for_compositions(cat2)\n",
    "comps2"
   ]
  },
  {
   "cell_type": "code",
   "execution_count": 18,
   "id": "3cffc4d6-2582-43c2-af31-3d7577dc44fe",
   "metadata": {},
   "outputs": [
    {
     "name": "stdout",
     "output_type": "stream",
     "text": [
      "{'domain': [0], 'codomain': [0], 'map': {0: 0}}\n",
      "{'domain': [0, 1], 'codomain': [0, 1], 'map': {0: 0, 1: 0}}\n",
      "{'domain': [0, 1], 'codomain': [0, 1], 'map': {0: 0, 1: 1}}\n",
      "{'domain': [0, 1], 'codomain': [0, 1], 'map': {0: 1, 1: 1}}\n"
     ]
    },
    {
     "data": {
      "text/plain": [
       "[0, 4, 5, 7]"
      ]
     },
     "execution_count": 18,
     "metadata": {},
     "output_type": "execute_result"
    }
   ],
   "source": [
    "# some maps are idempotent & compose to get self\n",
    "def find_idempotents(cat):\n",
    "    idempotents = []\n",
    "    comps = search_for_compositions(cat)\n",
    "    for i,c in enumerate(comps):\n",
    "        if c[0] == c[1] == c[2]:\n",
    "            print(cat.maps[c[0]])\n",
    "            idempotents.append(c[0])\n",
    "    return idempotents\n",
    "idempotents2 = find_idempotents(cat2)\n",
    "idempotents2"
   ]
  },
  {
   "cell_type": "code",
   "execution_count": 19,
   "id": "2595649d-5bf2-45f1-97bd-d7a982e78759",
   "metadata": {},
   "outputs": [
    {
     "name": "stdout",
     "output_type": "stream",
     "text": [
      "Map 0 is an identity: {'domain': [0], 'codomain': [0], 'map': {0: 0}}\n",
      "Map 5 is an identity: {'domain': [0, 1], 'codomain': [0, 1], 'map': {0: 0, 1: 1}}\n"
     ]
    },
    {
     "data": {
      "text/plain": [
       "[0, 5]"
      ]
     },
     "execution_count": 19,
     "metadata": {},
     "output_type": "execute_result"
    }
   ],
   "source": [
    "# some maps are \"identity\" maps to start with\n",
    "def find_identity_maps(cat):\n",
    "    identities = []\n",
    "    for i,m in enumerate(cat.maps):\n",
    "        if m['domain'] != m['codomain']:\n",
    "            continue\n",
    "        is_identity = True\n",
    "        for k,v in zip(m['map'].keys(),m['map'].values()):\n",
    "            if k != v:\n",
    "                is_identity = False\n",
    "                break\n",
    "        if is_identity:\n",
    "            print(f\"Map {i} is an identity: {m}\")\n",
    "            identities.append(i)\n",
    "    return identities\n",
    "identities2 = find_identity_maps(cat2)\n",
    "identities2"
   ]
  },
  {
   "cell_type": "code",
   "execution_count": 20,
   "id": "00031ee1-568c-4f70-8d04-ed0c5c09c1c9",
   "metadata": {},
   "outputs": [
    {
     "data": {
      "text/plain": [
       "{0: [(0, 0), (1, 3), (2, 3)],\n",
       " 1: [(0, 1), (1, 4), (1, 5), (2, 4), (2, 6)],\n",
       " 2: [(0, 2), (1, 6), (1, 7), (2, 5), (2, 7)],\n",
       " 3: [(3, 0), (4, 3), (5, 3), (6, 3), (7, 3)],\n",
       " 4: [(3, 1), (4, 4), (4, 5), (5, 4), (6, 4), (7, 4), (7, 6)],\n",
       " 7: [(3, 2), (4, 6), (4, 7), (5, 7), (6, 7), (7, 5), (7, 7)],\n",
       " 5: [(5, 5), (6, 6)],\n",
       " 6: [(5, 6), (6, 5)]}"
      ]
     },
     "execution_count": 20,
     "metadata": {},
     "output_type": "execute_result"
    }
   ],
   "source": [
    "# we can also group by the composition\n",
    "maps_by_comp = {}\n",
    "for c in comps2:\n",
    "    if c[2] not in maps_by_comp:\n",
    "        maps_by_comp[c[2]] = []\n",
    "    maps_by_comp[c[2]].append((c[0],c[1]))\n",
    "maps_by_comp\n",
    "        "
   ]
  },
  {
   "cell_type": "code",
   "execution_count": 21,
   "id": "5dfd4fe1-160c-430d-a896-92eadeb90cff",
   "metadata": {},
   "outputs": [
    {
     "data": {
      "text/plain": [
       "[{'domain': [0], 'codomain': [0], 'map': {0: 0}},\n",
       " {'domain': [0], 'codomain': [0, 1], 'map': {0: 0}},\n",
       " {'domain': [0], 'codomain': [0, 1], 'map': {0: 1}},\n",
       " {'domain': [0, 1], 'codomain': [0], 'map': {0: 0, 1: 0}},\n",
       " {'domain': [0, 1], 'codomain': [0, 1], 'map': {0: 1, 1: 0}}]"
      ]
     },
     "execution_count": 21,
     "metadata": {},
     "output_type": "execute_result"
    }
   ],
   "source": [
    "# it looks like the set of maps 0,1,2,3,6\n",
    "# might be sufficient to generate the rest\n",
    "min_maps2 = [cat2.maps[x] for x in [0,1,2,3,6]]\n",
    "min_maps2"
   ]
  },
  {
   "cell_type": "code",
   "execution_count": 22,
   "id": "3a4060e6-93e4-4e22-aa25-f93c2891f34d",
   "metadata": {},
   "outputs": [
    {
     "data": {
      "text/plain": [
       "8"
      ]
     },
     "execution_count": 22,
     "metadata": {},
     "output_type": "execute_result"
    }
   ],
   "source": [
    "# lets verify that we can make all 8 maps from these\n",
    "comps2 = []\n",
    "for i,m1 in enumerate(min_maps2):\n",
    "    for j,m2 in enumerate(cat2.maps):\n",
    "        # look for valid compositions\n",
    "        if m1['codomain'] != m2['domain']:\n",
    "            continue\n",
    "        composition = compose_maps(m1,m2)\n",
    "        # check the composition against other maps\n",
    "        comp_found = -1\n",
    "        for k,m3 in enumerate(cat2.maps):\n",
    "            if are_same_map(composition,m3):\n",
    "                comp_found = k\n",
    "                break\n",
    "        comps2.append((i,j,k))\n",
    "produced2 = list(set([x[2] for x in comps2]))\n",
    "len(produced2)\n"
   ]
  },
  {
   "cell_type": "code",
   "execution_count": 23,
   "id": "9dcae4b0-67c5-4ee9-8917-bf9ba25ddc9e",
   "metadata": {},
   "outputs": [
    {
     "name": "stdout",
     "output_type": "stream",
     "text": [
      "True\n"
     ]
    },
    {
     "data": {
      "text/plain": [
       "[{'domain': [0], 'codomain': [0], 'map': {0: 0}},\n",
       " {'domain': [0], 'codomain': [0, 1], 'map': {0: 0}},\n",
       " {'domain': [0], 'codomain': [0, 1], 'map': {0: 1}}]"
      ]
     },
     "execution_count": 23,
     "metadata": {},
     "output_type": "execute_result"
    }
   ],
   "source": [
    "# so our first 3 key maps are the \"points\" 1->X\n",
    "print(points_of_cat2 == min_maps2[0:3])\n",
    "points_of_cat2"
   ]
  },
  {
   "cell_type": "code",
   "execution_count": 24,
   "id": "2ac5ddf2-1d4b-47ac-a755-52a6bd94c4da",
   "metadata": {},
   "outputs": [
    {
     "data": {
      "text/plain": [
       "{'domain': [0, 1], 'codomain': [0], 'map': {0: 0, 1: 0}}"
      ]
     },
     "execution_count": 24,
     "metadata": {},
     "output_type": "execute_result"
    }
   ],
   "source": [
    "# our 4th key map is the unique \"terminator\" 2->1\n",
    "min_maps2[3]\n"
   ]
  },
  {
   "cell_type": "code",
   "execution_count": 25,
   "id": "901bdb84-0203-4acc-9ab7-8642cbd7f676",
   "metadata": {},
   "outputs": [
    {
     "data": {
      "text/plain": [
       "{'domain': [0, 1], 'codomain': [0, 1], 'map': {0: 1, 1: 0}}"
      ]
     },
     "execution_count": 25,
     "metadata": {},
     "output_type": "execute_result"
    }
   ],
   "source": [
    "# and our 5th is the antipodal map 2->2\n",
    "min_maps2[4]"
   ]
  },
  {
   "cell_type": "code",
   "execution_count": 26,
   "id": "e71bcb58-c787-4d0a-9b96-646bc9addd4a",
   "metadata": {},
   "outputs": [
    {
     "name": "stdout",
     "output_type": "stream",
     "text": [
      "Cat3 has 6 points: \n",
      "[{'domain': [0], 'codomain': [0], 'map': {0: 0}}, {'domain': [0], 'codomain': [0, 1], 'map': {0: 0}}, {'domain': [0], 'codomain': [0, 1], 'map': {0: 1}}, {'domain': [0], 'codomain': [0, 1, 2], 'map': {0: 0}}, {'domain': [0], 'codomain': [0, 1, 2], 'map': {0: 1}}, {'domain': [0], 'codomain': [0, 1, 2], 'map': {0: 2}}]\n",
      "Cat3 has 1618 compositions\n",
      "Cat3 has 3 terminator maps: \n",
      "[{'domain': [0], 'codomain': [0], 'map': {0: 0}}, {'domain': [0, 1], 'codomain': [0], 'map': {0: 0, 1: 0}}, {'domain': [0, 1, 2], 'codomain': [0], 'map': {0: 0, 1: 0, 2: 0}}]\n",
      "Map 0 is an identity: {'domain': [0], 'codomain': [0], 'map': {0: 0}}\n",
      "Map 8 is an identity: {'domain': [0, 1], 'codomain': [0, 1], 'map': {0: 0, 1: 1}}\n",
      "Map 48 is an identity: {'domain': [0, 1, 2], 'codomain': [0, 1, 2], 'map': {2: 2, 0: 0, 1: 1}}\n",
      "Cat3 has 3 identity maps\n",
      "{'domain': [0], 'codomain': [0], 'map': {0: 0}}\n",
      "{'domain': [0, 1], 'codomain': [0, 1], 'map': {0: 0, 1: 0}}\n",
      "{'domain': [0, 1], 'codomain': [0, 1], 'map': {0: 0, 1: 1}}\n",
      "{'domain': [0, 1], 'codomain': [0, 1], 'map': {0: 1, 1: 1}}\n",
      "{'domain': [0, 1, 2], 'codomain': [0, 1, 2], 'map': {2: 0, 0: 0, 1: 0}}\n",
      "{'domain': [0, 1, 2], 'codomain': [0, 1, 2], 'map': {2: 0, 0: 0, 1: 1}}\n",
      "{'domain': [0, 1, 2], 'codomain': [0, 1, 2], 'map': {2: 1, 0: 0, 1: 1}}\n",
      "{'domain': [0, 1, 2], 'codomain': [0, 1, 2], 'map': {2: 1, 0: 1, 1: 1}}\n",
      "{'domain': [0, 1, 2], 'codomain': [0, 1, 2], 'map': {2: 2, 0: 0, 1: 0}}\n",
      "{'domain': [0, 1, 2], 'codomain': [0, 1, 2], 'map': {2: 2, 0: 0, 1: 1}}\n",
      "{'domain': [0, 1, 2], 'codomain': [0, 1, 2], 'map': {2: 2, 0: 0, 1: 2}}\n",
      "{'domain': [0, 1, 2], 'codomain': [0, 1, 2], 'map': {2: 2, 0: 1, 1: 1}}\n",
      "{'domain': [0, 1, 2], 'codomain': [0, 1, 2], 'map': {2: 2, 0: 2, 1: 1}}\n",
      "{'domain': [0, 1, 2], 'codomain': [0, 1, 2], 'map': {2: 2, 0: 2, 1: 2}}\n",
      "Cat3 has 14 idempotents\n"
     ]
    }
   ],
   "source": [
    "# lets check cat3 to see if there's a pattern\n",
    "points_of_cat3 = list(filter(lambda x: len(x['domain'])==1,cat3.maps))\n",
    "print(f\"Cat3 has {len(points_of_cat3)} points: \\n{points_of_cat3}\")\n",
    "comps3 = search_for_compositions(cat3)\n",
    "print(f\"Cat3 has {len(comps3)} compositions\")\n",
    "terminators3 = list(filter(lambda x: len(x['codomain'])==1,cat3.maps))\n",
    "print(f\"Cat3 has {len(terminators3)} terminator maps: \\n{terminators3}\")\n",
    "identities3 = find_identity_maps(cat3)\n",
    "print(f\"Cat3 has {len(identities3)} identity maps\")\n",
    "idempotents3 = find_idempotents(cat3)\n",
    "print(f\"Cat3 has {len(idempotents3)} idempotents\")"
   ]
  },
  {
   "cell_type": "code",
   "execution_count": 27,
   "id": "a16dd1d1-cc09-46fc-b216-2d1ee75ea550",
   "metadata": {},
   "outputs": [
    {
     "data": {
      "text/plain": [
       "[{'domain': [0, 1], 'codomain': [0, 1], 'map': {0: 1, 1: 0}},\n",
       " {'domain': [0, 1, 2], 'codomain': [0, 1, 2], 'map': {2: 0, 0: 1, 1: 0}},\n",
       " {'domain': [0, 1, 2], 'codomain': [0, 1, 2], 'map': {2: 0, 0: 1, 1: 2}},\n",
       " {'domain': [0, 1, 2], 'codomain': [0, 1, 2], 'map': {2: 0, 0: 2, 1: 0}},\n",
       " {'domain': [0, 1, 2], 'codomain': [0, 1, 2], 'map': {2: 0, 0: 2, 1: 2}},\n",
       " {'domain': [0, 1, 2], 'codomain': [0, 1, 2], 'map': {2: 1, 0: 1, 1: 0}},\n",
       " {'domain': [0, 1, 2], 'codomain': [0, 1, 2], 'map': {2: 1, 0: 1, 1: 2}},\n",
       " {'domain': [0, 1, 2], 'codomain': [0, 1, 2], 'map': {2: 1, 0: 2, 1: 0}},\n",
       " {'domain': [0, 1, 2], 'codomain': [0, 1, 2], 'map': {2: 1, 0: 2, 1: 2}}]"
      ]
     },
     "execution_count": 27,
     "metadata": {},
     "output_type": "execute_result"
    }
   ],
   "source": [
    "# lets see if we can find all \"endomaps with no fixed point\"\n",
    "def find_endomaps_without_fixed_point(cat):\n",
    "    # for each possible domain\n",
    "    output = []\n",
    "    for o in cat.objects:\n",
    "        # find all endomap on that domain\n",
    "        endomaps = list(filter(lambda x: x['domain']==o and x['codomain']==o,cat.maps))\n",
    "        # filter ones with no fixed points\n",
    "        even_endomaps = list(filter(lambda x: not has_fixed_point(x),endomaps))\n",
    "        output.extend(even_endomaps)\n",
    "    return output\n",
    "\n",
    "non_fixed3 = find_endomaps_without_fixed_point(cat3)\n",
    "non_fixed3"
   ]
  },
  {
   "cell_type": "code",
   "execution_count": 28,
   "id": "56cdfaba-24b1-467d-9272-355f983e24b1",
   "metadata": {},
   "outputs": [
    {
     "data": {
      "text/plain": [
       "[{'domain': [0, 1], 'codomain': [0, 1], 'map': {0: 1, 1: 0}},\n",
       " {'domain': [0, 1, 2], 'codomain': [0, 1, 2], 'map': {2: 0, 0: 1, 1: 2}},\n",
       " {'domain': [0, 1, 2], 'codomain': [0, 1, 2], 'map': {2: 1, 0: 2, 1: 0}}]"
      ]
     },
     "execution_count": 28,
     "metadata": {},
     "output_type": "execute_result"
    }
   ],
   "source": [
    "# lets also see if we can narrow these down by the size of the output space\n",
    "def is_one_to_one(m):\n",
    "    return len(m['domain']) == len(set(m['map'].values()))\n",
    "\n",
    "non_fixed_one_to_one3 = list(filter(is_one_to_one,non_fixed3))\n",
    "non_fixed_one_to_one3"
   ]
  },
  {
   "cell_type": "code",
   "execution_count": 29,
   "id": "7fd3d2b5-69b9-4b67-a9f2-5c71a9fa8d9d",
   "metadata": {},
   "outputs": [
    {
     "data": {
      "text/plain": [
       "{'domain': [0, 1, 2], 'codomain': [0, 1, 2], 'map': {2: 2, 0: 0, 1: 1}}"
      ]
     },
     "execution_count": 29,
     "metadata": {},
     "output_type": "execute_result"
    }
   ],
   "source": [
    "# note that the last two maps compose to form an identity\n",
    "compose_maps(non_fixed_one_to_one3[1],non_fixed_one_to_one3[2])"
   ]
  },
  {
   "cell_type": "code",
   "execution_count": 30,
   "id": "9874e7ec-b118-40b5-889f-eb439ed7179f",
   "metadata": {},
   "outputs": [
    {
     "data": {
      "text/plain": [
       "{'domain': [0, 1, 2], 'codomain': [0, 1, 2], 'map': {2: 1, 0: 2, 1: 0}}"
      ]
     },
     "execution_count": 30,
     "metadata": {},
     "output_type": "execute_result"
    }
   ],
   "source": [
    "# and that one produces the other through self-composition:\n",
    "compose_maps(non_fixed_one_to_one3[1],non_fixed_one_to_one3[1])"
   ]
  },
  {
   "cell_type": "code",
   "execution_count": 34,
   "id": "75d6dd4b-faa5-4222-be65-79746c3ea46f",
   "metadata": {},
   "outputs": [
    {
     "name": "stdout",
     "output_type": "stream",
     "text": [
      "12\n"
     ]
    },
    {
     "data": {
      "text/plain": [
       "[{'domain': [0], 'codomain': [0], 'map': {0: 0}},\n",
       " {'domain': [0], 'codomain': [0, 1], 'map': {0: 0}},\n",
       " {'domain': [0], 'codomain': [0, 1], 'map': {0: 1}},\n",
       " {'domain': [0], 'codomain': [0, 1, 2], 'map': {0: 0}},\n",
       " {'domain': [0], 'codomain': [0, 1, 2], 'map': {0: 1}},\n",
       " {'domain': [0], 'codomain': [0, 1, 2], 'map': {0: 2}},\n",
       " {'domain': [0, 1], 'codomain': [0, 1], 'map': {0: 1, 1: 0}},\n",
       " {'domain': [0, 1, 2], 'codomain': [0, 1, 2], 'map': {2: 0, 0: 1, 1: 2}},\n",
       " {'domain': [0, 1], 'codomain': [0], 'map': {0: 0, 1: 0}},\n",
       " {'domain': [0, 1, 2], 'codomain': [0], 'map': {0: 0, 1: 0, 2: 0}},\n",
       " {'domain': [0, 1], 'codomain': [0, 1], 'map': {0: 1, 1: 0}},\n",
       " {'domain': [0, 1, 2], 'codomain': [0, 1, 2], 'map': {2: 0, 0: 1, 1: 2}}]"
      ]
     },
     "execution_count": 34,
     "metadata": {},
     "output_type": "execute_result"
    }
   ],
   "source": [
    "# so, putting this all together, I think we can build all cat3 maps from:\n",
    "#    the \"points\", the \"terminators\", and the \"loops\"\n",
    "#  and the compositions thereof\n",
    "min_maps3 = points_of_cat3\n",
    "min_maps3.append(non_fixed_one_to_one3[0])\n",
    "min_maps3.append(non_fixed_one_to_one3[1])\n",
    "for m1 in terminators3:\n",
    "    map_found = False\n",
    "    for m2 in min_maps3:\n",
    "        if are_same_map(m1,m2):\n",
    "            map_found = True\n",
    "    if not map_found:\n",
    "        min_maps3.append(m1)\n",
    "print(len(min_maps3))\n",
    "min_maps3"
   ]
  },
  {
   "cell_type": "code",
   "execution_count": 32,
   "id": "6c3d5fd6-5fbd-419f-ac46-b2e58bc47cc9",
   "metadata": {},
   "outputs": [
    {
     "data": {
      "text/plain": [
       "56"
      ]
     },
     "execution_count": 32,
     "metadata": {},
     "output_type": "execute_result"
    }
   ],
   "source": [
    "# now lets check if we made all of them\n",
    "def produced_by_compositions(cat,min_maps):\n",
    "    comps = []\n",
    "    for i,m1 in enumerate(min_maps):\n",
    "        for j,m2 in enumerate(cat.maps):\n",
    "            # look for valid compositions\n",
    "            if m1['codomain'] != m2['domain']:\n",
    "                continue\n",
    "            composition = compose_maps(m1,m2)\n",
    "            # check the composition against other maps\n",
    "            comp_found = -1\n",
    "            for k,m3 in enumerate(cat.maps):\n",
    "                if are_same_map(composition,m3):\n",
    "                    comp_found = k\n",
    "                    break\n",
    "            comps.append((i,j,k))\n",
    "\n",
    "    return  list(set([x[2] for x in comps]))\n",
    "prod3 = produced_by_compositions(cat3,min_maps3)\n",
    "len(prod3)"
   ]
  },
  {
   "cell_type": "code",
   "execution_count": 33,
   "id": "452a0324-f7f2-4201-a798-a0e44107d868",
   "metadata": {},
   "outputs": [
    {
     "data": {
      "text/plain": [
       "True"
      ]
     },
     "execution_count": 33,
     "metadata": {},
     "output_type": "execute_result"
    }
   ],
   "source": [
    "# i think that's all of them!\n",
    "len(set(prod3)) == len(cat3.maps)"
   ]
  }
 ],
 "metadata": {
  "kernelspec": {
   "display_name": "Python 3 (ipykernel)",
   "language": "python",
   "name": "python3"
  },
  "language_info": {
   "codemirror_mode": {
    "name": "ipython",
    "version": 3
   },
   "file_extension": ".py",
   "mimetype": "text/x-python",
   "name": "python",
   "nbconvert_exporter": "python",
   "pygments_lexer": "ipython3",
   "version": "3.12.1"
  }
 },
 "nbformat": 4,
 "nbformat_minor": 5
}

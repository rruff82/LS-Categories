{
 "cells": [
  {
   "cell_type": "code",
   "execution_count": 1,
   "id": "1f652179-3b28-42b7-ac1d-e3220a3d3fe3",
   "metadata": {},
   "outputs": [],
   "source": [
    "# theory: I can enumerate all possible finite graphs\n",
    "import numpy as np\n",
    "import networkx as nx\n",
    "import matplotlib.pyplot as plt\n",
    "from session15 import get_session15_endomaps"
   ]
  },
  {
   "cell_type": "code",
   "execution_count": 2,
   "id": "cd0898f1-5838-4918-b24a-1f4b71f314c4",
   "metadata": {},
   "outputs": [],
   "source": [
    "XG,YG = get_session15_endomaps()"
   ]
  },
  {
   "cell_type": "code",
   "execution_count": 3,
   "id": "57499efd-3c0f-44fe-8095-5bccbd5bb4bd",
   "metadata": {},
   "outputs": [],
   "source": [
    "def graph_to_N_x_N(G):\n",
    "    M = nx.to_numpy_array(G)\n",
    "    size = len(G.nodes)\n",
    "    sq_size = size*size\n",
    "    flat_M = np.reshape(M,(sq_size,))\n",
    "    pows_2 = np.array([2**i for i in range(sq_size)])\n",
    "    return (int(np.dot(flat_M,pows_2)),size)\n"
   ]
  },
  {
   "cell_type": "code",
   "execution_count": 4,
   "id": "04a4c01b-c6c9-4c54-952e-5c2e582dcab8",
   "metadata": {},
   "outputs": [],
   "source": [
    "from graphs import EMPTY_GRAPH,NAKED_ARROW,NAKED_DOT"
   ]
  },
  {
   "cell_type": "code",
   "execution_count": 5,
   "id": "8cf5e2f1-4b22-4cd9-b8f8-cc1bb8824177",
   "metadata": {},
   "outputs": [
    {
     "data": {
      "text/plain": [
       "[[(0, 0), (0, 1), (2, 2)]]"
      ]
     },
     "execution_count": 5,
     "metadata": {},
     "output_type": "execute_result"
    }
   ],
   "source": [
    "[list(map(graph_to_N_x_N,[EMPTY_GRAPH,NAKED_DOT,NAKED_ARROW]))]"
   ]
  },
  {
   "cell_type": "code",
   "execution_count": 6,
   "id": "e3fb457a-05ee-4a7a-943c-5f0b0599f332",
   "metadata": {},
   "outputs": [],
   "source": [
    "from graphs import graph_sum,graph_product,make_C_N,graph_isometry\n"
   ]
  },
  {
   "cell_type": "code",
   "execution_count": 7,
   "id": "53b827e4-be6d-4449-b966-699edc23a5b2",
   "metadata": {},
   "outputs": [],
   "source": [
    "from numbertheory import reverse_zig_zag,from_zig_zag_N,check_bit"
   ]
  },
  {
   "cell_type": "code",
   "execution_count": 8,
   "id": "6f0fe660-bb4b-4d27-9460-d27d2c64790d",
   "metadata": {},
   "outputs": [],
   "source": [
    "def graph_to_N(G):\n",
    "    p = graph_to_N_x_N(G)\n",
    "    return 2**p[1]+p[0]-1"
   ]
  },
  {
   "cell_type": "code",
   "execution_count": 9,
   "id": "07c01bcb-8ff6-4ed5-8ffb-29573f7f6f7a",
   "metadata": {},
   "outputs": [
    {
     "data": {
      "text/plain": [
       "[[0, 1, 5]]"
      ]
     },
     "execution_count": 9,
     "metadata": {},
     "output_type": "execute_result"
    }
   ],
   "source": [
    "[list(map(graph_to_N,[EMPTY_GRAPH,NAKED_DOT,NAKED_ARROW]))]"
   ]
  },
  {
   "cell_type": "code",
   "execution_count": 10,
   "id": "370b6879-c08d-4451-9d8a-736bce96269c",
   "metadata": {},
   "outputs": [],
   "source": [
    "# now lets try to invert it\n",
    "def graph_from_N(n):\n",
    "    pow2 = 1\n",
    "    size = 0\n",
    "    bits = []\n",
    "    while pow2 > n:\n",
    "        bits.append(n % pow2)\n",
    "        pow2 *= 2\n",
    "        size += 1\n",
    "    print(f\"n:{n} bits:{bits}\")\n",
    "\n",
    "    if size == 0:\n",
    "        print(\"empty graph!\")\n",
    "        return nx.DiGraph({})\n",
    "        \n",
    "    \n",
    "    print(f\"graph with {size} dots and bit_rep {bits}\")\n",
    "  #  bit_vec = np.array([[1 if check_bit(bit_rep,i) else 0 for i in range(size**size)]])\n",
    "  #  print(f\"bit_vec: {bit_vec}\")\n",
    "   # adj_mat = np.reshape(bit_vec,(size,size))\n",
    "    adj_mat = np.reshape(bits,(size,size))\n",
    "    return nx.from_numpy_array(adj_mat,create_using=nx.DiGraph())\n",
    "    "
   ]
  },
  {
   "cell_type": "code",
   "execution_count": 11,
   "id": "66937864-c380-4cca-b730-7223aed6e2da",
   "metadata": {},
   "outputs": [
    {
     "name": "stdout",
     "output_type": "stream",
     "text": [
      "Nodes = 2 x 2 -> 4\n",
      "[\"['s', 's']\", \"['s', 't']\", \"['t', 's']\", \"['t', 't']\"] 4\n",
      "[(\"['s', 's']\", \"['t', 't']\")] 1\n"
     ]
    }
   ],
   "source": [
    "TEST_GRAPHS = [\n",
    "    EMPTY_GRAPH,\n",
    "    NAKED_DOT,\n",
    "    NAKED_ARROW,\n",
    "    graph_sum(NAKED_DOT,NAKED_DOT),\n",
    "    graph_sum(NAKED_DOT,NAKED_ARROW),\n",
    "    graph_product(NAKED_ARROW,NAKED_ARROW)\n",
    "]"
   ]
  },
  {
   "cell_type": "code",
   "execution_count": null,
   "id": "8bc19d93-f0f8-4379-993a-537b2323f4fe",
   "metadata": {},
   "outputs": [
    {
     "name": "stdout",
     "output_type": "stream",
     "text": [
      "[]\n"
     ]
    },
    {
     "data": {
      "image/png": "[encoded data removed]",
      "text/plain": [
       "<Figure size 640x480 with 1 Axes>"
      ]
     },
     "metadata": {},
     "output_type": "display_data"
    },
    {
     "name": "stdout",
     "output_type": "stream",
     "text": [
      "Pair (0, 0) -> Graph 0\n"
     ]
    }
   ],
   "source": [
    "def draw_and_print(G):\n",
    "    m = nx.to_numpy_array(g)\n",
    "    print(m)\n",
    "    nx.draw(g)\n",
    "    plt.show()\n",
    "\n",
    "for g in TEST_GRAPHS:\n",
    "    draw_and_print(g)\n",
    "    p = graph_to_N_x_N(g)\n",
    "    n = graph_to_N(g)\n",
    "    print(f\"Pair {p} -> Graph {n}\")\n",
    "    rg = graph_from_N(n)\n",
    "    assert graph_isometry(rg,g)"
   ]
  },
  {
   "cell_type": "code",
   "execution_count": null,
   "id": "704ec502-44e3-45d3-b6dd-184516efb6df",
   "metadata": {},
   "outputs": [],
   "source": [
    "for i in range(3):\n",
    "    for j in range(2**i):\n",
    "        print(f\"i:{i} j:{j}\")\n",
    "        draw_and_print(graph_from_N_x_N(j,i))"
   ]
  },
  {
   "cell_type": "code",
   "execution_count": null,
   "id": "2e1866c6-a56d-4a2f-b1c4-87c6440245f7",
   "metadata": {},
   "outputs": [],
   "source": [
    "nx.draw(graph_from_N_x_N((2,2)))"
   ]
  },
  {
   "cell_type": "code",
   "execution_count": null,
   "id": "b2ff5fea-1ee7-4eb8-9c0d-89aad7c97b01",
   "metadata": {},
   "outputs": [],
   "source": []
  },
  {
   "cell_type": "code",
   "execution_count": null,
   "id": "a3114991-bd21-4f6c-b663-2804dc72a0ee",
   "metadata": {},
   "outputs": [],
   "source": []
  },
  {
   "cell_type": "code",
   "execution_count": null,
   "id": "f023400a-11a5-4185-9b9d-05565fb8e3e9",
   "metadata": {},
   "outputs": [],
   "source": [
    "def graph_from_N(n):\n",
    "    size = np.floor(np.log2(n))"
   ]
  },
  {
   "cell_type": "code",
   "execution_count": null,
   "id": "0efeaa53-9a5e-4ae4-8fdd-b68432fe93a8",
   "metadata": {},
   "outputs": [],
   "source": [
    "for i in range(13):\n",
    "    print(f\"i:{i}\")\n",
    "    g = graph_from_N(i)\n",
    "    draw_and_print(g)\n"
   ]
  },
  {
   "cell_type": "code",
   "execution_count": null,
   "id": "fe659977-2e1e-4218-a6a3-7913cd26ee70",
   "metadata": {},
   "outputs": [],
   "source": [
    "\n"
   ]
  },
  {
   "cell_type": "code",
   "execution_count": null,
   "id": "3563e407-d785-4ede-8c51-6b7e8798132d",
   "metadata": {},
   "outputs": [],
   "source": [
    "nx.draw(g10[1])"
   ]
  },
  {
   "cell_type": "code",
   "execution_count": null,
   "id": "ce227473-e53f-4915-8ee5-2e0448f58800",
   "metadata": {},
   "outputs": [],
   "source": [
    "nx.draw(g10[2])"
   ]
  },
  {
   "cell_type": "code",
   "execution_count": null,
   "id": "5654c2c1-9ddc-4287-a283-4c7068803b4f",
   "metadata": {},
   "outputs": [],
   "source": [
    "nx.draw(g10[3])"
   ]
  },
  {
   "cell_type": "code",
   "execution_count": null,
   "id": "221c5b70-a0c0-4580-8143-6941354aa407",
   "metadata": {},
   "outputs": [],
   "source": [
    "from graphs import make_C_N\n",
    "C3 = make_C_N(3)"
   ]
  },
  {
   "cell_type": "code",
   "execution_count": null,
   "id": "ddd5c072-bf06-45fa-805e-a0163eb70be8",
   "metadata": {},
   "outputs": [],
   "source": [
    "def maps_in_S_between_graphs(GA,GB):\n",
    "    a_size,b_size "
   ]
  },
  {
   "cell_type": "code",
   "execution_count": null,
   "id": "d6636f20-2d1f-40a1-b96b-9b7a02b97add",
   "metadata": {},
   "outputs": [],
   "source": []
  },
  {
   "cell_type": "code",
   "execution_count": null,
   "id": "55ca34d3-1471-440e-90f6-3bd36c2f1f91",
   "metadata": {},
   "outputs": [],
   "source": []
  }
 ],
 "metadata": {
  "kernelspec": {
   "display_name": "Python 3 (ipykernel)",
   "language": "python",
   "name": "python3"
  },
  "language_info": {
   "codemirror_mode": {
    "name": "ipython",
    "version": 3
   },
   "file_extension": ".py",
   "mimetype": "text/x-python",
   "name": "python",
   "nbconvert_exporter": "python",
   "pygments_lexer": "ipython3",
   "version": "3.12.1"
  }
 },
 "nbformat": 4,
 "nbformat_minor": 5
}

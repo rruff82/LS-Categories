{
 "cells": [
  {
   "cell_type": "code",
   "execution_count": 1,
   "id": "c0b21c46-7b88-4448-bbe7-7c0f463ce7e6",
   "metadata": {},
   "outputs": [],
   "source": [
    "import numpy as np\n",
    "import networkx as nx\n",
    "import matplotlib.pyplot as plt\n",
    "from session15 import make_presentation, get_session15_endomaps"
   ]
  },
  {
   "cell_type": "code",
   "execution_count": 2,
   "id": "6a359b28-b81a-4df4-8ee9-e9b51272024c",
   "metadata": {},
   "outputs": [],
   "source": [
    "XG,YG = get_session15_endomaps()"
   ]
  },
  {
   "cell_type": "code",
   "execution_count": 3,
   "id": "f915a610-a988-47d3-ac8e-327e2aadec5c",
   "metadata": {},
   "outputs": [
    {
     "name": "stdout",
     "output_type": "stream",
     "text": [
      "{'generators': ['X0', 'X1', 'X2', 'X3'], 'relations': [(('X0', 5), ('X0', 2)), (('X1', 1), ('X0', 2)), (('X2', 1), ('X0', 3)), (('X3', 2), ('X3', 0))]}\n",
      "{'generators': ['Yp', 'Yq', 'Yz', 'Ym'], 'relations': [(('Yp', 6), ('Yp', 2)), (('Yq', 1), ('Yp', 1)), (('Yz', 4), ('Yz', 1)), (('Ym', 2), ('Ym', 0))]}\n"
     ]
    }
   ],
   "source": [
    "X_pres,Y_pres = make_presentation(XG),make_presentation(YG)\n",
    "print(X_pres)\n",
    "print(Y_pres)"
   ]
  },
  {
   "cell_type": "code",
   "execution_count": 4,
   "id": "956abf85-7703-44a3-95b6-c28afd6d15c2",
   "metadata": {},
   "outputs": [
    {
     "name": "stdout",
     "output_type": "stream",
     "text": [
      "['A_-5575657043070059184', 'A_-1265248724305292218', 'A_4879285562243620016', 'A_7062724259722229782', 'B_-2148518115852992330', 'B_5830314763834771579', 'B_-6810494941577336680', 'B_6493065314137436156']\n",
      "{'X0': 0, 'X1': 1, 'X2': 2, 'X3': 3}\n",
      "{'Yp': 4, 'Yq': 5, 'Yz': 6, 'Ym': 7}\n"
     ]
    },
    {
     "data": {
      "text/plain": [
       "{'generators': ['A_-5575657043070059184',\n",
       "  'A_-1265248724305292218',\n",
       "  'A_4879285562243620016',\n",
       "  'A_7062724259722229782',\n",
       "  'B_-2148518115852992330',\n",
       "  'B_5830314763834771579',\n",
       "  'B_-6810494941577336680',\n",
       "  'B_6493065314137436156'],\n",
       " 'relations': [(('A_-5575657043070059184', 5), ('A_-5575657043070059184', 2)),\n",
       "  (('A_-1265248724305292218', 1), ('A_-5575657043070059184', 2)),\n",
       "  (('A_4879285562243620016', 1), ('A_-5575657043070059184', 3)),\n",
       "  (('A_7062724259722229782', 2), ('A_7062724259722229782', 0)),\n",
       "  (('B_-2148518115852992330', 6), ('B_-2148518115852992330', 2)),\n",
       "  (('B_5830314763834771579', 1), ('B_-2148518115852992330', 1)),\n",
       "  (('B_-6810494941577336680', 4), ('B_-6810494941577336680', 1)),\n",
       "  (('B_6493065314137436156', 2), ('B_6493065314137436156', 0))],\n",
       " 'injection_maps': [{'X0': 0, 'X1': 1, 'X2': 2, 'X3': 3},\n",
       "  {'Yp': 4, 'Yq': 5, 'Yz': 6, 'Ym': 7}]}"
      ]
     },
     "execution_count": 4,
     "metadata": {},
     "output_type": "execute_result"
    }
   ],
   "source": [
    "# maybe our sum is as easy as list concatenation\n",
    "def presentation_sum(PA,PB):\n",
    "    a_size,b_size = len(PA['generators']),len(PB['generators'])\n",
    "    # hopefully this hashing guarantees uniqueness\n",
    "    combined_generators = [\n",
    "        \"A_\"+str(hash(a)) for a in PA['generators']\n",
    "    ]+[\n",
    "        \"B_\"+str(hash(b)) for b in PB['generators']\n",
    "    ]\n",
    "    print(combined_generators)\n",
    "    assert len(combined_generators)==len(set(combined_generators))\n",
    "    a_retraction = {k:v for k,v in zip(PA['generators'],range(a_size))}\n",
    "    b_retraction = {\n",
    "        k:v for k,v in zip(PB['generators'],[i+a_size for i in range(b_size)])\n",
    "    }\n",
    "    print(a_retraction)\n",
    "    print(b_retraction)\n",
    "    \n",
    "    a_rels = [\n",
    "        (\n",
    "            (combined_generators[a_retraction[i[0][0]]],i[0][1]),\n",
    "            (combined_generators[a_retraction[i[1][0]]],i[1][1])\n",
    "        ) for i in PA['relations']\n",
    "    ]\n",
    "    b_rels = [\n",
    "        (\n",
    "            (combined_generators[b_retraction[i[0][0]]],i[0][1]),\n",
    "            (combined_generators[b_retraction[i[1][0]]],i[1][1])\n",
    "        ) for i in PB['relations']\n",
    "    ]\n",
    "    return {\n",
    "        'generators':combined_generators,\n",
    "        'relations':a_rels+b_rels,\n",
    "        'injection_maps':[a_retraction,b_retraction]\n",
    "    }\n",
    "presentation_sum(X_pres,Y_pres)"
   ]
  },
  {
   "cell_type": "code",
   "execution_count": 5,
   "id": "682f848b-f949-4da1-8ed7-3ac25ac2a829",
   "metadata": {},
   "outputs": [],
   "source": [
    "from session15 import reconstruct_endomap"
   ]
  },
  {
   "cell_type": "code",
   "execution_count": 6,
   "id": "198b90de-9392-4c8f-bb9a-156502b40d40",
   "metadata": {},
   "outputs": [
    {
     "name": "stdout",
     "output_type": "stream",
     "text": [
      "['A_-5575657043070059184', 'A_-1265248724305292218', 'A_4879285562243620016', 'A_7062724259722229782', 'B_-2148518115852992330', 'B_5830314763834771579', 'B_-6810494941577336680', 'B_6493065314137436156']\n",
      "{'X0': 0, 'X1': 1, 'X2': 2, 'X3': 3}\n",
      "{'Yp': 4, 'Yq': 5, 'Yz': 6, 'Ym': 7}\n",
      "{'generators': ['A_-5575657043070059184', 'A_-1265248724305292218', 'A_4879285562243620016', 'A_7062724259722229782', 'B_-2148518115852992330', 'B_5830314763834771579', 'B_-6810494941577336680', 'B_6493065314137436156'], 'relations': [(('A_-5575657043070059184', 5), ('A_-5575657043070059184', 2)), (('A_-1265248724305292218', 1), ('A_-5575657043070059184', 2)), (('A_4879285562243620016', 1), ('A_-5575657043070059184', 3)), (('A_7062724259722229782', 2), ('A_7062724259722229782', 0)), (('B_-2148518115852992330', 6), ('B_-2148518115852992330', 2)), (('B_5830314763834771579', 1), ('B_-2148518115852992330', 1)), (('B_-6810494941577336680', 4), ('B_-6810494941577336680', 1)), (('B_6493065314137436156', 2), ('B_6493065314137436156', 0))], 'injection_maps': [{'X0': 0, 'X1': 1, 'X2': 2, 'X3': 3}, {'Yp': 4, 'Yq': 5, 'Yz': 6, 'Ym': 7}]}\n"
     ]
    }
   ],
   "source": [
    "pres_sum = presentation_sum(X_pres,Y_pres)\n",
    "print(pres_sum)"
   ]
  },
  {
   "cell_type": "code",
   "execution_count": 7,
   "id": "9e219c20-7758-4ee0-86cb-80538df68534",
   "metadata": {},
   "outputs": [
    {
     "name": "stdout",
     "output_type": "stream",
     "text": [
      "{'map_by_name': {'A_-5575657043070059184': 'sA_-5575657043070059184', 'sA_-5575657043070059184': 'ssA_-5575657043070059184', 'ssA_-5575657043070059184': 'sssA_-5575657043070059184', 'sssA_-5575657043070059184': 'ssssA_-5575657043070059184', 'ssssA_-5575657043070059184': 'ssA_-5575657043070059184', 'A_-1265248724305292218': 'ssA_-5575657043070059184', 'A_4879285562243620016': 'sssA_-5575657043070059184', 'A_7062724259722229782': 'sA_7062724259722229782', 'sA_7062724259722229782': 'A_7062724259722229782', 'B_-2148518115852992330': 'sB_-2148518115852992330', 'sB_-2148518115852992330': 'ssB_-2148518115852992330', 'ssB_-2148518115852992330': 'sssB_-2148518115852992330', 'sssB_-2148518115852992330': 'ssssB_-2148518115852992330', 'ssssB_-2148518115852992330': 'sssssB_-2148518115852992330', 'sssssB_-2148518115852992330': 'ssB_-2148518115852992330', 'B_5830314763834771579': 'sB_-2148518115852992330', 'B_-6810494941577336680': 'sB_-6810494941577336680', 'sB_-6810494941577336680': 'ssB_-6810494941577336680', 'ssB_-6810494941577336680': 'sssB_-6810494941577336680', 'sssB_-6810494941577336680': 'sB_-6810494941577336680', 'B_6493065314137436156': 'sB_6493065314137436156', 'sB_6493065314137436156': 'B_6493065314137436156'}, 'map_by_zz_index': {0: 1, 1: 3, 3: 6, 6: 10, 10: 3, 2: 3, 5: 6, 9: 13, 13: 9, 14: 19, 19: 25, 25: 32, 32: 40, 40: 49, 49: 25, 20: 19, 27: 34, 34: 42, 42: 51, 51: 34, 35: 43, 43: 35}, 'index_by_label': {'A_-5575657043070059184': 0, 'sA_-5575657043070059184': 1, 'ssA_-5575657043070059184': 3, 'sssA_-5575657043070059184': 6, 'ssssA_-5575657043070059184': 10, 'A_-1265248724305292218': 2, 'A_4879285562243620016': 5, 'A_7062724259722229782': 9, 'sA_7062724259722229782': 13, 'B_-2148518115852992330': 14, 'sB_-2148518115852992330': 19, 'ssB_-2148518115852992330': 25, 'sssB_-2148518115852992330': 32, 'ssssB_-2148518115852992330': 40, 'sssssB_-2148518115852992330': 49, 'B_5830314763834771579': 20, 'B_-6810494941577336680': 27, 'sB_-6810494941577336680': 34, 'ssB_-6810494941577336680': 42, 'sssB_-6810494941577336680': 51, 'B_6493065314137436156': 35, 'sB_6493065314137436156': 43}, 'label_by_index': {0: 'A_-5575657043070059184', 1: 'sA_-5575657043070059184', 3: 'ssA_-5575657043070059184', 6: 'sssA_-5575657043070059184', 10: 'ssssA_-5575657043070059184', 2: 'A_-1265248724305292218', 5: 'A_4879285562243620016', 9: 'A_7062724259722229782', 13: 'sA_7062724259722229782', 14: 'B_-2148518115852992330', 19: 'sB_-2148518115852992330', 25: 'ssB_-2148518115852992330', 32: 'sssB_-2148518115852992330', 40: 'ssssB_-2148518115852992330', 49: 'sssssB_-2148518115852992330', 20: 'B_5830314763834771579', 27: 'B_-6810494941577336680', 34: 'sB_-6810494941577336680', 42: 'ssB_-6810494941577336680', 51: 'sssB_-6810494941577336680', 35: 'B_6493065314137436156', 43: 'sB_6493065314137436156'}, 'size': 22}\n"
     ]
    }
   ],
   "source": [
    "sum_graph = reconstruct_endomap(pres_sum)\n",
    "print(sum_graph)"
   ]
  },
  {
   "cell_type": "code",
   "execution_count": 8,
   "id": "2f2e674d-f60d-4d91-a4bc-65900dbbd65b",
   "metadata": {},
   "outputs": [],
   "source": [
    "S_G = nx.DiGraph({k:[v] for k,v in zip(sum_graph['map_by_name'].keys(),sum_graph['map_by_name'].values())})"
   ]
  },
  {
   "cell_type": "code",
   "execution_count": 9,
   "id": "8a535cd0-9f95-4fd3-ba83-05928e07cd0f",
   "metadata": {},
   "outputs": [
    {
     "data": {
      "image/png": "[encoded data removed]",
      "text/plain": [
       "<Figure size 640x480 with 1 Axes>"
      ]
     },
     "metadata": {},
     "output_type": "display_data"
    }
   ],
   "source": [
    "nx.draw(S_G)"
   ]
  },
  {
   "cell_type": "code",
   "execution_count": 10,
   "id": "a6c3b217-d132-4452-a20d-6dd5e06808e3",
   "metadata": {},
   "outputs": [
    {
     "data": {
      "text/plain": [
       "22"
      ]
     },
     "execution_count": 10,
     "metadata": {},
     "output_type": "execute_result"
    }
   ],
   "source": [
    "len(S_G.nodes)"
   ]
  },
  {
   "cell_type": "code",
   "execution_count": 11,
   "id": "415ec5eb-64bd-442e-addf-0f06387d0427",
   "metadata": {},
   "outputs": [
    {
     "data": {
      "text/plain": [
       "22"
      ]
     },
     "execution_count": 11,
     "metadata": {},
     "output_type": "execute_result"
    }
   ],
   "source": [
    "len(XG.nodes)+len(YG.nodes)"
   ]
  },
  {
   "cell_type": "code",
   "execution_count": 12,
   "id": "1c77f610-81f8-4ce4-9e5d-332a6a332768",
   "metadata": {},
   "outputs": [
    {
     "data": {
      "text/plain": [
       "22"
      ]
     },
     "execution_count": 12,
     "metadata": {},
     "output_type": "execute_result"
    }
   ],
   "source": [
    "len(sum_graph['map_by_name'])"
   ]
  },
  {
   "cell_type": "code",
   "execution_count": 13,
   "id": "9d371665-104e-4474-b2bd-f16af6ca338f",
   "metadata": {},
   "outputs": [],
   "source": [
    "# OKAY! That's what it should look like"
   ]
  },
  {
   "cell_type": "code",
   "execution_count": 14,
   "id": "1068e985-a639-4f8b-8528-5353822e2662",
   "metadata": {},
   "outputs": [],
   "source": [
    "# in session 21, I wrote out a graph product function\n",
    "# let's generalize it to work with generic graphs\n",
    "def graph_product(A,B):\n",
    "    nodes = []\n",
    "    edges = []\n",
    "\n",
    "    a_pos = {}\n",
    "    b_pos = {}\n",
    "    c_pos = {}\n",
    "    \n",
    "    for i,a in enumerate(A):\n",
    "        a_next = list(A.successors(a))\n",
    "        a_pos[a] = (0,i)\n",
    "\n",
    "        for j,b in enumerate(B):\n",
    "            b_next = list(B.successors(b))\n",
    "            b_pos[b] = (j,0)\n",
    "            nodes.append(str([a,b]))\n",
    "            for b_i in b_next:\n",
    "                if len(a_next):\n",
    "                    for a_i in a_next:\n",
    "                        edges.append((str([a,b]),str([a_i,b_i])))\n",
    "                else:\n",
    "                    edges.append((str([a,b]),str([a,b_i])))\n",
    "            c_pos[str([a,b])] = (j+1,i+1)\n",
    "                    \n",
    "    print(nodes)\n",
    "    print(edges)\n",
    "\n",
    "    print(c_pos)\n",
    "    \n",
    "    C = nx.DiGraph()\n",
    "    C.add_nodes_from(nodes)\n",
    "    C.add_edges_from(edges)\n",
    "    fig, all_axes = plt.subplots(2, 2)\n",
    "    ax = all_axes.flat\n",
    "\n",
    "    nx.draw_shell(A, ax=ax[0], with_labels=True, font_weight='bold')\n",
    "\n",
    "    nx.draw_planar(C, ax=ax[1], with_labels=True, font_weight='bold')\n",
    "\n",
    "    nx.draw_shell(B, ax=ax[3], with_labels=True, font_weight='bold')\n",
    "    ax[2].axis('off')\n",
    "    plt.show()\n",
    "    \n",
    "    return C"
   ]
  },
  {
   "cell_type": "code",
   "execution_count": 15,
   "id": "8a5d440b-cf52-4167-bc86-173f6e231fb3",
   "metadata": {},
   "outputs": [
    {
     "name": "stdout",
     "output_type": "stream",
     "text": [
      "[\"['X0', 'Yp']\", \"['X0', 'Yq']\", \"['X0', 'Yr']\", \"['X0', 'Ys']\", \"['X0', 'Yt']\", \"['X0', 'Yv']\", \"['X0', 'Yu']\", \"['X0', 'Ym']\", \"['X0', 'Yl']\", \"['X0', 'Yw']\", \"['X0', 'Yx']\", \"['X0', 'Yy']\", \"['X0', 'Yz']\", \"['X1', 'Yp']\", \"['X1', 'Yq']\", \"['X1', 'Yr']\", \"['X1', 'Ys']\", \"['X1', 'Yt']\", \"['X1', 'Yv']\", \"['X1', 'Yu']\", \"['X1', 'Ym']\", \"['X1', 'Yl']\", \"['X1', 'Yw']\", \"['X1', 'Yx']\", \"['X1', 'Yy']\", \"['X1', 'Yz']\", \"['X2', 'Yp']\", \"['X2', 'Yq']\", \"['X2', 'Yr']\", \"['X2', 'Ys']\", \"['X2', 'Yt']\", \"['X2', 'Yv']\", \"['X2', 'Yu']\", \"['X2', 'Ym']\", \"['X2', 'Yl']\", \"['X2', 'Yw']\", \"['X2', 'Yx']\", \"['X2', 'Yy']\", \"['X2', 'Yz']\", \"['X3', 'Yp']\", \"['X3', 'Yq']\", \"['X3', 'Yr']\", \"['X3', 'Ys']\", \"['X3', 'Yt']\", \"['X3', 'Yv']\", \"['X3', 'Yu']\", \"['X3', 'Ym']\", \"['X3', 'Yl']\", \"['X3', 'Yw']\", \"['X3', 'Yx']\", \"['X3', 'Yy']\", \"['X3', 'Yz']\", \"['X4', 'Yp']\", \"['X4', 'Yq']\", \"['X4', 'Yr']\", \"['X4', 'Ys']\", \"['X4', 'Yt']\", \"['X4', 'Yv']\", \"['X4', 'Yu']\", \"['X4', 'Ym']\", \"['X4', 'Yl']\", \"['X4', 'Yw']\", \"['X4', 'Yx']\", \"['X4', 'Yy']\", \"['X4', 'Yz']\", \"['X5', 'Yp']\", \"['X5', 'Yq']\", \"['X5', 'Yr']\", \"['X5', 'Ys']\", \"['X5', 'Yt']\", \"['X5', 'Yv']\", \"['X5', 'Yu']\", \"['X5', 'Ym']\", \"['X5', 'Yl']\", \"['X5', 'Yw']\", \"['X5', 'Yx']\", \"['X5', 'Yy']\", \"['X5', 'Yz']\", \"['X6', 'Yp']\", \"['X6', 'Yq']\", \"['X6', 'Yr']\", \"['X6', 'Ys']\", \"['X6', 'Yt']\", \"['X6', 'Yv']\", \"['X6', 'Yu']\", \"['X6', 'Ym']\", \"['X6', 'Yl']\", \"['X6', 'Yw']\", \"['X6', 'Yx']\", \"['X6', 'Yy']\", \"['X6', 'Yz']\", \"['X7', 'Yp']\", \"['X7', 'Yq']\", \"['X7', 'Yr']\", \"['X7', 'Ys']\", \"['X7', 'Yt']\", \"['X7', 'Yv']\", \"['X7', 'Yu']\", \"['X7', 'Ym']\", \"['X7', 'Yl']\", \"['X7', 'Yw']\", \"['X7', 'Yx']\", \"['X7', 'Yy']\", \"['X7', 'Yz']\", \"['X8', 'Yp']\", \"['X8', 'Yq']\", \"['X8', 'Yr']\", \"['X8', 'Ys']\", \"['X8', 'Yt']\", \"['X8', 'Yv']\", \"['X8', 'Yu']\", \"['X8', 'Ym']\", \"['X8', 'Yl']\", \"['X8', 'Yw']\", \"['X8', 'Yx']\", \"['X8', 'Yy']\", \"['X8', 'Yz']\"]\n",
      "[(\"['X0', 'Yp']\", \"['X4', 'Yr']\"), (\"['X0', 'Yq']\", \"['X4', 'Yr']\"), (\"['X0', 'Yr']\", \"['X4', 'Yt']\"), (\"['X0', 'Ys']\", \"['X4', 'Yt']\"), (\"['X0', 'Yt']\", \"['X4', 'Yv']\"), (\"['X0', 'Yv']\", \"['X4', 'Yu']\"), (\"['X0', 'Yu']\", \"['X4', 'Ys']\"), (\"['X0', 'Ym']\", \"['X4', 'Yl']\"), (\"['X0', 'Yl']\", \"['X4', 'Ym']\"), (\"['X0', 'Yw']\", \"['X4', 'Yx']\"), (\"['X0', 'Yx']\", \"['X4', 'Yy']\"), (\"['X0', 'Yy']\", \"['X4', 'Yw']\"), (\"['X0', 'Yz']\", \"['X4', 'Yy']\"), (\"['X1', 'Yp']\", \"['X5', 'Yr']\"), (\"['X1', 'Yq']\", \"['X5', 'Yr']\"), (\"['X1', 'Yr']\", \"['X5', 'Yt']\"), (\"['X1', 'Ys']\", \"['X5', 'Yt']\"), (\"['X1', 'Yt']\", \"['X5', 'Yv']\"), (\"['X1', 'Yv']\", \"['X5', 'Yu']\"), (\"['X1', 'Yu']\", \"['X5', 'Ys']\"), (\"['X1', 'Ym']\", \"['X5', 'Yl']\"), (\"['X1', 'Yl']\", \"['X5', 'Ym']\"), (\"['X1', 'Yw']\", \"['X5', 'Yx']\"), (\"['X1', 'Yx']\", \"['X5', 'Yy']\"), (\"['X1', 'Yy']\", \"['X5', 'Yw']\"), (\"['X1', 'Yz']\", \"['X5', 'Yy']\"), (\"['X2', 'Yp']\", \"['X6', 'Yr']\"), (\"['X2', 'Yq']\", \"['X6', 'Yr']\"), (\"['X2', 'Yr']\", \"['X6', 'Yt']\"), (\"['X2', 'Ys']\", \"['X6', 'Yt']\"), (\"['X2', 'Yt']\", \"['X6', 'Yv']\"), (\"['X2', 'Yv']\", \"['X6', 'Yu']\"), (\"['X2', 'Yu']\", \"['X6', 'Ys']\"), (\"['X2', 'Ym']\", \"['X6', 'Yl']\"), (\"['X2', 'Yl']\", \"['X6', 'Ym']\"), (\"['X2', 'Yw']\", \"['X6', 'Yx']\"), (\"['X2', 'Yx']\", \"['X6', 'Yy']\"), (\"['X2', 'Yy']\", \"['X6', 'Yw']\"), (\"['X2', 'Yz']\", \"['X6', 'Yy']\"), (\"['X3', 'Yp']\", \"['X8', 'Yr']\"), (\"['X3', 'Yq']\", \"['X8', 'Yr']\"), (\"['X3', 'Yr']\", \"['X8', 'Yt']\"), (\"['X3', 'Ys']\", \"['X8', 'Yt']\"), (\"['X3', 'Yt']\", \"['X8', 'Yv']\"), (\"['X3', 'Yv']\", \"['X8', 'Yu']\"), (\"['X3', 'Yu']\", \"['X8', 'Ys']\"), (\"['X3', 'Ym']\", \"['X8', 'Yl']\"), (\"['X3', 'Yl']\", \"['X8', 'Ym']\"), (\"['X3', 'Yw']\", \"['X8', 'Yx']\"), (\"['X3', 'Yx']\", \"['X8', 'Yy']\"), (\"['X3', 'Yy']\", \"['X8', 'Yw']\"), (\"['X3', 'Yz']\", \"['X8', 'Yy']\"), (\"['X4', 'Yp']\", \"['X5', 'Yr']\"), (\"['X4', 'Yq']\", \"['X5', 'Yr']\"), (\"['X4', 'Yr']\", \"['X5', 'Yt']\"), (\"['X4', 'Ys']\", \"['X5', 'Yt']\"), (\"['X4', 'Yt']\", \"['X5', 'Yv']\"), (\"['X4', 'Yv']\", \"['X5', 'Yu']\"), (\"['X4', 'Yu']\", \"['X5', 'Ys']\"), (\"['X4', 'Ym']\", \"['X5', 'Yl']\"), (\"['X4', 'Yl']\", \"['X5', 'Ym']\"), (\"['X4', 'Yw']\", \"['X5', 'Yx']\"), (\"['X4', 'Yx']\", \"['X5', 'Yy']\"), (\"['X4', 'Yy']\", \"['X5', 'Yw']\"), (\"['X4', 'Yz']\", \"['X5', 'Yy']\"), (\"['X5', 'Yp']\", \"['X6', 'Yr']\"), (\"['X5', 'Yq']\", \"['X6', 'Yr']\"), (\"['X5', 'Yr']\", \"['X6', 'Yt']\"), (\"['X5', 'Ys']\", \"['X6', 'Yt']\"), (\"['X5', 'Yt']\", \"['X6', 'Yv']\"), (\"['X5', 'Yv']\", \"['X6', 'Yu']\"), (\"['X5', 'Yu']\", \"['X6', 'Ys']\"), (\"['X5', 'Ym']\", \"['X6', 'Yl']\"), (\"['X5', 'Yl']\", \"['X6', 'Ym']\"), (\"['X5', 'Yw']\", \"['X6', 'Yx']\"), (\"['X5', 'Yx']\", \"['X6', 'Yy']\"), (\"['X5', 'Yy']\", \"['X6', 'Yw']\"), (\"['X5', 'Yz']\", \"['X6', 'Yy']\"), (\"['X6', 'Yp']\", \"['X7', 'Yr']\"), (\"['X6', 'Yq']\", \"['X7', 'Yr']\"), (\"['X6', 'Yr']\", \"['X7', 'Yt']\"), (\"['X6', 'Ys']\", \"['X7', 'Yt']\"), (\"['X6', 'Yt']\", \"['X7', 'Yv']\"), (\"['X6', 'Yv']\", \"['X7', 'Yu']\"), (\"['X6', 'Yu']\", \"['X7', 'Ys']\"), (\"['X6', 'Ym']\", \"['X7', 'Yl']\"), (\"['X6', 'Yl']\", \"['X7', 'Ym']\"), (\"['X6', 'Yw']\", \"['X7', 'Yx']\"), (\"['X6', 'Yx']\", \"['X7', 'Yy']\"), (\"['X6', 'Yy']\", \"['X7', 'Yw']\"), (\"['X6', 'Yz']\", \"['X7', 'Yy']\"), (\"['X7', 'Yp']\", \"['X5', 'Yr']\"), (\"['X7', 'Yq']\", \"['X5', 'Yr']\"), (\"['X7', 'Yr']\", \"['X5', 'Yt']\"), (\"['X7', 'Ys']\", \"['X5', 'Yt']\"), (\"['X7', 'Yt']\", \"['X5', 'Yv']\"), (\"['X7', 'Yv']\", \"['X5', 'Yu']\"), (\"['X7', 'Yu']\", \"['X5', 'Ys']\"), (\"['X7', 'Ym']\", \"['X5', 'Yl']\"), (\"['X7', 'Yl']\", \"['X5', 'Ym']\"), (\"['X7', 'Yw']\", \"['X5', 'Yx']\"), (\"['X7', 'Yx']\", \"['X5', 'Yy']\"), (\"['X7', 'Yy']\", \"['X5', 'Yw']\"), (\"['X7', 'Yz']\", \"['X5', 'Yy']\"), (\"['X8', 'Yp']\", \"['X3', 'Yr']\"), (\"['X8', 'Yq']\", \"['X3', 'Yr']\"), (\"['X8', 'Yr']\", \"['X3', 'Yt']\"), (\"['X8', 'Ys']\", \"['X3', 'Yt']\"), (\"['X8', 'Yt']\", \"['X3', 'Yv']\"), (\"['X8', 'Yv']\", \"['X3', 'Yu']\"), (\"['X8', 'Yu']\", \"['X3', 'Ys']\"), (\"['X8', 'Ym']\", \"['X3', 'Yl']\"), (\"['X8', 'Yl']\", \"['X3', 'Ym']\"), (\"['X8', 'Yw']\", \"['X3', 'Yx']\"), (\"['X8', 'Yx']\", \"['X3', 'Yy']\"), (\"['X8', 'Yy']\", \"['X3', 'Yw']\"), (\"['X8', 'Yz']\", \"['X3', 'Yy']\")]\n",
      "{\"['X0', 'Yp']\": (1, 1), \"['X0', 'Yq']\": (2, 1), \"['X0', 'Yr']\": (3, 1), \"['X0', 'Ys']\": (4, 1), \"['X0', 'Yt']\": (5, 1), \"['X0', 'Yv']\": (6, 1), \"['X0', 'Yu']\": (7, 1), \"['X0', 'Ym']\": (8, 1), \"['X0', 'Yl']\": (9, 1), \"['X0', 'Yw']\": (10, 1), \"['X0', 'Yx']\": (11, 1), \"['X0', 'Yy']\": (12, 1), \"['X0', 'Yz']\": (13, 1), \"['X1', 'Yp']\": (1, 2), \"['X1', 'Yq']\": (2, 2), \"['X1', 'Yr']\": (3, 2), \"['X1', 'Ys']\": (4, 2), \"['X1', 'Yt']\": (5, 2), \"['X1', 'Yv']\": (6, 2), \"['X1', 'Yu']\": (7, 2), \"['X1', 'Ym']\": (8, 2), \"['X1', 'Yl']\": (9, 2), \"['X1', 'Yw']\": (10, 2), \"['X1', 'Yx']\": (11, 2), \"['X1', 'Yy']\": (12, 2), \"['X1', 'Yz']\": (13, 2), \"['X2', 'Yp']\": (1, 3), \"['X2', 'Yq']\": (2, 3), \"['X2', 'Yr']\": (3, 3), \"['X2', 'Ys']\": (4, 3), \"['X2', 'Yt']\": (5, 3), \"['X2', 'Yv']\": (6, 3), \"['X2', 'Yu']\": (7, 3), \"['X2', 'Ym']\": (8, 3), \"['X2', 'Yl']\": (9, 3), \"['X2', 'Yw']\": (10, 3), \"['X2', 'Yx']\": (11, 3), \"['X2', 'Yy']\": (12, 3), \"['X2', 'Yz']\": (13, 3), \"['X3', 'Yp']\": (1, 4), \"['X3', 'Yq']\": (2, 4), \"['X3', 'Yr']\": (3, 4), \"['X3', 'Ys']\": (4, 4), \"['X3', 'Yt']\": (5, 4), \"['X3', 'Yv']\": (6, 4), \"['X3', 'Yu']\": (7, 4), \"['X3', 'Ym']\": (8, 4), \"['X3', 'Yl']\": (9, 4), \"['X3', 'Yw']\": (10, 4), \"['X3', 'Yx']\": (11, 4), \"['X3', 'Yy']\": (12, 4), \"['X3', 'Yz']\": (13, 4), \"['X4', 'Yp']\": (1, 5), \"['X4', 'Yq']\": (2, 5), \"['X4', 'Yr']\": (3, 5), \"['X4', 'Ys']\": (4, 5), \"['X4', 'Yt']\": (5, 5), \"['X4', 'Yv']\": (6, 5), \"['X4', 'Yu']\": (7, 5), \"['X4', 'Ym']\": (8, 5), \"['X4', 'Yl']\": (9, 5), \"['X4', 'Yw']\": (10, 5), \"['X4', 'Yx']\": (11, 5), \"['X4', 'Yy']\": (12, 5), \"['X4', 'Yz']\": (13, 5), \"['X5', 'Yp']\": (1, 6), \"['X5', 'Yq']\": (2, 6), \"['X5', 'Yr']\": (3, 6), \"['X5', 'Ys']\": (4, 6), \"['X5', 'Yt']\": (5, 6), \"['X5', 'Yv']\": (6, 6), \"['X5', 'Yu']\": (7, 6), \"['X5', 'Ym']\": (8, 6), \"['X5', 'Yl']\": (9, 6), \"['X5', 'Yw']\": (10, 6), \"['X5', 'Yx']\": (11, 6), \"['X5', 'Yy']\": (12, 6), \"['X5', 'Yz']\": (13, 6), \"['X6', 'Yp']\": (1, 7), \"['X6', 'Yq']\": (2, 7), \"['X6', 'Yr']\": (3, 7), \"['X6', 'Ys']\": (4, 7), \"['X6', 'Yt']\": (5, 7), \"['X6', 'Yv']\": (6, 7), \"['X6', 'Yu']\": (7, 7), \"['X6', 'Ym']\": (8, 7), \"['X6', 'Yl']\": (9, 7), \"['X6', 'Yw']\": (10, 7), \"['X6', 'Yx']\": (11, 7), \"['X6', 'Yy']\": (12, 7), \"['X6', 'Yz']\": (13, 7), \"['X7', 'Yp']\": (1, 8), \"['X7', 'Yq']\": (2, 8), \"['X7', 'Yr']\": (3, 8), \"['X7', 'Ys']\": (4, 8), \"['X7', 'Yt']\": (5, 8), \"['X7', 'Yv']\": (6, 8), \"['X7', 'Yu']\": (7, 8), \"['X7', 'Ym']\": (8, 8), \"['X7', 'Yl']\": (9, 8), \"['X7', 'Yw']\": (10, 8), \"['X7', 'Yx']\": (11, 8), \"['X7', 'Yy']\": (12, 8), \"['X7', 'Yz']\": (13, 8), \"['X8', 'Yp']\": (1, 9), \"['X8', 'Yq']\": (2, 9), \"['X8', 'Yr']\": (3, 9), \"['X8', 'Ys']\": (4, 9), \"['X8', 'Yt']\": (5, 9), \"['X8', 'Yv']\": (6, 9), \"['X8', 'Yu']\": (7, 9), \"['X8', 'Ym']\": (8, 9), \"['X8', 'Yl']\": (9, 9), \"['X8', 'Yw']\": (10, 9), \"['X8', 'Yx']\": (11, 9), \"['X8', 'Yy']\": (12, 9), \"['X8', 'Yz']\": (13, 9)}\n"
     ]
    },
    {
     "data": {
      "image/png": "[encoded data removed]",
      "text/plain": [
       "<Figure size 640x480 with 4 Axes>"
      ]
     },
     "metadata": {},
     "output_type": "display_data"
    }
   ],
   "source": [
    "XY_prod = graph_product(XG,YG)"
   ]
  },
  {
   "cell_type": "code",
   "execution_count": 16,
   "id": "fc6201c8-4e26-40b2-9ded-16d19d660b77",
   "metadata": {},
   "outputs": [
    {
     "name": "stdout",
     "output_type": "stream",
     "text": [
      "{'generators': [\"['X0', 'Yp']\", \"['X0', 'Yq']\", \"['X0', 'Yr']\", \"['X0', 'Ys']\", \"['X0', 'Yt']\", \"['X0', 'Yv']\", \"['X0', 'Yu']\", \"['X0', 'Ym']\", \"['X0', 'Yl']\", \"['X0', 'Yw']\", \"['X0', 'Yx']\", \"['X0', 'Yy']\", \"['X0', 'Yz']\", \"['X1', 'Yp']\", \"['X1', 'Yq']\", \"['X1', 'Yr']\", \"['X1', 'Ys']\", \"['X1', 'Yt']\", \"['X1', 'Yv']\", \"['X1', 'Yu']\", \"['X1', 'Ym']\", \"['X1', 'Yl']\", \"['X1', 'Yw']\", \"['X1', 'Yx']\", \"['X1', 'Yy']\", \"['X1', 'Yz']\", \"['X2', 'Yp']\", \"['X2', 'Yq']\", \"['X2', 'Yr']\", \"['X2', 'Ys']\", \"['X2', 'Yt']\", \"['X2', 'Yv']\", \"['X2', 'Yu']\", \"['X2', 'Ym']\", \"['X2', 'Yl']\", \"['X2', 'Yw']\", \"['X2', 'Yx']\", \"['X2', 'Yy']\", \"['X2', 'Yz']\", \"['X3', 'Yp']\", \"['X3', 'Yq']\", \"['X3', 'Yz']\", \"['X4', 'Yp']\", \"['X4', 'Yq']\", \"['X4', 'Yz']\", \"['X5', 'Yp']\", \"['X5', 'Yq']\", \"['X5', 'Yz']\", \"['X6', 'Yp']\", \"['X6', 'Yq']\", \"['X6', 'Yz']\", \"['X7', 'Yp']\", \"['X7', 'Yq']\", \"['X7', 'Yz']\", \"['X8', 'Yp']\", \"['X8', 'Yq']\", \"['X8', 'Yz']\", \"['X3', 'Ym']\", \"['X3', 'Yl']\"], 'relations': [((\"['X0', 'Yp']\", 14), (\"['X0', 'Yp']\", 2)), ((\"['X0', 'Yq']\", 1), (\"['X0', 'Yp']\", 1)), ((\"['X0', 'Yr']\", 2), (\"['X0', 'Yp']\", 11)), ((\"['X0', 'Ys']\", 1), (\"['X0', 'Yr']\", 1)), ((\"['X0', 'Yt']\", 2), (\"['X0', 'Yp']\", 8)), ((\"['X0', 'Yv']\", 2), (\"['X0', 'Yp']\", 5)), ((\"['X0', 'Yu']\", 2), (\"['X0', 'Yp']\", 2)), ((\"['X0', 'Ym']\", 8), (\"['X0', 'Ym']\", 2)), ((\"['X0', 'Yl']\", 2), (\"['X0', 'Ym']\", 5)), ((\"['X0', 'Yw']\", 5), (\"['X0', 'Yw']\", 2)), ((\"['X0', 'Yx']\", 5), (\"['X0', 'Yx']\", 2)), ((\"['X0', 'Yy']\", 5), (\"['X0', 'Yy']\", 2)), ((\"['X0', 'Yz']\", 1), (\"['X0', 'Yx']\", 1)), ((\"['X1', 'Yp']\", 2), (\"['X0', 'Yp']\", 6)), ((\"['X1', 'Yq']\", 1), (\"['X1', 'Yp']\", 1)), ((\"['X1', 'Yr']\", 1), (\"['X0', 'Yp']\", 2)), ((\"['X1', 'Ys']\", 1), (\"['X0', 'Yp']\", 2)), ((\"['X1', 'Yt']\", 1), (\"['X0', 'Yp']\", 11)), ((\"['X1', 'Yv']\", 1), (\"['X0', 'Yp']\", 8)), ((\"['X1', 'Yu']\", 1), (\"['X0', 'Yp']\", 5)), ((\"['X1', 'Ym']\", 1), (\"['X0', 'Ym']\", 5)), ((\"['X1', 'Yl']\", 1), (\"['X0', 'Ym']\", 2)), ((\"['X1', 'Yw']\", 1), (\"['X0', 'Yy']\", 2)), ((\"['X1', 'Yx']\", 1), (\"['X0', 'Yw']\", 2)), ((\"['X1', 'Yy']\", 1), (\"['X0', 'Yx']\", 2)), ((\"['X1', 'Yz']\", 1), (\"['X0', 'Yw']\", 2)), ((\"['X2', 'Yp']\", 2), (\"['X0', 'Yp']\", 10)), ((\"['X2', 'Yq']\", 1), (\"['X2', 'Yp']\", 1)), ((\"['X2', 'Yr']\", 1), (\"['X0', 'Yp']\", 6)), ((\"['X2', 'Ys']\", 1), (\"['X0', 'Yp']\", 6)), ((\"['X2', 'Yt']\", 1), (\"['X0', 'Yp']\", 3)), ((\"['X2', 'Yv']\", 1), (\"['X0', 'Yp']\", 12)), ((\"['X2', 'Yu']\", 1), (\"['X0', 'Yp']\", 9)), ((\"['X2', 'Ym']\", 1), (\"['X0', 'Ym']\", 3)), ((\"['X2', 'Yl']\", 1), (\"['X0', 'Ym']\", 6)), ((\"['X2', 'Yw']\", 1), (\"['X0', 'Yx']\", 3)), ((\"['X2', 'Yx']\", 1), (\"['X0', 'Yy']\", 3)), ((\"['X2', 'Yy']\", 1), (\"['X0', 'Yw']\", 3)), ((\"['X2', 'Yz']\", 1), (\"['X0', 'Yy']\", 3)), ((\"['X3', 'Yp']\", 6), (\"['X3', 'Yp']\", 2)), ((\"['X3', 'Yq']\", 1), (\"['X3', 'Yp']\", 1)), ((\"['X3', 'Yz']\", 7), (\"['X3', 'Yz']\", 1)), ((\"['X4', 'Yp']\", 1), (\"['X1', 'Yp']\", 1)), ((\"['X4', 'Yq']\", 1), (\"['X1', 'Yp']\", 1)), ((\"['X4', 'Yz']\", 1), (\"['X0', 'Yw']\", 2)), ((\"['X5', 'Yp']\", 1), (\"['X2', 'Yp']\", 1)), ((\"['X5', 'Yq']\", 1), (\"['X2', 'Yp']\", 1)), ((\"['X5', 'Yz']\", 1), (\"['X0', 'Yy']\", 3)), ((\"['X6', 'Yp']\", 2), (\"['X0', 'Yp']\", 2)), ((\"['X6', 'Yq']\", 1), (\"['X6', 'Yp']\", 1)), ((\"['X6', 'Yz']\", 1), (\"['X0', 'Yx']\", 4)), ((\"['X7', 'Yp']\", 1), (\"['X1', 'Yp']\", 1)), ((\"['X7', 'Yq']\", 1), (\"['X1', 'Yp']\", 1)), ((\"['X7', 'Yz']\", 1), (\"['X0', 'Yw']\", 2)), ((\"['X8', 'Yp']\", 6), (\"['X8', 'Yp']\", 2)), ((\"['X8', 'Yq']\", 1), (\"['X8', 'Yp']\", 1)), ((\"['X8', 'Yz']\", 1), (\"['X3', 'Yz']\", 4)), ((\"['X3', 'Ym']\", 2), (\"['X3', 'Ym']\", 0)), ((\"['X3', 'Yl']\", 2), (\"['X3', 'Yl']\", 0))]}\n"
     ]
    }
   ],
   "source": [
    "# lets see what it's presentation looks like:\n",
    "XY_prod_pres = make_presentation(XY_prod)\n",
    "print(XY_prod_pres)"
   ]
  },
  {
   "cell_type": "code",
   "execution_count": 17,
   "id": "0bb495d7-a0a5-4626-840e-8aa1447740d3",
   "metadata": {},
   "outputs": [],
   "source": [
    "from session15 import standardize_presentation"
   ]
  },
  {
   "cell_type": "code",
   "execution_count": 18,
   "id": "4bd3fec1-c050-462b-8082-d7a531faabc8",
   "metadata": {},
   "outputs": [
    {
     "data": {
      "text/plain": [
       "{'generator_count': 59,\n",
       " 'generators': [\"['X0', 'Yp']\",\n",
       "  \"['X0', 'Yq']\",\n",
       "  \"['X0', 'Yr']\",\n",
       "  \"['X0', 'Ys']\",\n",
       "  \"['X0', 'Yt']\",\n",
       "  \"['X0', 'Yv']\",\n",
       "  \"['X0', 'Yu']\",\n",
       "  \"['X0', 'Ym']\",\n",
       "  \"['X0', 'Yl']\",\n",
       "  \"['X0', 'Yw']\",\n",
       "  \"['X0', 'Yx']\",\n",
       "  \"['X0', 'Yy']\",\n",
       "  \"['X0', 'Yz']\",\n",
       "  \"['X1', 'Yp']\",\n",
       "  \"['X1', 'Yq']\",\n",
       "  \"['X1', 'Yr']\",\n",
       "  \"['X1', 'Ys']\",\n",
       "  \"['X1', 'Yt']\",\n",
       "  \"['X1', 'Yv']\",\n",
       "  \"['X1', 'Yu']\",\n",
       "  \"['X1', 'Ym']\",\n",
       "  \"['X1', 'Yl']\",\n",
       "  \"['X1', 'Yw']\",\n",
       "  \"['X1', 'Yx']\",\n",
       "  \"['X1', 'Yy']\",\n",
       "  \"['X1', 'Yz']\",\n",
       "  \"['X2', 'Yp']\",\n",
       "  \"['X2', 'Yq']\",\n",
       "  \"['X2', 'Yr']\",\n",
       "  \"['X2', 'Ys']\",\n",
       "  \"['X2', 'Yt']\",\n",
       "  \"['X2', 'Yv']\",\n",
       "  \"['X2', 'Yu']\",\n",
       "  \"['X2', 'Ym']\",\n",
       "  \"['X2', 'Yl']\",\n",
       "  \"['X2', 'Yw']\",\n",
       "  \"['X2', 'Yx']\",\n",
       "  \"['X2', 'Yy']\",\n",
       "  \"['X2', 'Yz']\",\n",
       "  \"['X3', 'Yp']\",\n",
       "  \"['X3', 'Yq']\",\n",
       "  \"['X3', 'Yz']\",\n",
       "  \"['X4', 'Yp']\",\n",
       "  \"['X4', 'Yq']\",\n",
       "  \"['X4', 'Yz']\",\n",
       "  \"['X5', 'Yp']\",\n",
       "  \"['X5', 'Yq']\",\n",
       "  \"['X5', 'Yz']\",\n",
       "  \"['X6', 'Yp']\",\n",
       "  \"['X6', 'Yq']\",\n",
       "  \"['X6', 'Yz']\",\n",
       "  \"['X7', 'Yp']\",\n",
       "  \"['X7', 'Yq']\",\n",
       "  \"['X7', 'Yz']\",\n",
       "  \"['X8', 'Yp']\",\n",
       "  \"['X8', 'Yq']\",\n",
       "  \"['X8', 'Yz']\",\n",
       "  \"['X3', 'Ym']\",\n",
       "  \"['X3', 'Yl']\"],\n",
       " 'substitutions': {105: 3,\n",
       "  4: 1,\n",
       "  66: 12,\n",
       "  13: 8,\n",
       "  36: 25,\n",
       "  33: 15,\n",
       "  42: 3,\n",
       "  127: 52,\n",
       "  85: 63,\n",
       "  114: 75,\n",
       "  130: 88,\n",
       "  147: 102,\n",
       "  103: 76,\n",
       "  133: 21,\n",
       "  134: 118,\n",
       "  151: 3,\n",
       "  169: 3,\n",
       "  188: 66,\n",
       "  208: 36,\n",
       "  229: 15,\n",
       "  251: 85,\n",
       "  274: 52,\n",
       "  298: 102,\n",
       "  323: 75,\n",
       "  349: 88,\n",
       "  376: 75,\n",
       "  432: 55,\n",
       "  433: 404,\n",
       "  463: 21,\n",
       "  494: 21,\n",
       "  526: 6,\n",
       "  559: 78,\n",
       "  593: 45,\n",
       "  628: 62,\n",
       "  664: 98,\n",
       "  701: 101,\n",
       "  739: 116,\n",
       "  778: 87,\n",
       "  818: 116,\n",
       "  1074: 900,\n",
       "  901: 859,\n",
       "  1217: 944,\n",
       "  988: 118,\n",
       "  1033: 118,\n",
       "  1079: 75,\n",
       "  1126: 404,\n",
       "  1174: 404,\n",
       "  1223: 116,\n",
       "  1323: 3,\n",
       "  1324: 1273,\n",
       "  1376: 115,\n",
       "  1429: 118,\n",
       "  1483: 118,\n",
       "  1538: 75,\n",
       "  1884: 1650,\n",
       "  1651: 1594,\n",
       "  1709: 1076,\n",
       "  1827: 1710,\n",
       "  1888: 1769},\n",
       " 'relation_pairs': {105: (\"['X0', 'Yp']\", 14),\n",
       "  3: (\"['X0', 'Yp']\", 2),\n",
       "  4: (\"['X0', 'Yq']\", 1),\n",
       "  1: (\"['X0', 'Yp']\", 1),\n",
       "  12: (\"['X0', 'Yr']\", 2),\n",
       "  66: (\"['X0', 'Yp']\", 11),\n",
       "  13: (\"['X0', 'Ys']\", 1),\n",
       "  8: (\"['X0', 'Yr']\", 1),\n",
       "  25: (\"['X0', 'Yt']\", 2),\n",
       "  36: (\"['X0', 'Yp']\", 8),\n",
       "  33: (\"['X0', 'Yv']\", 2),\n",
       "  15: (\"['X0', 'Yp']\", 5),\n",
       "  42: (\"['X0', 'Yu']\", 2),\n",
       "  127: (\"['X0', 'Ym']\", 8),\n",
       "  52: (\"['X0', 'Ym']\", 2),\n",
       "  63: (\"['X0', 'Yl']\", 2),\n",
       "  85: (\"['X0', 'Ym']\", 5),\n",
       "  114: (\"['X0', 'Yw']\", 5),\n",
       "  75: (\"['X0', 'Yw']\", 2),\n",
       "  130: (\"['X0', 'Yx']\", 5),\n",
       "  88: (\"['X0', 'Yx']\", 2),\n",
       "  147: (\"['X0', 'Yy']\", 5),\n",
       "  102: (\"['X0', 'Yy']\", 2),\n",
       "  103: (\"['X0', 'Yz']\", 1),\n",
       "  76: (\"['X0', 'Yx']\", 1),\n",
       "  133: (\"['X1', 'Yp']\", 2),\n",
       "  21: (\"['X0', 'Yp']\", 6),\n",
       "  134: (\"['X1', 'Yq']\", 1),\n",
       "  118: (\"['X1', 'Yp']\", 1),\n",
       "  151: (\"['X1', 'Yr']\", 1),\n",
       "  169: (\"['X1', 'Ys']\", 1),\n",
       "  188: (\"['X1', 'Yt']\", 1),\n",
       "  208: (\"['X1', 'Yv']\", 1),\n",
       "  229: (\"['X1', 'Yu']\", 1),\n",
       "  251: (\"['X1', 'Ym']\", 1),\n",
       "  274: (\"['X1', 'Yl']\", 1),\n",
       "  298: (\"['X1', 'Yw']\", 1),\n",
       "  323: (\"['X1', 'Yx']\", 1),\n",
       "  349: (\"['X1', 'Yy']\", 1),\n",
       "  376: (\"['X1', 'Yz']\", 1),\n",
       "  432: (\"['X2', 'Yp']\", 2),\n",
       "  55: (\"['X0', 'Yp']\", 10),\n",
       "  433: (\"['X2', 'Yq']\", 1),\n",
       "  404: (\"['X2', 'Yp']\", 1),\n",
       "  463: (\"['X2', 'Yr']\", 1),\n",
       "  494: (\"['X2', 'Ys']\", 1),\n",
       "  526: (\"['X2', 'Yt']\", 1),\n",
       "  6: (\"['X0', 'Yp']\", 3),\n",
       "  559: (\"['X2', 'Yv']\", 1),\n",
       "  78: (\"['X0', 'Yp']\", 12),\n",
       "  593: (\"['X2', 'Yu']\", 1),\n",
       "  45: (\"['X0', 'Yp']\", 9),\n",
       "  628: (\"['X2', 'Ym']\", 1),\n",
       "  62: (\"['X0', 'Ym']\", 3),\n",
       "  664: (\"['X2', 'Yl']\", 1),\n",
       "  98: (\"['X0', 'Ym']\", 6),\n",
       "  701: (\"['X2', 'Yw']\", 1),\n",
       "  101: (\"['X0', 'Yx']\", 3),\n",
       "  739: (\"['X2', 'Yx']\", 1),\n",
       "  116: (\"['X0', 'Yy']\", 3),\n",
       "  778: (\"['X2', 'Yy']\", 1),\n",
       "  87: (\"['X0', 'Yw']\", 3),\n",
       "  818: (\"['X2', 'Yz']\", 1),\n",
       "  1074: (\"['X3', 'Yp']\", 6),\n",
       "  900: (\"['X3', 'Yp']\", 2),\n",
       "  901: (\"['X3', 'Yq']\", 1),\n",
       "  859: (\"['X3', 'Yp']\", 1),\n",
       "  1217: (\"['X3', 'Yz']\", 7),\n",
       "  944: (\"['X3', 'Yz']\", 1),\n",
       "  988: (\"['X4', 'Yp']\", 1),\n",
       "  1033: (\"['X4', 'Yq']\", 1),\n",
       "  1079: (\"['X4', 'Yz']\", 1),\n",
       "  1126: (\"['X5', 'Yp']\", 1),\n",
       "  1174: (\"['X5', 'Yq']\", 1),\n",
       "  1223: (\"['X5', 'Yz']\", 1),\n",
       "  1323: (\"['X6', 'Yp']\", 2),\n",
       "  1324: (\"['X6', 'Yq']\", 1),\n",
       "  1273: (\"['X6', 'Yp']\", 1),\n",
       "  1376: (\"['X6', 'Yz']\", 1),\n",
       "  115: (\"['X0', 'Yx']\", 4),\n",
       "  1429: (\"['X7', 'Yp']\", 1),\n",
       "  1483: (\"['X7', 'Yq']\", 1),\n",
       "  1538: (\"['X7', 'Yz']\", 1),\n",
       "  1884: (\"['X8', 'Yp']\", 6),\n",
       "  1650: (\"['X8', 'Yp']\", 2),\n",
       "  1651: (\"['X8', 'Yq']\", 1),\n",
       "  1594: (\"['X8', 'Yp']\", 1),\n",
       "  1709: (\"['X8', 'Yz']\", 1),\n",
       "  1076: (\"['X3', 'Yz']\", 4),\n",
       "  1827: (\"['X3', 'Ym']\", 2),\n",
       "  1710: (\"['X3', 'Ym']\", 0),\n",
       "  1888: (\"['X3', 'Yl']\", 2),\n",
       "  1769: (\"['X3', 'Yl']\", 0)},\n",
       " 'max_depth': 14,\n",
       " 'max_steps': 1888}"
      ]
     },
     "execution_count": 18,
     "metadata": {},
     "output_type": "execute_result"
    }
   ],
   "source": [
    "standardize_presentation(XY_prod_pres)"
   ]
  },
  {
   "cell_type": "code",
   "execution_count": 19,
   "id": "79571f22-19ae-485a-93fd-2fa343506108",
   "metadata": {},
   "outputs": [
    {
     "data": {
      "text/plain": [
       "{'generator_count': 4,\n",
       " 'generators': ['X0', 'X1', 'X2', 'X3'],\n",
       " 'substitutions': {15: 3, 4: 3, 8: 6, 18: 9},\n",
       " 'relation_pairs': {15: ('X0', 5),\n",
       "  3: ('X0', 2),\n",
       "  4: ('X1', 1),\n",
       "  8: ('X2', 1),\n",
       "  6: ('X0', 3),\n",
       "  18: ('X3', 2),\n",
       "  9: ('X3', 0)},\n",
       " 'max_depth': 5,\n",
       " 'max_steps': 18}"
      ]
     },
     "execution_count": 19,
     "metadata": {},
     "output_type": "execute_result"
    }
   ],
   "source": [
    "# well, that's interesting let's compare\n",
    "# I wonder if the \"max_depth\" being 14 is significant\n",
    "# that was the answer I was supposed to get in Session 15\n",
    "standardize_presentation(X_pres)"
   ]
  },
  {
   "cell_type": "code",
   "execution_count": 20,
   "id": "d5ff46ac-bddf-41af-9d1d-5e6b119b8a7e",
   "metadata": {},
   "outputs": [
    {
     "data": {
      "text/plain": [
       "{'generator_count': 4,\n",
       " 'generators': ['Yp', 'Yq', 'Yz', 'Ym'],\n",
       " 'substitutions': {21: 3, 4: 1, 23: 8, 18: 9},\n",
       " 'relation_pairs': {21: ('Yp', 6),\n",
       "  3: ('Yp', 2),\n",
       "  4: ('Yq', 1),\n",
       "  1: ('Yp', 1),\n",
       "  23: ('Yz', 4),\n",
       "  8: ('Yz', 1),\n",
       "  18: ('Ym', 2),\n",
       "  9: ('Ym', 0)},\n",
       " 'max_depth': 6,\n",
       " 'max_steps': 23}"
      ]
     },
     "execution_count": 20,
     "metadata": {},
     "output_type": "execute_result"
    }
   ],
   "source": [
    "standardize_presentation(Y_pres)"
   ]
  },
  {
   "cell_type": "code",
   "execution_count": 21,
   "id": "b137115d-3268-45e8-bc0d-e68edfd0eb09",
   "metadata": {},
   "outputs": [
    {
     "data": {
      "text/plain": [
       "{'generators': ['X0', 'X1', 'X2', 'X3'],\n",
       " 'relations': [(('X0', 5), ('X0', 2)),\n",
       "  (('X1', 1), ('X0', 2)),\n",
       "  (('X2', 1), ('X0', 3)),\n",
       "  (('X3', 2), ('X3', 0))]}"
      ]
     },
     "execution_count": 21,
     "metadata": {},
     "output_type": "execute_result"
    }
   ],
   "source": [
    "X_pres"
   ]
  },
  {
   "cell_type": "code",
   "execution_count": 22,
   "id": "854fd1b0-e8fe-4053-95ef-93e19fbb1980",
   "metadata": {},
   "outputs": [
    {
     "data": {
      "text/plain": [
       "{'generators': ['Yp', 'Yq', 'Yz', 'Ym'],\n",
       " 'relations': [(('Yp', 6), ('Yp', 2)),\n",
       "  (('Yq', 1), ('Yp', 1)),\n",
       "  (('Yz', 4), ('Yz', 1)),\n",
       "  (('Ym', 2), ('Ym', 0))]}"
      ]
     },
     "execution_count": 22,
     "metadata": {},
     "output_type": "execute_result"
    }
   ],
   "source": [
    "Y_pres"
   ]
  },
  {
   "cell_type": "code",
   "execution_count": 23,
   "id": "a2994230-bc6d-4da0-9790-f2acc1723dea",
   "metadata": {},
   "outputs": [
    {
     "data": {
      "text/plain": [
       "{'generators': [\"['X0', 'Yp']\",\n",
       "  \"['X0', 'Yq']\",\n",
       "  \"['X0', 'Yr']\",\n",
       "  \"['X0', 'Ys']\",\n",
       "  \"['X0', 'Yt']\",\n",
       "  \"['X0', 'Yv']\",\n",
       "  \"['X0', 'Yu']\",\n",
       "  \"['X0', 'Ym']\",\n",
       "  \"['X0', 'Yl']\",\n",
       "  \"['X0', 'Yw']\",\n",
       "  \"['X0', 'Yx']\",\n",
       "  \"['X0', 'Yy']\",\n",
       "  \"['X0', 'Yz']\",\n",
       "  \"['X1', 'Yp']\",\n",
       "  \"['X1', 'Yq']\",\n",
       "  \"['X1', 'Yr']\",\n",
       "  \"['X1', 'Ys']\",\n",
       "  \"['X1', 'Yt']\",\n",
       "  \"['X1', 'Yv']\",\n",
       "  \"['X1', 'Yu']\",\n",
       "  \"['X1', 'Ym']\",\n",
       "  \"['X1', 'Yl']\",\n",
       "  \"['X1', 'Yw']\",\n",
       "  \"['X1', 'Yx']\",\n",
       "  \"['X1', 'Yy']\",\n",
       "  \"['X1', 'Yz']\",\n",
       "  \"['X2', 'Yp']\",\n",
       "  \"['X2', 'Yq']\",\n",
       "  \"['X2', 'Yr']\",\n",
       "  \"['X2', 'Ys']\",\n",
       "  \"['X2', 'Yt']\",\n",
       "  \"['X2', 'Yv']\",\n",
       "  \"['X2', 'Yu']\",\n",
       "  \"['X2', 'Ym']\",\n",
       "  \"['X2', 'Yl']\",\n",
       "  \"['X2', 'Yw']\",\n",
       "  \"['X2', 'Yx']\",\n",
       "  \"['X2', 'Yy']\",\n",
       "  \"['X2', 'Yz']\",\n",
       "  \"['X3', 'Yp']\",\n",
       "  \"['X3', 'Yq']\",\n",
       "  \"['X3', 'Yz']\",\n",
       "  \"['X4', 'Yp']\",\n",
       "  \"['X4', 'Yq']\",\n",
       "  \"['X4', 'Yz']\",\n",
       "  \"['X5', 'Yp']\",\n",
       "  \"['X5', 'Yq']\",\n",
       "  \"['X5', 'Yz']\",\n",
       "  \"['X6', 'Yp']\",\n",
       "  \"['X6', 'Yq']\",\n",
       "  \"['X6', 'Yz']\",\n",
       "  \"['X7', 'Yp']\",\n",
       "  \"['X7', 'Yq']\",\n",
       "  \"['X7', 'Yz']\",\n",
       "  \"['X8', 'Yp']\",\n",
       "  \"['X8', 'Yq']\",\n",
       "  \"['X8', 'Yz']\",\n",
       "  \"['X3', 'Ym']\",\n",
       "  \"['X3', 'Yl']\"],\n",
       " 'relations': [((\"['X0', 'Yp']\", 14), (\"['X0', 'Yp']\", 2)),\n",
       "  ((\"['X0', 'Yq']\", 1), (\"['X0', 'Yp']\", 1)),\n",
       "  ((\"['X0', 'Yr']\", 2), (\"['X0', 'Yp']\", 11)),\n",
       "  ((\"['X0', 'Ys']\", 1), (\"['X0', 'Yr']\", 1)),\n",
       "  ((\"['X0', 'Yt']\", 2), (\"['X0', 'Yp']\", 8)),\n",
       "  ((\"['X0', 'Yv']\", 2), (\"['X0', 'Yp']\", 5)),\n",
       "  ((\"['X0', 'Yu']\", 2), (\"['X0', 'Yp']\", 2)),\n",
       "  ((\"['X0', 'Ym']\", 8), (\"['X0', 'Ym']\", 2)),\n",
       "  ((\"['X0', 'Yl']\", 2), (\"['X0', 'Ym']\", 5)),\n",
       "  ((\"['X0', 'Yw']\", 5), (\"['X0', 'Yw']\", 2)),\n",
       "  ((\"['X0', 'Yx']\", 5), (\"['X0', 'Yx']\", 2)),\n",
       "  ((\"['X0', 'Yy']\", 5), (\"['X0', 'Yy']\", 2)),\n",
       "  ((\"['X0', 'Yz']\", 1), (\"['X0', 'Yx']\", 1)),\n",
       "  ((\"['X1', 'Yp']\", 2), (\"['X0', 'Yp']\", 6)),\n",
       "  ((\"['X1', 'Yq']\", 1), (\"['X1', 'Yp']\", 1)),\n",
       "  ((\"['X1', 'Yr']\", 1), (\"['X0', 'Yp']\", 2)),\n",
       "  ((\"['X1', 'Ys']\", 1), (\"['X0', 'Yp']\", 2)),\n",
       "  ((\"['X1', 'Yt']\", 1), (\"['X0', 'Yp']\", 11)),\n",
       "  ((\"['X1', 'Yv']\", 1), (\"['X0', 'Yp']\", 8)),\n",
       "  ((\"['X1', 'Yu']\", 1), (\"['X0', 'Yp']\", 5)),\n",
       "  ((\"['X1', 'Ym']\", 1), (\"['X0', 'Ym']\", 5)),\n",
       "  ((\"['X1', 'Yl']\", 1), (\"['X0', 'Ym']\", 2)),\n",
       "  ((\"['X1', 'Yw']\", 1), (\"['X0', 'Yy']\", 2)),\n",
       "  ((\"['X1', 'Yx']\", 1), (\"['X0', 'Yw']\", 2)),\n",
       "  ((\"['X1', 'Yy']\", 1), (\"['X0', 'Yx']\", 2)),\n",
       "  ((\"['X1', 'Yz']\", 1), (\"['X0', 'Yw']\", 2)),\n",
       "  ((\"['X2', 'Yp']\", 2), (\"['X0', 'Yp']\", 10)),\n",
       "  ((\"['X2', 'Yq']\", 1), (\"['X2', 'Yp']\", 1)),\n",
       "  ((\"['X2', 'Yr']\", 1), (\"['X0', 'Yp']\", 6)),\n",
       "  ((\"['X2', 'Ys']\", 1), (\"['X0', 'Yp']\", 6)),\n",
       "  ((\"['X2', 'Yt']\", 1), (\"['X0', 'Yp']\", 3)),\n",
       "  ((\"['X2', 'Yv']\", 1), (\"['X0', 'Yp']\", 12)),\n",
       "  ((\"['X2', 'Yu']\", 1), (\"['X0', 'Yp']\", 9)),\n",
       "  ((\"['X2', 'Ym']\", 1), (\"['X0', 'Ym']\", 3)),\n",
       "  ((\"['X2', 'Yl']\", 1), (\"['X0', 'Ym']\", 6)),\n",
       "  ((\"['X2', 'Yw']\", 1), (\"['X0', 'Yx']\", 3)),\n",
       "  ((\"['X2', 'Yx']\", 1), (\"['X0', 'Yy']\", 3)),\n",
       "  ((\"['X2', 'Yy']\", 1), (\"['X0', 'Yw']\", 3)),\n",
       "  ((\"['X2', 'Yz']\", 1), (\"['X0', 'Yy']\", 3)),\n",
       "  ((\"['X3', 'Yp']\", 6), (\"['X3', 'Yp']\", 2)),\n",
       "  ((\"['X3', 'Yq']\", 1), (\"['X3', 'Yp']\", 1)),\n",
       "  ((\"['X3', 'Yz']\", 7), (\"['X3', 'Yz']\", 1)),\n",
       "  ((\"['X4', 'Yp']\", 1), (\"['X1', 'Yp']\", 1)),\n",
       "  ((\"['X4', 'Yq']\", 1), (\"['X1', 'Yp']\", 1)),\n",
       "  ((\"['X4', 'Yz']\", 1), (\"['X0', 'Yw']\", 2)),\n",
       "  ((\"['X5', 'Yp']\", 1), (\"['X2', 'Yp']\", 1)),\n",
       "  ((\"['X5', 'Yq']\", 1), (\"['X2', 'Yp']\", 1)),\n",
       "  ((\"['X5', 'Yz']\", 1), (\"['X0', 'Yy']\", 3)),\n",
       "  ((\"['X6', 'Yp']\", 2), (\"['X0', 'Yp']\", 2)),\n",
       "  ((\"['X6', 'Yq']\", 1), (\"['X6', 'Yp']\", 1)),\n",
       "  ((\"['X6', 'Yz']\", 1), (\"['X0', 'Yx']\", 4)),\n",
       "  ((\"['X7', 'Yp']\", 1), (\"['X1', 'Yp']\", 1)),\n",
       "  ((\"['X7', 'Yq']\", 1), (\"['X1', 'Yp']\", 1)),\n",
       "  ((\"['X7', 'Yz']\", 1), (\"['X0', 'Yw']\", 2)),\n",
       "  ((\"['X8', 'Yp']\", 6), (\"['X8', 'Yp']\", 2)),\n",
       "  ((\"['X8', 'Yq']\", 1), (\"['X8', 'Yp']\", 1)),\n",
       "  ((\"['X8', 'Yz']\", 1), (\"['X3', 'Yz']\", 4)),\n",
       "  ((\"['X3', 'Ym']\", 2), (\"['X3', 'Ym']\", 0)),\n",
       "  ((\"['X3', 'Yl']\", 2), (\"['X3', 'Yl']\", 0))]}"
      ]
     },
     "execution_count": 23,
     "metadata": {},
     "output_type": "execute_result"
    }
   ],
   "source": [
    "XY_prod_pres"
   ]
  },
  {
   "cell_type": "code",
   "execution_count": 24,
   "id": "1bafa74e-df36-48fa-b950-d261fd2a4a8b",
   "metadata": {},
   "outputs": [
    {
     "name": "stdout",
     "output_type": "stream",
     "text": [
      "(('X0', 5), ('X0', 2))\n",
      "(('Yp', 6), ('Yp', 2))\n",
      "((\"['X0', 'Yp']\", 14), (\"['X0', 'Yp']\", 2))\n",
      "14\n"
     ]
    }
   ],
   "source": [
    "# observations:\n",
    "#   I thought that the generators of my product be products of generators,\n",
    "#    but it looks like my code turned each pair of points into a generator?\n",
    "# and what's the relationship between relations?\n",
    "print(X_pres['relations'][0])\n",
    "print(Y_pres['relations'][0])\n",
    "print(XY_prod_pres['relations'][0])\n",
    "# maybe something to do with the cycle length and shared offset?\n",
    "C_X = (X_pres['relations'][0][0][1]-X_pres['relations'][0][1][1])\n",
    "C_Y = (Y_pres['relations'][0][0][1]-Y_pres['relations'][0][1][1])\n",
    "print(C_X*C_Y+2)\n"
   ]
  },
  {
   "cell_type": "code",
   "execution_count": 25,
   "id": "66cc2149-c456-43b5-9fb6-1c2b45d76027",
   "metadata": {},
   "outputs": [
    {
     "name": "stdout",
     "output_type": "stream",
     "text": [
      "4\n",
      "4\n",
      "59\n"
     ]
    }
   ],
   "source": [
    "print(len(X_pres['relations']))\n",
    "print(len(Y_pres['relations']))\n",
    "print(len(XY_prod_pres['relations']))"
   ]
  },
  {
   "cell_type": "code",
   "execution_count": 26,
   "id": "55c8bf8c-006a-41fc-936c-327879769a4b",
   "metadata": {},
   "outputs": [
    {
     "name": "stdout",
     "output_type": "stream",
     "text": [
      "4\n",
      "4\n",
      "59\n"
     ]
    }
   ],
   "source": [
    "print(len(X_pres['generators']))\n",
    "print(len(Y_pres['generators']))\n",
    "print(len(XY_prod_pres['generators']))"
   ]
  },
  {
   "cell_type": "code",
   "execution_count": 27,
   "id": "458091c6-7a47-42b6-b8a4-57f5115070a9",
   "metadata": {},
   "outputs": [],
   "source": [
    "def make_relation_dict(pres):\n",
    "    output = {}\n",
    "    for g in pres['generators']:\n",
    "        output[g] = list(filter(\n",
    "            lambda x: x[0][0]==g or x[1][0]==g,\n",
    "            pres['relations']\n",
    "        ))\n",
    "    return output\n"
   ]
  },
  {
   "cell_type": "code",
   "execution_count": 28,
   "id": "83d34db5-36b2-4ced-9bd0-e79ab7da7cb8",
   "metadata": {},
   "outputs": [
    {
     "data": {
      "text/plain": [
       "{'X0': [(('X0', 5), ('X0', 2)),\n",
       "  (('X1', 1), ('X0', 2)),\n",
       "  (('X2', 1), ('X0', 3))],\n",
       " 'X1': [(('X1', 1), ('X0', 2))],\n",
       " 'X2': [(('X2', 1), ('X0', 3))],\n",
       " 'X3': [(('X3', 2), ('X3', 0))]}"
      ]
     },
     "execution_count": 28,
     "metadata": {},
     "output_type": "execute_result"
    }
   ],
   "source": [
    "make_relation_dict(X_pres)"
   ]
  },
  {
   "cell_type": "code",
   "execution_count": 29,
   "id": "5fd5f816-0887-4c43-9f45-2d21821630ed",
   "metadata": {},
   "outputs": [
    {
     "data": {
      "text/plain": [
       "{'Yp': [(('Yp', 6), ('Yp', 2)), (('Yq', 1), ('Yp', 1))],\n",
       " 'Yq': [(('Yq', 1), ('Yp', 1))],\n",
       " 'Yz': [(('Yz', 4), ('Yz', 1))],\n",
       " 'Ym': [(('Ym', 2), ('Ym', 0))]}"
      ]
     },
     "execution_count": 29,
     "metadata": {},
     "output_type": "execute_result"
    }
   ],
   "source": [
    "make_relation_dict(Y_pres)"
   ]
  },
  {
   "cell_type": "code",
   "execution_count": 30,
   "id": "984b6c62-2167-4c34-adc7-b231fb6e42aa",
   "metadata": {},
   "outputs": [
    {
     "name": "stdout",
     "output_type": "stream",
     "text": [
      "[19, 1, 2, 1, 1, 1, 1, 6, 1, 6, 5, 5, 1, 6, 1, 1, 1, 1, 1, 1, 1, 1, 1, 1, 1, 1, 4, 1, 1, 1, 1, 1, 1, 1, 1, 1, 1, 1, 1, 2, 1, 2, 1, 1, 1, 1, 1, 1, 2, 1, 1, 1, 1, 1, 2, 1, 1, 1, 1]\n"
     ]
    }
   ],
   "source": [
    "print([len(x) for x in make_relation_dict(XY_prod_pres).values()])"
   ]
  },
  {
   "cell_type": "code",
   "execution_count": 31,
   "id": "c4a2f20c-42a2-46b7-86f8-a6bef570eee2",
   "metadata": {},
   "outputs": [
    {
     "name": "stdout",
     "output_type": "stream",
     "text": [
      "9\n",
      "13\n",
      "117\n"
     ]
    }
   ],
   "source": [
    "print(len(XG.nodes()))\n",
    "print(len(YG.nodes()))\n",
    "print(len(XY_prod.nodes()))\n"
   ]
  },
  {
   "cell_type": "code",
   "execution_count": 32,
   "id": "ed0f804f-9044-463b-a308-7da11acc5621",
   "metadata": {},
   "outputs": [
    {
     "data": {
      "text/plain": [
       "117"
      ]
     },
     "execution_count": 32,
     "metadata": {},
     "output_type": "execute_result"
    }
   ],
   "source": [
    "9*13"
   ]
  },
  {
   "cell_type": "code",
   "execution_count": 33,
   "id": "d1c03827-d577-4932-a476-2ba803b013b7",
   "metadata": {},
   "outputs": [
    {
     "data": {
      "text/plain": [
       "59.0"
      ]
     },
     "execution_count": 33,
     "metadata": {},
     "output_type": "execute_result"
    }
   ],
   "source": [
    "(9*13+1)/2"
   ]
  },
  {
   "cell_type": "code",
   "execution_count": 34,
   "id": "03219cb9-8754-4388-9c71-017415f8bf8a",
   "metadata": {},
   "outputs": [],
   "source": [
    "# and that's my number of nodes in the product?\n",
    "# seems like a large coincidence\n"
   ]
  },
  {
   "cell_type": "code",
   "execution_count": 35,
   "id": "431c6b5d-1ec6-4c59-b419-7d55ef9dfa28",
   "metadata": {},
   "outputs": [
    {
     "data": {
      "image/png": "[encoded data removed]",
      "text/plain": [
       "<Figure size 640x480 with 1 Axes>"
      ]
     },
     "metadata": {},
     "output_type": "display_data"
    }
   ],
   "source": [
    "# let's double back and check some work\n",
    "naked_dot = nx.DiGraph({\"D\":[]})\n",
    "nx.draw(naked_dot)\n",
    "\n"
   ]
  },
  {
   "cell_type": "code",
   "execution_count": 36,
   "id": "6b2afda8-53e4-403a-aac0-d872e8b9660c",
   "metadata": {},
   "outputs": [
    {
     "data": {
      "image/png": "[encoded data removed]",
      "text/plain": [
       "<Figure size 640x480 with 1 Axes>"
      ]
     },
     "metadata": {},
     "output_type": "display_data"
    }
   ],
   "source": [
    "naked_arrow = nx.DiGraph({\"S\":[\"T\"],\"T\":[]})\n",
    "nx.draw(naked_arrow)"
   ]
  },
  {
   "cell_type": "code",
   "execution_count": 37,
   "id": "40c698f1-87ed-44bb-8045-626217d9f7a8",
   "metadata": {},
   "outputs": [
    {
     "name": "stdout",
     "output_type": "stream",
     "text": [
      "[\"['D', 'S']\", \"['D', 'T']\"]\n",
      "[(\"['D', 'S']\", \"['D', 'T']\")]\n",
      "{\"['D', 'S']\": (1, 1), \"['D', 'T']\": (2, 1)}\n"
     ]
    },
    {
     "data": {
      "image/png": "[encoded data removed]",
      "text/plain": [
       "<Figure size 640x480 with 4 Axes>"
      ]
     },
     "metadata": {},
     "output_type": "display_data"
    },
    {
     "data": {
      "text/plain": [
       "<networkx.classes.digraph.DiGraph at 0x1c4d235f770>"
      ]
     },
     "execution_count": 37,
     "metadata": {},
     "output_type": "execute_result"
    }
   ],
   "source": [
    "graph_product(naked_dot,naked_arrow)"
   ]
  },
  {
   "cell_type": "code",
   "execution_count": 38,
   "id": "d67193df-f1fe-4eae-8e25-f57780af5d3f",
   "metadata": {},
   "outputs": [
    {
     "name": "stdout",
     "output_type": "stream",
     "text": [
      "[\"['S', 'D']\", \"['T', 'D']\"]\n",
      "[]\n",
      "{\"['S', 'D']\": (1, 1), \"['T', 'D']\": (1, 2)}\n"
     ]
    },
    {
     "data": {
      "image/png": "[encoded data removed]",
      "text/plain": [
       "<Figure size 640x480 with 4 Axes>"
      ]
     },
     "metadata": {},
     "output_type": "display_data"
    },
    {
     "data": {
      "text/plain": [
       "<networkx.classes.digraph.DiGraph at 0x1c4d1e52750>"
      ]
     },
     "execution_count": 38,
     "metadata": {},
     "output_type": "execute_result"
    }
   ],
   "source": [
    "graph_product(naked_arrow,naked_dot)"
   ]
  },
  {
   "cell_type": "code",
   "execution_count": 39,
   "id": "742e5777-ac9a-41ae-abcf-083c33d5273d",
   "metadata": {},
   "outputs": [
    {
     "name": "stdout",
     "output_type": "stream",
     "text": [
      "[\"['D', 'D']\"]\n",
      "[]\n",
      "{\"['D', 'D']\": (1, 1)}\n"
     ]
    },
    {
     "data": {
      "image/png": "[encoded data removed]",
      "text/plain": [
       "<Figure size 640x480 with 4 Axes>"
      ]
     },
     "metadata": {},
     "output_type": "display_data"
    },
    {
     "data": {
      "text/plain": [
       "<networkx.classes.digraph.DiGraph at 0x1c4d2297980>"
      ]
     },
     "execution_count": 39,
     "metadata": {},
     "output_type": "execute_result"
    }
   ],
   "source": [
    "graph_product(naked_dot,naked_dot)"
   ]
  },
  {
   "cell_type": "code",
   "execution_count": 40,
   "id": "256635d2-e13e-4f20-b471-bff7009ba296",
   "metadata": {},
   "outputs": [],
   "source": [
    "# lets define a graph sum also\n",
    "def graph_sum(GA,GB):\n",
    "    a_size,b_size = len(GA.nodes),len(GB.nodes)\n",
    "    print(a_size)\n",
    "    print(b_size)\n",
    "    \n",
    "    # hopefully this hashing guarantees uniqueness\n",
    "    combined_nodes = [\n",
    "        \"A_\"+str(hash(a)) for a in GA.nodes\n",
    "    ]+[\n",
    "        \"B_\"+str(hash(b)) for b in GB.nodes\n",
    "    ]\n",
    "    print(combined_nodes)\n",
    "    assert len(combined_nodes)==len(set(combined_nodes))\n",
    "    a_retraction = {k:v for k,v in zip(GA.nodes,range(a_size))}\n",
    "    b_retraction = {\n",
    "        k:v for k,v in zip(GA.nodes,[i+a_size for i in range(b_size)])\n",
    "    }\n",
    "    print(a_retraction)\n",
    "    print(b_retraction)\n",
    "    print(GA.edges)\n",
    "    a_edges = [\n",
    "        (combined_nodes[a_retraction[i[0]]],\n",
    "         combined_nodes[a_retraction[i[1]]]\n",
    "        ) for i in GA.edges\n",
    "    ]\n",
    "    print(a_edges)\n",
    "    b_edges = [\n",
    "        (\n",
    "            combined_nodes[b_retraction[i[0]]],\n",
    "            combined_nodes[b_retraction[i[1]]]\n",
    "        ) for i in GB.edges\n",
    "    ]\n",
    "    output = nx.DiGraph()\n",
    "    output.add_nodes_from(combined_nodes)\n",
    "    output.add_edges_from(a_edges+b_edges)\n",
    "    return output"
   ]
  },
  {
   "cell_type": "code",
   "execution_count": 41,
   "id": "cc95452d-12d0-4f0c-8ddb-0834399c2a91",
   "metadata": {},
   "outputs": [
    {
     "name": "stdout",
     "output_type": "stream",
     "text": [
      "1\n",
      "1\n",
      "['A_2692688237623130201', 'B_2692688237623130201']\n",
      "{'D': 0}\n",
      "{'D': 1}\n",
      "[]\n",
      "[]\n"
     ]
    },
    {
     "data": {
      "image/png": "[encoded data removed]",
      "text/plain": [
       "<Figure size 640x480 with 1 Axes>"
      ]
     },
     "metadata": {},
     "output_type": "display_data"
    }
   ],
   "source": [
    "nx.draw(graph_sum(naked_dot,naked_dot))"
   ]
  },
  {
   "cell_type": "code",
   "execution_count": 42,
   "id": "e6d81ca8-478f-4c9b-9d4f-65c60da95d52",
   "metadata": {},
   "outputs": [
    {
     "data": {
      "image/png": "[encoded data removed]",
      "text/plain": [
       "<Figure size 640x480 with 1 Axes>"
      ]
     },
     "metadata": {},
     "output_type": "display_data"
    }
   ],
   "source": [
    "naked_loop = nx.DiGraph(nx.DiGraph({\"L\":[\"L\"]}))\n",
    "nx.draw(naked_loop)"
   ]
  },
  {
   "cell_type": "code",
   "execution_count": 43,
   "id": "e7983e9f-261c-44fa-b694-1e4e740b4dc2",
   "metadata": {},
   "outputs": [
    {
     "name": "stdout",
     "output_type": "stream",
     "text": [
      "1\n",
      "1\n",
      "['A_-2960981689653364552', 'B_-2960981689653364552']\n",
      "{'L': 0}\n",
      "{'L': 1}\n",
      "[('L', 'L')]\n",
      "[('A_-2960981689653364552', 'A_-2960981689653364552')]\n"
     ]
    },
    {
     "data": {
      "image/png": "[encoded data removed]",
      "text/plain": [
       "<Figure size 640x480 with 1 Axes>"
      ]
     },
     "metadata": {},
     "output_type": "display_data"
    }
   ],
   "source": [
    "S_2 = graph_sum(naked_loop,naked_loop)\n",
    "nx.draw(S_2)"
   ]
  },
  {
   "cell_type": "code",
   "execution_count": 44,
   "id": "8db68656-baf1-4cf5-8b1d-984a3d82d856",
   "metadata": {},
   "outputs": [
    {
     "name": "stdout",
     "output_type": "stream",
     "text": [
      "[\"['A_-2960981689653364552', 'D']\", \"['B_-2960981689653364552', 'D']\"]\n",
      "[]\n",
      "{\"['A_-2960981689653364552', 'D']\": (1, 1), \"['B_-2960981689653364552', 'D']\": (1, 2)}\n"
     ]
    },
    {
     "data": {
      "image/png": "[encoded data removed]",
      "text/plain": [
       "<Figure size 640x480 with 4 Axes>"
      ]
     },
     "metadata": {},
     "output_type": "display_data"
    }
   ],
   "source": [
    "D_2 = graph_product(S_2,naked_dot)"
   ]
  },
  {
   "cell_type": "code",
   "execution_count": 45,
   "id": "bc719a28-e82c-417d-a22f-b8844357494e",
   "metadata": {},
   "outputs": [
    {
     "name": "stdout",
     "output_type": "stream",
     "text": [
      "[\"['D', 'A_-2960981689653364552']\", \"['D', 'B_-2960981689653364552']\"]\n",
      "[(\"['D', 'A_-2960981689653364552']\", \"['D', 'A_-2960981689653364552']\"), (\"['D', 'B_-2960981689653364552']\", \"['D', 'B_-2960981689653364552']\")]\n",
      "{\"['D', 'A_-2960981689653364552']\": (1, 1), \"['D', 'B_-2960981689653364552']\": (2, 1)}\n"
     ]
    },
    {
     "data": {
      "image/png": "[encoded data removed]",
      "text/plain": [
       "<Figure size 640x480 with 4 Axes>"
      ]
     },
     "metadata": {},
     "output_type": "display_data"
    },
    {
     "data": {
      "text/plain": [
       "<networkx.classes.digraph.DiGraph at 0x1c4d1e8f680>"
      ]
     },
     "execution_count": 45,
     "metadata": {},
     "output_type": "execute_result"
    }
   ],
   "source": [
    "graph_product(naked_dot,S_2)"
   ]
  },
  {
   "cell_type": "code",
   "execution_count": 46,
   "id": "8c256f52-af97-4803-ab4a-39b67b098221",
   "metadata": {},
   "outputs": [
    {
     "data": {
      "image/png": "[encoded data removed]",
      "text/plain": [
       "<Figure size 640x480 with 1 Axes>"
      ]
     },
     "metadata": {},
     "output_type": "display_data"
    }
   ],
   "source": [
    "# so there mights a problem with my graph product\n",
    "# namely, it's non-commutative when it should commute\n",
    "# lets see if we can find the sum and product another way\n",
    "\n",
    "# the sum can be thought of by stacking adjacency matrices\n",
    "# along the diagonal\n",
    "def graph_sum(A,B):\n",
    "    MA,MB = nx.to_numpy_array(A),nx.to_numpy_array(B)\n",
    "    MA_pad = np.pad(MA,(0,MB.shape[0]))\n",
    "    MB_pad = np.pad(MB,(MA.shape[0],0))\n",
    "    return nx.from_numpy_array(MA_pad+MB_pad,create_using=nx.DiGraph)\n",
    "XY_sum = graph_sum(XG,YG)\n",
    "nx.draw(XY_sum)"
   ]
  },
  {
   "cell_type": "code",
   "execution_count": null,
   "id": "2bf3c435-ed95-4800-92fb-5ef1bdbd24ed",
   "metadata": {},
   "outputs": [
    {
     "name": "stdout",
     "output_type": "stream",
     "text": [
      "Nodes = 9 x 13 -> 117\n",
      "(117, 22)\n",
      "[[1. 0. 0. ... 0. 0. 0.]\n",
      " [1. 0. 0. ... 0. 0. 0.]\n",
      " [1. 0. 0. ... 0. 0. 0.]\n",
      " ...\n",
      " [0. 0. 0. ... 1. 0. 0.]\n",
      " [0. 0. 0. ... 0. 1. 0.]\n",
      " [0. 0. 0. ... 0. 0. 1.]]\n",
      "(117, 117)\n",
      "[[0. 0. 1. ... 0. 0. 0.]\n",
      " [0. 0. 1. ... 0. 0. 0.]\n",
      " [0. 0. 0. ... 0. 0. 0.]\n",
      " ...\n",
      " [0. 0. 0. ... 0. 1. 0.]\n",
      " [0. 0. 0. ... 0. 0. 0.]\n",
      " [0. 0. 0. ... 0. 1. 0.]]\n"
     ]
    }
   ],
   "source": [
    "\n",
    "def graph_product(A,B):\n",
    "    # for our product, the nodes are pairs of nodes\n",
    "    a_size,b_size = len(A.nodes),len(B.nodes)\n",
    "    new_size = a_size*b_size\n",
    "    print(f\"Nodes = {a_size} x {b_size} -> {new_size}\")\n",
    "    # there is exactly one map from the sum\n",
    "    MA,MB = nx.to_numpy_array(A),nx.to_numpy_array(B)\n",
    "    MA_pad = np.pad(MA,(0,MB.shape[0]))\n",
    "    MB_pad = np.pad(MB,(MA.shape[0],0))\n",
    "    M_sum = MA_pad+MB_pad \n",
    "    old_size = M_sum.shape[0]\n",
    "    # so there should be a unique map from the\n",
    "    # product of nodes to the sum\n",
    "    trans_rows = []\n",
    "    for i in range(a_size):\n",
    "        for j in range(b_size):\n",
    "            k = i * b_size + j\n",
    "            v = np.zeros((old_size,))\n",
    "            v[i] = 1\n",
    "            v[j+a_size] = 1\n",
    "            trans_rows.append(v)\n",
    "    trans_M = np.array(trans_rows)\n",
    "    print(trans_M.shape)\n",
    "    print(trans_M)\n",
    "\n",
    "    comp_M = trans_M @ M_sum @ trans_M.T\n",
    "    print(comp_M.shape)\n",
    "    print(comp_M)\n",
    "    \n",
    "    return nx.from_numpy_array(comp_M,create_using=nx.DiGraph)\n",
    "\n",
    "nx.draw(graph_product(XG,YG))"
   ]
  },
  {
   "cell_type": "code",
   "execution_count": null,
   "id": "14c560f7-5371-4529-88d5-1c568c329fd6",
   "metadata": {},
   "outputs": [],
   "source": [
    "nx.draw(graph_product(naked_loop,naked_arrow))"
   ]
  },
  {
   "cell_type": "code",
   "execution_count": null,
   "id": "e9a81a90-eb9e-4b3b-a70b-2889919c72fa",
   "metadata": {},
   "outputs": [],
   "source": [
    "# let's get a new presentation\n",
    "XY_prod = graph_product(XG,YG)\n",
    "XY_pres = make_presentation(XY_prod)"
   ]
  },
  {
   "cell_type": "code",
   "execution_count": null,
   "id": "6a5d3991-5278-4d8d-97c1-8a9b64dcce51",
   "metadata": {},
   "outputs": [],
   "source": [
    "print(XY_pres)"
   ]
  },
  {
   "cell_type": "code",
   "execution_count": null,
   "id": "b6848625-3600-46b2-bca5-7da9c8bc253a",
   "metadata": {},
   "outputs": [],
   "source": [
    "from session15 import make_cycle\n",
    "\n",
    "make_cycle(3)"
   ]
  },
  {
   "cell_type": "code",
   "execution_count": null,
   "id": "64766fc8-0e5c-48df-b4f7-f92ab7b0ecc9",
   "metadata": {},
   "outputs": [],
   "source": [
    "nx.draw_shell(graph_product(make_cycle(2),make_cycle(3)))"
   ]
  },
  {
   "cell_type": "code",
   "execution_count": null,
   "id": "d1e656e0-7791-4554-9ff2-a9501df4741c",
   "metadata": {},
   "outputs": [],
   "source": [
    "nx.draw(graph_product(naked_arrow,make_cycle(2)))"
   ]
  },
  {
   "cell_type": "code",
   "execution_count": null,
   "id": "45ece32f-ca78-4a78-af29-63b69ed269da",
   "metadata": {},
   "outputs": [],
   "source": [
    "nx.draw(graph_product(S_2,naked_dot))"
   ]
  },
  {
   "cell_type": "code",
   "execution_count": null,
   "id": "6ff4c8e5-2b10-4679-8a24-ca883f33a502",
   "metadata": {},
   "outputs": [],
   "source": [
    "nx.draw(graph_product(naked_dot,S_2))"
   ]
  },
  {
   "cell_type": "code",
   "execution_count": null,
   "id": "75f9c586-172c-4ae6-a7ce-31421d2bf0fb",
   "metadata": {},
   "outputs": [],
   "source": [
    "# well, at least my product commutes now\n",
    "# let's try working with some smaller objects\n",
    "GX_A = nx.DiGraph()\n",
    "GX_A.add_nodes_from(range(7))\n",
    "GX_A.add_edges_from([(0,1),(1,2),(2,3),(3,4),(4,2),(5,2),(6,3)])\n",
    "nx.draw(GX_A)\n"
   ]
  },
  {
   "cell_type": "code",
   "execution_count": null,
   "id": "d45f62fd-c67d-44f5-9d23-4bb20a58a94e",
   "metadata": {},
   "outputs": [],
   "source": [
    "C_2 = make_cycle(2)\n",
    "nx.draw(C_2)"
   ]
  },
  {
   "cell_type": "code",
   "execution_count": null,
   "id": "9a8e06fc-39eb-45ca-b99c-252d673fb529",
   "metadata": {},
   "outputs": [],
   "source": [
    "GY_A = nx.DiGraph()\n",
    "GY_A.add_nodes_from(range(4))\n",
    "GY_A.add_edges_from([(0,1),(1,2),(2,3),(3,1)])\n",
    "nx.draw(GY_A)"
   ]
  },
  {
   "cell_type": "code",
   "execution_count": null,
   "id": "a56a56ef-f4c1-47dd-8114-8210d261d472",
   "metadata": {},
   "outputs": [],
   "source": [
    "GY_B = nx.DiGraph()\n",
    "GY_B.add_nodes_from(range(7))\n",
    "GY_B.add_edges_from([(0,1),(1,2),(2,3),(3,4),(4,5),(5,2),(6,1)])\n",
    "nx.draw_shell(GY_B)"
   ]
  },
  {
   "cell_type": "code",
   "execution_count": null,
   "id": "830e039f-a0c7-4535-b1ba-622aeb2260aa",
   "metadata": {},
   "outputs": [],
   "source": [
    "nx.draw(graph_product(C_2,C_2))"
   ]
  },
  {
   "cell_type": "code",
   "execution_count": null,
   "id": "9e9751cc-f538-4dd2-ab7a-91df9ab47f21",
   "metadata": {},
   "outputs": [],
   "source": [
    "nx.draw_shell(graph_product(GX_A,C_2))"
   ]
  },
  {
   "cell_type": "code",
   "execution_count": null,
   "id": "2e0078ad-e783-469c-b7f4-9986dff4d881",
   "metadata": {},
   "outputs": [],
   "source": [
    "# hypthothesis: maybe we can get the number of generators from the matrix properties\n",
    "def estimate_generators(G):\n",
    "    M = nx.to_numpy_array(G)\n",
    "    e_vals,e_vecs = np.linalg.eig(M)\n",
    "    C = M\n",
    "    for i in range(M.shape[0]):\n",
    "        C = C @ M\n",
    "    estimators = [\n",
    "        M.shape[0]-np.count_nonzero(e_vals),\n",
    "        M.shape[0]-np.linalg.matrix_rank(M)+1,\n",
    "        M.shape[0]-np.linalg.matrix_rank(M @ M),\n",
    "        M.shape[0]-np.linalg.matrix_rank(C),\n",
    "        max(M.shape[0]-np.count_nonzero(e_vals),1)\n",
    "    ]\n",
    "    return estimators\n",
    " \n",
    "    \n",
    "estimate_generators(XG)"
   ]
  },
  {
   "cell_type": "code",
   "execution_count": null,
   "id": "b36e8cef-d0c2-45bc-bbd5-caca3e475a57",
   "metadata": {},
   "outputs": [],
   "source": [
    "estimate_generators(YG)"
   ]
  },
  {
   "cell_type": "code",
   "execution_count": null,
   "id": "9806c06b-dddf-4e19-80b4-8214f0ddd33b",
   "metadata": {},
   "outputs": [],
   "source": [
    "estimate_generators(XY_sum)"
   ]
  },
  {
   "cell_type": "code",
   "execution_count": null,
   "id": "598a873e-df92-4440-95b6-3431d767e98f",
   "metadata": {},
   "outputs": [],
   "source": [
    "estimate_generators(XY_prod)"
   ]
  },
  {
   "cell_type": "code",
   "execution_count": null,
   "id": "70527864-8420-40ef-9b6e-daec6fc2ff51",
   "metadata": {},
   "outputs": [],
   "source": [
    "[]+[]"
   ]
  },
  {
   "cell_type": "code",
   "execution_count": null,
   "id": "96f0b1b9-b4c6-4da6-8ff9-2d8aea29dcd2",
   "metadata": {},
   "outputs": [],
   "source": [
    "[],[]"
   ]
  },
  {
   "cell_type": "code",
   "execution_count": null,
   "id": "ad189dc0-7192-4b8c-bd66-55e2af5e7dfd",
   "metadata": {},
   "outputs": [],
   "source": [
    "[],[]+[],[]"
   ]
  },
  {
   "cell_type": "code",
   "execution_count": null,
   "id": "a147bb83-8661-4ba6-860f-ce83de75f7c8",
   "metadata": {},
   "outputs": [],
   "source": [
    "[]+[],[]+[]"
   ]
  },
  {
   "cell_type": "code",
   "execution_count": null,
   "id": "a9bdcf0a-04f9-4379-86ba-7c156a193e5f",
   "metadata": {},
   "outputs": [],
   "source": [
    "# let's try again now that we've fixed our product\n",
    "XY_prod_pres = make_presentation(graph_product(XG,YG))"
   ]
  },
  {
   "cell_type": "code",
   "execution_count": null,
   "id": "9afe8407-c054-4966-a4bc-554b2db14605",
   "metadata": {},
   "outputs": [],
   "source": [
    "XY_prod_pres"
   ]
  },
  {
   "cell_type": "code",
   "execution_count": null,
   "id": "739af2b7-aea3-43e3-a4f8-0c90e1dbf0a4",
   "metadata": {},
   "outputs": [],
   "source": [
    "standardize_presentation(XY_prod_pres)"
   ]
  },
  {
   "cell_type": "code",
   "execution_count": null,
   "id": "169d49bb-754e-4a87-995f-c0f5897b67d8",
   "metadata": {},
   "outputs": [],
   "source": [
    "product_graphs = [\n",
    "    graph_product(GX_A,GY_A),\n",
    "    graph_product(GX_A,GY_B),\n",
    "    graph_product(GX_A,C_2),\n",
    "    graph_product(C_2,GY_A),\n",
    "    graph_product(C_2,GY_B),\n",
    "    graph_product(C_2,C_2)\n",
    "]\n"
   ]
  },
  {
   "cell_type": "code",
   "execution_count": null,
   "id": "77002210-0a95-4dfe-a77e-539a263f718a",
   "metadata": {},
   "outputs": [],
   "source": [
    "nx.draw_shell(product_graphs[0])"
   ]
  },
  {
   "cell_type": "code",
   "execution_count": null,
   "id": "11893573-db79-44ab-86a5-3a9a68b6e9d0",
   "metadata": {},
   "outputs": [],
   "source": [
    "nx.draw_shell(product_graphs[1])"
   ]
  },
  {
   "cell_type": "code",
   "execution_count": null,
   "id": "1dbe1a85-e430-45a1-a204-735ab4c45b53",
   "metadata": {},
   "outputs": [],
   "source": [
    "nx.draw_shell(product_graphs[2])"
   ]
  },
  {
   "cell_type": "code",
   "execution_count": null,
   "id": "e24ba595-2a9e-4b10-a7b8-3216455a74eb",
   "metadata": {},
   "outputs": [],
   "source": [
    "nx.draw_shell(product_graphs[3])"
   ]
  },
  {
   "cell_type": "code",
   "execution_count": null,
   "id": "fad81895-51fa-4d97-94cf-3ee217107324",
   "metadata": {},
   "outputs": [],
   "source": [
    "nx.draw_shell(product_graphs[4])"
   ]
  },
  {
   "cell_type": "code",
   "execution_count": null,
   "id": "88fa1a8e-2cab-441e-a72b-a2ac906f4cf2",
   "metadata": {},
   "outputs": [],
   "source": [
    "nx.draw_shell(product_graphs[5])"
   ]
  },
  {
   "cell_type": "code",
   "execution_count": null,
   "id": "811e5228-a397-4d0d-b556-509d95f4af03",
   "metadata": {},
   "outputs": [],
   "source": [
    "[estimate_generators(g) for g in product_graphs]"
   ]
  },
  {
   "cell_type": "code",
   "execution_count": null,
   "id": "13352c77-e954-451f-9b26-3e964ca3380e",
   "metadata": {},
   "outputs": [],
   "source": [
    "product_presentations = [make_presentation(g) for g in product_graphs]"
   ]
  },
  {
   "cell_type": "code",
   "execution_count": null,
   "id": "0a8bd1ba-05e4-44d7-8f4b-c38960503c0a",
   "metadata": {},
   "outputs": [],
   "source": [
    "for p in product_presentations:\n",
    "    print(p)"
   ]
  },
  {
   "cell_type": "code",
   "execution_count": null,
   "id": "bda7d40b-a2b0-4536-bc14-93616d94e514",
   "metadata": {},
   "outputs": [],
   "source": [
    "len(XY_prod.nodes)"
   ]
  },
  {
   "cell_type": "code",
   "execution_count": null,
   "id": "2ab89298-b2e9-4b3b-8aa7-9b6ced1d6232",
   "metadata": {},
   "outputs": [],
   "source": [
    "for p in product_graphs:\n",
    "    print(len(p.nodes))"
   ]
  }
 ],
 "metadata": {
  "kernelspec": {
   "display_name": "Python 3 (ipykernel)",
   "language": "python",
   "name": "python3"
  },
  "language_info": {
   "codemirror_mode": {
    "name": "ipython",
    "version": 3
   },
   "file_extension": ".py",
   "mimetype": "text/x-python",
   "name": "python",
   "nbconvert_exporter": "python",
   "pygments_lexer": "ipython3",
   "version": "3.12.1"
  }
 },
 "nbformat": 4,
 "nbformat_minor": 5
}
